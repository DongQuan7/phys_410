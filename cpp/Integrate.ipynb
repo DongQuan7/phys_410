{
 "cells": [
  {
   "cell_type": "markdown",
   "metadata": {},
   "source": [
    "# Numerical Integration"
   ]
  },
  {
   "cell_type": "code",
   "execution_count": 4,
   "metadata": {
    "collapsed": true
   },
   "outputs": [],
   "source": [
    "from itertools import combinations"
   ]
  },
  {
   "cell_type": "code",
   "execution_count": 58,
   "metadata": {
    "collapsed": false
   },
   "outputs": [],
   "source": [
    "import sympy\n",
    "from sympy import Function, integrate, Product, Sum, Symbol, symbols\n",
    "from sympy.abc import a,b,h,i,k,m,n,x\n",
    "from sympy import Rational as Rat"
   ]
  },
  {
   "cell_type": "code",
   "execution_count": 43,
   "metadata": {
    "collapsed": true
   },
   "outputs": [],
   "source": [
    "def lagrange_basis_polys(N,x,xpts=None):\n",
    "    \"\"\"\n",
    "    lagrange_basis_polynomials(N,x,xpts)\n",
    "    returns the Lagrange basis polynomials as a list\n",
    "    \n",
    "    INPUTS/PARAMETERS\n",
    "    -----------------\n",
    "    <int> N - N > 0.  Note that there are N+1 points total\n",
    "    <sympy.Symbol> x\n",
    "    <list> xpts\n",
    "    \"\"\"\n",
    "    assert N > 0\n",
    "    if xpts != None:\n",
    "        assert len(xpts) == N + 1\n",
    "\n",
    "    if xpts == None:\n",
    "        print \"I'll generate symbolic sympy symbols for you for xpts\"\n",
    "        xpts = symbols('x0:'+str(N+1))\n",
    "        \n",
    "    basis_polys = []\n",
    "    for i in range(N+1):\n",
    "        tmpprod = Rat(1)\n",
    "        for k in [k for k in range(N+1) if k != i]:\n",
    "            tmpprod = tmpprod * (x - xpts[k])/(xpts[i]-xpts[k])\n",
    "        basis_polys.append(tmpprod)\n",
    "    return basis_polys\n",
    "\n",
    "def lagrange_interp(N,x,xpts=None,ypts=None):\n",
    "    \"\"\"\n",
    "    lagrange_interp(N,x,xpts,ypts)\n",
    "    Lagrange interpolation formula\n",
    "    \"\"\"\n",
    "    if xpts != None and ypts != None:\n",
    "        assert len(xpts) == len(ypts)\n",
    "    \n",
    "    if xpts == None:\n",
    "        print \"I'll generate symbolic sympy symbols for you for xpts\"\n",
    "        xpts = symbols('x0:'+str(N+1))\n",
    "    if ypts == None:\n",
    "        print \"I'll generate symbolic sympy symbols for you for xpts\"\n",
    "        ypts = symbols('y0:'+str(N+1))\n",
    "        \n",
    "    basis = lagrange_basis_polys(N,x,xpts)\n",
    "    p_N = sum( [ypts[i]*basis[i] for i in range(N+1)] )\n",
    "    return p_N"
   ]
  },
  {
   "cell_type": "code",
   "execution_count": 50,
   "metadata": {
    "collapsed": false
   },
   "outputs": [],
   "source": [
    "xpts = symbols('x0:'+str(1+1))\n",
    "ypts = symbols('y0:'+str(1+1))\n",
    "p_1x = lagrange_interp(1,x,xpts,ypts)\n"
   ]
  },
  {
   "cell_type": "markdown",
   "metadata": {},
   "source": [
    "Below is, mathematically, $f_{-h} := p_1(x)$ with $(x_0,y_0) = (x_0-h, f(x_0-h)), (x_1,y_1) = (x_0,f(x_0))$ and  \n",
    "$\\int_{x_0-h}^{x_0} f_{-h}$"
   ]
  },
  {
   "cell_type": "code",
   "execution_count": 60,
   "metadata": {
    "collapsed": false
   },
   "outputs": [
    {
     "data": {
      "text/plain": [
       "-x_0**2*(-f(x_0) + f(-h + x_0))/(2*h) + x_0*(h*f(x_0) - x_0*f(x_0) + x_0*f(-h + x_0))/h + (-h + x_0)**2*(-f(x_0) + f(-h + x_0))/(2*h) - (-h + x_0)*(h*f(x_0) - x_0*f(x_0) + x_0*f(-h + x_0))/h"
      ]
     },
     "execution_count": 60,
     "metadata": {},
     "output_type": "execute_result"
    }
   ],
   "source": [
    "x_0 = Symbol('x_0',real=True)\n",
    "f = Function('f')\n",
    "f_minush = p_1x.subs({xpts[0]:x_0-h,xpts[1]:x_0, ypts[0]:f(x_0-h), ypts[1]:f(x_0) })\n",
    "integrate( f_minush, (x,x_0-h,x_0 ) )"
   ]
  },
  {
   "cell_type": "markdown",
   "metadata": {},
   "source": [
    "Then, we can use `sympy` to calculate, symbolically, $f_{h} := p_1(x)$ with $(x_0,y_0) = (x_0, f(x_0)), (x_1,y_1) = (x_0+h,f(x_0+h))$ and  \n",
    "$\\int_{x_0}^{x_0+h} f_{h}$"
   ]
  },
  {
   "cell_type": "code",
   "execution_count": 61,
   "metadata": {
    "collapsed": false
   },
   "outputs": [
    {
     "data": {
      "text/plain": [
       "-x_0**2*(-f(x_0) + f(h + x_0))/(2*h) - x_0*(h*f(x_0) + x_0*f(x_0) - x_0*f(h + x_0))/h + (h + x_0)**2*(-f(x_0) + f(h + x_0))/(2*h) + (h + x_0)*(h*f(x_0) + x_0*f(x_0) - x_0*f(h + x_0))/h"
      ]
     },
     "execution_count": 61,
     "metadata": {},
     "output_type": "execute_result"
    }
   ],
   "source": [
    "f_h = p_1x.subs({xpts[0]:x_0,xpts[1]:x_0+h, ypts[0]:f(x_0), ypts[1]:f(x_0+h) })\n",
    "integrate( f_h, (x,x_0,x_0+h ) )"
   ]
  },
  {
   "cell_type": "code",
   "execution_count": 63,
   "metadata": {
    "collapsed": false
   },
   "outputs": [
    {
     "data": {
      "text/plain": [
       "h*(2*f(x_0) + f(-h + x_0) + f(h + x_0))/2"
      ]
     },
     "execution_count": 63,
     "metadata": {},
     "output_type": "execute_result"
    }
   ],
   "source": [
    "( integrate( f_minush, (x,x_0-h,x_0 ) ) + integrate( f_h, (x,x_0,x_0+h ) )  ).simplify()"
   ]
  },
  {
   "cell_type": "markdown",
   "metadata": {},
   "source": [
    "Success! Trapezoid rule was rederived (stop using pen/pencil and paper or chalkboard; computers can do computations faster and without mistakes)"
   ]
  }
 ],
 "metadata": {
  "kernelspec": {
   "display_name": "Python 2",
   "language": "python",
   "name": "python2"
  },
  "language_info": {
   "codemirror_mode": {
    "name": "ipython",
    "version": 2
   },
   "file_extension": ".py",
   "mimetype": "text/x-python",
   "name": "python",
   "nbconvert_exporter": "python",
   "pygments_lexer": "ipython2",
   "version": "2.7.11"
  }
 },
 "nbformat": 4,
 "nbformat_minor": 0
}
