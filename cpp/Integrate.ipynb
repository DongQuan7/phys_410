{
 "cells": [
  {
   "cell_type": "markdown",
   "metadata": {},
   "source": [
    "# Numerical Integration"
   ]
  },
  {
   "cell_type": "code",
   "execution_count": 4,
   "metadata": {
    "collapsed": true
   },
   "outputs": [],
   "source": [
    "from itertools import combinations"
   ]
  },
  {
   "cell_type": "code",
   "execution_count": 2,
   "metadata": {
    "collapsed": false
   },
   "outputs": [],
   "source": [
    "import sympy\n",
    "from sympy import Function, integrate, Product, Sum, Symbol, symbols\n",
    "from sympy.abc import a,b,h,i,k,m,n,x\n",
    "from sympy import Rational as Rat"
   ]
  },
  {
   "cell_type": "code",
   "execution_count": 3,
   "metadata": {
    "collapsed": true
   },
   "outputs": [],
   "source": [
    "def lagrange_basis_polys(N,x,xpts=None):\n",
    "    \"\"\"\n",
    "    lagrange_basis_polynomials(N,x,xpts)\n",
    "    returns the Lagrange basis polynomials as a list\n",
    "    \n",
    "    INPUTS/PARAMETERS\n",
    "    -----------------\n",
    "    <int> N - N > 0.  Note that there are N+1 points total\n",
    "    <sympy.Symbol> x\n",
    "    <list> xpts\n",
    "    \"\"\"\n",
    "    assert N > 0\n",
    "    if xpts != None:\n",
    "        assert len(xpts) == N + 1\n",
    "\n",
    "    if xpts == None:\n",
    "        print \"I'll generate symbolic sympy symbols for you for xpts\"\n",
    "        xpts = symbols('x0:'+str(N+1))\n",
    "        \n",
    "    basis_polys = []\n",
    "    for i in range(N+1):\n",
    "        tmpprod = Rat(1)\n",
    "        for k in [k for k in range(N+1) if k != i]:\n",
    "            tmpprod = tmpprod * (x - xpts[k])/(xpts[i]-xpts[k])\n",
    "        basis_polys.append(tmpprod)\n",
    "    return basis_polys\n",
    "\n",
    "def lagrange_interp(N,x,xpts=None,ypts=None):\n",
    "    \"\"\"\n",
    "    lagrange_interp(N,x,xpts,ypts)\n",
    "    Lagrange interpolation formula\n",
    "    \"\"\"\n",
    "    if xpts != None and ypts != None:\n",
    "        assert len(xpts) == len(ypts)\n",
    "    \n",
    "    if xpts == None:\n",
    "        print \"I'll generate symbolic sympy symbols for you for xpts\"\n",
    "        xpts = symbols('x0:'+str(N+1))\n",
    "    if ypts == None:\n",
    "        print \"I'll generate symbolic sympy symbols for you for xpts\"\n",
    "        ypts = symbols('y0:'+str(N+1))\n",
    "        \n",
    "    basis = lagrange_basis_polys(N,x,xpts)\n",
    "    p_N = sum( [ypts[i]*basis[i] for i in range(N+1)] )\n",
    "    return p_N"
   ]
  },
  {
   "cell_type": "code",
   "execution_count": 6,
   "metadata": {
    "collapsed": false
   },
   "outputs": [],
   "source": [
    "xpts = symbols('x0:'+str(1+1))\n",
    "ypts = symbols('y0:'+str(1+1))\n",
    "p_1x = lagrange_interp(1,x,xpts,ypts)"
   ]
  },
  {
   "cell_type": "markdown",
   "metadata": {},
   "source": [
    "Below is, mathematically, $f_{-h} := p_1(x)$ with $(x_0,y_0) = (x_0-h, f(x_0-h)), (x_1,y_1) = (x_0,f(x_0))$ and  \n",
    "$\\int_{x_0-h}^{x_0} f_{-h}$"
   ]
  },
  {
   "cell_type": "code",
   "execution_count": 7,
   "metadata": {
    "collapsed": false
   },
   "outputs": [
    {
     "data": {
      "text/plain": [
       "-x_0**2*(-f(x_0) + f(-h + x_0))/(2*h) + x_0*(h*f(x_0) - x_0*f(x_0) + x_0*f(-h + x_0))/h + (-h + x_0)**2*(-f(x_0) + f(-h + x_0))/(2*h) - (-h + x_0)*(h*f(x_0) - x_0*f(x_0) + x_0*f(-h + x_0))/h"
      ]
     },
     "execution_count": 7,
     "metadata": {},
     "output_type": "execute_result"
    }
   ],
   "source": [
    "x_0 = Symbol('x_0',real=True)\n",
    "f = Function('f')\n",
    "f_minush = p_1x.subs({xpts[0]:x_0-h,xpts[1]:x_0, ypts[0]:f(x_0-h), ypts[1]:f(x_0) })\n",
    "integrate( f_minush, (x,x_0-h,x_0 ) )"
   ]
  },
  {
   "cell_type": "markdown",
   "metadata": {},
   "source": [
    "Then, we can use `sympy` to calculate, symbolically, $f_{h} := p_1(x)$ with $(x_0,y_0) = (x_0, f(x_0)), (x_1,y_1) = (x_0+h,f(x_0+h))$ and  \n",
    "$\\int_{x_0}^{x_0+h} f_{h}$"
   ]
  },
  {
   "cell_type": "code",
   "execution_count": 61,
   "metadata": {
    "collapsed": false
   },
   "outputs": [
    {
     "data": {
      "text/plain": [
       "-x_0**2*(-f(x_0) + f(h + x_0))/(2*h) - x_0*(h*f(x_0) + x_0*f(x_0) - x_0*f(h + x_0))/h + (h + x_0)**2*(-f(x_0) + f(h + x_0))/(2*h) + (h + x_0)*(h*f(x_0) + x_0*f(x_0) - x_0*f(h + x_0))/h"
      ]
     },
     "execution_count": 61,
     "metadata": {},
     "output_type": "execute_result"
    }
   ],
   "source": [
    "f_h = p_1x.subs({xpts[0]:x_0,xpts[1]:x_0+h, ypts[0]:f(x_0), ypts[1]:f(x_0+h) })\n",
    "integrate( f_h, (x,x_0,x_0+h ) )"
   ]
  },
  {
   "cell_type": "code",
   "execution_count": 63,
   "metadata": {
    "collapsed": false
   },
   "outputs": [
    {
     "data": {
      "text/plain": [
       "h*(2*f(x_0) + f(-h + x_0) + f(h + x_0))/2"
      ]
     },
     "execution_count": 63,
     "metadata": {},
     "output_type": "execute_result"
    }
   ],
   "source": [
    "( integrate( f_minush, (x,x_0-h,x_0 ) ) + integrate( f_h, (x,x_0,x_0+h ) )  ).simplify()"
   ]
  },
  {
   "cell_type": "markdown",
   "metadata": {},
   "source": [
    "Success! Trapezoid rule was rederived (stop using pen/pencil and paper or chalkboard; computers can do computations faster and without mistakes)"
   ]
  },
  {
   "cell_type": "markdown",
   "metadata": {},
   "source": [
    "For a second order polynomial, $p_{N=2}(x)$,"
   ]
  },
  {
   "cell_type": "code",
   "execution_count": 8,
   "metadata": {
    "collapsed": false
   },
   "outputs": [],
   "source": [
    "xpts = symbols('x0:'+str(2+1))\n",
    "ypts = symbols('y0:'+str(2+1))\n",
    "p_2x = lagrange_interp(2,x,xpts,ypts)"
   ]
  },
  {
   "cell_type": "code",
   "execution_count": 10,
   "metadata": {
    "collapsed": false
   },
   "outputs": [],
   "source": [
    "f2_h = p_2x.subs({xpts[0]:x_0-h,xpts[1]:x_0,xpts[2]:x_0+h,ypts[0]:f(x_0-h), ypts[1]:f(x_0),ypts[2]:f(x_0+h) })"
   ]
  },
  {
   "cell_type": "code",
   "execution_count": 12,
   "metadata": {
    "collapsed": false
   },
   "outputs": [
    {
     "data": {
      "text/plain": [
       "h*(4*f(x_0) + f(-h + x_0) + f(h + x_0))/3"
      ]
     },
     "execution_count": 12,
     "metadata": {},
     "output_type": "execute_result"
    }
   ],
   "source": [
    "integrate( f2_h,(x,x_0-h,x_0+h)).simplify()"
   ]
  },
  {
   "cell_type": "markdown",
   "metadata": {
    "collapsed": true
   },
   "source": [
    "# Legendre Polynomials"
   ]
  },
  {
   "cell_type": "markdown",
   "metadata": {},
   "source": [
    "I don't find the `sympy` documentation very satisfying (other than listing the argument syntax, no examples of usage, nor further explanation, beyond the barebones argument syntax, is given).  So what I've done here is to try to show what I've done.   "
   ]
  },
  {
   "cell_type": "code",
   "execution_count": 1,
   "metadata": {
    "collapsed": true
   },
   "outputs": [],
   "source": [
    "from sympy.polys.orthopolys import legendre_poly"
   ]
  },
  {
   "cell_type": "code",
   "execution_count": 15,
   "metadata": {
    "collapsed": false
   },
   "outputs": [
    {
     "name": "stdout",
     "output_type": "stream",
     "text": [
      "n \t \t \t \t P_n(x) \n",
      "\n",
      "0\t \t \t \t  1\n",
      "1\t \t \t \t  x\n",
      "2\t \t \t \t  3*x**2/2 - 1/2\n",
      "3\t \t \t \t  5*x**3/2 - 3*x/2\n",
      "4\t \t \t \t  35*x**4/8 - 15*x**2/4 + 3/8\n",
      "5\t \t \t \t  63*x**5/8 - 35*x**3/4 + 15*x/8\n",
      "6\t \t \t \t  231*x**6/16 - 315*x**4/16 + 105*x**2/16 - 5/16\n",
      "7\t \t \t \t  429*x**7/16 - 693*x**5/16 + 315*x**3/16 - 35*x/16\n",
      "8\t \t \t \t  6435*x**8/128 - 3003*x**6/32 + 3465*x**4/64 - 315*x**2/32 + 35/128\n",
      "9\t \t \t \t  12155*x**9/128 - 6435*x**7/32 + 9009*x**5/64 - 1155*x**3/32 + 315*x/128\n",
      "10\t \t \t \t  46189*x**10/256 - 109395*x**8/256 + 45045*x**6/128 - 15015*x**4/128 + 3465*x**2/256 - 63/256\n"
     ]
    }
   ],
   "source": [
    "print \"n \\t \\t \\t \\t P_n(x) \\n\"\n",
    "for i in range(11):\n",
    "    print str(i) + \"\\t \\t \\t \\t \" , legendre_poly(i,x) "
   ]
  },
  {
   "cell_type": "code",
   "execution_count": 13,
   "metadata": {
    "collapsed": false
   },
   "outputs": [
    {
     "data": {
      "text/plain": [
       "'\\\\frac{3 x^{2}}{2} - \\\\frac{1}{2}'"
      ]
     },
     "execution_count": 13,
     "metadata": {},
     "output_type": "execute_result"
    }
   ],
   "source": [
    "sympy.latex(legendre_poly(2,x))"
   ]
  },
  {
   "cell_type": "code",
   "execution_count": 6,
   "metadata": {
    "collapsed": false
   },
   "outputs": [
    {
     "data": {
      "text/plain": [
       "0.799232657543987"
      ]
     },
     "execution_count": 6,
     "metadata": {},
     "output_type": "execute_result"
    }
   ],
   "source": [
    "sympy.N( sympy.integrate(1/(2+x**2),(x,0,3)) )"
   ]
  },
  {
   "cell_type": "code",
   "execution_count": null,
   "metadata": {
    "collapsed": true
   },
   "outputs": [],
   "source": []
  }
 ],
 "metadata": {
  "kernelspec": {
   "display_name": "Python 2",
   "language": "python",
   "name": "python2"
  },
  "language_info": {
   "codemirror_mode": {
    "name": "ipython",
    "version": 2
   },
   "file_extension": ".py",
   "mimetype": "text/x-python",
   "name": "python",
   "nbconvert_exporter": "python",
   "pygments_lexer": "ipython2",
   "version": "2.7.11"
  }
 },
 "nbformat": 4,
 "nbformat_minor": 0
}
