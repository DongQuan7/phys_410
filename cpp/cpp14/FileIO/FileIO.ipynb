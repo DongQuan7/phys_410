{
 "cells": [
  {
   "cell_type": "markdown",
   "metadata": {},
   "source": [
    "# NumPy arrays and C++ binary IO"
   ]
  },
  {
   "cell_type": "markdown",
   "metadata": {},
   "source": [
    "cf. Peter Gottschling.  **Discovering Modern C++: An Intensive Course for Scientists, Engineers, and Programmers**, A.2.7 Binary I/O.  \n",
    "\n",
    "cf. [Writing binary in c++ and read in python](https://stackoverflow.com/questions/37503346/writing-binary-in-c-and-read-in-python)"
   ]
  },
  {
   "cell_type": "code",
   "execution_count": 1,
   "metadata": {},
   "outputs": [],
   "source": [
    "import numpy\n",
    "import numpy as np"
   ]
  },
  {
   "cell_type": "code",
   "execution_count": 2,
   "metadata": {},
   "outputs": [],
   "source": [
    "# find out where we are in the file directory\n",
    "import os, sys"
   ]
  },
  {
   "cell_type": "code",
   "execution_count": 3,
   "metadata": {},
   "outputs": [
    {
     "name": "stdout",
     "output_type": "stream",
     "text": [
      "/home/topolo/PropD/CompPhys/Cpp/Cpp14/FileIO\n"
     ]
    }
   ],
   "source": [
    "print(os.getcwd())\n",
    "datafilefolder = \"./data/\""
   ]
  },
  {
   "cell_type": "markdown",
   "metadata": {},
   "source": [
    "### [`numpy.ndarray.tofile`](https://docs.scipy.org/doc/numpy-1.13.0/reference/generated/numpy.ndarray.tofile.html)  \n",
    "\n",
    "`ndarray.tofile(fid,sep=\"\",format=\"%s\")`  \n",
    "\n",
    "Write array to a file as text or binary (default).  \n",
    "\n",
    "Data always written in 'C' order, independent of order of *a*.  \n",
    "\n",
    "#### Parameters  \n",
    "**fid** : *file or str*  \n",
    "        An open file object, or string containing filename.  \n",
    "**sep** : *str*\n",
    "        Separator between array items for text output.  If \"\" (empty), a binary file is written, equivalent to `file.write(a.tobytes())`  \n",
    "**format** : *str*\n",
    "        Format string for text file output.  Each entry in the array is formatted to text by first converting it to closest Python type, and then using \"format\" % item.  "
   ]
  },
  {
   "cell_type": "code",
   "execution_count": 4,
   "metadata": {},
   "outputs": [],
   "source": [
    "m=5\n",
    "n=4"
   ]
  },
  {
   "cell_type": "code",
   "execution_count": 5,
   "metadata": {},
   "outputs": [],
   "source": [
    "A = 11.111111*np.array(range(m*n),dtype=np.float32).reshape((m,n))"
   ]
  },
  {
   "cell_type": "code",
   "execution_count": 6,
   "metadata": {},
   "outputs": [
    {
     "name": "stdout",
     "output_type": "stream",
     "text": [
      "[[   0.           11.11111069   22.22222137   33.33333206]\n",
      " [  44.44444275   55.55555344   66.66666412   77.777771  ]\n",
      " [  88.8888855   100.          111.11110687  122.22221375]\n",
      " [ 133.33332825  144.44444275  155.55554199  166.66665649]\n",
      " [ 177.777771    188.8888855   200.          211.11109924]]\n"
     ]
    }
   ],
   "source": [
    "print(A)"
   ]
  },
  {
   "cell_type": "code",
   "execution_count": 7,
   "metadata": {},
   "outputs": [],
   "source": [
    "Afilename = \"A_mat_5_4.npy\""
   ]
  },
  {
   "cell_type": "code",
   "execution_count": 8,
   "metadata": {},
   "outputs": [],
   "source": [
    "try:\n",
    "    A.tofile(datafilefolder+ Afilename )\n",
    "except IOError:\n",
    "    if not os.path.exists(datafilefolder):\n",
    "        os.makedirs(datafilefolder)"
   ]
  },
  {
   "cell_type": "code",
   "execution_count": 9,
   "metadata": {},
   "outputs": [
    {
     "name": "stdout",
     "output_type": "stream",
     "text": [
      "['A_mat_5_4.npy']\n",
      "['data', '.ipynb_checkpoints', 'FileIO.ipynb', 'FileIO_old.ipynb', 'binIO_playground.exe', 'binIO_playground.cu']\n"
     ]
    }
   ],
   "source": [
    "print(os.listdir(datafilefolder))\n",
    "print(os.listdir(os.getcwd()))"
   ]
  },
  {
   "cell_type": "markdown",
   "metadata": {},
   "source": [
    "### [`numpy.fromfile`](https://docs.scipy.org/doc/numpy-1.13.0/reference/generated/numpy.fromfile.html)  \n",
    "```  \n",
    "numpy.fromfile(file, dtype=float, count=-1, sep='')  \n",
    "```  "
   ]
  },
  {
   "cell_type": "code",
   "execution_count": 10,
   "metadata": {},
   "outputs": [],
   "source": [
    "A_in = np.fromfile(datafilefolder+ Afilename, dtype=np.float32)"
   ]
  },
  {
   "cell_type": "code",
   "execution_count": 11,
   "metadata": {},
   "outputs": [
    {
     "name": "stdout",
     "output_type": "stream",
     "text": [
      "[   0.           11.11111069   22.22222137   33.33333206   44.44444275\n",
      "   55.55555344   66.66666412   77.777771     88.8888855   100.\n",
      "  111.11110687  122.22221375  133.33332825  144.44444275  155.55554199\n",
      "  166.66665649  177.777771    188.8888855   200.          211.11109924]\n"
     ]
    }
   ],
   "source": [
    "print(A_in)"
   ]
  },
  {
   "cell_type": "markdown",
   "metadata": {},
   "source": [
    "Then go to CUDA C++14 file `binIO_playground.cu` or the C++14 version (serial version), `binIO_playground.cpp`.  Load it with [`std::ifstream`](http://www.cplusplus.com/reference/fstream/ifstream/), Input stream class to operate on files.  \n",
    "\n",
    "The **most important thing to note** is that NumPy reshapes (`.reshape`) into **row-major ordering**, i.e.  \n",
    "\n",
    "$$  \n",
    "\\lbrace 0,1,\\dots mn-1 \\rbrace \\to \\lbrace 0,1, \\dots m-1 \\rbrace \\times \\lbrace 0,1, \\dots n-1 \\rbrace \\\\\n",
    "k \\mapsto (k/n, k \\mod{n}) \\\\ \n",
    "$$\n",
    "\n",
    "and so we'll read in this binary file, with `std::ifstream` and `.read(...)` in C++ in row-major ordering assumed for the matrix $A$.  \n",
    "\n",
    "If we want a column-major ordered matrix, we'll have to had loaded the matrix $A$ from the beginning to be column major ordered through `.tofile`.  \n",
    "\n",
    "### `std::ifstream`   \n",
    "```  \n",
    "typedef basic_ifstream<char> ifstream;  \n",
    "```  \n",
    "\n",
    "### [`reinterpret_cast`](http://en.cppreference.com/w/cpp/language/reinterpret_cast)  \n",
    "```  \n",
    "reinterpret_cast < new_type > ( expression )  \n",
    "```  \n",
    "Returns a value of type new_type.  "
   ]
  },
  {
   "cell_type": "markdown",
   "metadata": {
    "collapsed": true
   },
   "source": [
    "### std::istream_iterator  \n",
    "\n",
    "Note, cf. https://stackoverflow.com/questions/37588569/using-stdistream-iterator-to-read-binary-data-from-file-stops-prematuraly\n",
    "\" \t`istream_iterator` is an avatar of operator `>>`; it uses that operator to read from the stream. That is almost never what you want for reading binary data, because >> is a formatted input function. You could probably coerce it to do what you want by using manipulators such as noskipws on the stream, but it would still effectively remain a use of the wrong tool for the job.\n",
    "\n",
    "If you want an iterator-based access to binary data in a stream, you might be better off using an `istreambuf_iterator` (which is guaranteed to work character by character) instead.\"  Angew\n",
    "\n",
    "`std::istreambuf_iterator` is a single-pass input iterator that reads successive characters from the `std::basic_streambuf` object for which it was constructed.  "
   ]
  },
  {
   "cell_type": "markdown",
   "metadata": {
    "collapsed": true
   },
   "source": [
    "# Sample Datasets\n",
    "\n",
    "http://www.stat.ufl.edu/~winner/datasets.html"
   ]
  },
  {
   "cell_type": "markdown",
   "metadata": {},
   "source": [
    "# `.csv` to Pandas (Python), `.csv` to C++"
   ]
  },
  {
   "cell_type": "code",
   "execution_count": 13,
   "metadata": {},
   "outputs": [],
   "source": [
    "import pandas\n",
    "import pandas as pd"
   ]
  },
  {
   "cell_type": "markdown",
   "metadata": {},
   "source": [
    "## Comma separated, `,`  \n",
    "\n",
    "### has a header\n",
    "cf. [\n",
    "Viscosity of Polyacrylamide Copolymers by Concentration and Shear Rate   ](http://www.stat.ufl.edu/~winner/data/copolymer_viscosity.csv)"
   ]
  },
  {
   "cell_type": "code",
   "execution_count": 14,
   "metadata": {},
   "outputs": [],
   "source": [
    "copoly_v_DF = pd.read_csv(datafilefolder + \"copolymer_viscosity.csv\")"
   ]
  },
  {
   "cell_type": "code",
   "execution_count": 16,
   "metadata": {},
   "outputs": [
    {
     "data": {
      "text/html": [
       "<div>\n",
       "<style>\n",
       "    .dataframe thead tr:only-child th {\n",
       "        text-align: right;\n",
       "    }\n",
       "\n",
       "    .dataframe thead th {\n",
       "        text-align: left;\n",
       "    }\n",
       "\n",
       "    .dataframe tbody tr th {\n",
       "        vertical-align: top;\n",
       "    }\n",
       "</style>\n",
       "<table border=\"1\" class=\"dataframe\">\n",
       "  <thead>\n",
       "    <tr style=\"text-align: right;\">\n",
       "      <th></th>\n",
       "      <th>SampleID</th>\n",
       "      <th>PolymerConc</th>\n",
       "      <th>ShearRate</th>\n",
       "      <th>Viscosity</th>\n",
       "    </tr>\n",
       "  </thead>\n",
       "  <tbody>\n",
       "    <tr>\n",
       "      <th>count</th>\n",
       "      <td>25.000000</td>\n",
       "      <td>25.000000</td>\n",
       "      <td>25.000000</td>\n",
       "      <td>25.000000</td>\n",
       "    </tr>\n",
       "    <tr>\n",
       "      <th>mean</th>\n",
       "      <td>13.000000</td>\n",
       "      <td>2420.000000</td>\n",
       "      <td>291.725360</td>\n",
       "      <td>11.424000</td>\n",
       "    </tr>\n",
       "    <tr>\n",
       "      <th>std</th>\n",
       "      <td>7.359801</td>\n",
       "      <td>1781.151313</td>\n",
       "      <td>377.970877</td>\n",
       "      <td>12.765131</td>\n",
       "    </tr>\n",
       "    <tr>\n",
       "      <th>min</th>\n",
       "      <td>1.000000</td>\n",
       "      <td>100.000000</td>\n",
       "      <td>10.000000</td>\n",
       "      <td>1.100000</td>\n",
       "    </tr>\n",
       "    <tr>\n",
       "      <th>25%</th>\n",
       "      <td>7.000000</td>\n",
       "      <td>1000.000000</td>\n",
       "      <td>31.622800</td>\n",
       "      <td>2.700000</td>\n",
       "    </tr>\n",
       "    <tr>\n",
       "      <th>50%</th>\n",
       "      <td>13.000000</td>\n",
       "      <td>2500.000000</td>\n",
       "      <td>100.776000</td>\n",
       "      <td>7.600000</td>\n",
       "    </tr>\n",
       "    <tr>\n",
       "      <th>75%</th>\n",
       "      <td>19.000000</td>\n",
       "      <td>3500.000000</td>\n",
       "      <td>316.228000</td>\n",
       "      <td>13.700000</td>\n",
       "    </tr>\n",
       "    <tr>\n",
       "      <th>max</th>\n",
       "      <td>25.000000</td>\n",
       "      <td>5000.000000</td>\n",
       "      <td>1000.000000</td>\n",
       "      <td>53.500000</td>\n",
       "    </tr>\n",
       "  </tbody>\n",
       "</table>\n",
       "</div>"
      ],
      "text/plain": [
       "        SampleID  PolymerConc    ShearRate  Viscosity\n",
       "count  25.000000    25.000000    25.000000  25.000000\n",
       "mean   13.000000  2420.000000   291.725360  11.424000\n",
       "std     7.359801  1781.151313   377.970877  12.765131\n",
       "min     1.000000   100.000000    10.000000   1.100000\n",
       "25%     7.000000  1000.000000    31.622800   2.700000\n",
       "50%    13.000000  2500.000000   100.776000   7.600000\n",
       "75%    19.000000  3500.000000   316.228000  13.700000\n",
       "max    25.000000  5000.000000  1000.000000  53.500000"
      ]
     },
     "execution_count": 16,
     "metadata": {},
     "output_type": "execute_result"
    }
   ],
   "source": [
    "copoly_v_DF.describe()"
   ]
  },
  {
   "cell_type": "code",
   "execution_count": 17,
   "metadata": {},
   "outputs": [
    {
     "data": {
      "text/html": [
       "<div>\n",
       "<style>\n",
       "    .dataframe thead tr:only-child th {\n",
       "        text-align: right;\n",
       "    }\n",
       "\n",
       "    .dataframe thead th {\n",
       "        text-align: left;\n",
       "    }\n",
       "\n",
       "    .dataframe tbody tr th {\n",
       "        vertical-align: top;\n",
       "    }\n",
       "</style>\n",
       "<table border=\"1\" class=\"dataframe\">\n",
       "  <thead>\n",
       "    <tr style=\"text-align: right;\">\n",
       "      <th></th>\n",
       "      <th>SampleID</th>\n",
       "      <th>PolymerConc</th>\n",
       "      <th>ShearRate</th>\n",
       "      <th>Viscosity</th>\n",
       "    </tr>\n",
       "  </thead>\n",
       "  <tbody>\n",
       "    <tr>\n",
       "      <th>0</th>\n",
       "      <td>1</td>\n",
       "      <td>100</td>\n",
       "      <td>10.0000</td>\n",
       "      <td>1.4</td>\n",
       "    </tr>\n",
       "    <tr>\n",
       "      <th>1</th>\n",
       "      <td>2</td>\n",
       "      <td>100</td>\n",
       "      <td>31.6228</td>\n",
       "      <td>1.3</td>\n",
       "    </tr>\n",
       "    <tr>\n",
       "      <th>2</th>\n",
       "      <td>3</td>\n",
       "      <td>100</td>\n",
       "      <td>100.7760</td>\n",
       "      <td>1.3</td>\n",
       "    </tr>\n",
       "    <tr>\n",
       "      <th>3</th>\n",
       "      <td>4</td>\n",
       "      <td>100</td>\n",
       "      <td>316.2280</td>\n",
       "      <td>1.1</td>\n",
       "    </tr>\n",
       "    <tr>\n",
       "      <th>4</th>\n",
       "      <td>5</td>\n",
       "      <td>100</td>\n",
       "      <td>1000.0000</td>\n",
       "      <td>1.1</td>\n",
       "    </tr>\n",
       "  </tbody>\n",
       "</table>\n",
       "</div>"
      ],
      "text/plain": [
       "   SampleID  PolymerConc  ShearRate  Viscosity\n",
       "0         1          100    10.0000        1.4\n",
       "1         2          100    31.6228        1.3\n",
       "2         3          100   100.7760        1.3\n",
       "3         4          100   316.2280        1.1\n",
       "4         5          100  1000.0000        1.1"
      ]
     },
     "execution_count": 17,
     "metadata": {},
     "output_type": "execute_result"
    }
   ],
   "source": [
    "copoly_v_DF.head()"
   ]
  },
  {
   "cell_type": "markdown",
   "metadata": {},
   "source": [
    "## Whitespace separated, `       ` or ` `  \n",
    "\n",
    "### no header\n",
    "\n",
    "cf. [Manufacturing Learning Curves](http://www.stat.ufl.edu/~winner/data/manuf_learn.dat)"
   ]
  },
  {
   "cell_type": "code",
   "execution_count": 22,
   "metadata": {},
   "outputs": [],
   "source": [
    "Manu_learn = pd.read_csv(datafilefolder+\"manuf_learn.dat\",header=None,delim_whitespace=True)"
   ]
  },
  {
   "cell_type": "code",
   "execution_count": 23,
   "metadata": {},
   "outputs": [
    {
     "data": {
      "text/html": [
       "<div>\n",
       "<style>\n",
       "    .dataframe thead tr:only-child th {\n",
       "        text-align: right;\n",
       "    }\n",
       "\n",
       "    .dataframe thead th {\n",
       "        text-align: left;\n",
       "    }\n",
       "\n",
       "    .dataframe tbody tr th {\n",
       "        vertical-align: top;\n",
       "    }\n",
       "</style>\n",
       "<table border=\"1\" class=\"dataframe\">\n",
       "  <thead>\n",
       "    <tr style=\"text-align: right;\">\n",
       "      <th></th>\n",
       "      <th>0</th>\n",
       "      <th>1</th>\n",
       "      <th>2</th>\n",
       "      <th>3</th>\n",
       "      <th>4</th>\n",
       "      <th>5</th>\n",
       "      <th>6</th>\n",
       "      <th>7</th>\n",
       "    </tr>\n",
       "  </thead>\n",
       "  <tbody>\n",
       "    <tr>\n",
       "      <th>0</th>\n",
       "      <td>1</td>\n",
       "      <td>1</td>\n",
       "      <td>120</td>\n",
       "      <td>10</td>\n",
       "      <td>11</td>\n",
       "      <td>4.78749</td>\n",
       "      <td>2.30259</td>\n",
       "      <td>2.39790</td>\n",
       "    </tr>\n",
       "    <tr>\n",
       "      <th>1</th>\n",
       "      <td>1</td>\n",
       "      <td>2</td>\n",
       "      <td>140</td>\n",
       "      <td>10</td>\n",
       "      <td>8</td>\n",
       "      <td>4.94164</td>\n",
       "      <td>2.30259</td>\n",
       "      <td>2.07944</td>\n",
       "    </tr>\n",
       "    <tr>\n",
       "      <th>2</th>\n",
       "      <td>2</td>\n",
       "      <td>3</td>\n",
       "      <td>95</td>\n",
       "      <td>20</td>\n",
       "      <td>54</td>\n",
       "      <td>4.55388</td>\n",
       "      <td>2.99573</td>\n",
       "      <td>3.98898</td>\n",
       "    </tr>\n",
       "    <tr>\n",
       "      <th>3</th>\n",
       "      <td>2</td>\n",
       "      <td>4</td>\n",
       "      <td>125</td>\n",
       "      <td>20</td>\n",
       "      <td>25</td>\n",
       "      <td>4.82831</td>\n",
       "      <td>2.99573</td>\n",
       "      <td>3.21888</td>\n",
       "    </tr>\n",
       "    <tr>\n",
       "      <th>4</th>\n",
       "      <td>3</td>\n",
       "      <td>5</td>\n",
       "      <td>80</td>\n",
       "      <td>40</td>\n",
       "      <td>100</td>\n",
       "      <td>4.38203</td>\n",
       "      <td>3.68888</td>\n",
       "      <td>4.60517</td>\n",
       "    </tr>\n",
       "    <tr>\n",
       "      <th>5</th>\n",
       "      <td>3</td>\n",
       "      <td>6</td>\n",
       "      <td>75</td>\n",
       "      <td>40</td>\n",
       "      <td>80</td>\n",
       "      <td>4.31749</td>\n",
       "      <td>3.68888</td>\n",
       "      <td>4.38203</td>\n",
       "    </tr>\n",
       "    <tr>\n",
       "      <th>6</th>\n",
       "      <td>4</td>\n",
       "      <td>7</td>\n",
       "      <td>65</td>\n",
       "      <td>80</td>\n",
       "      <td>220</td>\n",
       "      <td>4.17439</td>\n",
       "      <td>4.38203</td>\n",
       "      <td>5.39363</td>\n",
       "    </tr>\n",
       "    <tr>\n",
       "      <th>7</th>\n",
       "      <td>4</td>\n",
       "      <td>8</td>\n",
       "      <td>50</td>\n",
       "      <td>80</td>\n",
       "      <td>150</td>\n",
       "      <td>3.91202</td>\n",
       "      <td>4.38203</td>\n",
       "      <td>5.01064</td>\n",
       "    </tr>\n",
       "    <tr>\n",
       "      <th>8</th>\n",
       "      <td>5</td>\n",
       "      <td>9</td>\n",
       "      <td>55</td>\n",
       "      <td>160</td>\n",
       "      <td>410</td>\n",
       "      <td>4.00733</td>\n",
       "      <td>5.07517</td>\n",
       "      <td>6.01616</td>\n",
       "    </tr>\n",
       "    <tr>\n",
       "      <th>9</th>\n",
       "      <td>5</td>\n",
       "      <td>10</td>\n",
       "      <td>40</td>\n",
       "      <td>160</td>\n",
       "      <td>500</td>\n",
       "      <td>3.68888</td>\n",
       "      <td>5.07517</td>\n",
       "      <td>6.21461</td>\n",
       "    </tr>\n",
       "    <tr>\n",
       "      <th>10</th>\n",
       "      <td>6</td>\n",
       "      <td>11</td>\n",
       "      <td>40</td>\n",
       "      <td>320</td>\n",
       "      <td>660</td>\n",
       "      <td>3.68888</td>\n",
       "      <td>5.76832</td>\n",
       "      <td>6.49224</td>\n",
       "    </tr>\n",
       "    <tr>\n",
       "      <th>11</th>\n",
       "      <td>6</td>\n",
       "      <td>12</td>\n",
       "      <td>38</td>\n",
       "      <td>320</td>\n",
       "      <td>600</td>\n",
       "      <td>3.63759</td>\n",
       "      <td>5.76832</td>\n",
       "      <td>6.39693</td>\n",
       "    </tr>\n",
       "    <tr>\n",
       "      <th>12</th>\n",
       "      <td>7</td>\n",
       "      <td>13</td>\n",
       "      <td>32</td>\n",
       "      <td>640</td>\n",
       "      <td>810</td>\n",
       "      <td>3.46574</td>\n",
       "      <td>6.46147</td>\n",
       "      <td>6.69703</td>\n",
       "    </tr>\n",
       "    <tr>\n",
       "      <th>13</th>\n",
       "      <td>7</td>\n",
       "      <td>14</td>\n",
       "      <td>36</td>\n",
       "      <td>640</td>\n",
       "      <td>750</td>\n",
       "      <td>3.58352</td>\n",
       "      <td>6.46147</td>\n",
       "      <td>6.62007</td>\n",
       "    </tr>\n",
       "    <tr>\n",
       "      <th>14</th>\n",
       "      <td>8</td>\n",
       "      <td>15</td>\n",
       "      <td>25</td>\n",
       "      <td>1280</td>\n",
       "      <td>890</td>\n",
       "      <td>3.21888</td>\n",
       "      <td>7.15462</td>\n",
       "      <td>6.79122</td>\n",
       "    </tr>\n",
       "    <tr>\n",
       "      <th>15</th>\n",
       "      <td>8</td>\n",
       "      <td>16</td>\n",
       "      <td>25</td>\n",
       "      <td>1280</td>\n",
       "      <td>800</td>\n",
       "      <td>3.21888</td>\n",
       "      <td>7.15462</td>\n",
       "      <td>6.68461</td>\n",
       "    </tr>\n",
       "    <tr>\n",
       "      <th>16</th>\n",
       "      <td>9</td>\n",
       "      <td>17</td>\n",
       "      <td>20</td>\n",
       "      <td>2560</td>\n",
       "      <td>990</td>\n",
       "      <td>2.99573</td>\n",
       "      <td>7.84776</td>\n",
       "      <td>6.89770</td>\n",
       "    </tr>\n",
       "    <tr>\n",
       "      <th>17</th>\n",
       "      <td>9</td>\n",
       "      <td>18</td>\n",
       "      <td>24</td>\n",
       "      <td>2560</td>\n",
       "      <td>900</td>\n",
       "      <td>3.17805</td>\n",
       "      <td>7.84776</td>\n",
       "      <td>6.80239</td>\n",
       "    </tr>\n",
       "    <tr>\n",
       "      <th>18</th>\n",
       "      <td>10</td>\n",
       "      <td>19</td>\n",
       "      <td>19</td>\n",
       "      <td>5120</td>\n",
       "      <td>1155</td>\n",
       "      <td>2.94444</td>\n",
       "      <td>8.54091</td>\n",
       "      <td>7.05186</td>\n",
       "    </tr>\n",
       "    <tr>\n",
       "      <th>19</th>\n",
       "      <td>10</td>\n",
       "      <td>20</td>\n",
       "      <td>25</td>\n",
       "      <td>5120</td>\n",
       "      <td>1000</td>\n",
       "      <td>3.21888</td>\n",
       "      <td>8.54091</td>\n",
       "      <td>6.90776</td>\n",
       "    </tr>\n",
       "  </tbody>\n",
       "</table>\n",
       "</div>"
      ],
      "text/plain": [
       "     0   1    2     3     4        5        6        7\n",
       "0    1   1  120    10    11  4.78749  2.30259  2.39790\n",
       "1    1   2  140    10     8  4.94164  2.30259  2.07944\n",
       "2    2   3   95    20    54  4.55388  2.99573  3.98898\n",
       "3    2   4  125    20    25  4.82831  2.99573  3.21888\n",
       "4    3   5   80    40   100  4.38203  3.68888  4.60517\n",
       "5    3   6   75    40    80  4.31749  3.68888  4.38203\n",
       "6    4   7   65    80   220  4.17439  4.38203  5.39363\n",
       "7    4   8   50    80   150  3.91202  4.38203  5.01064\n",
       "8    5   9   55   160   410  4.00733  5.07517  6.01616\n",
       "9    5  10   40   160   500  3.68888  5.07517  6.21461\n",
       "10   6  11   40   320   660  3.68888  5.76832  6.49224\n",
       "11   6  12   38   320   600  3.63759  5.76832  6.39693\n",
       "12   7  13   32   640   810  3.46574  6.46147  6.69703\n",
       "13   7  14   36   640   750  3.58352  6.46147  6.62007\n",
       "14   8  15   25  1280   890  3.21888  7.15462  6.79122\n",
       "15   8  16   25  1280   800  3.21888  7.15462  6.68461\n",
       "16   9  17   20  2560   990  2.99573  7.84776  6.89770\n",
       "17   9  18   24  2560   900  3.17805  7.84776  6.80239\n",
       "18  10  19   19  5120  1155  2.94444  8.54091  7.05186\n",
       "19  10  20   25  5120  1000  3.21888  8.54091  6.90776"
      ]
     },
     "execution_count": 23,
     "metadata": {},
     "output_type": "execute_result"
    }
   ],
   "source": [
    "Manu_learn"
   ]
  },
  {
   "cell_type": "markdown",
   "metadata": {},
   "source": [
    "So the one possibility is to go from the raw file, to read in Python Pandas, and then take the panda DataFrame as a numpy array, and then output to a binary file with `.tofile` in numpy.  \n",
    "\n",
    "One scenario is that we have C++ take in binary files, hdf5 files, and \"strictly\" comma-separated `.csv` files.  For everything else, Pandas can preprocess, especially tab-separated or whitespace separated files, and then output to binary.  \n",
    "\n",
    "Remember that C++ is strongly type-cast whereas Python isn't; so be sure to specify type (usually `float32`) in NumPy, so that C++ will know how to deal with given char/binary.  "
   ]
  },
  {
   "cell_type": "code",
   "execution_count": 32,
   "metadata": {},
   "outputs": [
    {
     "data": {
      "text/plain": [
       "(20, 8)"
      ]
     },
     "execution_count": 32,
     "metadata": {},
     "output_type": "execute_result"
    }
   ],
   "source": [
    "Manu_learn.values.astype(np.float32).shape"
   ]
  },
  {
   "cell_type": "code",
   "execution_count": 33,
   "metadata": {},
   "outputs": [],
   "source": [
    "try:\n",
    "    Manu_learn.values.astype(np.float32).tofile(datafilefolder+ \"manuf_learn.npy\" )\n",
    "except IOError:\n",
    "    if not os.path.exists(datafilefolder):\n",
    "        os.makedirs(datafilefolder)"
   ]
  },
  {
   "cell_type": "code",
   "execution_count": 34,
   "metadata": {},
   "outputs": [],
   "source": [
    "manuf_learn_in = np.fromfile(datafilefolder+ \"manuf_learn.npy\", dtype=np.float32)"
   ]
  },
  {
   "cell_type": "code",
   "execution_count": 36,
   "metadata": {},
   "outputs": [
    {
     "data": {
      "text/plain": [
       "(160,)"
      ]
     },
     "execution_count": 36,
     "metadata": {},
     "output_type": "execute_result"
    }
   ],
   "source": [
    "manuf_learn_in.shape"
   ]
  },
  {
   "cell_type": "code",
   "execution_count": 37,
   "metadata": {},
   "outputs": [],
   "source": [
    "manuf_learn_in = manuf_learn_in.reshape((20,8))"
   ]
  },
  {
   "cell_type": "code",
   "execution_count": 39,
   "metadata": {},
   "outputs": [
    {
     "data": {
      "text/plain": [
       "array([[   1.        ,    1.        ,  120.        ,   10.        ,\n",
       "          11.        ,    4.78748989,    2.30258989,    2.3979001 ],\n",
       "       [   1.        ,    2.        ,  140.        ,   10.        ,\n",
       "           8.        ,    4.9416399 ,    2.30258989,    2.07944012],\n",
       "       [   2.        ,    3.        ,   95.        ,   20.        ,\n",
       "          54.        ,    4.55388021,    2.99572992,    3.98898005]], dtype=float32)"
      ]
     },
     "execution_count": 39,
     "metadata": {},
     "output_type": "execute_result"
    }
   ],
   "source": [
    "manuf_learn_in[:3,:]"
   ]
  },
  {
   "cell_type": "code",
   "execution_count": null,
   "metadata": {},
   "outputs": [],
   "source": []
  }
 ],
 "metadata": {
  "kernelspec": {
   "display_name": "Python 2",
   "language": "python",
   "name": "python2"
  },
  "language_info": {
   "codemirror_mode": {
    "name": "ipython",
    "version": 2
   },
   "file_extension": ".py",
   "mimetype": "text/x-python",
   "name": "python",
   "nbconvert_exporter": "python",
   "pygments_lexer": "ipython2",
   "version": "2.7.13"
  }
 },
 "nbformat": 4,
 "nbformat_minor": 2
}
