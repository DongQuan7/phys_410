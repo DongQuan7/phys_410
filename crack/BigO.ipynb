{
 "cells": [
  {
   "cell_type": "markdown",
   "metadata": {},
   "source": [
    "# BigO, Complexity, Time Complexity, Space Complexity, Algorithm Analysis  \n",
    "\n",
    "cf. pp. 40 McDowell, 6th Ed. VI BigO\n",
    "\n",
    "cf. [2.2. What Is Algorithm Analysis?](http://interactivepython.org/runestone/static/pythonds/AlgorithmAnalysis/WhatIsAlgorithmAnalysis.html)\n"
   ]
  },
  {
   "cell_type": "code",
   "execution_count": 1,
   "metadata": {
    "collapsed": false
   },
   "outputs": [
    {
     "name": "stdout",
     "output_type": "stream",
     "text": [
      "55\n"
     ]
    }
   ],
   "source": [
    "def sumOfN(n):\n",
    "    theSum = 0\n",
    "    for i in range(1,n+1):\n",
    "        theSum = theSum + i\n",
    "        \n",
    "    return theSum\n",
    "    \n",
    "print(sumOfN(10))"
   ]
  },
  {
   "cell_type": "code",
   "execution_count": 2,
   "metadata": {
    "collapsed": false
   },
   "outputs": [
    {
     "name": "stdout",
     "output_type": "stream",
     "text": [
      "55\n"
     ]
    }
   ],
   "source": [
    "def foo(tom):\n",
    "    fred = 0 \n",
    "    for bill in range(1,tom+1):\n",
    "        barney = bill\n",
    "        fred = fred + barney\n",
    "    \n",
    "    return fred\n",
    "\n",
    "print(foo(10))"
   ]
  },
  {
   "cell_type": "code",
   "execution_count": 3,
   "metadata": {
    "collapsed": true
   },
   "outputs": [],
   "source": [
    "import time \n",
    "\n",
    "def sumOfN2(n):\n",
    "    start = time.time()\n",
    "    \n",
    "    theSum = 0  # 1 assignment \n",
    "    for i in range(1,n+1):\n",
    "        theSum = theSum + i # n assignments \n",
    "        \n",
    "    end = time.time()\n",
    "    \n",
    "    return theSum, end-start  # (1 + n) assignements"
   ]
  },
  {
   "cell_type": "code",
   "execution_count": 10,
   "metadata": {
    "collapsed": false
   },
   "outputs": [
    {
     "name": "stdout",
     "output_type": "stream",
     "text": [
      "Sum is 50005000 required  0.0015261 seconds \n",
      "Sum is 50005000 required  0.0011671 seconds \n",
      "Sum is 50005000 required  0.0009739 seconds \n",
      "Sum is 50005000 required  0.0009711 seconds \n",
      "Sum is 50005000 required  0.0009670 seconds \n"
     ]
    }
   ],
   "source": [
    "for i in range(5):\n",
    "    print(\"Sum is %d required %10.7f seconds \" % sumOfN2(10000) )"
   ]
  },
  {
   "cell_type": "code",
   "execution_count": 11,
   "metadata": {
    "collapsed": false
   },
   "outputs": [
    {
     "name": "stdout",
     "output_type": "stream",
     "text": [
      "Sum is 5000050000 required  0.0077779 seconds \n",
      "Sum is 5000050000 required  0.0062630 seconds \n",
      "Sum is 5000050000 required  0.0053980 seconds \n",
      "Sum is 5000050000 required  0.0049260 seconds \n",
      "Sum is 5000050000 required  0.0048888 seconds \n"
     ]
    }
   ],
   "source": [
    "for i in range(5):\n",
    "    print(\"Sum is %d required %10.7f seconds \" % sumOfN2(100000) )"
   ]
  },
  {
   "cell_type": "code",
   "execution_count": 12,
   "metadata": {
    "collapsed": false
   },
   "outputs": [
    {
     "name": "stdout",
     "output_type": "stream",
     "text": [
      "Sum is 500000500000 required  0.0971889 seconds \n",
      "Sum is 500000500000 required  0.0589759 seconds \n",
      "Sum is 500000500000 required  0.0463891 seconds \n",
      "Sum is 500000500000 required  0.0411401 seconds \n",
      "Sum is 500000500000 required  0.0398369 seconds \n"
     ]
    }
   ],
   "source": [
    "for i in range(5):\n",
    "    print(\"Sum is %d required %10.7f seconds \" % sumOfN2(1000000) )"
   ]
  },
  {
   "cell_type": "code",
   "execution_count": 15,
   "metadata": {
    "collapsed": false
   },
   "outputs": [
    {
     "name": "stdout",
     "output_type": "stream",
     "text": [
      "(55, 1.9073486328125e-06)\n"
     ]
    }
   ],
   "source": [
    "def sumOfN3(n):\n",
    "    start=time.time()\n",
    "    theSum = (n*(n+1))/2\n",
    "    end=time.time()\n",
    "    return theSum, end-start\n",
    "\n",
    "print(sumOfN3(10))"
   ]
  },
  {
   "cell_type": "code",
   "execution_count": 17,
   "metadata": {
    "collapsed": false
   },
   "outputs": [
    {
     "name": "stdout",
     "output_type": "stream",
     "text": [
      "Sum is 50005000 required  0.0000019 seconds \n",
      "Sum is 5000050000 required  0.0000010 seconds \n",
      "Sum is 500000500000 required  0.0000012 seconds \n",
      "Sum is 50000005000000 required  0.0000010 seconds \n",
      "Sum is 5000000050000000 required  0.0000010 seconds \n"
     ]
    }
   ],
   "source": [
    "for i in range(5):\n",
    "    print(\"Sum is %d required %10.7f seconds \" % sumOfN3(10000*10**(i)) )"
   ]
  },
  {
   "cell_type": "markdown",
   "metadata": {},
   "source": [
    "A good basic unit of computation for comparing the summation algorithms might be to count the number of assignment statements performed.  "
   ]
  },
  {
   "cell_type": "code",
   "execution_count": 28,
   "metadata": {
    "collapsed": true
   },
   "outputs": [],
   "source": [
    "def findmin(X):\n",
    "    start=time.time()\n",
    "    minval= X[0]\n",
    "    for ele in X:\n",
    "        if minval > ele:\n",
    "            minval = ele\n",
    "    end=time.time()\n",
    "    return minval, end-start"
   ]
  },
  {
   "cell_type": "code",
   "execution_count": 29,
   "metadata": {
    "collapsed": false
   },
   "outputs": [],
   "source": [
    "def findmin2(X):\n",
    "    start=time.time()\n",
    "    L = len(X)\n",
    "    overallmin = X[0]\n",
    "    for i in range(L):\n",
    "        minval_i = X[i]\n",
    "        for j in range(L):\n",
    "            if minval_i > X[j]:\n",
    "                minval_i = X[j]\n",
    "        if overallmin > minval_i:\n",
    "            overallmin = minval_i\n",
    "    end=time.time()\n",
    "    return overallmin, end-start"
   ]
  },
  {
   "cell_type": "code",
   "execution_count": 21,
   "metadata": {
    "collapsed": true
   },
   "outputs": [],
   "source": [
    "import random"
   ]
  },
  {
   "cell_type": "code",
   "execution_count": 30,
   "metadata": {
    "collapsed": false
   },
   "outputs": [
    {
     "name": "stdout",
     "output_type": "stream",
     "text": [
      "findmin is 2 required  0.0005572 seconds\n",
      "findmin is 9 required  0.0026450 seconds\n",
      "findmin is 0 required  0.0234010 seconds\n",
      "findmin is 0 required  0.2041671 seconds\n",
      "findmin is 0 required  2.0520091 seconds\n"
     ]
    }
   ],
   "source": [
    "for i in range(5):\n",
    "    print(\"findmin is %d required %10.7f seconds\" % findmin( [random.randrange(1000000) for _ in range(10000*10**i)] ) )"
   ]
  },
  {
   "cell_type": "code",
   "execution_count": 31,
   "metadata": {
    "collapsed": false
   },
   "outputs": [
    {
     "name": "stdout",
     "output_type": "stream",
     "text": [
      "findmin2 is 125 required  3.4158430 seconds\n",
      "findmin2 is 6 required 332.1417611 seconds\n"
     ]
    },
    {
     "ename": "KeyboardInterrupt",
     "evalue": "",
     "output_type": "error",
     "traceback": [
      "\u001b[1;31m---------------------------------------------------------------------------\u001b[0m",
      "\u001b[1;31mKeyboardInterrupt\u001b[0m                         Traceback (most recent call last)",
      "\u001b[1;32m<ipython-input-31-45329949d42b>\u001b[0m in \u001b[0;36m<module>\u001b[1;34m()\u001b[0m\n\u001b[0;32m      1\u001b[0m \u001b[1;32mfor\u001b[0m \u001b[0mi\u001b[0m \u001b[1;32min\u001b[0m \u001b[0mrange\u001b[0m\u001b[1;33m(\u001b[0m\u001b[1;36m5\u001b[0m\u001b[1;33m)\u001b[0m\u001b[1;33m:\u001b[0m\u001b[1;33m\u001b[0m\u001b[0m\n\u001b[1;32m----> 2\u001b[1;33m     \u001b[1;32mprint\u001b[0m\u001b[1;33m(\u001b[0m\u001b[1;34m\"findmin2 is %d required %10.7f seconds\"\u001b[0m \u001b[1;33m%\u001b[0m \u001b[0mfindmin2\u001b[0m\u001b[1;33m(\u001b[0m \u001b[1;33m[\u001b[0m\u001b[0mrandom\u001b[0m\u001b[1;33m.\u001b[0m\u001b[0mrandrange\u001b[0m\u001b[1;33m(\u001b[0m\u001b[1;36m1000000\u001b[0m\u001b[1;33m)\u001b[0m \u001b[1;32mfor\u001b[0m \u001b[0m_\u001b[0m \u001b[1;32min\u001b[0m \u001b[0mrange\u001b[0m\u001b[1;33m(\u001b[0m\u001b[1;36m10000\u001b[0m\u001b[1;33m*\u001b[0m\u001b[1;36m10\u001b[0m\u001b[1;33m**\u001b[0m\u001b[0mi\u001b[0m\u001b[1;33m)\u001b[0m\u001b[1;33m]\u001b[0m \u001b[1;33m)\u001b[0m \u001b[1;33m)\u001b[0m\u001b[1;33m\u001b[0m\u001b[0m\n\u001b[0m",
      "\u001b[1;32m<ipython-input-29-4a28846f5efc>\u001b[0m in \u001b[0;36mfindmin2\u001b[1;34m(X)\u001b[0m\n\u001b[0;32m      5\u001b[0m     \u001b[1;32mfor\u001b[0m \u001b[0mi\u001b[0m \u001b[1;32min\u001b[0m \u001b[0mrange\u001b[0m\u001b[1;33m(\u001b[0m\u001b[0mL\u001b[0m\u001b[1;33m)\u001b[0m\u001b[1;33m:\u001b[0m\u001b[1;33m\u001b[0m\u001b[0m\n\u001b[0;32m      6\u001b[0m         \u001b[0mminval_i\u001b[0m \u001b[1;33m=\u001b[0m \u001b[0mX\u001b[0m\u001b[1;33m[\u001b[0m\u001b[0mi\u001b[0m\u001b[1;33m]\u001b[0m\u001b[1;33m\u001b[0m\u001b[0m\n\u001b[1;32m----> 7\u001b[1;33m         \u001b[1;32mfor\u001b[0m \u001b[0mj\u001b[0m \u001b[1;32min\u001b[0m \u001b[0mrange\u001b[0m\u001b[1;33m(\u001b[0m\u001b[0mL\u001b[0m\u001b[1;33m)\u001b[0m\u001b[1;33m:\u001b[0m\u001b[1;33m\u001b[0m\u001b[0m\n\u001b[0m\u001b[0;32m      8\u001b[0m             \u001b[1;32mif\u001b[0m \u001b[0mminval_i\u001b[0m \u001b[1;33m>\u001b[0m \u001b[0mX\u001b[0m\u001b[1;33m[\u001b[0m\u001b[0mj\u001b[0m\u001b[1;33m]\u001b[0m\u001b[1;33m:\u001b[0m\u001b[1;33m\u001b[0m\u001b[0m\n\u001b[0;32m      9\u001b[0m                 \u001b[0mminval_i\u001b[0m \u001b[1;33m=\u001b[0m \u001b[0mX\u001b[0m\u001b[1;33m[\u001b[0m\u001b[0mj\u001b[0m\u001b[1;33m]\u001b[0m\u001b[1;33m\u001b[0m\u001b[0m\n",
      "\u001b[1;31mKeyboardInterrupt\u001b[0m: "
     ]
    }
   ],
   "source": [
    "for i in range(5):\n",
    "    print(\"findmin2 is %d required %10.7f seconds\" % findmin2( [random.randrange(1000000) for _ in range(10000*10**i)] ) )"
   ]
  },
  {
   "cell_type": "markdown",
   "metadata": {},
   "source": [
    "cf. [2.4. An Anagram Detection Example](http://interactivepython.org/runestone/static/pythonds/AlgorithmAnalysis/AnAnagramDetectionExample.html)  "
   ]
  },
  {
   "cell_type": "code",
   "execution_count": 34,
   "metadata": {
    "collapsed": true
   },
   "outputs": [],
   "source": [
    "def anagramSolution(s1,s2):\n",
    "    \"\"\" @fn anagramSolution\n",
    "        @details 1 string is an anagram of another if the 2nd is simply a rearrangement of the 1st\n",
    "                    'heart' and 'earth' are anagrams\n",
    "                    'python' and 'typhon' are anagrams\n",
    "    \"\"\"\n",
    "    A = list(s2) # Python strings are immutable, so make a list\n",
    "    pos1 = 0 \n",
    "    stillOK = True\n",
    "    while pos1 < len(s1) and stillOK:\n",
    "        pos2 = 0 \n",
    "        found = False\n",
    "        while pos2 < len(A) and not found:\n",
    "            if s1[pos1] == A[pos2]:  # given s1[pos1], try to find it in A, changing pos2\n",
    "                found = True\n",
    "            else:\n",
    "                pos2 = pos2+1\n",
    "        \n",
    "        if found:\n",
    "            A[pos2] = None\n",
    "        else:\n",
    "            stillOK = False\n",
    "        pos1 = pos1 + 1\n",
    "    return stillOK"
   ]
  },
  {
   "cell_type": "code",
   "execution_count": 35,
   "metadata": {
    "collapsed": false
   },
   "outputs": [
    {
     "data": {
      "text/plain": [
       "True"
      ]
     },
     "execution_count": 35,
     "metadata": {},
     "output_type": "execute_result"
    }
   ],
   "source": [
    "anagramSolution(\"heart\",\"earth\")"
   ]
  },
  {
   "cell_type": "code",
   "execution_count": 36,
   "metadata": {
    "collapsed": false
   },
   "outputs": [
    {
     "data": {
      "text/plain": [
       "True"
      ]
     },
     "execution_count": 36,
     "metadata": {},
     "output_type": "execute_result"
    }
   ],
   "source": [
    "anagramSolution(\"python\",\"typhon\")"
   ]
  },
  {
   "cell_type": "code",
   "execution_count": 37,
   "metadata": {
    "collapsed": false
   },
   "outputs": [
    {
     "data": {
      "text/plain": [
       "False"
      ]
     },
     "execution_count": 37,
     "metadata": {},
     "output_type": "execute_result"
    }
   ],
   "source": [
    "anagramSolution(\"anagram\",\"example\")"
   ]
  },
  {
   "cell_type": "markdown",
   "metadata": {},
   "source": [
    "2.4.2. Sort and Compare Solution 2"
   ]
  },
  {
   "cell_type": "code",
   "execution_count": null,
   "metadata": {
    "collapsed": true
   },
   "outputs": [],
   "source": [
    "def anagramSolution2(s1,s2):\n",
    "    "
   ]
  }
 ],
 "metadata": {
  "kernelspec": {
   "display_name": "Python 2",
   "language": "python",
   "name": "python2"
  },
  "language_info": {
   "codemirror_mode": {
    "name": "ipython",
    "version": 2
   },
   "file_extension": ".py",
   "mimetype": "text/x-python",
   "name": "python",
   "nbconvert_exporter": "python",
   "pygments_lexer": "ipython2",
   "version": "2.7.11"
  }
 },
 "nbformat": 4,
 "nbformat_minor": 0
}
