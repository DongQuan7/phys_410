{
 "cells": [
  {
   "cell_type": "markdown",
   "metadata": {},
   "source": [
    "cf. Gayle Laakmann McDowell.  **Cracking the Coding Interview: 189 Programming Questions and Solutions**. *6th Edition*.  CareerCup; 6th edition (July 1, 2015).  ISBN-13: 978-0984782857 "
   ]
  },
  {
   "cell_type": "markdown",
   "metadata": {},
   "source": [
    "# Trees and Graphs; Ch. 4 Trees and Graphs of McDowell (2015)  "
   ]
  },
  {
   "cell_type": "code",
   "execution_count": null,
   "metadata": {
    "collapsed": true
   },
   "outputs": [],
   "source": []
  },
  {
   "cell_type": "markdown",
   "metadata": {},
   "source": [
    "cf. Chapter 8, Recursion and Dynamic Programming.  \n",
    "\n",
    "Consider the Fibonacci numbers and the recurrence relation  \n",
    "\n",
    "$$  \n",
    "F_n = F_{n-1} + F_{n-2}  \n",
    "$$  \n",
    "\n",
    "The problem appears to be expressed as follows, given $n \\in \\mathbb{Z}^+$, for some finite $S \\subset \\mathbb{Z}^+$, $F:\\mathbb{Z}^+ \\to \\mathbb{K}$, we want some recurrence relation $f$  \n",
    "\n",
    "$$\n",
    "F(n):= f(n,S,F)  \n",
    "$$  \n",
    "\n",
    "For notation, use  \n",
    "\n",
    "$$\n",
    "f(n) = f(n-1) + f(n-2)  \n",
    "$$  \n",
    "\n",
    "with \n",
    "\n",
    "$f(1) = f(2) = 1$.  \n",
    "\n",
    "Consider  \n",
    "\n",
    "$$  \n",
    "\\begin{aligned}\n",
    "& f(3)=f(2) + f(1)    \\\\\n",
    "& f(4) = f(3) + f(2) = (f(2) + f(1)) + f(2)   \\\\\n",
    "& f(5) = f(4) + f(3) = (f(3) + f(2) ) + (f(2) + f(1)) = (f(2) + f(1) + f(2) ) + (f(2) + f(1))   \n",
    "\\end{aligned}\n",
    "$$  "
   ]
  },
  {
   "cell_type": "code",
   "execution_count": 6,
   "metadata": {
    "collapsed": true
   },
   "outputs": [],
   "source": [
    "def fibonacci(n):\n",
    "    if (n == 0): \n",
    "        return 0\n",
    "    elif (n == 1):\n",
    "        return 1\n",
    "    elif (n==2):\n",
    "        return 1\n",
    "    return fibonacci(n-1) + fibonacci(n-2)"
   ]
  },
  {
   "cell_type": "code",
   "execution_count": 7,
   "metadata": {
    "collapsed": false
   },
   "outputs": [
    {
     "data": {
      "text/plain": [
       "[0, 1, 1, 2, 3, 5, 8, 13, 21, 34, 55, 89, 144, 233, 377]"
      ]
     },
     "execution_count": 7,
     "metadata": {},
     "output_type": "execute_result"
    }
   ],
   "source": [
    "[fibonacci(n) for n in range(15)]"
   ]
  },
  {
   "cell_type": "markdown",
   "metadata": {},
   "source": [
    "## Decorators  \n",
    "\n",
    "cf. https://jeremykun.com/2012/01/12/a-spoonful-of-python/  \n",
    "\n",
    "A decorator is a way to hide pre- or post-processing to a function.  \n",
    "\n",
    "A decorator accepts a function $f$ as input, and returns a function which potentially does something else, but perhaps uses $f$ in an interesting way.  e.g.  "
   ]
  },
  {
   "cell_type": "code",
   "execution_count": 9,
   "metadata": {
    "collapsed": true
   },
   "outputs": [],
   "source": [
    "def paragraphize(inputFunction):\n",
    "    def newFunction():\n",
    "        return \"<p>\" + inputFunction() + \"</p>\"\n",
    "    return newFunction\n",
    "\n",
    "@paragraphize\n",
    "def getText():\n",
    "    return \"Here is some text!\""
   ]
  },
  {
   "cell_type": "markdown",
   "metadata": {},
   "source": [
    "in other words, it is shorthand for the following statement: \n",
    "```  \n",
    "getText = paragraphize(getText)  \n",
    "```  "
   ]
  },
  {
   "cell_type": "code",
   "execution_count": 10,
   "metadata": {
    "collapsed": false
   },
   "outputs": [
    {
     "data": {
      "text/plain": [
       "'<p>Here is some text!</p>'"
      ]
     },
     "execution_count": 10,
     "metadata": {},
     "output_type": "execute_result"
    }
   ],
   "source": [
    "getText()"
   ]
  },
  {
   "cell_type": "markdown",
   "metadata": {},
   "source": [
    "### review of `*` notation for multiple arguments, unpacking the multiple comma-separated values  "
   ]
  },
  {
   "cell_type": "code",
   "execution_count": 15,
   "metadata": {
    "collapsed": false
   },
   "outputs": [
    {
     "name": "stdout",
     "output_type": "stream",
     "text": [
      "((3, 4, 2),)\n",
      "(3, 4, 2)\n",
      "(3, 4, 2)\n",
      "3\n"
     ]
    },
    {
     "data": {
      "text/plain": [
       "(3, 4, 2)"
      ]
     },
     "execution_count": 15,
     "metadata": {},
     "output_type": "execute_result"
    }
   ],
   "source": [
    "def f(*args):\n",
    "    print args\n",
    "    print args[0]\n",
    "    return args\n",
    "\n",
    "f((3,4,2))\n",
    "f(3,4,2)"
   ]
  },
  {
   "cell_type": "markdown",
   "metadata": {},
   "source": [
    "### Top-Down Dynamic Programming (or Memoization)"
   ]
  },
  {
   "cell_type": "code",
   "execution_count": 16,
   "metadata": {
    "collapsed": true
   },
   "outputs": [],
   "source": [
    "def memoize(f):\n",
    "    cache = {}\n",
    "    \n",
    "    def memoizedFunction(*args):\n",
    "        if args not in cache:\n",
    "            cache[args] = f(*args)\n",
    "        return cache[args]\n",
    "    \n",
    "    # this next line allows us to access the cache from other parts of the code by \n",
    "    # attaching it to memoizedFunction as an attribute\n",
    "    memoizedFunction.cache = cache\n",
    "    return memoizedFunction"
   ]
  },
  {
   "cell_type": "code",
   "execution_count": 17,
   "metadata": {
    "collapsed": true
   },
   "outputs": [],
   "source": [
    "@memoize\n",
    "def fibonacci(n):\n",
    "    if n == 0:\n",
    "        return 0 \n",
    "    elif n <= 2:\n",
    "        return 1\n",
    "    else:\n",
    "        return fibonacci(n-1) + fibonacci(n-2)"
   ]
  },
  {
   "cell_type": "code",
   "execution_count": 18,
   "metadata": {
    "collapsed": false
   },
   "outputs": [
    {
     "data": {
      "text/plain": [
       "[0, 1, 1, 2, 3, 5, 8, 13, 21, 34, 55, 89, 144, 233, 377]"
      ]
     },
     "execution_count": 18,
     "metadata": {},
     "output_type": "execute_result"
    }
   ],
   "source": [
    "[fibonacci(n) for n in range(15)]"
   ]
  },
  {
   "cell_type": "code",
   "execution_count": 19,
   "metadata": {
    "collapsed": true
   },
   "outputs": [],
   "source": [
    "def memoization(f):\n",
    "    memo = {}\n",
    "    def memoizedf(i):\n",
    "        if i not in memo:\n",
    "            memo[i] = f(i)\n",
    "        return memo[i]\n",
    "    \n",
    "    # this next line allows us to access the cache from other parts of the code by \n",
    "    # attaching it to memoizedf as an attribute\n",
    "    memoizedf.memo = memo\n",
    "    return memoizedf"
   ]
  },
  {
   "cell_type": "code",
   "execution_count": 20,
   "metadata": {
    "collapsed": true
   },
   "outputs": [],
   "source": [
    "@memoization\n",
    "def fibonacci(n):\n",
    "    if n == 0:\n",
    "        return 0 \n",
    "    elif n <= 2:\n",
    "        return 1\n",
    "    else:\n",
    "        return fibonacci(n-1) + fibonacci(n-2)    "
   ]
  },
  {
   "cell_type": "code",
   "execution_count": 21,
   "metadata": {
    "collapsed": false
   },
   "outputs": [
    {
     "data": {
      "text/plain": [
       "[0, 1, 1, 2, 3, 5, 8, 13, 21, 34, 55, 89, 144, 233, 377]"
      ]
     },
     "execution_count": 21,
     "metadata": {},
     "output_type": "execute_result"
    }
   ],
   "source": [
    "[fibonacci(n) for n in range(15)]"
   ]
  },
  {
   "cell_type": "markdown",
   "metadata": {},
   "source": [
    "## Bottom-Up Dynamic Programming  \n",
    "\n",
    "cf. pp. 134 Chapter 8 - Recursion and Dynamic Programming  "
   ]
  },
  {
   "cell_type": "code",
   "execution_count": 23,
   "metadata": {
    "collapsed": false
   },
   "outputs": [],
   "source": [
    "def fibonacci(n):\n",
    "    if (n == 0):\n",
    "        return 0\n",
    "    elif (n == 1):\n",
    "        return 1\n",
    "    \n",
    "    memo = [0 for _ in range(n)]\n",
    "    memo[0] = 0\n",
    "    memo[1] = 1\n",
    "    for i in range(2,n):\n",
    "        memo[i] = memo[i-1]+memo[i-2]\n",
    "    return memo[n-1]+memo[n-2]        "
   ]
  },
  {
   "cell_type": "code",
   "execution_count": 24,
   "metadata": {
    "collapsed": false
   },
   "outputs": [
    {
     "data": {
      "text/plain": [
       "[0, 1, 1, 2, 3, 5, 8, 13, 21, 34, 55, 89, 144, 233, 377]"
      ]
     },
     "execution_count": 24,
     "metadata": {},
     "output_type": "execute_result"
    }
   ],
   "source": [
    "[fibonacci(n) for n in range(15)]"
   ]
  },
  {
   "cell_type": "markdown",
   "metadata": {},
   "source": [
    "If you really think about how this works, you only use `memo[i]` for `memo[i+1]` and `memo[i+2]`.  You don't need it after that.  Therefore, we can get rid of the memo table and just store a few variables.  "
   ]
  },
  {
   "cell_type": "code",
   "execution_count": 25,
   "metadata": {
    "collapsed": true
   },
   "outputs": [],
   "source": [
    "def fibonacci(n):\n",
    "    if (n==0):\n",
    "        return 0 \n",
    "    f_nm2 = 0 # f(n-2) = 0; f(2-2)=f(0)=0 \n",
    "    f_nm1 = 1 # f(n-1) = 1; f(2-1)=f(1)=1\n",
    "    for idx in range(2,n):\n",
    "        f_n = f_nm2 + f_nm1 # f(n)\n",
    "        f_nm2 = f_nm1\n",
    "        f_nm1 = f_n\n",
    "    return f_nm2 + f_nm1"
   ]
  },
  {
   "cell_type": "code",
   "execution_count": 26,
   "metadata": {
    "collapsed": false
   },
   "outputs": [
    {
     "data": {
      "text/plain": [
       "[0, 1, 1, 2, 3, 5, 8, 13, 21, 34, 55, 89, 144, 233, 377]"
      ]
     },
     "execution_count": 26,
     "metadata": {},
     "output_type": "execute_result"
    }
   ],
   "source": [
    "[fibonacci(n) for n in range(15)]"
   ]
  },
  {
   "cell_type": "code",
   "execution_count": 27,
   "metadata": {
    "collapsed": false
   },
   "outputs": [
    {
     "data": {
      "text/plain": [
       "[1, 1, 2, 3, 5, 8, 13, 21, 34, 55, 89, 144, 233, 377]"
      ]
     },
     "execution_count": 27,
     "metadata": {},
     "output_type": "execute_result"
    }
   ],
   "source": [
    "[fibonacci(n) for n in range(15)][1:]"
   ]
  },
  {
   "cell_type": "markdown",
   "metadata": {},
   "source": [
    "### Interview Questions; for Chapter 8, Recursion and Dynamic Programming  "
   ]
  },
  {
   "cell_type": "markdown",
   "metadata": {},
   "source": [
    "**8.1 Triple Step:** staircase with $n$ steps, can hop either 1,2, or 3 steps each time.  "
   ]
  },
  {
   "cell_type": "code",
   "execution_count": 32,
   "metadata": {
    "collapsed": true
   },
   "outputs": [],
   "source": [
    "def f(n,steps):\n",
    "    if n == 0:\n",
    "        return 1\n",
    "    elif (n < 0) or (steps == []):\n",
    "        return 0\n",
    "    else:\n",
    "        s_0 = steps[0] # pop out the first step to try\n",
    "        f_n = f(n-s_0,steps) + f(n,steps[1:])\n",
    "        return f_n"
   ]
  },
  {
   "cell_type": "code",
   "execution_count": 35,
   "metadata": {
    "collapsed": false
   },
   "outputs": [
    {
     "name": "stdout",
     "output_type": "stream",
     "text": [
      "[1, 1, 2, 3, 4, 5, 7, 8, 10, 12, 14, 16, 19, 21, 24]\n"
     ]
    }
   ],
   "source": [
    "steps_eg = [1,2,3]\n",
    "print( [f(n,steps_eg) for n in range(15)] )"
   ]
  },
  {
   "cell_type": "markdown",
   "metadata": {},
   "source": [
    "*Brute force solution that was given in the back*  \n",
    "\n",
    "Let's think about this with the following question: What is the very last step that is done?  \n",
    "\n",
    "Let $S=(1,2,3)$; in general, $S \\in \\textbf{FiniteSet}$, s.t. $s_i< s_j$ , \\, $\\forall \\, 0 \\leq i < j \\leq |S|-1$.  \n",
    "\n",
    "Let $n$ steps.  \n",
    "\n",
    "If we thought about (assumed that) all of the paths to $n$th step, we can get up to $n$th step by any of the following:  \n",
    "\n",
    "Consider $f(n) \\equiv $ number of ways to hop up $n$ stairs, given $S$, set of possible steps.  \n",
    "\n",
    "$$\n",
    "f(n) = f(n-3) + f(n-2) + f(n-1)  \n",
    "$$\n",
    "\n",
    "And so considering the initial case, \n",
    "\n",
    "$$  \n",
    "\\begin{aligned}\n",
    "& f(0) = 1 \\\\\n",
    "& f(1) = 1  \\\\\n",
    "& f(2) = 2 \\\\ \n",
    "& f(3) = f(0) + f(1)+f(2) = 4 \\\\\n",
    "& f(4) = 1+2+4= 7\n",
    "\\end{aligned}\n",
    "$$\n"
   ]
  },
  {
   "cell_type": "code",
   "execution_count": 36,
   "metadata": {
    "collapsed": true
   },
   "outputs": [],
   "source": [
    "def f(n):\n",
    "    if (n==0):\n",
    "        return 1\n",
    "    elif (n==1):\n",
    "        return 1\n",
    "    elif (n==2):\n",
    "        return 2\n",
    "    else:\n",
    "        return f(n-3)+f(n-2)+f(n-1)"
   ]
  },
  {
   "cell_type": "code",
   "execution_count": 37,
   "metadata": {
    "collapsed": false
   },
   "outputs": [
    {
     "name": "stdout",
     "output_type": "stream",
     "text": [
      "[1, 1, 2, 4, 7, 13, 24, 44, 81, 149, 274, 504, 927, 1705, 3136]\n"
     ]
    }
   ],
   "source": [
    "print( [f(n) for n in range(15)] )"
   ]
  },
  {
   "cell_type": "code",
   "execution_count": 65,
   "metadata": {
    "collapsed": true
   },
   "outputs": [],
   "source": [
    "def memoize(f):\n",
    "    memo={}\n",
    "    def memof(i): # i \\in 0,1,...n-1\n",
    "        if i not in memo:\n",
    "            memo[i] = f(i)\n",
    "        return memo[i]\n",
    "    memof.memo = memo\n",
    "    return memof"
   ]
  },
  {
   "cell_type": "code",
   "execution_count": 66,
   "metadata": {
    "collapsed": true
   },
   "outputs": [],
   "source": [
    "@memoize\n",
    "def f(n):\n",
    "    if (n==0):\n",
    "        return 1\n",
    "    elif (n==1):\n",
    "        return 1\n",
    "    elif (n==2):\n",
    "        return 2\n",
    "    else:\n",
    "        return f(n-3)+f(n-2)+f(n-1)    "
   ]
  },
  {
   "cell_type": "code",
   "execution_count": 71,
   "metadata": {
    "collapsed": false
   },
   "outputs": [
    {
     "name": "stdout",
     "output_type": "stream",
     "text": [
      "[1, 1, 2, 4, 7, 13, 24, 44, 81, 149, 274, 504, 927, 1705, 3136, 5768, 10609, 19513, 35890, 66012, 121415, 223317, 410744, 755476, 1389537, 2555757, 4700770, 8646064, 15902591, 29249425, 53798080, 98950096, 181997601, 334745777, 615693474, 1132436852, 2082876103, 3831006429]\n"
     ]
    }
   ],
   "source": [
    "print( [f(n) for n in range(38)] )"
   ]
  },
  {
   "cell_type": "markdown",
   "metadata": {},
   "source": [
    "The above is the solution.  Here is the print out:  "
   ]
  },
  {
   "cell_type": "code",
   "execution_count": 62,
   "metadata": {
    "collapsed": true
   },
   "outputs": [],
   "source": [
    "def memoize(f):\n",
    "    memo={}\n",
    "    def memof(i): # i \\in 0,1,...n-1\n",
    "        if i not in memo:\n",
    "            memo[i] = f(i)\n",
    "            print( \"In memo, key: %d f(i) : %d was missing \\n\" % (i, f(i)))\n",
    "        print( \"In memof, key: %d memo[i] : %d \\n\" % (i,memo[i]))\n",
    "        return memo[i]\n",
    "    memof.memo = memo\n",
    "#    print( \"In memoize, memo : \", memo, \"\\n\")\n",
    "    print(memo)\n",
    "    return memof"
   ]
  },
  {
   "cell_type": "code",
   "execution_count": 63,
   "metadata": {
    "collapsed": false
   },
   "outputs": [
    {
     "name": "stdout",
     "output_type": "stream",
     "text": [
      "{}\n"
     ]
    }
   ],
   "source": [
    "@memoize\n",
    "def f(n):\n",
    "    if (n==0):\n",
    "        return 1\n",
    "    elif (n==1):\n",
    "        return 1\n",
    "    elif (n==2):\n",
    "        return 2\n",
    "    else:\n",
    "        return f(n-3)+f(n-2)+f(n-1)    "
   ]
  },
  {
   "cell_type": "code",
   "execution_count": 64,
   "metadata": {
    "collapsed": false
   },
   "outputs": [
    {
     "name": "stdout",
     "output_type": "stream",
     "text": [
      "In memo, key: 0 f(i) : 1 was missing \n",
      "\n",
      "In memof, key: 0 memo[i] : 1 \n",
      "\n",
      "1\n",
      "In memo, key: 1 f(i) : 1 was missing \n",
      "\n",
      "In memof, key: 1 memo[i] : 1 \n",
      "\n",
      "1\n",
      "In memo, key: 2 f(i) : 2 was missing \n",
      "\n",
      "In memof, key: 2 memo[i] : 2 \n",
      "\n",
      "2\n",
      "In memof, key: 0 memo[i] : 1 \n",
      "\n",
      "In memof, key: 1 memo[i] : 1 \n",
      "\n",
      "In memof, key: 2 memo[i] : 2 \n",
      "\n",
      "In memof, key: 0 memo[i] : 1 \n",
      "\n",
      "In memof, key: 1 memo[i] : 1 \n",
      "\n",
      "In memof, key: 2 memo[i] : 2 \n",
      "\n",
      "In memo, key: 3 f(i) : 4 was missing \n",
      "\n",
      "In memof, key: 3 memo[i] : 4 \n",
      "\n",
      "4\n",
      "In memof, key: 1 memo[i] : 1 \n",
      "\n",
      "In memof, key: 2 memo[i] : 2 \n",
      "\n",
      "In memof, key: 3 memo[i] : 4 \n",
      "\n",
      "In memof, key: 1 memo[i] : 1 \n",
      "\n",
      "In memof, key: 2 memo[i] : 2 \n",
      "\n",
      "In memof, key: 3 memo[i] : 4 \n",
      "\n",
      "In memo, key: 4 f(i) : 7 was missing \n",
      "\n",
      "In memof, key: 4 memo[i] : 7 \n",
      "\n",
      "7\n",
      "In memof, key: 2 memo[i] : 2 \n",
      "\n",
      "In memof, key: 3 memo[i] : 4 \n",
      "\n",
      "In memof, key: 4 memo[i] : 7 \n",
      "\n",
      "In memof, key: 2 memo[i] : 2 \n",
      "\n",
      "In memof, key: 3 memo[i] : 4 \n",
      "\n",
      "In memof, key: 4 memo[i] : 7 \n",
      "\n",
      "In memo, key: 5 f(i) : 13 was missing \n",
      "\n",
      "In memof, key: 5 memo[i] : 13 \n",
      "\n",
      "13\n"
     ]
    }
   ],
   "source": [
    "for n in range(6):\n",
    "    #print( \"In f\", f(n) )\n",
    "#    print(\"In f : %d \\n\", f(n))\n",
    "    print(f(n))"
   ]
  },
  {
   "cell_type": "markdown",
   "metadata": {},
   "source": [
    "**8.2 Robot in a Grid:** "
   ]
  },
  {
   "cell_type": "code",
   "execution_count": null,
   "metadata": {
    "collapsed": true
   },
   "outputs": [],
   "source": [
    "def backtrace(pos,paths,off,v):\n",
    "    if v == []:\n",
    "        return None\n",
    "    elif (pos == (0,0)):\n",
    "        return 1, paths\n",
    "    elif (pos[0] <0 ):\n",
    "        return None\n",
    "    elif (pos[1] <0):\n",
    "        return None\n",
    "    elif pos in paths:\n",
    "        return None\n",
    "    else:\n",
    "        \n",
    "        \n",
    "    "
   ]
  }
 ],
 "metadata": {
  "kernelspec": {
   "display_name": "Python 2",
   "language": "python",
   "name": "python2"
  },
  "language_info": {
   "codemirror_mode": {
    "name": "ipython",
    "version": 2
   },
   "file_extension": ".py",
   "mimetype": "text/x-python",
   "name": "python",
   "nbconvert_exporter": "python",
   "pygments_lexer": "ipython2",
   "version": "2.7.11"
  }
 },
 "nbformat": 4,
 "nbformat_minor": 0
}
