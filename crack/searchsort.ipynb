{
 "cells": [
  {
   "cell_type": "markdown",
   "metadata": {},
   "source": [
    "# Binary Search  \n",
    "\n",
    "cf. [Binary Search](http://www.geeksforgeeks.org/binary-search/)  \n",
    "\n",
    "Given a sorted array `arr[]`, of `n` elements, write a function to search a given element `x` in `arr[]` "
   ]
  },
  {
   "cell_type": "code",
   "execution_count": 19,
   "metadata": {
    "collapsed": true
   },
   "outputs": [],
   "source": [
    "def binarySearch(arr,l,r,x):\n",
    "    \"\"\" \n",
    "        @details denote L = len(arr)\n",
    "        @param indices l,r=0,1...L-1\n",
    "        @note l <= r expected\n",
    "        base case is if l>r, then stop, nothing was found \n",
    "    \"\"\"\n",
    "    if (r<l):\n",
    "        return -1 # x was not found\n",
    "\n",
    "    else:\n",
    "        mid = l + (r-l)/2\n",
    "        \n",
    "        if arr[mid] == x: # found it, success!  \n",
    "            return mid\n",
    "        # if arr[mid] > x, then we know x is \"to the left\" of mid\n",
    "        elif arr[mid]> x:\n",
    "            r = mid-1\n",
    "            return binarySearch(arr,l,r,x)\n",
    "        else: # then we know x is \"to the right\" of mid\n",
    "            l=mid+1\n",
    "            return binarySearch(arr,l,r,x)\n"
   ]
  },
  {
   "cell_type": "code",
   "execution_count": 20,
   "metadata": {
    "collapsed": true
   },
   "outputs": [],
   "source": [
    "arr=[2,3,4,10,40]"
   ]
  },
  {
   "cell_type": "code",
   "execution_count": 21,
   "metadata": {
    "collapsed": true
   },
   "outputs": [],
   "source": [
    "x=10"
   ]
  },
  {
   "cell_type": "code",
   "execution_count": 22,
   "metadata": {
    "collapsed": false
   },
   "outputs": [
    {
     "name": "stdout",
     "output_type": "stream",
     "text": [
      "3\n"
     ]
    }
   ],
   "source": [
    "result=binarySearch(arr,0,len(arr)-1,x)\n",
    "print(result)"
   ]
  },
  {
   "cell_type": "code",
   "execution_count": 23,
   "metadata": {
    "collapsed": true
   },
   "outputs": [],
   "source": [
    "# Returns index of x in arr if present, else -1\n",
    "def binarySearch (arr, l, r, x):\n",
    " \n",
    "    # Check base case\n",
    "    if r >= l:\n",
    " \n",
    "        mid = l + (r - l)/2\n",
    " \n",
    "        # If element is present at the middle itself\n",
    "        if arr[mid] == x:\n",
    "            return mid\n",
    "         \n",
    "        # If element is smaller than mid, then it can only\n",
    "        # be present in left subarray\n",
    "        elif arr[mid] > x:\n",
    "            return binarySearch(arr, l, mid-1, x)\n",
    " \n",
    "        # Else the element can only be present in right subarray\n",
    "        else:\n",
    "            return binarySearch(arr, mid+1, r, x)\n",
    " \n",
    "    else:\n",
    "        # Element is not present in the array\n",
    "        return -1"
   ]
  },
  {
   "cell_type": "code",
   "execution_count": 25,
   "metadata": {
    "collapsed": false
   },
   "outputs": [],
   "source": [
    "def binarySearch_iter(arr,l,r,x):\n",
    "    while (l<=r):\n",
    "        mid = l + (r-l)/2\n",
    "        if arr[mid] == x:\n",
    "            return mid\n",
    "        elif arr[mid] > x: # x is \"to the left\" of mid and it's not at mid\n",
    "            r = mid-1\n",
    "        else: # x is \"to the right\" of mid and it's not mid\n",
    "            l=mid+1\n",
    "        \n",
    "    return -1 # x was not found at all"
   ]
  },
  {
   "cell_type": "code",
   "execution_count": 26,
   "metadata": {
    "collapsed": false
   },
   "outputs": [
    {
     "name": "stdout",
     "output_type": "stream",
     "text": [
      "3\n"
     ]
    }
   ],
   "source": [
    "print(binarySearch_iter(arr,0,len(arr)-1,x))"
   ]
  },
  {
   "cell_type": "markdown",
   "metadata": {},
   "source": [
    "Time complexity, time complexity of Binary Search is $T(n) = T(n/2)+c$, above recurrence can be solved using Recurrence, \n",
    "$O(\\log{n})$.  "
   ]
  },
  {
   "cell_type": "markdown",
   "metadata": {},
   "source": [
    "# Merge Sort "
   ]
  },
  {
   "cell_type": "markdown",
   "metadata": {},
   "source": [
    "http://www.geeksforgeeks.org/merge-sort/  \n",
    "\n",
    "http://interactivepython.org/runestone/static/pythonds/SortSearch/TheMergeSort.html  \n",
    "\n",
    "base case is sublist contains only 1 item or is empty.  \n",
    "\n",
    "If list has more than 1 item, split list and recursively invoke a merge sort on both halves.  \n",
    "\n",
    "Merging is the process of taking 2 smaller sorted lists and combining them together into a single sorted, new list.  "
   ]
  },
  {
   "cell_type": "code",
   "execution_count": 39,
   "metadata": {
    "collapsed": false
   },
   "outputs": [],
   "source": [
    "def mergeSort(arr):\n",
    "    print(\"splitting\",arr)\n",
    "    if len(arr) > 1: # then we continue to split\n",
    "        mid = len(arr) // 2\n",
    "        l_arr=arr[:mid] # left half of arr\n",
    "        r_arr = arr[mid:] # right half of arr\n",
    "        \n",
    "        mergeSort(l_arr)\n",
    "        mergeSort(r_arr)\n",
    "        \n",
    "        # now difficult part; how do we \"blend\" or merge together 2 sorted halves into 1 sorted list?\n",
    "        i=0 # index for l_arr, i=0,1...len(l_arr)-1\n",
    "        j=0 # index for r_arr, j=0,1...len(r_arr)-1\n",
    "        k=0 # index for arr,   k=0,1...len(arr)-1\n",
    "        while i<len(l_arr) and j < len(r_arr):\n",
    "            if l_arr[i] < r_arr[j]: # so l_arr into arr, and increment l_arr's index, i \n",
    "                arr[k] = l_arr[i]\n",
    "                i+=1 \n",
    "            else:\n",
    "                arr[k] = r_arr[j]\n",
    "                j+=1\n",
    "            k=k+1\n",
    "        # then deal with \"leftovers\"\n",
    "        while i < len(l_arr):\n",
    "            arr[k] = l_arr[i]\n",
    "            i+=1\n",
    "            k+=1\n",
    "        \n",
    "        while j < len(r_arr):\n",
    "            arr[k] = r_arr[j]\n",
    "            j+=1\n",
    "            k+=1\n",
    "    print(\"Merging\",arr)\n",
    "#    return arr\n",
    "\n",
    "        \n",
    "        "
   ]
  },
  {
   "cell_type": "code",
   "execution_count": 40,
   "metadata": {
    "collapsed": false
   },
   "outputs": [
    {
     "name": "stdout",
     "output_type": "stream",
     "text": [
      "('splitting', [54, 26, 93, 17, 77, 31, 44, 55, 20])\n",
      "('splitting', [54, 26, 93, 17])\n",
      "('splitting', [54, 26])\n",
      "('splitting', [54])\n",
      "('Merging', [54])\n",
      "('splitting', [26])\n",
      "('Merging', [26])\n",
      "('Merging', [26, 54])\n",
      "('splitting', [93, 17])\n",
      "('splitting', [93])\n",
      "('Merging', [93])\n",
      "('splitting', [17])\n",
      "('Merging', [17])\n",
      "('Merging', [17, 93])\n",
      "('Merging', [17, 26, 54, 93])\n",
      "('splitting', [77, 31, 44, 55, 20])\n",
      "('splitting', [77, 31])\n",
      "('splitting', [77])\n",
      "('Merging', [77])\n",
      "('splitting', [31])\n",
      "('Merging', [31])\n",
      "('Merging', [31, 77])\n",
      "('splitting', [44, 55, 20])\n",
      "('splitting', [44])\n",
      "('Merging', [44])\n",
      "('splitting', [55, 20])\n",
      "('splitting', [55])\n",
      "('Merging', [55])\n",
      "('splitting', [20])\n",
      "('Merging', [20])\n",
      "('Merging', [20, 55])\n",
      "('Merging', [20, 44, 55])\n",
      "('Merging', [20, 31, 44, 55, 77])\n",
      "('Merging', [17, 20, 26, 31, 44, 54, 55, 77, 93])\n"
     ]
    }
   ],
   "source": [
    "alist = [54,26,93,17,77,31,44,55,20]\n",
    "#alist_1 = mergeSort(alist)\n",
    "mergeSort(alist)"
   ]
  },
  {
   "cell_type": "code",
   "execution_count": 35,
   "metadata": {
    "collapsed": false
   },
   "outputs": [
    {
     "data": {
      "text/plain": [
       "[17, 20, 55, 44, 31, 77, 93, 26, 54]"
      ]
     },
     "execution_count": 35,
     "metadata": {},
     "output_type": "execute_result"
    }
   ],
   "source": [
    "alist"
   ]
  },
  {
   "cell_type": "code",
   "execution_count": 36,
   "metadata": {
    "collapsed": true
   },
   "outputs": [],
   "source": [
    "def mergeSort(alist):\n",
    "    print(\"Splitting \",alist)\n",
    "    if len(alist)>1:\n",
    "        mid = len(alist)//2\n",
    "        lefthalf = alist[:mid]\n",
    "        righthalf = alist[mid:]\n",
    "\n",
    "        mergeSort(lefthalf)\n",
    "        mergeSort(righthalf)\n",
    "\n",
    "        i=0\n",
    "        j=0\n",
    "        k=0\n",
    "        while i < len(lefthalf) and j < len(righthalf):\n",
    "            if lefthalf[i] < righthalf[j]:\n",
    "                alist[k]=lefthalf[i]\n",
    "                i=i+1\n",
    "            else:\n",
    "                alist[k]=righthalf[j]\n",
    "                j=j+1\n",
    "            k=k+1\n",
    "\n",
    "        while i < len(lefthalf):\n",
    "            alist[k]=lefthalf[i]\n",
    "            i=i+1\n",
    "            k=k+1\n",
    "\n",
    "        while j < len(righthalf):\n",
    "            alist[k]=righthalf[j]\n",
    "            j=j+1\n",
    "            k=k+1\n",
    "    print(\"Merging \",alist)"
   ]
  },
  {
   "cell_type": "code",
   "execution_count": 37,
   "metadata": {
    "collapsed": false
   },
   "outputs": [
    {
     "name": "stdout",
     "output_type": "stream",
     "text": [
      "('Splitting ', [54, 26, 93, 17, 77, 31, 44, 55, 20])\n",
      "('Splitting ', [54, 26, 93, 17])\n",
      "('Splitting ', [54, 26])\n",
      "('Splitting ', [54])\n",
      "('Merging ', [54])\n",
      "('Splitting ', [26])\n",
      "('Merging ', [26])\n",
      "('Merging ', [26, 54])\n",
      "('Splitting ', [93, 17])\n",
      "('Splitting ', [93])\n",
      "('Merging ', [93])\n",
      "('Splitting ', [17])\n",
      "('Merging ', [17])\n",
      "('Merging ', [17, 93])\n",
      "('Merging ', [17, 26, 54, 93])\n",
      "('Splitting ', [77, 31, 44, 55, 20])\n",
      "('Splitting ', [77, 31])\n",
      "('Splitting ', [77])\n",
      "('Merging ', [77])\n",
      "('Splitting ', [31])\n",
      "('Merging ', [31])\n",
      "('Merging ', [31, 77])\n",
      "('Splitting ', [44, 55, 20])\n",
      "('Splitting ', [44])\n",
      "('Merging ', [44])\n",
      "('Splitting ', [55, 20])\n",
      "('Splitting ', [55])\n",
      "('Merging ', [55])\n",
      "('Splitting ', [20])\n",
      "('Merging ', [20])\n",
      "('Merging ', [20, 55])\n",
      "('Merging ', [20, 44, 55])\n",
      "('Merging ', [20, 31, 44, 55, 77])\n",
      "('Merging ', [17, 20, 26, 31, 44, 54, 55, 77, 93])\n",
      "[17, 20, 26, 31, 44, 54, 55, 77, 93]\n"
     ]
    }
   ],
   "source": [
    "alist = [54,26,93,17,77,31,44,55,20]\n",
    "mergeSort(alist)\n",
    "print(alist)"
   ]
  },
  {
   "cell_type": "markdown",
   "metadata": {},
   "source": [
    "# Quick Sort "
   ]
  },
  {
   "cell_type": "code",
   "execution_count": 42,
   "metadata": {
    "collapsed": false
   },
   "outputs": [],
   "source": [
    "def quickSort(arr,l,r):\n",
    "    if l < r:\n",
    "        ip = partition(arr,l,r)\n",
    "        \n",
    "        quickSort(arr,l,ip-1)\n",
    "        quickSort(arr,ip+1,r)\n",
    "        \n",
    "def partition(arr,l,r):\n",
    "    # the goal of the partition process is to move items that are on the wrong side \n",
    "    # with respect to the pivot value, while also converging on the split point\n",
    "    i = (l-1) # index of smaller element\n",
    "    pivot = arr[r]\n",
    "    \n",
    "    for j in range(l,r):\n",
    "        if arr[j]<= pivot:\n",
    "            i +=1 # increment smaller element\n",
    "            arr[i],arr[j] = arr[j],arr[i] # swap\n",
    "    arr[i+1],arr[r] = arr[r],arr[i+1]  # position of i+1 is now the split point, \n",
    "    # pivot value can be exchanged with contents of split point\n",
    "    return (i+1)"
   ]
  },
  {
   "cell_type": "code",
   "execution_count": 43,
   "metadata": {
    "collapsed": false
   },
   "outputs": [
    {
     "name": "stdout",
     "output_type": "stream",
     "text": [
      "[1, 5, 7, 8, 9, 10]\n"
     ]
    }
   ],
   "source": [
    "arr = [10,7,8,9,1,5]\n",
    "n=len(arr)\n",
    "quickSort(arr,0,n-1)\n",
    "print(arr)"
   ]
  },
  {
   "cell_type": "code",
   "execution_count": null,
   "metadata": {
    "collapsed": true
   },
   "outputs": [],
   "source": []
  }
 ],
 "metadata": {
  "kernelspec": {
   "display_name": "Python 2",
   "language": "python",
   "name": "python2"
  },
  "language_info": {
   "codemirror_mode": {
    "name": "ipython",
    "version": 2
   },
   "file_extension": ".py",
   "mimetype": "text/x-python",
   "name": "python",
   "nbconvert_exporter": "python",
   "pygments_lexer": "ipython2",
   "version": "2.7.11"
  }
 },
 "nbformat": 4,
 "nbformat_minor": 0
}
