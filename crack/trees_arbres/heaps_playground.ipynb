{
 "cells": [
  {
   "cell_type": "code",
   "execution_count": 1,
   "metadata": {
    "collapsed": true
   },
   "outputs": [],
   "source": [
    "L = 32\n",
    "L_even = 16  \n",
    "L_odd  = 15  "
   ]
  },
  {
   "cell_type": "code",
   "execution_count": null,
   "metadata": {
    "collapsed": true
   },
   "outputs": [],
   "source": [
    "l = L_even\n",
    "p = l // 2\n"
   ]
  },
  {
   "cell_type": "code",
   "execution_count": 2,
   "metadata": {
    "collapsed": false
   },
   "outputs": [
    {
     "data": {
      "text/plain": [
       "[0, 1, 2, 3, 4]"
      ]
     },
     "execution_count": 2,
     "metadata": {},
     "output_type": "execute_result"
    }
   ],
   "source": [
    "[0,] + [1,2,3,4][:]"
   ]
  },
  {
   "cell_type": "code",
   "execution_count": 3,
   "metadata": {
    "collapsed": true
   },
   "outputs": [],
   "source": [
    "X = range(5)"
   ]
  },
  {
   "cell_type": "code",
   "execution_count": 4,
   "metadata": {
    "collapsed": false
   },
   "outputs": [
    {
     "data": {
      "text/plain": [
       "[0, 1, 2, 3, 4]"
      ]
     },
     "execution_count": 4,
     "metadata": {},
     "output_type": "execute_result"
    }
   ],
   "source": [
    "X"
   ]
  },
  {
   "cell_type": "code",
   "execution_count": 5,
   "metadata": {
    "collapsed": false
   },
   "outputs": [
    {
     "data": {
      "text/plain": [
       "[0, 1, 2, 3, 4]"
      ]
     },
     "execution_count": 5,
     "metadata": {},
     "output_type": "execute_result"
    }
   ],
   "source": [
    "X[:5]"
   ]
  },
  {
   "cell_type": "code",
   "execution_count": 6,
   "metadata": {
    "collapsed": false
   },
   "outputs": [
    {
     "data": {
      "text/plain": [
       "[0, 1, 2, 3]"
      ]
     },
     "execution_count": 6,
     "metadata": {},
     "output_type": "execute_result"
    }
   ],
   "source": [
    "X[:4]"
   ]
  },
  {
   "cell_type": "code",
   "execution_count": 7,
   "metadata": {
    "collapsed": false
   },
   "outputs": [
    {
     "data": {
      "text/plain": [
       "4"
      ]
     },
     "execution_count": 7,
     "metadata": {},
     "output_type": "execute_result"
    }
   ],
   "source": [
    "X[4]"
   ]
  },
  {
   "cell_type": "code",
   "execution_count": 1,
   "metadata": {
    "collapsed": false
   },
   "outputs": [
    {
     "name": "stdout",
     "output_type": "stream",
     "text": [
      "/home/topolo/PropD/CompPhys/crack/trees_arbres\n"
     ]
    }
   ],
   "source": [
    "import os, sys\n",
    "print(os.getcwd())"
   ]
  },
  {
   "cell_type": "code",
   "execution_count": 2,
   "metadata": {
    "collapsed": false
   },
   "outputs": [],
   "source": [
    "sys.path.insert(0, os.getcwd())"
   ]
  },
  {
   "cell_type": "code",
   "execution_count": 3,
   "metadata": {
    "collapsed": false
   },
   "outputs": [],
   "source": [
    "from heaps import minHeap, maxHeap, minheapsort, maxheapsort"
   ]
  },
  {
   "cell_type": "code",
   "execution_count": 4,
   "metadata": {
    "collapsed": false
   },
   "outputs": [
    {
     "name": "stdout",
     "output_type": "stream",
     "text": [
      "(5, 6, 2)\n",
      "([0, 5, 9, 1, 2, 3], 2)\n",
      "([0, 5, 2, 1, 9, 3], 1)\n",
      "([0, 1, 2, 5, 9, 3], 0)\n"
     ]
    }
   ],
   "source": [
    "theHeap = minHeap()\n",
    "theHeap.buildHeap([5,9,1,2,3])"
   ]
  },
  {
   "cell_type": "code",
   "execution_count": 5,
   "metadata": {
    "collapsed": false
   },
   "outputs": [
    {
     "name": "stdout",
     "output_type": "stream",
     "text": [
      "1\n"
     ]
    }
   ],
   "source": [
    "print( theHeap.delMin() )"
   ]
  },
  {
   "cell_type": "code",
   "execution_count": 6,
   "metadata": {
    "collapsed": false
   },
   "outputs": [
    {
     "name": "stdout",
     "output_type": "stream",
     "text": [
      "([0, 2, 3, 5, 9], 4)\n",
      "2\n",
      "([0, 3, 9, 5], 3)\n",
      "3\n",
      "([0, 5, 9], 2)\n",
      "5\n",
      "([0, 9], 1)\n",
      "9\n"
     ]
    }
   ],
   "source": [
    "print(theHeap.heaplst, theHeap.size)\n",
    "print( theHeap.delMin() )\n",
    "print(theHeap.heaplst, theHeap.size)\n",
    "print( theHeap.delMin() )\n",
    "print(theHeap.heaplst, theHeap.size)\n",
    "print( theHeap.delMin() )\n",
    "print(theHeap.heaplst, theHeap.size)\n",
    "print( theHeap.delMin() )"
   ]
  },
  {
   "cell_type": "code",
   "execution_count": 11,
   "metadata": {
    "collapsed": false
   },
   "outputs": [
    {
     "name": "stdout",
     "output_type": "stream",
     "text": [
      "([0, 9], 1)\n",
      "([0, 1, 9], 2)\n",
      "([0, 1, 9, 5], 3)\n"
     ]
    }
   ],
   "source": [
    "myHeap = minHeap()\n",
    "myHeap.insert(9)\n",
    "print(myHeap.heaplst,myHeap.size)\n",
    "myHeap.insert(1)\n",
    "print(myHeap.heaplst,myHeap.size)\n",
    "myHeap.insert(5)\n",
    "print(myHeap.heaplst,myHeap.size)"
   ]
  },
  {
   "cell_type": "code",
   "execution_count": 12,
   "metadata": {
    "collapsed": false
   },
   "outputs": [
    {
     "name": "stdout",
     "output_type": "stream",
     "text": [
      "1\n",
      "([0, 5, 9], 2)\n"
     ]
    }
   ],
   "source": [
    "print( myHeap.delMin() )\n",
    "print(myHeap.heaplst, myHeap.size)"
   ]
  },
  {
   "cell_type": "code",
   "execution_count": 13,
   "metadata": {
    "collapsed": false
   },
   "outputs": [
    {
     "name": "stdout",
     "output_type": "stream",
     "text": [
      "([0, 2, 9, 5], 3)\n",
      "([0, 2, 7, 5, 9], 4)\n"
     ]
    }
   ],
   "source": [
    "myHeap.insert(2)\n",
    "print(myHeap.heaplst,myHeap.size)\n",
    "myHeap.insert(7)\n",
    "print(myHeap.heaplst,myHeap.size)"
   ]
  },
  {
   "cell_type": "code",
   "execution_count": 14,
   "metadata": {
    "collapsed": false
   },
   "outputs": [
    {
     "name": "stdout",
     "output_type": "stream",
     "text": [
      "2\n",
      "([0, 5, 7, 9], 3)\n",
      "5\n",
      "([0, 7, 9], 2)\n"
     ]
    }
   ],
   "source": [
    "print( myHeap.delMin() )\n",
    "print(myHeap.heaplst, myHeap.size)\n",
    "print( myHeap.delMin() )\n",
    "print(myHeap.heaplst, myHeap.size)"
   ]
  },
  {
   "cell_type": "code",
   "execution_count": 15,
   "metadata": {
    "collapsed": false
   },
   "outputs": [
    {
     "name": "stdout",
     "output_type": "stream",
     "text": [
      "(4, 5, 2)\n",
      "([0, 9, 1, 8, 1], 2)\n",
      "([0, 9, 1, 8, 1], 1)\n",
      "([0, 1, 1, 8, 9], 0)\n",
      "4\n",
      "1\n",
      "([0, 1, 9, 8], 3)\n"
     ]
    }
   ],
   "source": [
    "myHeap = minHeap()\n",
    "myHeap.buildHeap([9,1,8,1])\n",
    "print(myHeap.size)\n",
    "print(myHeap.delMin())\n",
    "print(myHeap.heaplst,myHeap.size)"
   ]
  },
  {
   "cell_type": "code",
   "execution_count": 16,
   "metadata": {
    "collapsed": false
   },
   "outputs": [
    {
     "name": "stdout",
     "output_type": "stream",
     "text": [
      "1\n",
      "([0, 8, 9], 2)\n"
     ]
    }
   ],
   "source": [
    "print(myHeap.delMin())\n",
    "print(myHeap.heaplst,myHeap.size)"
   ]
  },
  {
   "cell_type": "code",
   "execution_count": 17,
   "metadata": {
    "collapsed": false
   },
   "outputs": [
    {
     "name": "stdout",
     "output_type": "stream",
     "text": [
      "8\n",
      "([0, 9], 1)\n"
     ]
    }
   ],
   "source": [
    "print(myHeap.delMin())\n",
    "print(myHeap.heaplst,myHeap.size)"
   ]
  },
  {
   "cell_type": "code",
   "execution_count": 18,
   "metadata": {
    "collapsed": false
   },
   "outputs": [
    {
     "name": "stdout",
     "output_type": "stream",
     "text": [
      "(5, 6, 2)\n",
      "([0, 9, 5, 6, 2, 3], 2)\n",
      "([0, 9, 2, 6, 5, 3], 1)\n",
      "([0, 2, 3, 6, 5, 9], 0)\n",
      "2\n",
      "([0, 3, 5, 6, 9], 4)\n",
      "3\n",
      "([0, 5, 9, 6], 3)\n",
      "5\n",
      "([0, 6, 9], 2)\n",
      "6\n",
      "([0, 9], 1)\n"
     ]
    }
   ],
   "source": [
    "myHeap = minHeap()\n",
    "myHeap.buildHeap([9,5,6,2,3])\n",
    "print(myHeap.delMin())\n",
    "print(myHeap.heaplst,myHeap.size)\n",
    "print(myHeap.delMin())\n",
    "print(myHeap.heaplst,myHeap.size)\n",
    "print(myHeap.delMin())\n",
    "print(myHeap.heaplst,myHeap.size)\n",
    "print(myHeap.delMin())\n",
    "print(myHeap.heaplst,myHeap.size)"
   ]
  },
  {
   "cell_type": "code",
   "execution_count": 4,
   "metadata": {
    "collapsed": false
   },
   "outputs": [
    {
     "name": "stdout",
     "output_type": "stream",
     "text": [
      "(5, 6, 2)\n",
      "([0, 9, 5, 6, 2, 3], 2)\n",
      "([0, 9, 2, 6, 5, 3], 1)\n",
      "([0, 2, 3, 6, 5, 9], 0)\n",
      "[2, 3, 5, 6, 9]\n"
     ]
    }
   ],
   "source": [
    "print( minheapsort([9,5,6,2,3]) )"
   ]
  },
  {
   "cell_type": "code",
   "execution_count": 6,
   "metadata": {
    "collapsed": false
   },
   "outputs": [
    {
     "name": "stdout",
     "output_type": "stream",
     "text": [
      "None\n"
     ]
    }
   ],
   "source": [
    "print( [2,3,5,6,8].reverse() )"
   ]
  },
  {
   "cell_type": "code",
   "execution_count": 7,
   "metadata": {
    "collapsed": true
   },
   "outputs": [],
   "source": [
    "class MaxHeap:\n",
    "    \"\"\" @class MaxHeap\n",
    "        @notes \n",
    "        given node i\n",
    "        parent of i is i // 2\n",
    "        p(i) = i / 2\n",
    "        left child of i, l \n",
    "        l(i) = 2*i\n",
    "        right child of i, r \n",
    "        r(i) = 2*i + 1 \n",
    "        completely balanced tree, if i is parent, it can have no right child, but at least a left child \n",
    "        Consider total number of nodes N.  \n",
    "        i=h= N/2 will be a parent \n",
    "        but N/2+1, N/2+2 are for sure children  \n",
    "        max heap property: A(p(i)) >= A(i)\n",
    "    \"\"\"\n",
    "    def __init__(self):\n",
    "        self.A = [0] # 1-based counting\n",
    "        self.N = 0 # L is size or length \n",
    "        \n",
    "    def maxChild(self,i):\n",
    "        l = 2*i\n",
    "        r = 2*i+1\n",
    "        N = self.N\n",
    "        if (r > N): \n",
    "            return l\n",
    "        else:\n",
    "            if self.A[r] >self.A[l]:\n",
    "                return r\n",
    "            else:\n",
    "                return l\n",
    "    \n",
    "    def percdown(self,i):\n",
    "        l = 2*i\n",
    "        N = self.N\n",
    "        while( l<= N):\n",
    "            mc = self.maxChild(i)\n",
    "            if self.A[i] < self.A[mc]: # swap to enforce max heap property\n",
    "                self.A[i], self.A[mc] = self.A[mc], self.A[i]\n",
    "            i = mc\n",
    "            l = 2*i\n",
    "        \n",
    "    def buildHeap(self,X):\n",
    "        self.A = [0,] + X[:]\n",
    "        L = len(X)\n",
    "        self.N = L\n",
    "        i = L//2 # very last parent, L/2+1, L/2+2 are leafs\n",
    "        while ( i > 0):\n",
    "            self.percdown(i)\n",
    "            i=i-1\n",
    "    \n",
    "    def delmax(self):\n",
    "        maxval = self.A[1]\n",
    "        N = self.N\n",
    "        self.A[1] = self.A[N] # 1-based counting\n",
    "        self.A.pop()\n",
    "        self.N = N-1\n",
    "        self.percdown(1)\n",
    "        \n",
    "        return maxval\n",
    "        \n",
    "                \n",
    "        "
   ]
  },
  {
   "cell_type": "code",
   "execution_count": 8,
   "metadata": {
    "collapsed": true
   },
   "outputs": [],
   "source": [
    "maxheap1 = MaxHeap()\n",
    "maxheap1.buildHeap( [12,11,13,5,6,7])\n"
   ]
  },
  {
   "cell_type": "code",
   "execution_count": 9,
   "metadata": {
    "collapsed": false
   },
   "outputs": [
    {
     "name": "stdout",
     "output_type": "stream",
     "text": [
      "6\n"
     ]
    }
   ],
   "source": [
    "print(maxheap1.N)\n",
    "sortedlst = []\n",
    "for _ in range(maxheap1.N):\n",
    "    sortedlst.append( maxheap1.delmax() )"
   ]
  },
  {
   "cell_type": "code",
   "execution_count": 14,
   "metadata": {
    "collapsed": false
   },
   "outputs": [
    {
     "name": "stdout",
     "output_type": "stream",
     "text": [
      "[5, 6, 7, 11, 12, 13]\n",
      "[13, 12, 11, 7, 6, 5]\n"
     ]
    }
   ],
   "source": [
    "print(sortedlst)\n",
    "print(list( reversed( sortedlst ) ) )\n"
   ]
  },
  {
   "cell_type": "code",
   "execution_count": null,
   "metadata": {
    "collapsed": true
   },
   "outputs": [],
   "source": []
  }
 ],
 "metadata": {
  "kernelspec": {
   "display_name": "Python 2",
   "language": "python",
   "name": "python2"
  },
  "language_info": {
   "codemirror_mode": {
    "name": "ipython",
    "version": 2
   },
   "file_extension": ".py",
   "mimetype": "text/x-python",
   "name": "python",
   "nbconvert_exporter": "python",
   "pygments_lexer": "ipython2",
   "version": "2.7.11"
  }
 },
 "nbformat": 4,
 "nbformat_minor": 0
}
