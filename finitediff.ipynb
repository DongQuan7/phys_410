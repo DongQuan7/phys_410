{
 "cells": [
  {
   "cell_type": "code",
   "execution_count": 108,
   "metadata": {
    "collapsed": false
   },
   "outputs": [],
   "source": [
    "import sympy\n",
    "from sympy import init_printing, pprint, latex \n",
    "from sympy import binomial, Function, factorial, Symbol, symbols, Sum, S  \n",
    "# S is for SingletonRegistry\n",
    "from sympy import Rational as Rat\n",
    "from sympy import Matrix, solve_linear_system"
   ]
  },
  {
   "cell_type": "markdown",
   "metadata": {},
   "source": [
    "EY : 20160627 I have no idea what `sympy.SingletonRegistry` means despite the [documentation for SingletonRegistry](http://docs.sympy.org/0.7.1/_modules/sympy/core/singleton.html), which is sparse at best.  "
   ]
  },
  {
   "cell_type": "code",
   "execution_count": 30,
   "metadata": {
    "collapsed": true
   },
   "outputs": [],
   "source": [
    "init_printing() # LaTeX printing "
   ]
  },
  {
   "cell_type": "code",
   "execution_count": 35,
   "metadata": {
    "collapsed": true
   },
   "outputs": [],
   "source": [
    "n = Symbol('n',integer=True,positive=True)\n",
    "i = Symbol('i',integer=True,positive=True)\n",
    "j = Symbol('j',integer=True,positive=True)\n",
    "x,h,x_0 = symbols('x h x_0',real=True)\n",
    "f = Function('f')"
   ]
  },
  {
   "cell_type": "code",
   "execution_count": 8,
   "metadata": {
    "collapsed": false
   },
   "outputs": [
    {
     "data": {
      "text/plain": [
       "120"
      ]
     },
     "execution_count": 8,
     "metadata": {},
     "output_type": "execute_result"
    }
   ],
   "source": [
    "factorial(5)"
   ]
  },
  {
   "cell_type": "code",
   "execution_count": 18,
   "metadata": {
    "collapsed": false
   },
   "outputs": [],
   "source": [
    "C_n = Sum((-1)**i*binomial(n,i),(i,1,n))\n"
   ]
  },
  {
   "cell_type": "code",
   "execution_count": 24,
   "metadata": {
    "collapsed": false
   },
   "outputs": [
    {
     "data": {
      "text/plain": [
       "-1.00000000000000"
      ]
     },
     "execution_count": 24,
     "metadata": {},
     "output_type": "execute_result"
    }
   ],
   "source": [
    "(C_n.subs(n,3)).evalf()"
   ]
  },
  {
   "cell_type": "markdown",
   "metadata": {},
   "source": [
    "cf. From *stackexchange* [How to do a symbolic taylor expansion of an unknown function $f(x)$ using sympy](http://stackoverflow.com/questions/16869587/how-to-do-a-symbolic-taylor-expansion-of-an-unknown-function-fx-using-sympy)"
   ]
  },
  {
   "cell_type": "code",
   "execution_count": 78,
   "metadata": {
    "collapsed": false
   },
   "outputs": [
    {
     "data": {
      "text/latex": [
       "$$f{\\left (x_{0} \\right )} + \\left(x - x_{0}\\right) \\left. \\frac{d}{d \\xi_{1}} f{\\left (\\xi_{1} \\right )} \\right|_{\\substack{ \\xi_{1}=x_{0} }} + \\frac{1}{2} \\left(x - x_{0}\\right)^{2} \\left. \\frac{d^{2}}{d \\xi_{1}^{2}}  f{\\left (\\xi_{1} \\right )} \\right|_{\\substack{ \\xi_{1}=x_{0} }} + \\mathcal{O}\\left(\\left(x - x_{0}\\right)^{3}; x\\rightarrowx_{0}\\right)$$"
      ],
      "text/plain": [
       "                                                ⎛  2        ⎞│                \n",
       "                                              2 ⎜ d         ⎟│                \n",
       "                                      (x - x₀) ⋅⎜────(f(ξ₁))⎟│                \n",
       "                                                ⎜   2       ⎟│                \n",
       "                 ⎛ d        ⎞│                  ⎝dξ₁        ⎠│ξ₁=x₀    ⎛      \n",
       "f(x₀) + (x - x₀)⋅⎜───(f(ξ₁))⎟│      + ───────────────────────────── + O⎝(x - x\n",
       "                 ⎝dξ₁       ⎠│ξ₁=x₀                 2                         \n",
       "\n",
       "            \n",
       "            \n",
       "            \n",
       "            \n",
       "  3        ⎞\n",
       "₀) ; x → x₀⎠\n",
       "            "
      ]
     },
     "execution_count": 78,
     "metadata": {},
     "output_type": "execute_result"
    }
   ],
   "source": [
    "f(x).series(x, x0=x_0, n=3)"
   ]
  },
  {
   "cell_type": "code",
   "execution_count": 32,
   "metadata": {
    "collapsed": false
   },
   "outputs": [
    {
     "name": "stdout",
     "output_type": "stream",
     "text": [
      "                                              ⎛  2        ⎞│                  \n",
      "                                            2 ⎜ d         ⎟│                  \n",
      "                                    (-h + x) ⋅⎜────(f(ξ₁))⎟│                  \n",
      "                                              ⎜   2       ⎟│                  \n",
      "                ⎛ d        ⎞│                 ⎝dξ₁        ⎠│ξ₁=h    ⎛        3\n",
      "f(h) + (-h + x)⋅⎜───(f(ξ₁))⎟│     + ──────────────────────────── + O⎝(-h + x) \n",
      "                ⎝dξ₁       ⎠│ξ₁=h                2                            \n",
      "\n",
      "        \n",
      "        \n",
      "        \n",
      "        \n",
      "       ⎞\n",
      "; x → h⎠\n",
      "        \n"
     ]
    }
   ],
   "source": [
    "pprint( f(x).series(x, x0=h, n=3) )"
   ]
  },
  {
   "cell_type": "code",
   "execution_count": 33,
   "metadata": {
    "collapsed": false
   },
   "outputs": [
    {
     "data": {
      "text/plain": [
       "'f{\\\\left (h \\\\right )} + \\\\left(- h + x\\\\right) \\\\left. \\\\frac{d}{d \\\\xi_{1}} f{\\\\left (\\\\xi_{1} \\\\right )} \\\\right|_{\\\\substack{ \\\\xi_{1}=h }} + \\\\frac{1}{2} \\\\left(- h + x\\\\right)^{2} \\\\left. \\\\frac{d^{2}}{d \\\\xi_{1}^{2}}  f{\\\\left (\\\\xi_{1} \\\\right )} \\\\right|_{\\\\substack{ \\\\xi_{1}=h }} + \\\\mathcal{O}\\\\left(\\\\left(- h + x\\\\right)^{3}; x\\\\rightarrowh\\\\right)'"
      ]
     },
     "execution_count": 33,
     "metadata": {},
     "output_type": "execute_result"
    }
   ],
   "source": [
    "latex(f(x).series(x, x0=h, n=3) )"
   ]
  },
  {
   "cell_type": "code",
   "execution_count": 37,
   "metadata": {
    "collapsed": false
   },
   "outputs": [],
   "source": [
    "FW = f(x+h).series(x+h, x0=x_0, n=3)\n",
    "FW = FW.subs(x-x_0,0)"
   ]
  },
  {
   "cell_type": "code",
   "execution_count": 38,
   "metadata": {
    "collapsed": false
   },
   "outputs": [
    {
     "data": {
      "image/png": "[encoded data removed]",
      "text/latex": [
       "$$f{\\left (x_{0} \\right )} + h \\left. \\frac{d}{d \\xi_{1}} f{\\left (\\xi_{1} \\right )} \\right|_{\\substack{ \\xi_{1}=x_{0} }} + \\frac{h^{2}}{2} \\left. \\frac{d^{2}}{d \\xi_{1}^{2}}  f{\\left (\\xi_{1} \\right )} \\right|_{\\substack{ \\xi_{1}=x_{0} }} + \\mathcal{O}\\left(h^{3} + h^{2} x + h x^{2} + x^{3}; \\left ( h, \\quad x\\right )\\rightarrow\\left ( 0, \\quad 0\\right )\\right)$$"
      ],
      "text/plain": [
       "                                  ⎛  2        ⎞│                              \n",
       "                                2 ⎜ d         ⎟│                              \n",
       "                               h ⋅⎜────(f(ξ₁))⎟│                              \n",
       "                                  ⎜   2       ⎟│                              \n",
       "          ⎛ d        ⎞│           ⎝dξ₁        ⎠│ξ₁=x₀    ⎛ 3    2        2    \n",
       "f(x₀) + h⋅⎜───(f(ξ₁))⎟│      + ────────────────────── + O⎝h  + h ⋅x + h⋅x  + x\n",
       "          ⎝dξ₁       ⎠│ξ₁=x₀             2                                    \n",
       "\n",
       "                   \n",
       "                   \n",
       "                   \n",
       "                   \n",
       "3                 ⎞\n",
       " ; (h, x) → (0, 0)⎠\n",
       "                   "
      ]
     },
     "execution_count": 38,
     "metadata": {},
     "output_type": "execute_result"
    }
   ],
   "source": [
    "FW"
   ]
  },
  {
   "cell_type": "code",
   "execution_count": 42,
   "metadata": {
    "collapsed": false
   },
   "outputs": [
    {
     "data": {
      "image/png": "[encoded data removed]",
      "text/latex": [
       "$$h \\left. \\frac{d}{d \\xi_{1}} f{\\left (\\xi_{1} \\right )} \\right|_{\\substack{ \\xi_{1}=x_{0} }}$$"
      ],
      "text/plain": [
       "  ⎛ d        ⎞│     \n",
       "h⋅⎜───(f(ξ₁))⎟│     \n",
       "  ⎝dξ₁       ⎠│ξ₁=x₀"
      ]
     },
     "execution_count": 42,
     "metadata": {},
     "output_type": "execute_result"
    }
   ],
   "source": [
    "FW.args[0]"
   ]
  },
  {
   "cell_type": "code",
   "execution_count": 55,
   "metadata": {
    "collapsed": false
   },
   "outputs": [
    {
     "data": {
      "image/png": "[encoded data removed]",
      "text/latex": [
       "$$2 f{\\left (x_{0} \\right )} + h^{2} \\left. \\frac{d^{2}}{d \\xi_{1}^{2}}  f{\\left (\\xi_{1} \\right )} \\right|_{\\substack{ \\xi_{1}=x_{0} }} + \\mathcal{O}\\left(h^{3} + h^{2} x + h x^{2} + x^{3}; \\left ( h, \\quad x\\right )\\rightarrow\\left ( 0, \\quad 0\\right )\\right)$$"
      ],
      "text/plain": [
       "             ⎛  2        ⎞│                                                 \n",
       "           2 ⎜ d         ⎟│         ⎛ 3    2        2    3                 ⎞\n",
       "2⋅f(x₀) + h ⋅⎜────(f(ξ₁))⎟│      + O⎝h  + h ⋅x + h⋅x  + x ; (h, x) → (0, 0)⎠\n",
       "             ⎜   2       ⎟│                                                 \n",
       "             ⎝dξ₁        ⎠│ξ₁=x₀                                            "
      ]
     },
     "execution_count": 55,
     "metadata": {},
     "output_type": "execute_result"
    }
   ],
   "source": [
    "(f(x+h).series(x+h,x0=x_0,n=3)+f(x-h).series(x-h,x0=x_0,n=3)).subs(x-x_0,0)"
   ]
  },
  {
   "cell_type": "code",
   "execution_count": 62,
   "metadata": {
    "collapsed": false
   },
   "outputs": [
    {
     "data": {
      "image/png": "[encoded data removed]",
      "text/latex": [
       "$$4 f{\\left (x_{0} \\right )} + 5 h^{2} \\left. \\frac{d^{2}}{d \\xi_{1}^{2}}  f{\\left (\\xi_{1} \\right )} \\right|_{\\substack{ \\xi_{1}=x_{0} }} + \\mathcal{O}\\left(h^{3} + h^{2} x + h x^{2} + x^{3}; \\left ( h, \\quad x\\right )\\rightarrow\\left ( 0, \\quad 0\\right )\\right)$$"
      ],
      "text/plain": [
       "               ⎛  2        ⎞│                                                 \n",
       "             2 ⎜ d         ⎟│         ⎛ 3    2        2    3                 ⎞\n",
       "4⋅f(x₀) + 5⋅h ⋅⎜────(f(ξ₁))⎟│      + O⎝h  + h ⋅x + h⋅x  + x ; (h, x) → (0, 0)⎠\n",
       "               ⎜   2       ⎟│                                                 \n",
       "               ⎝dξ₁        ⎠│ξ₁=x₀                                            "
      ]
     },
     "execution_count": 62,
     "metadata": {},
     "output_type": "execute_result"
    }
   ],
   "source": [
    "( f(x+h).series(x+h,x0=x_0,n=3) + f(x-h).series(x-h,x0=x_0,n=3) + \\\n",
    "f(x+2*h).series(x+2*h,x0=x_0,n=3) + f(x-2*h).series(x-2*h,x0=x_0,n=3) ).subs(x-x_0,0)"
   ]
  },
  {
   "cell_type": "code",
   "execution_count": 63,
   "metadata": {
    "collapsed": false
   },
   "outputs": [
    {
     "data": {
      "image/png": "[encoded data removed]",
      "text/latex": [
       "$$6 h \\left. \\frac{d}{d \\xi_{1}} f{\\left (\\xi_{1} \\right )} \\right|_{\\substack{ \\xi_{1}=x_{0} }} + \\mathcal{O}\\left(h^{3} + h^{2} x + h x^{2} + x^{3}; \\left ( h, \\quad x\\right )\\rightarrow\\left ( 0, \\quad 0\\right )\\right)$$"
      ],
      "text/plain": [
       "    ⎛ d        ⎞│         ⎛ 3    2        2    3                 ⎞\n",
       "6⋅h⋅⎜───(f(ξ₁))⎟│      + O⎝h  + h ⋅x + h⋅x  + x ; (h, x) → (0, 0)⎠\n",
       "    ⎝dξ₁       ⎠│ξ₁=x₀                                            "
      ]
     },
     "execution_count": 63,
     "metadata": {},
     "output_type": "execute_result"
    }
   ],
   "source": [
    "( f(x+h).series(x+h,x0=x_0,n=3) - f(x-h).series(x-h,x0=x_0,n=3) + \\\n",
    "f(x+2*h).series(x+2*h,x0=x_0,n=3) - f(x-2*h).series(x-2*h,x0=x_0,n=3) ).subs(x-x_0,0)"
   ]
  },
  {
   "cell_type": "markdown",
   "metadata": {},
   "source": [
    "finite-difference for the 1st order derivative ($n=1$), to the $p$th-order, $p=8$"
   ]
  },
  {
   "cell_type": "code",
   "execution_count": 77,
   "metadata": {
    "collapsed": false
   },
   "outputs": [
    {
     "data": {
      "image/png": "[encoded data removed]",
      "text/latex": [
       "$$h \\left. \\frac{d}{d \\xi_{1}} f{\\left (\\xi_{1} \\right )} \\right|_{\\substack{ \\xi_{1}=x_{0} }} + \\mathcal{O}\\left(h^{8} + h^{7} x + h^{6} x^{2} + h^{5} x^{3} + h^{4} x^{4} + h^{3} x^{5} + h^{2} x^{6} + h x^{7} + x^{8}; \\left ( h, \\quad x\\right )\\rightarrow\\left ( 0, \\quad 0\\right )\\right)$$"
      ],
      "text/plain": [
       "  ⎛ d        ⎞│         ⎛ 8    7      6  2    5  3    4  4    3  5    2  6    \n",
       "h⋅⎜───(f(ξ₁))⎟│      + O⎝h  + h ⋅x + h ⋅x  + h ⋅x  + h ⋅x  + h ⋅x  + h ⋅x  + h\n",
       "  ⎝dξ₁       ⎠│ξ₁=x₀                                                          \n",
       "\n",
       "  7    8                 ⎞\n",
       "⋅x  + x ; (h, x) → (0, 0)⎠\n",
       "                          "
      ]
     },
     "execution_count": 77,
     "metadata": {},
     "output_type": "execute_result"
    }
   ],
   "source": [
    "p = 8\n",
    "( Rat(4,5)*(f(x+h).series(x+h,x0=x_0,n=p) - f(x-h).series(x-h,x0=x_0,n=p)) + \\\n",
    "Rat(-1,5)*(f(x+2*h).series(x+2*h,x0=x_0,n=p)-f(x-2*h).series(x-2*h,x0=x_0,n=p)) + \\\n",
    "Rat(4,105)*(f(x+3*h).series(x+3*h,x0=x_0,n=p)-f(x-3*h).series(x-3*h,x0=x_0,n=p)) + \\\n",
    "Rat(-1,280)*(f(x+4*h).series(x+4*h,x0=x_0,n=p)-f(x-4*h).series(x-4*h,x0=x_0,n=p)) ).subs(x-x_0,0)"
   ]
  },
  {
   "cell_type": "code",
   "execution_count": 74,
   "metadata": {
    "collapsed": false
   },
   "outputs": [
    {
     "data": {
      "image/png": "[encoded data removed]",
      "text/latex": [
       "$$\\frac{4}{5}$$"
      ],
      "text/plain": [
       "4/5"
      ]
     },
     "execution_count": 74,
     "metadata": {},
     "output_type": "execute_result"
    }
   ],
   "source": [
    "Rat(4,5)"
   ]
  },
  {
   "cell_type": "markdown",
   "metadata": {},
   "source": [
    "### *centered difference approximation*   \n",
    "  \n",
    "$$-i_{\\text{min}} = (d+p-1)/2 $$  \n",
    "$$i_{\\text{max}} = \\lceil (d+p-1)/2 \\rceil $$\n",
    "\n",
    "cf. [Derivative Approximation by Finite Differences\n",
    "David Eberly](http://math.nyu.edu/~atm262/fall06/compmethods/a1/DerivativesApproximationByFiniteDifferences.pdf)  "
   ]
  },
  {
   "cell_type": "code",
   "execution_count": 88,
   "metadata": {
    "collapsed": false
   },
   "outputs": [
    {
     "data": {
      "image/png": "[encoded data removed]",
      "text/latex": [
       "$$\\left ( 4, \\quad \\frac{9}{2}\\right )$$"
      ],
      "text/plain": [
       "(4, 9/2)"
      ]
     },
     "execution_count": 88,
     "metadata": {},
     "output_type": "execute_result"
    }
   ],
   "source": [
    "d = 2 \n",
    "p = 8\n",
    "sympy.floor(Rat(d+p-1,2)), Rat((d+p-1),2)"
   ]
  },
  {
   "cell_type": "markdown",
   "metadata": {},
   "source": [
    "First order derivatives $d=1$; let's aim for $-i_{\\text{min}} = i_{\\text{max}} = 2$ so we only need 2 neighbor values."
   ]
  },
  {
   "cell_type": "code",
   "execution_count": 104,
   "metadata": {
    "collapsed": false
   },
   "outputs": [
    {
     "data": {
      "image/png": "[encoded data removed]",
      "text/latex": [
       "$$\\left ( 2, \\quad \\frac{5}{2}\\right )$$"
      ],
      "text/plain": [
       "(2, 5/2)"
      ]
     },
     "execution_count": 104,
     "metadata": {},
     "output_type": "execute_result"
    }
   ],
   "source": [
    "d = 1 \n",
    "p = 5\n",
    "sympy.floor(Rat(d+p-1,2)), Rat((d+p-1),2)"
   ]
  },
  {
   "cell_type": "code",
   "execution_count": 106,
   "metadata": {
    "collapsed": false
   },
   "outputs": [
    {
     "data": {
      "image/png": "[encoded data removed]",
      "text/latex": [
       "$$\\left ( 2, \\quad \\frac{5}{2}\\right )$$"
      ],
      "text/plain": [
       "(2, 5/2)"
      ]
     },
     "execution_count": 106,
     "metadata": {},
     "output_type": "execute_result"
    }
   ],
   "source": [
    "d = 2 \n",
    "p = 4\n",
    "sympy.floor(Rat(d+p-1,2)), Rat((d+p-1),2)"
   ]
  },
  {
   "cell_type": "code",
   "execution_count": 147,
   "metadata": {
    "collapsed": true
   },
   "outputs": [],
   "source": [
    "C_1,C_2,C_3,C_4 = symbols('C_1 C_2 C_3 C_4', integer=True)"
   ]
  },
  {
   "cell_type": "markdown",
   "metadata": {},
   "source": [
    "From `sympy` documentation, [Matrices (linear algebra), Basic Manipulation](http://docs.sympy.org/0.7.2/modules/matrices/matrices.html), I learned to construct matrices with the `lambda` function"
   ]
  },
  {
   "cell_type": "code",
   "execution_count": 117,
   "metadata": {
    "collapsed": false
   },
   "outputs": [
    {
     "data": {
      "image/png": "[encoded data removed]",
      "text/latex": [
       "$$\\left[\\begin{matrix}1 & 8 & 27 & 64\\\\1 & 32 & 243 & 1024\\\\1 & 128 & 2187 & 16384\\end{matrix}\\right]$$"
      ],
      "text/plain": [
       "⎡1   8    27    64  ⎤\n",
       "⎢                   ⎥\n",
       "⎢1  32   243   1024 ⎥\n",
       "⎢                   ⎥\n",
       "⎣1  128  2187  16384⎦"
      ]
     },
     "execution_count": 117,
     "metadata": {},
     "output_type": "execute_result"
    }
   ],
   "source": [
    "Matrix(3,4, lambda i,j: (j+1)**(2*(i+1)+1))"
   ]
  },
  {
   "cell_type": "code",
   "execution_count": 116,
   "metadata": {
    "collapsed": false
   },
   "outputs": [
    {
     "data": {
      "image/png": "[encoded data removed]",
      "text/latex": [
       "$$\\left[\\begin{matrix}2 & 4 & 6 & 8\\end{matrix}\\right]$$"
      ],
      "text/plain": [
       "[2  4  6  8]"
      ]
     },
     "execution_count": 116,
     "metadata": {},
     "output_type": "execute_result"
    }
   ],
   "source": [
    "Matrix(1,4,lambda i,j: 2*(j+1))"
   ]
  },
  {
   "cell_type": "code",
   "execution_count": 138,
   "metadata": {
    "collapsed": false
   },
   "outputs": [],
   "source": [
    "C_nu_d1p6 = sympy.zeros(4,5) # d = 1, p = 6\n",
    "C_nu_d1p6[:3,:4] = Matrix(3,4,lambda i,j: (j+1)**(2*(i+1)+1))\n",
    "C_nu_d1p6[3,:4] = Matrix(1,4,lambda i,j: 2*(j+1))\n",
    "C_nu_d1p6[3,4] = Rat(1)"
   ]
  },
  {
   "cell_type": "code",
   "execution_count": 139,
   "metadata": {
    "collapsed": false
   },
   "outputs": [
    {
     "data": {
      "image/png": "[encoded data removed]",
      "text/latex": [
       "$$\\left[\\begin{matrix}1 & 8 & 27 & 64 & 0\\\\1 & 32 & 243 & 1024 & 0\\\\1 & 128 & 2187 & 16384 & 0\\\\2 & 4 & 6 & 8 & 1\\end{matrix}\\right]$$"
      ],
      "text/plain": [
       "⎡1   8    27    64    0⎤\n",
       "⎢                      ⎥\n",
       "⎢1  32   243   1024   0⎥\n",
       "⎢                      ⎥\n",
       "⎢1  128  2187  16384  0⎥\n",
       "⎢                      ⎥\n",
       "⎣2   4    6      8    1⎦"
      ]
     },
     "execution_count": 139,
     "metadata": {},
     "output_type": "execute_result"
    }
   ],
   "source": [
    "C_nu_d1p6"
   ]
  },
  {
   "cell_type": "code",
   "execution_count": 148,
   "metadata": {
    "collapsed": false
   },
   "outputs": [
    {
     "data": {
      "image/png": "[encoded data removed]",
      "text/latex": [
       "$$\\left \\{ C_{1} : \\frac{4}{5}, \\quad C_{2} : - \\frac{1}{5}, \\quad C_{3} : \\frac{4}{105}, \\quad C_{4} : - \\frac{1}{280}\\right \\}$$"
      ],
      "text/plain": [
       "{C₁: 4/5, C₂: -1/5, C₃: 4/105, C₄: -1/280}"
      ]
     },
     "execution_count": 148,
     "metadata": {},
     "output_type": "execute_result"
    }
   ],
   "source": [
    "solve_linear_system( C_nu_d1p6, C_1,C_2,C_3,C_4 )"
   ]
  },
  {
   "cell_type": "markdown",
   "metadata": {},
   "source": [
    "Also, another way is this:"
   ]
  },
  {
   "cell_type": "code",
   "execution_count": 142,
   "metadata": {
    "collapsed": false
   },
   "outputs": [
    {
     "data": {
      "image/png": "[encoded data removed]",
      "text/latex": [
       "$$\\left[\\begin{matrix}1 & 8 & 27 & 64\\\\1 & 32 & 243 & 1024\\\\1 & 128 & 2187 & 16384\\\\2 & 4 & 6 & 8\\end{matrix}\\right]$$"
      ],
      "text/plain": [
       "⎡1   8    27    64  ⎤\n",
       "⎢                   ⎥\n",
       "⎢1  32   243   1024 ⎥\n",
       "⎢                   ⎥\n",
       "⎢1  128  2187  16384⎥\n",
       "⎢                   ⎥\n",
       "⎣2   4    6      8  ⎦"
      ]
     },
     "execution_count": 142,
     "metadata": {},
     "output_type": "execute_result"
    }
   ],
   "source": [
    "C_nuM_d1p6 = sympy.zeros(4,4) # d = 1, p = 6\n",
    "C_nuM_d1p6[:3,:4] = Matrix(3,4,lambda i,j: (j+1)**(2*(i+1)+1))\n",
    "C_nuM_d1p6[3,:4] = Matrix(1,4,lambda i,j: 2*(j+1))\n",
    "C_nuM_d1p6"
   ]
  },
  {
   "cell_type": "code",
   "execution_count": 144,
   "metadata": {
    "collapsed": false
   },
   "outputs": [
    {
     "data": {
      "image/png": "[encoded data removed]",
      "text/latex": [
       "$$\\left[\\begin{matrix}- \\frac{61}{90} & \\frac{29}{360} & - \\frac{1}{360} & \\frac{4}{5}\\\\\\frac{169}{360} & - \\frac{13}{180} & \\frac{1}{360} & - \\frac{1}{5}\\\\- \\frac{1}{10} & \\frac{1}{40} & - \\frac{1}{840} & \\frac{4}{105}\\\\\\frac{7}{720} & - \\frac{1}{360} & \\frac{1}{5040} & - \\frac{1}{280}\\end{matrix}\\right]$$"
      ],
      "text/plain": [
       "⎡-61      29                  ⎤\n",
       "⎢────    ───    -1/360   4/5  ⎥\n",
       "⎢ 90     360                  ⎥\n",
       "⎢                             ⎥\n",
       "⎢ 169    -13                  ⎥\n",
       "⎢ ───    ────   1/360    -1/5 ⎥\n",
       "⎢ 360    180                  ⎥\n",
       "⎢                             ⎥\n",
       "⎢-1/10   1/40   -1/840  4/105 ⎥\n",
       "⎢                             ⎥\n",
       "⎣7/720  -1/360  1/5040  -1/280⎦"
      ]
     },
     "execution_count": 144,
     "metadata": {},
     "output_type": "execute_result"
    }
   ],
   "source": [
    "C_nuM_d1p6.inv() # and then read off the last column"
   ]
  },
  {
   "cell_type": "code",
   "execution_count": 146,
   "metadata": {
    "collapsed": false
   },
   "outputs": [
    {
     "data": {
      "image/png": "[encoded data removed]",
      "text/latex": [
       "$$\\left[\\begin{matrix}- \\frac{1}{3} & \\frac{2}{3}\\\\\\frac{1}{6} & - \\frac{1}{12}\\end{matrix}\\right]$$"
      ],
      "text/plain": [
       "⎡-1/3   2/3 ⎤\n",
       "⎢           ⎥\n",
       "⎣1/6   -1/12⎦"
      ]
     },
     "execution_count": 146,
     "metadata": {},
     "output_type": "execute_result"
    }
   ],
   "source": [
    "Matrix([[1,8],[2,4]]).inv() # d = 1, p=2"
   ]
  },
  {
   "cell_type": "code",
   "execution_count": 153,
   "metadata": {
    "collapsed": false
   },
   "outputs": [],
   "source": [
    "C_nu_d1p4 = sympy.zeros(3,4) # d = 1, p = 4\n",
    "C_nu_d1p4[:2,:3] = Matrix(2,3,lambda i,j: (j+1)**(2*(i+1)+1))\n",
    "C_nu_d1p4[2,:3] = Matrix(1,3,lambda i,j: 2*(j+1))\n",
    "C_nu_d1p4[2,3] = Rat(1)"
   ]
  },
  {
   "cell_type": "code",
   "execution_count": 150,
   "metadata": {
    "collapsed": false
   },
   "outputs": [
    {
     "data": {
      "image/png": "[encoded data removed]",
      "text/latex": [
       "$$\\left[\\begin{matrix}1 & 8 & 27 & 0\\\\1 & 32 & 243 & 0\\\\2 & 4 & 6 & 1\\end{matrix}\\right]$$"
      ],
      "text/plain": [
       "⎡1  8   27   0⎤\n",
       "⎢             ⎥\n",
       "⎢1  32  243  0⎥\n",
       "⎢             ⎥\n",
       "⎣2  4    6   1⎦"
      ]
     },
     "execution_count": 150,
     "metadata": {},
     "output_type": "execute_result"
    }
   ],
   "source": [
    "C_nu_d1p4"
   ]
  },
  {
   "cell_type": "code",
   "execution_count": 155,
   "metadata": {
    "collapsed": false
   },
   "outputs": [
    {
     "data": {
      "image/png": "[encoded data removed]",
      "text/latex": [
       "$$\\left \\{ C_{1} : \\frac{3}{4}, \\quad C_{2} : - \\frac{3}{20}, \\quad C_{3} : \\frac{1}{60}\\right \\}$$"
      ],
      "text/plain": [
       "{C₁: 3/4, C₂: -3/20, C₃: 1/60}"
      ]
     },
     "execution_count": 155,
     "metadata": {},
     "output_type": "execute_result"
    }
   ],
   "source": [
    "solve_linear_system( C_nu_d1p4, C_1,C_2,C_3 )"
   ]
  },
  {
   "cell_type": "markdown",
   "metadata": {},
   "source": [
    "Indeed, "
   ]
  },
  {
   "cell_type": "code",
   "execution_count": 156,
   "metadata": {
    "collapsed": false
   },
   "outputs": [
    {
     "data": {
      "image/png": "[encoded data removed]",
      "text/latex": [
       "$$h \\left. \\frac{d}{d \\xi_{1}} f{\\left (\\xi_{1} \\right )} \\right|_{\\substack{ \\xi_{1}=x_{0} }} + \\mathcal{O}\\left(h^{6} + h^{5} x + h^{4} x^{2} + h^{3} x^{3} + h^{2} x^{4} + h x^{5} + x^{6}; \\left ( h, \\quad x\\right )\\rightarrow\\left ( 0, \\quad 0\\right )\\right)$$"
      ],
      "text/plain": [
       "  ⎛ d        ⎞│         ⎛ 6    5      4  2    3  3    2  4      5    6        \n",
       "h⋅⎜───(f(ξ₁))⎟│      + O⎝h  + h ⋅x + h ⋅x  + h ⋅x  + h ⋅x  + h⋅x  + x ; (h, x)\n",
       "  ⎝dξ₁       ⎠│ξ₁=x₀                                                          \n",
       "\n",
       "         ⎞\n",
       " → (0, 0)⎠\n",
       "          "
      ]
     },
     "execution_count": 156,
     "metadata": {},
     "output_type": "execute_result"
    }
   ],
   "source": [
    "p = 6\n",
    "( Rat(3,4)*(f(x+h).series(x+h,x0=x_0,n=p) - f(x-h).series(x-h,x0=x_0,n=p)) + \\\n",
    "Rat(-3,20)*(f(x+2*h).series(x+2*h,x0=x_0,n=p)-f(x-2*h).series(x-2*h,x0=x_0,n=p)) + \\\n",
    "Rat(1,60)*(f(x+3*h).series(x+3*h,x0=x_0,n=p)-f(x-3*h).series(x-3*h,x0=x_0,n=p))).subs(x-x_0,0)"
   ]
  },
  {
   "cell_type": "markdown",
   "metadata": {},
   "source": [
    "#### For $d=2$"
   ]
  },
  {
   "cell_type": "code",
   "execution_count": 164,
   "metadata": {
    "collapsed": false
   },
   "outputs": [],
   "source": [
    "C_nu_d2p4 = sympy.zeros(2,3) # d = 2, p = 4\n",
    "C_nu_d2p4[:1,:2] = Matrix(1,2,lambda i,j: (j+1)**(2*(i+2)))\n",
    "C_nu_d2p4[1,:2] = Matrix(1,2,lambda i,j: 2*(j+1)**2)\n",
    "C_nu_d2p4[1,2] = Rat(1)"
   ]
  },
  {
   "cell_type": "code",
   "execution_count": 165,
   "metadata": {
    "collapsed": false
   },
   "outputs": [
    {
     "data": {
      "image/png": "[encoded data removed]",
      "text/latex": [
       "$$\\left[\\begin{matrix}1 & 16 & 0\\\\2 & 8 & 1\\end{matrix}\\right]$$"
      ],
      "text/plain": [
       "⎡1  16  0⎤\n",
       "⎢        ⎥\n",
       "⎣2  8   1⎦"
      ]
     },
     "execution_count": 165,
     "metadata": {},
     "output_type": "execute_result"
    }
   ],
   "source": [
    "C_nu_d2p4"
   ]
  },
  {
   "cell_type": "code",
   "execution_count": 166,
   "metadata": {
    "collapsed": false
   },
   "outputs": [
    {
     "data": {
      "image/png": "[encoded data removed]",
      "text/latex": [
       "$$\\left \\{ C_{1} : \\frac{2}{3}, \\quad C_{2} : - \\frac{1}{24}\\right \\}$$"
      ],
      "text/plain": [
       "{C₁: 2/3, C₂: -1/24}"
      ]
     },
     "execution_count": 166,
     "metadata": {},
     "output_type": "execute_result"
    }
   ],
   "source": [
    "solve_linear_system( C_nu_d2p4, C_1,C_2)"
   ]
  },
  {
   "cell_type": "code",
   "execution_count": 168,
   "metadata": {
    "collapsed": false
   },
   "outputs": [],
   "source": [
    "C_nu_d2p6 = sympy.zeros(3,4) # d = 2, p = 6\n",
    "C_nu_d2p6[:2,:3] = Matrix(2,3,lambda i,j: (j+1)**(2*(i+2)))\n",
    "C_nu_d2p6[2,:3] = Matrix(1,3,lambda i,j: 2*(j+1)**2)\n",
    "C_nu_d2p6[2,3] = Rat(1)"
   ]
  },
  {
   "cell_type": "code",
   "execution_count": 169,
   "metadata": {
    "collapsed": false
   },
   "outputs": [
    {
     "data": {
      "image/png": "[encoded data removed]",
      "text/latex": [
       "$$\\left[\\begin{matrix}1 & 16 & 81 & 0\\\\1 & 64 & 729 & 0\\\\2 & 8 & 18 & 1\\end{matrix}\\right]$$"
      ],
      "text/plain": [
       "⎡1  16  81   0⎤\n",
       "⎢             ⎥\n",
       "⎢1  64  729  0⎥\n",
       "⎢             ⎥\n",
       "⎣2  8   18   1⎦"
      ]
     },
     "execution_count": 169,
     "metadata": {},
     "output_type": "execute_result"
    }
   ],
   "source": [
    "C_nu_d2p6"
   ]
  },
  {
   "cell_type": "code",
   "execution_count": 170,
   "metadata": {
    "collapsed": false
   },
   "outputs": [
    {
     "data": {
      "image/png": "[encoded data removed]",
      "text/latex": [
       "$$\\left \\{ C_{1} : \\frac{3}{4}, \\quad C_{2} : - \\frac{3}{40}, \\quad C_{3} : \\frac{1}{180}\\right \\}$$"
      ],
      "text/plain": [
       "{C₁: 3/4, C₂: -3/40, C₃: 1/180}"
      ]
     },
     "execution_count": 170,
     "metadata": {},
     "output_type": "execute_result"
    }
   ],
   "source": [
    "solve_linear_system( C_nu_d2p6, C_1,C_2,C_3)"
   ]
  },
  {
   "cell_type": "markdown",
   "metadata": {},
   "source": [
    "Indeed, "
   ]
  },
  {
   "cell_type": "code",
   "execution_count": 172,
   "metadata": {
    "collapsed": false
   },
   "outputs": [
    {
     "data": {
      "image/png": "[encoded data removed]",
      "text/latex": [
       "$$\\frac{h^{2}}{2} \\left. \\frac{d^{2}}{d \\xi_{1}^{2}}  f{\\left (\\xi_{1} \\right )} \\right|_{\\substack{ \\xi_{1}=x_{0} }} + \\mathcal{O}\\left(h^{4} + h^{3} x + h^{2} x^{2} + h x^{3} + x^{4}; \\left ( h, \\quad x\\right )\\rightarrow\\left ( 0, \\quad 0\\right )\\right)$$"
      ],
      "text/plain": [
       "   ⎛  2        ⎞│                                                         \n",
       " 2 ⎜ d         ⎟│                                                         \n",
       "h ⋅⎜────(f(ξ₁))⎟│                                                         \n",
       "   ⎜   2       ⎟│                                                         \n",
       "   ⎝dξ₁        ⎠│ξ₁=x₀    ⎛ 4    3      2  2      3    4                 ⎞\n",
       "────────────────────── + O⎝h  + h ⋅x + h ⋅x  + h⋅x  + x ; (h, x) → (0, 0)⎠\n",
       "          2                                                               "
      ]
     },
     "execution_count": 172,
     "metadata": {},
     "output_type": "execute_result"
    }
   ],
   "source": [
    "p = 4\n",
    "( Rat(2,3)*(f(x+h).series(x+h,x0=x_0,n=p) + f(x-h).series(x-h,x0=x_0,n=p) -2*f(x_0)) + \\\n",
    "Rat(-1,24)*(f(x+2*h).series(x+2*h,x0=x_0,n=p)+f(x-2*h).series(x-2*h,x0=x_0,n=p) -2*f(x_0))).subs(x-x_0,0)"
   ]
  },
  {
   "cell_type": "code",
   "execution_count": 175,
   "metadata": {
    "collapsed": false
   },
   "outputs": [
    {
     "data": {
      "image/png": "[encoded data removed]",
      "text/latex": [
       "$$\\frac{h^{2}}{2} \\left. \\frac{d^{2}}{d \\xi_{1}^{2}}  f{\\left (\\xi_{1} \\right )} \\right|_{\\substack{ \\xi_{1}=x_{0} }} + \\mathcal{O}\\left(h^{6} + h^{5} x + h^{4} x^{2} + h^{3} x^{3} + h^{2} x^{4} + h x^{5} + x^{6}; \\left ( h, \\quad x\\right )\\rightarrow\\left ( 0, \\quad 0\\right )\\right)$$"
      ],
      "text/plain": [
       "   ⎛  2        ⎞│                                                             \n",
       " 2 ⎜ d         ⎟│                                                             \n",
       "h ⋅⎜────(f(ξ₁))⎟│                                                             \n",
       "   ⎜   2       ⎟│                                                             \n",
       "   ⎝dξ₁        ⎠│ξ₁=x₀    ⎛ 6    5      4  2    3  3    2  4      5    6      \n",
       "────────────────────── + O⎝h  + h ⋅x + h ⋅x  + h ⋅x  + h ⋅x  + h⋅x  + x ; (h, \n",
       "          2                                                                   \n",
       "\n",
       "            \n",
       "            \n",
       "            \n",
       "            \n",
       "           ⎞\n",
       "x) → (0, 0)⎠\n",
       "            "
      ]
     },
     "execution_count": 175,
     "metadata": {},
     "output_type": "execute_result"
    }
   ],
   "source": [
    "p = 6\n",
    "( Rat(3,4)*(f(x+h).series(x+h,x0=x_0,n=p) + f(x-h).series(x-h,x0=x_0,n=p)-2*f(x_0)) + \\\n",
    "Rat(-3,40)*(f(x+2*h).series(x+2*h,x0=x_0,n=p)+f(x-2*h).series(x-2*h,x0=x_0,n=p)-2*f(x_0)) + \\\n",
    "Rat(1,180)*(f(x+3*h).series(x+3*h,x0=x_0,n=p)+f(x-3*h).series(x-3*h,x0=x_0,n=p)-2*f(x_0))).subs(x-x_0,0)"
   ]
  },
  {
   "cell_type": "code",
   "execution_count": null,
   "metadata": {
    "collapsed": true
   },
   "outputs": [],
   "source": []
  }
 ],
 "metadata": {
  "kernelspec": {
   "display_name": "Python 2",
   "language": "python",
   "name": "python2"
  },
  "language_info": {
   "codemirror_mode": {
    "name": "ipython",
    "version": 2
   },
   "file_extension": ".py",
   "mimetype": "text/x-python",
   "name": "python",
   "nbconvert_exporter": "python",
   "pygments_lexer": "ipython2",
   "version": "2.7.11"
  }
 },
 "nbformat": 4,
 "nbformat_minor": 0
}