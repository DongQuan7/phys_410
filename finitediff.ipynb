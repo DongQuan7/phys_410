{
 "cells": [
  {
   "cell_type": "markdown",
   "metadata": {},
   "source": [
    "# Finite Difference"
   ]
  },
  {
   "cell_type": "code",
   "execution_count": 2,
   "metadata": {
    "collapsed": false
   },
   "outputs": [],
   "source": [
    "import sympy\n",
    "from sympy import init_printing, pprint, latex \n",
    "from sympy import binomial, Function, factorial, Symbol, symbols, Sum, S  \n",
    "# S is for SingletonRegistry\n",
    "from sympy import Rational as Rat\n",
    "from sympy import Matrix, solve_linear_system"
   ]
  },
  {
   "cell_type": "markdown",
   "metadata": {},
   "source": [
    "EY : 20160627 I have no idea what `sympy.SingletonRegistry` means despite the [documentation for SingletonRegistry](http://docs.sympy.org/0.7.1/_modules/sympy/core/singleton.html), which is sparse at best.  "
   ]
  },
  {
   "cell_type": "code",
   "execution_count": 3,
   "metadata": {
    "collapsed": true
   },
   "outputs": [],
   "source": [
    "init_printing() # LaTeX printing "
   ]
  },
  {
   "cell_type": "code",
   "execution_count": 4,
   "metadata": {
    "collapsed": true
   },
   "outputs": [],
   "source": [
    "n = Symbol('n',integer=True,positive=True)\n",
    "i = Symbol('i',integer=True,positive=True)\n",
    "j = Symbol('j',integer=True,positive=True)\n",
    "x,h,x_0 = symbols('x h x_0',real=True)\n",
    "f = Function('f')"
   ]
  },
  {
   "cell_type": "code",
   "execution_count": 8,
   "metadata": {
    "collapsed": false
   },
   "outputs": [
    {
     "data": {
      "text/plain": [
       "120"
      ]
     },
     "execution_count": 8,
     "metadata": {},
     "output_type": "execute_result"
    }
   ],
   "source": [
    "factorial(5)"
   ]
  },
  {
   "cell_type": "code",
   "execution_count": 18,
   "metadata": {
    "collapsed": false
   },
   "outputs": [],
   "source": [
    "C_n = Sum((-1)**i*binomial(n,i),(i,1,n))\n"
   ]
  },
  {
   "cell_type": "code",
   "execution_count": 24,
   "metadata": {
    "collapsed": false
   },
   "outputs": [
    {
     "data": {
      "text/plain": [
       "-1.00000000000000"
      ]
     },
     "execution_count": 24,
     "metadata": {},
     "output_type": "execute_result"
    }
   ],
   "source": [
    "(C_n.subs(n,3)).evalf()"
   ]
  },
  {
   "cell_type": "markdown",
   "metadata": {},
   "source": [
    "cf. From *stackexchange* [How to do a symbolic taylor expansion of an unknown function $f(x)$ using sympy](http://stackoverflow.com/questions/16869587/how-to-do-a-symbolic-taylor-expansion-of-an-unknown-function-fx-using-sympy)"
   ]
  },
  {
   "cell_type": "code",
   "execution_count": 78,
   "metadata": {
    "collapsed": false
   },
   "outputs": [
    {
     "data": {
      "text/latex": [
       "$$f{\\left (x_{0} \\right )} + \\left(x - x_{0}\\right) \\left. \\frac{d}{d \\xi_{1}} f{\\left (\\xi_{1} \\right )} \\right|_{\\substack{ \\xi_{1}=x_{0} }} + \\frac{1}{2} \\left(x - x_{0}\\right)^{2} \\left. \\frac{d^{2}}{d \\xi_{1}^{2}}  f{\\left (\\xi_{1} \\right )} \\right|_{\\substack{ \\xi_{1}=x_{0} }} + \\mathcal{O}\\left(\\left(x - x_{0}\\right)^{3}; x\\rightarrowx_{0}\\right)$$"
      ],
      "text/plain": [
       "                                                ⎛  2        ⎞│                \n",
       "                                              2 ⎜ d         ⎟│                \n",
       "                                      (x - x₀) ⋅⎜────(f(ξ₁))⎟│                \n",
       "                                                ⎜   2       ⎟│                \n",
       "                 ⎛ d        ⎞│                  ⎝dξ₁        ⎠│ξ₁=x₀    ⎛      \n",
       "f(x₀) + (x - x₀)⋅⎜───(f(ξ₁))⎟│      + ───────────────────────────── + O⎝(x - x\n",
       "                 ⎝dξ₁       ⎠│ξ₁=x₀                 2                         \n",
       "\n",
       "            \n",
       "            \n",
       "            \n",
       "            \n",
       "  3        ⎞\n",
       "₀) ; x → x₀⎠\n",
       "            "
      ]
     },
     "execution_count": 78,
     "metadata": {},
     "output_type": "execute_result"
    }
   ],
   "source": [
    "f(x).series(x, x0=x_0, n=3)"
   ]
  },
  {
   "cell_type": "code",
   "execution_count": 32,
   "metadata": {
    "collapsed": false
   },
   "outputs": [
    {
     "name": "stdout",
     "output_type": "stream",
     "text": [
      "                                              ⎛  2        ⎞│                  \n",
      "                                            2 ⎜ d         ⎟│                  \n",
      "                                    (-h + x) ⋅⎜────(f(ξ₁))⎟│                  \n",
      "                                              ⎜   2       ⎟│                  \n",
      "                ⎛ d        ⎞│                 ⎝dξ₁        ⎠│ξ₁=h    ⎛        3\n",
      "f(h) + (-h + x)⋅⎜───(f(ξ₁))⎟│     + ──────────────────────────── + O⎝(-h + x) \n",
      "                ⎝dξ₁       ⎠│ξ₁=h                2                            \n",
      "\n",
      "        \n",
      "        \n",
      "        \n",
      "        \n",
      "       ⎞\n",
      "; x → h⎠\n",
      "        \n"
     ]
    }
   ],
   "source": [
    "pprint( f(x).series(x, x0=h, n=3) )"
   ]
  },
  {
   "cell_type": "code",
   "execution_count": 33,
   "metadata": {
    "collapsed": false
   },
   "outputs": [
    {
     "data": {
      "text/plain": [
       "'f{\\\\left (h \\\\right )} + \\\\left(- h + x\\\\right) \\\\left. \\\\frac{d}{d \\\\xi_{1}} f{\\\\left (\\\\xi_{1} \\\\right )} \\\\right|_{\\\\substack{ \\\\xi_{1}=h }} + \\\\frac{1}{2} \\\\left(- h + x\\\\right)^{2} \\\\left. \\\\frac{d^{2}}{d \\\\xi_{1}^{2}}  f{\\\\left (\\\\xi_{1} \\\\right )} \\\\right|_{\\\\substack{ \\\\xi_{1}=h }} + \\\\mathcal{O}\\\\left(\\\\left(- h + x\\\\right)^{3}; x\\\\rightarrowh\\\\right)'"
      ]
     },
     "execution_count": 33,
     "metadata": {},
     "output_type": "execute_result"
    }
   ],
   "source": [
    "latex(f(x).series(x, x0=h, n=3) )"
   ]
  },
  {
   "cell_type": "code",
   "execution_count": 37,
   "metadata": {
    "collapsed": false
   },
   "outputs": [],
   "source": [
    "FW = f(x+h).series(x+h, x0=x_0, n=3)\n",
    "FW = FW.subs(x-x_0,0)"
   ]
  },
  {
   "cell_type": "code",
   "execution_count": 38,
   "metadata": {
    "collapsed": false
   },
   "outputs": [
    {
     "data": {
      "image/png": "[encoded data removed]",
      "text/latex": [
       "$$f{\\left (x_{0} \\right )} + h \\left. \\frac{d}{d \\xi_{1}} f{\\left (\\xi_{1} \\right )} \\right|_{\\substack{ \\xi_{1}=x_{0} }} + \\frac{h^{2}}{2} \\left. \\frac{d^{2}}{d \\xi_{1}^{2}}  f{\\left (\\xi_{1} \\right )} \\right|_{\\substack{ \\xi_{1}=x_{0} }} + \\mathcal{O}\\left(h^{3} + h^{2} x + h x^{2} + x^{3}; \\left ( h, \\quad x\\right )\\rightarrow\\left ( 0, \\quad 0\\right )\\right)$$"
      ],
      "text/plain": [
       "                                  ⎛  2        ⎞│                              \n",
       "                                2 ⎜ d         ⎟│                              \n",
       "                               h ⋅⎜────(f(ξ₁))⎟│                              \n",
       "                                  ⎜   2       ⎟│                              \n",
       "          ⎛ d        ⎞│           ⎝dξ₁        ⎠│ξ₁=x₀    ⎛ 3    2        2    \n",
       "f(x₀) + h⋅⎜───(f(ξ₁))⎟│      + ────────────────────── + O⎝h  + h ⋅x + h⋅x  + x\n",
       "          ⎝dξ₁       ⎠│ξ₁=x₀             2                                    \n",
       "\n",
       "                   \n",
       "                   \n",
       "                   \n",
       "                   \n",
       "3                 ⎞\n",
       " ; (h, x) → (0, 0)⎠\n",
       "                   "
      ]
     },
     "execution_count": 38,
     "metadata": {},
     "output_type": "execute_result"
    }
   ],
   "source": [
    "FW"
   ]
  },
  {
   "cell_type": "code",
   "execution_count": 42,
   "metadata": {
    "collapsed": false
   },
   "outputs": [
    {
     "data": {
      "image/png": "[encoded data removed]",
      "text/latex": [
       "$$h \\left. \\frac{d}{d \\xi_{1}} f{\\left (\\xi_{1} \\right )} \\right|_{\\substack{ \\xi_{1}=x_{0} }}$$"
      ],
      "text/plain": [
       "  ⎛ d        ⎞│     \n",
       "h⋅⎜───(f(ξ₁))⎟│     \n",
       "  ⎝dξ₁       ⎠│ξ₁=x₀"
      ]
     },
     "execution_count": 42,
     "metadata": {},
     "output_type": "execute_result"
    }
   ],
   "source": [
    "FW.args[0]"
   ]
  },
  {
   "cell_type": "code",
   "execution_count": 55,
   "metadata": {
    "collapsed": false
   },
   "outputs": [
    {
     "data": {
      "image/png": "[encoded data removed]",
      "text/latex": [
       "$$2 f{\\left (x_{0} \\right )} + h^{2} \\left. \\frac{d^{2}}{d \\xi_{1}^{2}}  f{\\left (\\xi_{1} \\right )} \\right|_{\\substack{ \\xi_{1}=x_{0} }} + \\mathcal{O}\\left(h^{3} + h^{2} x + h x^{2} + x^{3}; \\left ( h, \\quad x\\right )\\rightarrow\\left ( 0, \\quad 0\\right )\\right)$$"
      ],
      "text/plain": [
       "             ⎛  2        ⎞│                                                 \n",
       "           2 ⎜ d         ⎟│         ⎛ 3    2        2    3                 ⎞\n",
       "2⋅f(x₀) + h ⋅⎜────(f(ξ₁))⎟│      + O⎝h  + h ⋅x + h⋅x  + x ; (h, x) → (0, 0)⎠\n",
       "             ⎜   2       ⎟│                                                 \n",
       "             ⎝dξ₁        ⎠│ξ₁=x₀                                            "
      ]
     },
     "execution_count": 55,
     "metadata": {},
     "output_type": "execute_result"
    }
   ],
   "source": [
    "(f(x+h).series(x+h,x0=x_0,n=3)+f(x-h).series(x-h,x0=x_0,n=3)).subs(x-x_0,0)"
   ]
  },
  {
   "cell_type": "code",
   "execution_count": 62,
   "metadata": {
    "collapsed": false
   },
   "outputs": [
    {
     "data": {
      "image/png": "[encoded data removed]",
      "text/latex": [
       "$$4 f{\\left (x_{0} \\right )} + 5 h^{2} \\left. \\frac{d^{2}}{d \\xi_{1}^{2}}  f{\\left (\\xi_{1} \\right )} \\right|_{\\substack{ \\xi_{1}=x_{0} }} + \\mathcal{O}\\left(h^{3} + h^{2} x + h x^{2} + x^{3}; \\left ( h, \\quad x\\right )\\rightarrow\\left ( 0, \\quad 0\\right )\\right)$$"
      ],
      "text/plain": [
       "               ⎛  2        ⎞│                                                 \n",
       "             2 ⎜ d         ⎟│         ⎛ 3    2        2    3                 ⎞\n",
       "4⋅f(x₀) + 5⋅h ⋅⎜────(f(ξ₁))⎟│      + O⎝h  + h ⋅x + h⋅x  + x ; (h, x) → (0, 0)⎠\n",
       "               ⎜   2       ⎟│                                                 \n",
       "               ⎝dξ₁        ⎠│ξ₁=x₀                                            "
      ]
     },
     "execution_count": 62,
     "metadata": {},
     "output_type": "execute_result"
    }
   ],
   "source": [
    "( f(x+h).series(x+h,x0=x_0,n=3) + f(x-h).series(x-h,x0=x_0,n=3) + \\\n",
    "f(x+2*h).series(x+2*h,x0=x_0,n=3) + f(x-2*h).series(x-2*h,x0=x_0,n=3) ).subs(x-x_0,0)"
   ]
  },
  {
   "cell_type": "code",
   "execution_count": 63,
   "metadata": {
    "collapsed": false
   },
   "outputs": [
    {
     "data": {
      "image/png": "[encoded data removed]",
      "text/latex": [
       "$$6 h \\left. \\frac{d}{d \\xi_{1}} f{\\left (\\xi_{1} \\right )} \\right|_{\\substack{ \\xi_{1}=x_{0} }} + \\mathcal{O}\\left(h^{3} + h^{2} x + h x^{2} + x^{3}; \\left ( h, \\quad x\\right )\\rightarrow\\left ( 0, \\quad 0\\right )\\right)$$"
      ],
      "text/plain": [
       "    ⎛ d        ⎞│         ⎛ 3    2        2    3                 ⎞\n",
       "6⋅h⋅⎜───(f(ξ₁))⎟│      + O⎝h  + h ⋅x + h⋅x  + x ; (h, x) → (0, 0)⎠\n",
       "    ⎝dξ₁       ⎠│ξ₁=x₀                                            "
      ]
     },
     "execution_count": 63,
     "metadata": {},
     "output_type": "execute_result"
    }
   ],
   "source": [
    "( f(x+h).series(x+h,x0=x_0,n=3) - f(x-h).series(x-h,x0=x_0,n=3) + \\\n",
    "f(x+2*h).series(x+2*h,x0=x_0,n=3) - f(x-2*h).series(x-2*h,x0=x_0,n=3) ).subs(x-x_0,0)"
   ]
  },
  {
   "cell_type": "markdown",
   "metadata": {},
   "source": [
    "finite-difference for the 1st order derivative ($n=1$), to the $p$th-order, $p=8$"
   ]
  },
  {
   "cell_type": "code",
   "execution_count": 77,
   "metadata": {
    "collapsed": false
   },
   "outputs": [
    {
     "data": {
      "image/png": "[encoded data removed]",
      "text/latex": [
       "$$h \\left. \\frac{d}{d \\xi_{1}} f{\\left (\\xi_{1} \\right )} \\right|_{\\substack{ \\xi_{1}=x_{0} }} + \\mathcal{O}\\left(h^{8} + h^{7} x + h^{6} x^{2} + h^{5} x^{3} + h^{4} x^{4} + h^{3} x^{5} + h^{2} x^{6} + h x^{7} + x^{8}; \\left ( h, \\quad x\\right )\\rightarrow\\left ( 0, \\quad 0\\right )\\right)$$"
      ],
      "text/plain": [
       "  ⎛ d        ⎞│         ⎛ 8    7      6  2    5  3    4  4    3  5    2  6    \n",
       "h⋅⎜───(f(ξ₁))⎟│      + O⎝h  + h ⋅x + h ⋅x  + h ⋅x  + h ⋅x  + h ⋅x  + h ⋅x  + h\n",
       "  ⎝dξ₁       ⎠│ξ₁=x₀                                                          \n",
       "\n",
       "  7    8                 ⎞\n",
       "⋅x  + x ; (h, x) → (0, 0)⎠\n",
       "                          "
      ]
     },
     "execution_count": 77,
     "metadata": {},
     "output_type": "execute_result"
    }
   ],
   "source": [
    "p = 8\n",
    "( Rat(4,5)*(f(x+h).series(x+h,x0=x_0,n=p) - f(x-h).series(x-h,x0=x_0,n=p)) + \\\n",
    "Rat(-1,5)*(f(x+2*h).series(x+2*h,x0=x_0,n=p)-f(x-2*h).series(x-2*h,x0=x_0,n=p)) + \\\n",
    "Rat(4,105)*(f(x+3*h).series(x+3*h,x0=x_0,n=p)-f(x-3*h).series(x-3*h,x0=x_0,n=p)) + \\\n",
    "Rat(-1,280)*(f(x+4*h).series(x+4*h,x0=x_0,n=p)-f(x-4*h).series(x-4*h,x0=x_0,n=p)) ).subs(x-x_0,0)"
   ]
  },
  {
   "cell_type": "code",
   "execution_count": 74,
   "metadata": {
    "collapsed": false
   },
   "outputs": [
    {
     "data": {
      "image/png": "[encoded data removed]",
      "text/latex": [
       "$$\\frac{4}{5}$$"
      ],
      "text/plain": [
       "4/5"
      ]
     },
     "execution_count": 74,
     "metadata": {},
     "output_type": "execute_result"
    }
   ],
   "source": [
    "Rat(4,5)"
   ]
  },
  {
   "cell_type": "markdown",
   "metadata": {},
   "source": [
    "### *centered difference approximation*   \n",
    "  \n",
    "$$-i_{\\text{min}} = (d+p-1)/2 $$  \n",
    "$$i_{\\text{max}} = \\lceil (d+p-1)/2 \\rceil $$\n",
    "\n",
    "cf. [Derivative Approximation by Finite Differences\n",
    "David Eberly](http://math.nyu.edu/~atm262/fall06/compmethods/a1/DerivativesApproximationByFiniteDifferences.pdf)  "
   ]
  },
  {
   "cell_type": "code",
   "execution_count": 88,
   "metadata": {
    "collapsed": false
   },
   "outputs": [
    {
     "data": {
      "image/png": "[encoded data removed]",
      "text/latex": [
       "$$\\left ( 4, \\quad \\frac{9}{2}\\right )$$"
      ],
      "text/plain": [
       "(4, 9/2)"
      ]
     },
     "execution_count": 88,
     "metadata": {},
     "output_type": "execute_result"
    }
   ],
   "source": [
    "d = 2 \n",
    "p = 8\n",
    "sympy.floor(Rat(d+p-1,2)), Rat((d+p-1),2)"
   ]
  },
  {
   "cell_type": "markdown",
   "metadata": {},
   "source": [
    "First order derivatives $d=1$; let's aim for $-i_{\\text{min}} = i_{\\text{max}} = 2$ so we only need 2 neighbor values."
   ]
  },
  {
   "cell_type": "code",
   "execution_count": 104,
   "metadata": {
    "collapsed": false
   },
   "outputs": [
    {
     "data": {
      "image/png": "[encoded data removed]",
      "text/latex": [
       "$$\\left ( 2, \\quad \\frac{5}{2}\\right )$$"
      ],
      "text/plain": [
       "(2, 5/2)"
      ]
     },
     "execution_count": 104,
     "metadata": {},
     "output_type": "execute_result"
    }
   ],
   "source": [
    "d = 1 \n",
    "p = 5\n",
    "sympy.floor(Rat(d+p-1,2)), Rat((d+p-1),2)"
   ]
  },
  {
   "cell_type": "code",
   "execution_count": 106,
   "metadata": {
    "collapsed": false
   },
   "outputs": [
    {
     "data": {
      "image/png": "[encoded data removed]",
      "text/latex": [
       "$$\\left ( 2, \\quad \\frac{5}{2}\\right )$$"
      ],
      "text/plain": [
       "(2, 5/2)"
      ]
     },
     "execution_count": 106,
     "metadata": {},
     "output_type": "execute_result"
    }
   ],
   "source": [
    "d = 2 \n",
    "p = 4\n",
    "sympy.floor(Rat(d+p-1,2)), Rat((d+p-1),2)"
   ]
  },
  {
   "cell_type": "code",
   "execution_count": 4,
   "metadata": {
    "collapsed": true
   },
   "outputs": [],
   "source": [
    "C_1,C_2,C_3,C_4 = symbols('C_1 C_2 C_3 C_4', integer=True)"
   ]
  },
  {
   "cell_type": "markdown",
   "metadata": {},
   "source": [
    "From `sympy` documentation, [Matrices (linear algebra), Basic Manipulation](http://docs.sympy.org/0.7.2/modules/matrices/matrices.html), I learned to construct matrices with the `lambda` function"
   ]
  },
  {
   "cell_type": "code",
   "execution_count": 117,
   "metadata": {
    "collapsed": false
   },
   "outputs": [
    {
     "data": {
      "image/png": "[encoded data removed]",
      "text/latex": [
       "$$\\left[\\begin{matrix}1 & 8 & 27 & 64\\\\1 & 32 & 243 & 1024\\\\1 & 128 & 2187 & 16384\\end{matrix}\\right]$$"
      ],
      "text/plain": [
       "⎡1   8    27    64  ⎤\n",
       "⎢                   ⎥\n",
       "⎢1  32   243   1024 ⎥\n",
       "⎢                   ⎥\n",
       "⎣1  128  2187  16384⎦"
      ]
     },
     "execution_count": 117,
     "metadata": {},
     "output_type": "execute_result"
    }
   ],
   "source": [
    "Matrix(3,4, lambda i,j: (j+1)**(2*(i+1)+1))"
   ]
  },
  {
   "cell_type": "code",
   "execution_count": 116,
   "metadata": {
    "collapsed": false
   },
   "outputs": [
    {
     "data": {
      "image/png": "[encoded data removed]",
      "text/latex": [
       "$$\\left[\\begin{matrix}2 & 4 & 6 & 8\\end{matrix}\\right]$$"
      ],
      "text/plain": [
       "[2  4  6  8]"
      ]
     },
     "execution_count": 116,
     "metadata": {},
     "output_type": "execute_result"
    }
   ],
   "source": [
    "Matrix(1,4,lambda i,j: 2*(j+1))"
   ]
  },
  {
   "cell_type": "code",
   "execution_count": 138,
   "metadata": {
    "collapsed": false
   },
   "outputs": [],
   "source": [
    "C_nu_d1p6 = sympy.zeros(4,5) # d = 1, p = 6\n",
    "C_nu_d1p6[:3,:4] = Matrix(3,4,lambda i,j: (j+1)**(2*(i+1)+1))\n",
    "C_nu_d1p6[3,:4] = Matrix(1,4,lambda i,j: 2*(j+1))\n",
    "C_nu_d1p6[3,4] = Rat(1)"
   ]
  },
  {
   "cell_type": "code",
   "execution_count": 139,
   "metadata": {
    "collapsed": false
   },
   "outputs": [
    {
     "data": {
      "image/png": "[encoded data removed]",
      "text/latex": [
       "$$\\left[\\begin{matrix}1 & 8 & 27 & 64 & 0\\\\1 & 32 & 243 & 1024 & 0\\\\1 & 128 & 2187 & 16384 & 0\\\\2 & 4 & 6 & 8 & 1\\end{matrix}\\right]$$"
      ],
      "text/plain": [
       "⎡1   8    27    64    0⎤\n",
       "⎢                      ⎥\n",
       "⎢1  32   243   1024   0⎥\n",
       "⎢                      ⎥\n",
       "⎢1  128  2187  16384  0⎥\n",
       "⎢                      ⎥\n",
       "⎣2   4    6      8    1⎦"
      ]
     },
     "execution_count": 139,
     "metadata": {},
     "output_type": "execute_result"
    }
   ],
   "source": [
    "C_nu_d1p6"
   ]
  },
  {
   "cell_type": "code",
   "execution_count": 148,
   "metadata": {
    "collapsed": false
   },
   "outputs": [
    {
     "data": {
      "image/png": "[encoded data removed]",
      "text/latex": [
       "$$\\left \\{ C_{1} : \\frac{4}{5}, \\quad C_{2} : - \\frac{1}{5}, \\quad C_{3} : \\frac{4}{105}, \\quad C_{4} : - \\frac{1}{280}\\right \\}$$"
      ],
      "text/plain": [
       "{C₁: 4/5, C₂: -1/5, C₃: 4/105, C₄: -1/280}"
      ]
     },
     "execution_count": 148,
     "metadata": {},
     "output_type": "execute_result"
    }
   ],
   "source": [
    "solve_linear_system( C_nu_d1p6, C_1,C_2,C_3,C_4 )"
   ]
  },
  {
   "cell_type": "markdown",
   "metadata": {},
   "source": [
    "Also, another way is this:"
   ]
  },
  {
   "cell_type": "code",
   "execution_count": 142,
   "metadata": {
    "collapsed": false
   },
   "outputs": [
    {
     "data": {
      "image/png": "[encoded data removed]",
      "text/latex": [
       "$$\\left[\\begin{matrix}1 & 8 & 27 & 64\\\\1 & 32 & 243 & 1024\\\\1 & 128 & 2187 & 16384\\\\2 & 4 & 6 & 8\\end{matrix}\\right]$$"
      ],
      "text/plain": [
       "⎡1   8    27    64  ⎤\n",
       "⎢                   ⎥\n",
       "⎢1  32   243   1024 ⎥\n",
       "⎢                   ⎥\n",
       "⎢1  128  2187  16384⎥\n",
       "⎢                   ⎥\n",
       "⎣2   4    6      8  ⎦"
      ]
     },
     "execution_count": 142,
     "metadata": {},
     "output_type": "execute_result"
    }
   ],
   "source": [
    "C_nuM_d1p6 = sympy.zeros(4,4) # d = 1, p = 6\n",
    "C_nuM_d1p6[:3,:4] = Matrix(3,4,lambda i,j: (j+1)**(2*(i+1)+1))\n",
    "C_nuM_d1p6[3,:4] = Matrix(1,4,lambda i,j: 2*(j+1))\n",
    "C_nuM_d1p6"
   ]
  },
  {
   "cell_type": "code",
   "execution_count": 144,
   "metadata": {
    "collapsed": false
   },
   "outputs": [
    {
     "data": {
      "image/png": "[encoded data removed]",
      "text/latex": [
       "$$\\left[\\begin{matrix}- \\frac{61}{90} & \\frac{29}{360} & - \\frac{1}{360} & \\frac{4}{5}\\\\\\frac{169}{360} & - \\frac{13}{180} & \\frac{1}{360} & - \\frac{1}{5}\\\\- \\frac{1}{10} & \\frac{1}{40} & - \\frac{1}{840} & \\frac{4}{105}\\\\\\frac{7}{720} & - \\frac{1}{360} & \\frac{1}{5040} & - \\frac{1}{280}\\end{matrix}\\right]$$"
      ],
      "text/plain": [
       "⎡-61      29                  ⎤\n",
       "⎢────    ───    -1/360   4/5  ⎥\n",
       "⎢ 90     360                  ⎥\n",
       "⎢                             ⎥\n",
       "⎢ 169    -13                  ⎥\n",
       "⎢ ───    ────   1/360    -1/5 ⎥\n",
       "⎢ 360    180                  ⎥\n",
       "⎢                             ⎥\n",
       "⎢-1/10   1/40   -1/840  4/105 ⎥\n",
       "⎢                             ⎥\n",
       "⎣7/720  -1/360  1/5040  -1/280⎦"
      ]
     },
     "execution_count": 144,
     "metadata": {},
     "output_type": "execute_result"
    }
   ],
   "source": [
    "C_nuM_d1p6.inv() # and then read off the last column"
   ]
  },
  {
   "cell_type": "code",
   "execution_count": 146,
   "metadata": {
    "collapsed": false
   },
   "outputs": [
    {
     "data": {
      "image/png": "[encoded data removed]",
      "text/latex": [
       "$$\\left[\\begin{matrix}- \\frac{1}{3} & \\frac{2}{3}\\\\\\frac{1}{6} & - \\frac{1}{12}\\end{matrix}\\right]$$"
      ],
      "text/plain": [
       "⎡-1/3   2/3 ⎤\n",
       "⎢           ⎥\n",
       "⎣1/6   -1/12⎦"
      ]
     },
     "execution_count": 146,
     "metadata": {},
     "output_type": "execute_result"
    }
   ],
   "source": [
    "Matrix([[1,8],[2,4]]).inv() # d = 1, p=2"
   ]
  },
  {
   "cell_type": "code",
   "execution_count": 4,
   "metadata": {
    "collapsed": false
   },
   "outputs": [],
   "source": [
    "C_nu_d1p4 = sympy.zeros(3,4) # d = 1, p = 4\n",
    "C_nu_d1p4[:2,:3] = Matrix(2,3,lambda i,j: (j+1)**(2*(i+1)+1))\n",
    "C_nu_d1p4[2,:3] = Matrix(1,3,lambda i,j: 2*(j+1))\n",
    "C_nu_d1p4[2,3] = Rat(1)"
   ]
  },
  {
   "cell_type": "code",
   "execution_count": 5,
   "metadata": {
    "collapsed": false
   },
   "outputs": [
    {
     "data": {
      "image/png": "[encoded data removed]",
      "text/latex": [
       "$$\\left[\\begin{matrix}1 & 8 & 27 & 0\\\\1 & 32 & 243 & 0\\\\2 & 4 & 6 & 1\\end{matrix}\\right]$$"
      ],
      "text/plain": [
       "⎡1  8   27   0⎤\n",
       "⎢             ⎥\n",
       "⎢1  32  243  0⎥\n",
       "⎢             ⎥\n",
       "⎣2  4    6   1⎦"
      ]
     },
     "execution_count": 5,
     "metadata": {},
     "output_type": "execute_result"
    }
   ],
   "source": [
    "C_nu_d1p4"
   ]
  },
  {
   "cell_type": "code",
   "execution_count": 8,
   "metadata": {
    "collapsed": false
   },
   "outputs": [
    {
     "data": {
      "image/png": "[encoded data removed]",
      "text/latex": [
       "$$\\left \\{ C_{1} : \\frac{3}{4}, \\quad C_{2} : - \\frac{3}{20}, \\quad C_{3} : \\frac{1}{60}\\right \\}$$"
      ],
      "text/plain": [
       "{C₁: 3/4, C₂: -3/20, C₃: 1/60}"
      ]
     },
     "execution_count": 8,
     "metadata": {},
     "output_type": "execute_result"
    }
   ],
   "source": [
    "solve_linear_system( C_nu_d1p4, C_1,C_2,C_3 )"
   ]
  },
  {
   "cell_type": "markdown",
   "metadata": {},
   "source": [
    "Indeed, "
   ]
  },
  {
   "cell_type": "code",
   "execution_count": 9,
   "metadata": {
    "collapsed": false
   },
   "outputs": [
    {
     "data": {
      "image/png": "[encoded data removed]",
      "text/latex": [
       "$$h \\left. \\frac{d}{d \\xi_{1}} f{\\left (\\xi_{1} \\right )} \\right|_{\\substack{ \\xi_{1}=x_{0} }} + \\mathcal{O}\\left(h^{6} + h^{5} x + h^{4} x^{2} + h^{3} x^{3} + h^{2} x^{4} + h x^{5} + x^{6}; \\left ( h, \\quad x\\right )\\rightarrow\\left ( 0, \\quad 0\\right )\\right)$$"
      ],
      "text/plain": [
       "  ⎛ d        ⎞│         ⎛ 6    5      4  2    3  3    2  4      5    6        \n",
       "h⋅⎜───(f(ξ₁))⎟│      + O⎝h  + h ⋅x + h ⋅x  + h ⋅x  + h ⋅x  + h⋅x  + x ; (h, x)\n",
       "  ⎝dξ₁       ⎠│ξ₁=x₀                                                          \n",
       "\n",
       "         ⎞\n",
       " → (0, 0)⎠\n",
       "          "
      ]
     },
     "execution_count": 9,
     "metadata": {},
     "output_type": "execute_result"
    }
   ],
   "source": [
    "p = 6\n",
    "( Rat(3,4)*(f(x+h).series(x+h,x0=x_0,n=p) - f(x-h).series(x-h,x0=x_0,n=p)) + \\\n",
    "Rat(-3,20)*(f(x+2*h).series(x+2*h,x0=x_0,n=p)-f(x-2*h).series(x-2*h,x0=x_0,n=p)) + \\\n",
    "Rat(1,60)*(f(x+3*h).series(x+3*h,x0=x_0,n=p)-f(x-3*h).series(x-3*h,x0=x_0,n=p))).subs(x-x_0,0)"
   ]
  },
  {
   "cell_type": "markdown",
   "metadata": {},
   "source": [
    "$$\n",
    "\\boxed{   h \\frac{d}{dx}f(x) =  \\frac{3}{4} ( f(x+h) - f(x-h) ) + \\frac{-3}{20}( f(x+2h) - f(x-2h)) + \\frac{1}{60} (f(x+3h)-f(x-3h)) +O(h^6) = \\sum_{\\nu = 1}^3 C_{\\nu} (f(x+ \\nu h) - f(x - \\nu h) ) + O(h^6) }\n",
    "  $$\n",
    "\n",
    "with  \n",
    "\n",
    " * $C_1 = \\frac{3}{4}$  \n",
    " * $C_2 = \\frac{-3}{20}$  \n",
    " * $C_3 = \\frac{1}{60}$\n"
   ]
  },
  {
   "cell_type": "markdown",
   "metadata": {},
   "source": [
    "Let's generalize this procedure:"
   ]
  },
  {
   "cell_type": "code",
   "execution_count": 60,
   "metadata": {
    "collapsed": true
   },
   "outputs": [],
   "source": [
    "def make_C_nu_dp(NU):\n",
    "    C_nu_dp = sympy.zeros(NU,NU+1)\n",
    "    C_nu_dp[:NU-1,:NU] = Matrix(NU-1,NU,lambda i,j: (j+1)**(2*(i+1)+1))\n",
    "    #C_nu_dp[NU-1,:NU]  = Matrix(1,NU,lambda i,j:2*(j+1))\n",
    "    C_nu_dp[NU-1,:NU]  = Matrix(1,NU,lambda i,j:(j+1))\n",
    "    C_nu_dp[NU-1,NU]   = Rat(1,2)\n",
    "\n",
    "    # sanity check\n",
    "    pprint( C_nu_dp)\n",
    "    Cnus = symbols(' '.join( ['C_'+str(nu)for nu in range(1,NU+1)]), real=True)\n",
    "    return solve_linear_system( C_nu_dp, *Cnus )"
   ]
  },
  {
   "cell_type": "code",
   "execution_count": 61,
   "metadata": {
    "collapsed": false,
    "scrolled": true
   },
   "outputs": [
    {
     "name": "stdout",
     "output_type": "stream",
     "text": [
      "⎡1  8   0 ⎤\n",
      "⎢         ⎥\n",
      "⎣1  2  1/2⎦\n"
     ]
    },
    {
     "data": {
      "text/plain": [
       "{C_1: 2/3, C_2: -1/12}"
      ]
     },
     "execution_count": 61,
     "metadata": {},
     "output_type": "execute_result"
    }
   ],
   "source": [
    "make_C_nu_dp(2)"
   ]
  },
  {
   "cell_type": "code",
   "execution_count": 70,
   "metadata": {
    "collapsed": false
   },
   "outputs": [
    {
     "data": {
      "image/png": "[encoded data removed]",
      "text/latex": [
       "$$h \\left. \\frac{d}{d \\xi_{1}} f{\\left (\\xi_{1} \\right )} \\right|_{\\substack{ \\xi_{1}=x_{0} }} + \\mathcal{O}\\left(h^{2} + h x + x^{2}; \\left ( h, \\quad x\\right )\\rightarrow\\left ( 0, \\quad 0\\right )\\right)$$"
      ],
      "text/plain": [
       "  ⎛ d        ⎞│         ⎛ 2          2                 ⎞\n",
       "h⋅⎜───(f(ξ₁))⎟│      + O⎝h  + h⋅x + x ; (h, x) → (0, 0)⎠\n",
       "  ⎝dξ₁       ⎠│ξ₁=x₀                                    "
      ]
     },
     "execution_count": 70,
     "metadata": {},
     "output_type": "execute_result"
    }
   ],
   "source": [
    "# sanity check\n",
    "p=2\n",
    "(Rat(2,3)*(f(x+h).series(x+h,x0=x_0,n=p) - f(x-h).series(x-h,x0=x_0,n=p)) + \\\n",
    "Rat(-1,12)*(f(x+2*h).series(x+2*h,x0=x_0,n=p)-f(x-2*h).series(x-2*h,x0=x_0,n=p))).simplify()\n"
   ]
  },
  {
   "cell_type": "code",
   "execution_count": 71,
   "metadata": {
    "collapsed": false
   },
   "outputs": [
    {
     "name": "stdout",
     "output_type": "stream",
     "text": [
      "⎡1  8   27    0 ⎤\n",
      "⎢               ⎥\n",
      "⎢1  32  243   0 ⎥\n",
      "⎢               ⎥\n",
      "⎣1  2    3   1/2⎦\n"
     ]
    },
    {
     "data": {
      "image/png": "[encoded data removed]",
      "text/latex": [
       "$$\\left \\{ C_{1} : \\frac{3}{4}, \\quad C_{2} : - \\frac{3}{20}, \\quad C_{3} : \\frac{1}{60}\\right \\}$$"
      ],
      "text/plain": [
       "{C₁: 3/4, C₂: -3/20, C₃: 1/60}"
      ]
     },
     "execution_count": 71,
     "metadata": {},
     "output_type": "execute_result"
    }
   ],
   "source": [
    "make_C_nu_dp(3)"
   ]
  },
  {
   "cell_type": "code",
   "execution_count": 72,
   "metadata": {
    "collapsed": false
   },
   "outputs": [
    {
     "name": "stdout",
     "output_type": "stream",
     "text": [
      "⎡1   8    27    64     0 ⎤\n",
      "⎢                        ⎥\n",
      "⎢1  32   243   1024    0 ⎥\n",
      "⎢                        ⎥\n",
      "⎢1  128  2187  16384   0 ⎥\n",
      "⎢                        ⎥\n",
      "⎣1   2    3      4    1/2⎦\n"
     ]
    },
    {
     "data": {
      "image/png": "[encoded data removed]",
      "text/latex": [
       "$$\\left \\{ C_{1} : \\frac{4}{5}, \\quad C_{2} : - \\frac{1}{5}, \\quad C_{3} : \\frac{4}{105}, \\quad C_{4} : - \\frac{1}{280}\\right \\}$$"
      ],
      "text/plain": [
       "{C₁: 4/5, C₂: -1/5, C₃: 4/105, C₄: -1/280}"
      ]
     },
     "execution_count": 72,
     "metadata": {},
     "output_type": "execute_result"
    }
   ],
   "source": [
    "make_C_nu_dp(4)"
   ]
  },
  {
   "cell_type": "markdown",
   "metadata": {},
   "source": [
    "Let's attempt to further generalize this procedure for $d=1$.  \n",
    "\n",
    "Consider the following easy examples for $p=1$.  \n",
    "\n",
    "Now\n",
    "$$\n",
    "f(x \\pm h) = f(x) + (\\frac{ \\partial f}{ \\partial x}(x) )( \\pm h) + \\mathcal{O}(h^2)  \n",
    "$$  \n",
    "$$\n",
    "f(x+h) - f(x-h) = 2h \\frac{ \\partial f}{ \\partial x} + \\mathcal{O}(h^2) \\text{ or } \\frac{ \\partial f}{ \\partial x} = \\frac{ f(x+h) - f(x-h) }{2h} + \\mathcal{O}(h)\n",
    "$$\n",
    "\n",
    "Likewise, for so-called forward and backward difference operators:\n",
    "$$ \n",
    "\\frac{f(x+h) - f(x)}{h} = \\frac{ \\partial f}{ \\partial x}  \n",
    "$$\n",
    "$$ \n",
    "\\frac{f(x) - f(x-h)}{h} = \\frac{ \\partial f}{ \\partial x}  \n",
    "$$\n",
    "Conjecture that \n",
    "$$\n",
    "\\boxed{\n",
    "\\frac{ \\partial f}{ \\partial x} = \\sum^N_{\\nu = 1} C_{\\nu} (f(x+ \\nu h) - f(x-\\nu h) ) \\left( \\frac{1}{h} \\right)\n",
    "}\n",
    "$$\n",
    "\n",
    "and so doing the Taylor expansion,\n",
    "$$\n",
    "f(x \\pm \\nu h) =\\sum_{j=0}^{p} \\frac{ f^{(j)}(x) }{j!} ( \\pm \\nu h)^j + \\mathcal{O}(h^{p+1}) = \\sum_{j'=0}^{p'} \\frac{ f^{(2j')}(x) }{ (2j')! } (\\nu h)^{2j'} + \\sum_{j'=0}^{p'} \\frac{ f^{(2j'+1) }(x) }{ (2j'+1)!} (\\nu h)^{2j'+1} (\\pm 1) + \\mathcal{O}(h^{p+1} )\n",
    "$$\n",
    "where $p := 2p'+1$.  \n",
    "\n",
    "Clearly, for $f(x+\\nu h) - f(x-\\nu h)$, all the \"even\" terms in the Taylor series expansion cancel each other out, leaving\n",
    "$$\n",
    "f(x+\\nu h) - f(x-\\nu h) = \\sum_{j'=0}^{p'} \\frac{ 2f^{(2j'+1)}(x) }{(2j'+1)!} (\\nu h)^{2j'+1} + O(h^{p+1}) = 2\\nu h \\frac{ \\partial f}{\\partial x} + \\sum_{j'=1}^{p'} \\frac{2(\\nu h)^{2j' +1} }{ (2j'+1)! } f^{(2j'+1) }(x) + \\mathcal{O}(h^{p+1} ) \n",
    "$$\n",
    "\n",
    "and so with our previous assumption (caveat),  \n",
    "\n",
    "$$\n",
    "\\sum_{\\nu =1}^{N} C_{\\nu} ( f(x+ \\nu h) - f(x-\\nu h)) \\frac{1}{h} = \\sum_{\\nu =1}^N C_{\\nu} \\left( 2\\nu \\frac{ \\partial f}{ \\partial x} + \\sum_{j'=1}^{p'} \\frac{ 2\\nu ^{2j'+1} }{ (2j'+1)! } f^{(2j+1) }(x) h^{2j'} \\right) + \\mathcal{O}(h^{p} )\n",
    "$$\n",
    "\n",
    "Then we obtain a system of linear equations that we'd want to solve:\n",
    "\n",
    "$$\n",
    "\\sum_{\\nu =1}^N 2C_{\\nu} \\nu = 1 \n",
    "$$  \n",
    "\n",
    "$$\n",
    "\\sum_{j'=1}^{p'} \\left( \\sum_{\\nu =1}^N C_{\\nu} \\frac{2\\nu^{2j'+1} }{ (2j'+1)! } \\right) f^{(2j+1) }(x) h^{2j'} = 0 \\text{ or }  \\left( \\sum_{\\nu =1}^N C_{\\nu} \\frac{ 2 \\nu^{2j'+1} }{ (2j'+1)! } \\right) = 0 \\qquad \\, \\forall \\, j' = 1 \\dots p'\n",
    "$$\n",
    "\n"
   ]
  },
  {
   "cell_type": "markdown",
   "metadata": {},
   "source": [
    "Thus, we confirm the `make_C_nu_dp(NU)` Python function for $d=1$.  "
   ]
  },
  {
   "cell_type": "markdown",
   "metadata": {},
   "source": [
    "## Backward difference operator, in the case of $d=1$, first-order derivative\n",
    "\n",
    "For the backward difference operator, then consider the following:"
   ]
  },
  {
   "cell_type": "markdown",
   "metadata": {},
   "source": [
    "$$\n",
    "\\frac{ \\partial f}{ \\partial x} = \\sum_{ \\nu =0}^N \\frac{1}{h} C_{\\nu} f(x-\\nu h) = \\sum_{\\nu = 0}^N \\frac{C_{\\nu} }{ h} \\left[ f(x) + \\left( \\frac{ \\partial f}{ \\partial x} \\right) (-\\nu h) + \\sum_{j=2}^p \\frac{ f^{(j)}(x) }{j!} (-\\nu h)^j \\right] + \\mathcal{O}(h^p)\n",
    "$$\n",
    "\n",
    "which leads to a system of linear equations:\n",
    "\n",
    "$$\n",
    "\\frac{1}{h} \\sum_{\\nu =0}^N C_{\\nu} = 0 \n",
    "$$\n",
    "\n",
    "$$ \n",
    "- \\sum_{\\nu =0}^N C_{\\nu } \\nu = 1\n",
    "$$\n",
    "\n",
    "$$\n",
    "\\sum_{j=2}^p \\frac{(-h)^jf^{(j)}(x)}{ hj!} \\sum_{ \\nu =0}^N C_{\\nu} \\nu^j = 0\n",
    "$$\n",
    "\n",
    "and I didn't make it explicit before, and neither here, but you can divide both sides of the equation by constant values that *don't* depend on index $j$ (or $\\nu$) and obtain the system of linear equations to solve."
   ]
  },
  {
   "cell_type": "code",
   "execution_count": 126,
   "metadata": {
    "collapsed": false
   },
   "outputs": [
    {
     "name": "stdout",
     "output_type": "stream",
     "text": [
      "⎡1  1  1  1   0 ⎤\n",
      "⎢               ⎥\n",
      "⎢0  1  2  3   -1⎥\n",
      "⎢               ⎥\n",
      "⎢0  1  4  9   0 ⎥\n",
      "⎢               ⎥\n",
      "⎣0  1  8  27  0 ⎦\n",
      "(C₀, C₁, C₂, C₃)\n"
     ]
    },
    {
     "data": {
      "image/png": "[encoded data removed]",
      "text/latex": [
       "$$\\left \\{ C_{0} : \\frac{11}{6}, \\quad C_{1} : -3, \\quad C_{2} : \\frac{3}{2}, \\quad C_{3} : - \\frac{1}{3}\\right \\}$$"
      ],
      "text/plain": [
       "{C₀: 11/6, C₁: -3, C₂: 3/2, C₃: -1/3}"
      ]
     },
     "execution_count": 126,
     "metadata": {},
     "output_type": "execute_result"
    }
   ],
   "source": [
    "NU = 3\n",
    "C_nueqns = sympy.zeros(NU+1,NU+2)\n",
    "C_nueqns[0,:NU+1] = Matrix(1,NU+1,lambda i,j: 1)\n",
    "C_nueqns[1,:NU+1] = Matrix(1,NU+1,lambda i,j:j)\n",
    "C_nueqns[1,NU+1] = -1\n",
    "if NU > 1:\n",
    "    C_nueqns[2:NU+1,:NU+1] = Matrix(NU-1,NU+1,lambda i,j: j**(i+2) )\n",
    "pprint(C_nueqns)\n",
    "Cnus = symbols(' '.join( ['C_'+str(nu)for nu in range(NU+1)]), real=True)\n",
    "pprint(Cnus)\n",
    "solve_linear_system( C_nueqns,*Cnus)"
   ]
  },
  {
   "cell_type": "code",
   "execution_count": 127,
   "metadata": {
    "collapsed": false
   },
   "outputs": [],
   "source": [
    "def make_backwardC_nu(NU):\n",
    "    C_nueqns = sympy.zeros(NU+1,NU+2)\n",
    "    C_nueqns[0,:NU+1]  = Matrix(1,NU+1,lambda i,j: 1)\n",
    "\n",
    "    C_nueqns[1,:NU+1]  = Matrix(1,NU+1,lambda i,j: j)\n",
    "    C_nueqns[1,NU+1]   = -1\n",
    "\n",
    "    if NU > 1:\n",
    "        C_nueqns[2:NU+1,:NU+1] = Matrix(NU-1,NU+1,lambda i,j: (j)**(i+2) )\n",
    "\n",
    "    # sanity check\n",
    "    pprint( C_nueqns)    \n",
    "        \n",
    "    Cnus = symbols(' '.join( ['C_'+str(nu)for nu in range(NU+1)]), real=True)\n",
    "    return solve_linear_system( C_nueqns, *Cnus )"
   ]
  },
  {
   "cell_type": "code",
   "execution_count": 122,
   "metadata": {
    "collapsed": false
   },
   "outputs": [
    {
     "name": "stdout",
     "output_type": "stream",
     "text": [
      "⎡1  1  0 ⎤\n",
      "⎢        ⎥\n",
      "⎣0  1  -1⎦\n"
     ]
    },
    {
     "data": {
      "image/png": "[encoded data removed]",
      "text/latex": [
       "$$\\left \\{ C_{0} : 1, \\quad C_{1} : -1\\right \\}$$"
      ],
      "text/plain": [
       "{C₀: 1, C₁: -1}"
      ]
     },
     "execution_count": 122,
     "metadata": {},
     "output_type": "execute_result"
    }
   ],
   "source": [
    "make_backwardC_nu(1)"
   ]
  },
  {
   "cell_type": "code",
   "execution_count": 128,
   "metadata": {
    "collapsed": false
   },
   "outputs": [
    {
     "name": "stdout",
     "output_type": "stream",
     "text": [
      "⎡1  1  1  0 ⎤\n",
      "⎢           ⎥\n",
      "⎢0  1  2  -1⎥\n",
      "⎢           ⎥\n",
      "⎣0  1  4  0 ⎦\n"
     ]
    },
    {
     "data": {
      "image/png": "[encoded data removed]",
      "text/latex": [
       "$$\\left \\{ C_{0} : \\frac{3}{2}, \\quad C_{1} : -2, \\quad C_{2} : \\frac{1}{2}\\right \\}$$"
      ],
      "text/plain": [
       "{C₀: 3/2, C₁: -2, C₂: 1/2}"
      ]
     },
     "execution_count": 128,
     "metadata": {},
     "output_type": "execute_result"
    }
   ],
   "source": [
    "make_backwardC_nu(2)"
   ]
  },
  {
   "cell_type": "code",
   "execution_count": 168,
   "metadata": {
    "collapsed": false
   },
   "outputs": [
    {
     "data": {
      "image/png": "[encoded data removed]",
      "text/latex": [
       "$$h \\left. \\frac{d}{d \\xi_{1}} f{\\left (\\xi_{1} \\right )} \\right|_{\\substack{ \\xi_{1}=x_{0} }} - \\frac{h^{3}}{3} \\left. \\frac{d^{3}}{d \\xi_{1}^{3}}  f{\\left (\\xi_{1} \\right )} \\right|_{\\substack{ \\xi_{1}=x_{0} }} + \\mathcal{O}\\left(h^{4} + h^{3} x + h^{2} x^{2} + h x^{3} + x^{4}; \\left ( h, \\quad x\\right )\\rightarrow\\left ( 0, \\quad 0\\right )\\right)$$"
      ],
      "text/plain": [
       "                          ⎛  3        ⎞│                                      \n",
       "                        3 ⎜ d         ⎟│                                      \n",
       "                       h ⋅⎜────(f(ξ₁))⎟│                                      \n",
       "                          ⎜   3       ⎟│                                      \n",
       "  ⎛ d        ⎞│           ⎝dξ₁        ⎠│ξ₁=x₀    ⎛ 4    3      2  2      3    \n",
       "h⋅⎜───(f(ξ₁))⎟│      - ────────────────────── + O⎝h  + h ⋅x + h ⋅x  + h⋅x  + x\n",
       "  ⎝dξ₁       ⎠│ξ₁=x₀             3                                            \n",
       "\n",
       "                   \n",
       "                   \n",
       "                   \n",
       "                   \n",
       "4                 ⎞\n",
       " ; (h, x) → (0, 0)⎠\n",
       "                   "
      ]
     },
     "execution_count": 168,
     "metadata": {},
     "output_type": "execute_result"
    }
   ],
   "source": [
    "# sanity check\n",
    "f(x).series(x,x0=x_0,n=4).subs(x-x_0,0)\n",
    "f(x-h).series(x-h,x0=x_0,n=4).subs(x-x_0,0)\n",
    "f(x-2*h).series(x-2*h,x0=x_0,n=4).subs(x-x_0,0)\n",
    "\n",
    "p=4\n",
    "( Rat(3,2)*f(x).series(x,x0=x_0,n=p).subs(x-x_0,0) + \\\n",
    "  Rat(-2)*( f(x-h).series(x-h,x0=x_0,n=p) ).subs(x-x_0,0) + \\\n",
    "Rat(1,2)*( f(x-2*h).series(x-2*h,x0=x_0,n=p)).subs(x-x_0,0) )\n"
   ]
  },
  {
   "cell_type": "code",
   "execution_count": 137,
   "metadata": {
    "collapsed": false
   },
   "outputs": [
    {
     "name": "stdout",
     "output_type": "stream",
     "text": [
      "⎡1  1  1  1   0 ⎤\n",
      "⎢               ⎥\n",
      "⎢0  1  2  3   -1⎥\n",
      "⎢               ⎥\n",
      "⎢0  1  4  9   0 ⎥\n",
      "⎢               ⎥\n",
      "⎣0  1  8  27  0 ⎦\n"
     ]
    },
    {
     "data": {
      "image/png": "[encoded data removed]",
      "text/latex": [
       "$$\\left \\{ C_{0} : \\frac{11}{6}, \\quad C_{1} : -3, \\quad C_{2} : \\frac{3}{2}, \\quad C_{3} : - \\frac{1}{3}\\right \\}$$"
      ],
      "text/plain": [
       "{C₀: 11/6, C₁: -3, C₂: 3/2, C₃: -1/3}"
      ]
     },
     "execution_count": 137,
     "metadata": {},
     "output_type": "execute_result"
    }
   ],
   "source": [
    "make_backwardC_nu(3)"
   ]
  },
  {
   "cell_type": "code",
   "execution_count": 169,
   "metadata": {
    "collapsed": false
   },
   "outputs": [
    {
     "data": {
      "image/png": "[encoded data removed]",
      "text/latex": [
       "$$h \\left. \\frac{d}{d \\xi_{1}} f{\\left (\\xi_{1} \\right )} \\right|_{\\substack{ \\xi_{1}=x_{0} }} - \\frac{h^{4}}{4} \\left. \\frac{d^{4}}{d \\xi_{1}^{4}}  f{\\left (\\xi_{1} \\right )} \\right|_{\\substack{ \\xi_{1}=x_{0} }} + \\mathcal{O}\\left(h^{5} + h^{4} x + h^{3} x^{2} + h^{2} x^{3} + h x^{4} + x^{5}; \\left ( h, \\quad x\\right )\\rightarrow\\left ( 0, \\quad 0\\right )\\right)$$"
      ],
      "text/plain": [
       "                          ⎛  4        ⎞│                                      \n",
       "                        4 ⎜ d         ⎟│                                      \n",
       "                       h ⋅⎜────(f(ξ₁))⎟│                                      \n",
       "                          ⎜   4       ⎟│                                      \n",
       "  ⎛ d        ⎞│           ⎝dξ₁        ⎠│ξ₁=x₀    ⎛ 5    4      3  2    2  3   \n",
       "h⋅⎜───(f(ξ₁))⎟│      - ────────────────────── + O⎝h  + h ⋅x + h ⋅x  + h ⋅x  + \n",
       "  ⎝dξ₁       ⎠│ξ₁=x₀             4                                            \n",
       "\n",
       "                           \n",
       "                           \n",
       "                           \n",
       "                           \n",
       "   4    5                 ⎞\n",
       "h⋅x  + x ; (h, x) → (0, 0)⎠\n",
       "                           "
      ]
     },
     "execution_count": 169,
     "metadata": {},
     "output_type": "execute_result"
    }
   ],
   "source": [
    "# sanity check\n",
    "p=5\n",
    "( Rat(11,6)*f(x).series(x,x0=x_0,n=p).subs(x-x_0,0) + \\\n",
    "  Rat(-3)*( f(x-h).series(x-h,x0=x_0,n=p) ).subs(x-x_0,0) + \\\n",
    "Rat(3,2)*( f(x-2*h).series(x-2*h,x0=x_0,n=p)).subs(x-x_0,0) + \\\n",
    "Rat(-1,3)*( f(x-3*h).series(x-3*h,x0=x_0,n=p)).subs(x-x_0,0) \n",
    ")\n"
   ]
  },
  {
   "cell_type": "code",
   "execution_count": 138,
   "metadata": {
    "collapsed": false
   },
   "outputs": [
    {
     "name": "stdout",
     "output_type": "stream",
     "text": [
      "⎡1  1  1   1    1   0 ⎤\n",
      "⎢                     ⎥\n",
      "⎢0  1  2   3    4   -1⎥\n",
      "⎢                     ⎥\n",
      "⎢0  1  4   9   16   0 ⎥\n",
      "⎢                     ⎥\n",
      "⎢0  1  8   27  64   0 ⎥\n",
      "⎢                     ⎥\n",
      "⎣0  1  16  81  256  0 ⎦\n"
     ]
    },
    {
     "data": {
      "image/png": "[encoded data removed]",
      "text/latex": [
       "$$\\left \\{ C_{0} : \\frac{25}{12}, \\quad C_{1} : -4, \\quad C_{2} : 3, \\quad C_{3} : - \\frac{4}{3}, \\quad C_{4} : \\frac{1}{4}\\right \\}$$"
      ],
      "text/plain": [
       "⎧    25                                  ⎫\n",
       "⎨C₀: ──, C₁: -4, C₂: 3, C₃: -4/3, C₄: 1/4⎬\n",
       "⎩    12                                  ⎭"
      ]
     },
     "execution_count": 138,
     "metadata": {},
     "output_type": "execute_result"
    }
   ],
   "source": [
    "make_backwardC_nu(4)"
   ]
  },
  {
   "cell_type": "code",
   "execution_count": 171,
   "metadata": {
    "collapsed": false
   },
   "outputs": [
    {
     "data": {
      "image/png": "[encoded data removed]",
      "text/latex": [
       "$$h \\left. \\frac{d}{d \\xi_{1}} f{\\left (\\xi_{1} \\right )} \\right|_{\\substack{ \\xi_{1}=x_{0} }} - \\frac{h^{5}}{5} \\left. \\frac{d^{5}}{d \\xi_{1}^{5}}  f{\\left (\\xi_{1} \\right )} \\right|_{\\substack{ \\xi_{1}=x_{0} }} + \\mathcal{O}\\left(h^{6} + h^{5} x + h^{4} x^{2} + h^{3} x^{3} + h^{2} x^{4} + h x^{5} + x^{6}; \\left ( h, \\quad x\\right )\\rightarrow\\left ( 0, \\quad 0\\right )\\right)$$"
      ],
      "text/plain": [
       "                          ⎛  5        ⎞│                                      \n",
       "                        5 ⎜ d         ⎟│                                      \n",
       "                       h ⋅⎜────(f(ξ₁))⎟│                                      \n",
       "                          ⎜   5       ⎟│                                      \n",
       "  ⎛ d        ⎞│           ⎝dξ₁        ⎠│ξ₁=x₀    ⎛ 6    5      4  2    3  3   \n",
       "h⋅⎜───(f(ξ₁))⎟│      - ────────────────────── + O⎝h  + h ⋅x + h ⋅x  + h ⋅x  + \n",
       "  ⎝dξ₁       ⎠│ξ₁=x₀             5                                            \n",
       "\n",
       "                                   \n",
       "                                   \n",
       "                                   \n",
       "                                   \n",
       " 2  4      5    6                 ⎞\n",
       "h ⋅x  + h⋅x  + x ; (h, x) → (0, 0)⎠\n",
       "                                   "
      ]
     },
     "execution_count": 171,
     "metadata": {},
     "output_type": "execute_result"
    }
   ],
   "source": [
    "# sanity check\n",
    "p=6\n",
    "( Rat(25,12)*f(x).series(x,x0=x_0,n=p).subs(x-x_0,0) + \\\n",
    "  Rat(-4)*( f(x-h).series(x-h,x0=x_0,n=p) ).subs(x-x_0,0) + \\\n",
    "Rat(3)*( f(x-2*h).series(x-2*h,x0=x_0,n=p)).subs(x-x_0,0) + \\\n",
    "Rat(-4,3)*( f(x-3*h).series(x-3*h,x0=x_0,n=p)).subs(x-x_0,0) + \\\n",
    "Rat(1,4)*( f(x-4*h).series(x-4*h,x0=x_0,n=p)).subs(x-x_0,0) \n",
    ")"
   ]
  },
  {
   "cell_type": "markdown",
   "metadata": {},
   "source": [
    "#### For $d=2$"
   ]
  },
  {
   "cell_type": "code",
   "execution_count": 164,
   "metadata": {
    "collapsed": false
   },
   "outputs": [],
   "source": [
    "C_nu_d2p4 = sympy.zeros(2,3) # d = 2, p = 4\n",
    "C_nu_d2p4[:1,:2] = Matrix(1,2,lambda i,j: (j+1)**(2*(i+2)))\n",
    "C_nu_d2p4[1,:2] = Matrix(1,2,lambda i,j: 2*(j+1)**2)\n",
    "C_nu_d2p4[1,2] = Rat(1)"
   ]
  },
  {
   "cell_type": "code",
   "execution_count": 165,
   "metadata": {
    "collapsed": false
   },
   "outputs": [
    {
     "data": {
      "image/png": "[encoded data removed]",
      "text/latex": [
       "$$\\left[\\begin{matrix}1 & 16 & 0\\\\2 & 8 & 1\\end{matrix}\\right]$$"
      ],
      "text/plain": [
       "⎡1  16  0⎤\n",
       "⎢        ⎥\n",
       "⎣2  8   1⎦"
      ]
     },
     "execution_count": 165,
     "metadata": {},
     "output_type": "execute_result"
    }
   ],
   "source": [
    "C_nu_d2p4"
   ]
  },
  {
   "cell_type": "code",
   "execution_count": 166,
   "metadata": {
    "collapsed": false
   },
   "outputs": [
    {
     "data": {
      "image/png": "[encoded data removed]",
      "text/latex": [
       "$$\\left \\{ C_{1} : \\frac{2}{3}, \\quad C_{2} : - \\frac{1}{24}\\right \\}$$"
      ],
      "text/plain": [
       "{C₁: 2/3, C₂: -1/24}"
      ]
     },
     "execution_count": 166,
     "metadata": {},
     "output_type": "execute_result"
    }
   ],
   "source": [
    "solve_linear_system( C_nu_d2p4, C_1,C_2)"
   ]
  },
  {
   "cell_type": "code",
   "execution_count": 168,
   "metadata": {
    "collapsed": false
   },
   "outputs": [],
   "source": [
    "C_nu_d2p6 = sympy.zeros(3,4) # d = 2, p = 6\n",
    "C_nu_d2p6[:2,:3] = Matrix(2,3,lambda i,j: (j+1)**(2*(i+2)))\n",
    "C_nu_d2p6[2,:3] = Matrix(1,3,lambda i,j: 2*(j+1)**2)\n",
    "C_nu_d2p6[2,3] = Rat(1)"
   ]
  },
  {
   "cell_type": "code",
   "execution_count": 169,
   "metadata": {
    "collapsed": false
   },
   "outputs": [
    {
     "data": {
      "image/png": "[encoded data removed]",
      "text/latex": [
       "$$\\left[\\begin{matrix}1 & 16 & 81 & 0\\\\1 & 64 & 729 & 0\\\\2 & 8 & 18 & 1\\end{matrix}\\right]$$"
      ],
      "text/plain": [
       "⎡1  16  81   0⎤\n",
       "⎢             ⎥\n",
       "⎢1  64  729  0⎥\n",
       "⎢             ⎥\n",
       "⎣2  8   18   1⎦"
      ]
     },
     "execution_count": 169,
     "metadata": {},
     "output_type": "execute_result"
    }
   ],
   "source": [
    "C_nu_d2p6"
   ]
  },
  {
   "cell_type": "code",
   "execution_count": 170,
   "metadata": {
    "collapsed": false
   },
   "outputs": [
    {
     "data": {
      "image/png": "[encoded data removed]",
      "text/latex": [
       "$$\\left \\{ C_{1} : \\frac{3}{4}, \\quad C_{2} : - \\frac{3}{40}, \\quad C_{3} : \\frac{1}{180}\\right \\}$$"
      ],
      "text/plain": [
       "{C₁: 3/4, C₂: -3/40, C₃: 1/180}"
      ]
     },
     "execution_count": 170,
     "metadata": {},
     "output_type": "execute_result"
    }
   ],
   "source": [
    "solve_linear_system( C_nu_d2p6, C_1,C_2,C_3)"
   ]
  },
  {
   "cell_type": "markdown",
   "metadata": {},
   "source": [
    "Indeed, "
   ]
  },
  {
   "cell_type": "code",
   "execution_count": 172,
   "metadata": {
    "collapsed": false
   },
   "outputs": [
    {
     "data": {
      "image/png": "[encoded data removed]",
      "text/latex": [
       "$$\\frac{h^{2}}{2} \\left. \\frac{d^{2}}{d \\xi_{1}^{2}}  f{\\left (\\xi_{1} \\right )} \\right|_{\\substack{ \\xi_{1}=x_{0} }} + \\mathcal{O}\\left(h^{4} + h^{3} x + h^{2} x^{2} + h x^{3} + x^{4}; \\left ( h, \\quad x\\right )\\rightarrow\\left ( 0, \\quad 0\\right )\\right)$$"
      ],
      "text/plain": [
       "   ⎛  2        ⎞│                                                         \n",
       " 2 ⎜ d         ⎟│                                                         \n",
       "h ⋅⎜────(f(ξ₁))⎟│                                                         \n",
       "   ⎜   2       ⎟│                                                         \n",
       "   ⎝dξ₁        ⎠│ξ₁=x₀    ⎛ 4    3      2  2      3    4                 ⎞\n",
       "────────────────────── + O⎝h  + h ⋅x + h ⋅x  + h⋅x  + x ; (h, x) → (0, 0)⎠\n",
       "          2                                                               "
      ]
     },
     "execution_count": 172,
     "metadata": {},
     "output_type": "execute_result"
    }
   ],
   "source": [
    "p = 4\n",
    "( Rat(2,3)*(f(x+h).series(x+h,x0=x_0,n=p) + f(x-h).series(x-h,x0=x_0,n=p) -2*f(x_0)) + \\\n",
    "Rat(-1,24)*(f(x+2*h).series(x+2*h,x0=x_0,n=p)+f(x-2*h).series(x-2*h,x0=x_0,n=p) -2*f(x_0))).subs(x-x_0,0)"
   ]
  },
  {
   "cell_type": "code",
   "execution_count": 175,
   "metadata": {
    "collapsed": false,
    "scrolled": true
   },
   "outputs": [
    {
     "data": {
      "image/png": "[encoded data removed]",
      "text/latex": [
       "$$\\frac{h^{2}}{2} \\left. \\frac{d^{2}}{d \\xi_{1}^{2}}  f{\\left (\\xi_{1} \\right )} \\right|_{\\substack{ \\xi_{1}=x_{0} }} + \\mathcal{O}\\left(h^{6} + h^{5} x + h^{4} x^{2} + h^{3} x^{3} + h^{2} x^{4} + h x^{5} + x^{6}; \\left ( h, \\quad x\\right )\\rightarrow\\left ( 0, \\quad 0\\right )\\right)$$"
      ],
      "text/plain": [
       "   ⎛  2        ⎞│                                                             \n",
       " 2 ⎜ d         ⎟│                                                             \n",
       "h ⋅⎜────(f(ξ₁))⎟│                                                             \n",
       "   ⎜   2       ⎟│                                                             \n",
       "   ⎝dξ₁        ⎠│ξ₁=x₀    ⎛ 6    5      4  2    3  3    2  4      5    6      \n",
       "────────────────────── + O⎝h  + h ⋅x + h ⋅x  + h ⋅x  + h ⋅x  + h⋅x  + x ; (h, \n",
       "          2                                                                   \n",
       "\n",
       "            \n",
       "            \n",
       "            \n",
       "            \n",
       "           ⎞\n",
       "x) → (0, 0)⎠\n",
       "            "
      ]
     },
     "execution_count": 175,
     "metadata": {},
     "output_type": "execute_result"
    }
   ],
   "source": [
    "p = 6\n",
    "( Rat(3,4)*(f(x+h).series(x+h,x0=x_0,n=p) + f(x-h).series(x-h,x0=x_0,n=p)-2*f(x_0)) + \\\n",
    "Rat(-3,40)*(f(x+2*h).series(x+2*h,x0=x_0,n=p)+f(x-2*h).series(x-2*h,x0=x_0,n=p)-2*f(x_0)) + \\\n",
    "Rat(1,180)*(f(x+3*h).series(x+3*h,x0=x_0,n=p)+f(x-3*h).series(x-3*h,x0=x_0,n=p)-2*f(x_0))).subs(x-x_0,0)"
   ]
  },
  {
   "cell_type": "markdown",
   "metadata": {},
   "source": [
    "## Central difference operator, in the case of $d=2$, 2nd-order derivative\n"
   ]
  },
  {
   "cell_type": "markdown",
   "metadata": {},
   "source": [
    "Let's attempt to further generalize this procedure for $d=2$.  \n",
    "\n",
    "Consider the following easy examples for $p=1$.  \n",
    "\n",
    "Now\n",
    "$$\n",
    "f(x \\pm h) = f(x) + (\\frac{ \\partial f}{ \\partial x}(x) )( \\pm h) + ( \\frac{1}{2} \\frac{ \\partial^2 f}{ \\partial x^2}(x) )h^2 + \\mathcal{O}(h^2)  \n",
    "$$  \n",
    "$$\n",
    "f(x+h) + f(x-h) = 2f(x) + h^2 \\frac{ \\partial^2 f}{ \\partial x^2} + \\mathcal{O}(h^3) \\text{ or } \\frac{ \\partial^2 f}{ \\partial x^2} = \\frac{ f(x+h) + f(x-h) - 2f(x) }{h^2} + \\mathcal{O}(h)\n",
    "$$\n",
    "\n",
    "And so\n",
    "\n",
    "$$\n",
    "f(x \\pm \\nu h) = f(x) + (\\frac{ \\partial f}{ \\partial x}(x) )( \\pm \\nu h) + (\\frac{1}{2} \\frac{ \\partial^2 f}{ \\partial x^2}(x) ) \\nu^2 h^2 + \\mathcal{O}(h^2)  \n",
    "$$  \n",
    "$$\n",
    "f(x+\\nu h) + f(x-\\nu h) = 2f(x) + \\nu^2 h^2 \\frac{ \\partial^2 f}{ \\partial x^2} + \\mathcal{O}(h^3) \\text{ or } \\frac{ \\partial^2 f}{ \\partial x^2} = \\frac{ f(x+\\nu h) + f(x-\\nu h) - 2f(x) }{\\nu^2 h^2} + \\mathcal{O}(h)\n",
    "$$\n",
    "\n",
    "\n",
    "Conjecture that \n",
    "$$\n",
    "\\boxed{\n",
    "\\frac{ \\partial^2 f}{ \\partial x^2} = \\sum^N_{\\nu = 1} C_{\\nu} (f(x+ \\nu h) + f(x-\\nu h) -2f(x) ) \\left( \\frac{1}{h^2} \\right)\n",
    "}\n",
    "$$\n",
    "(yes, the $\\frac{1}{\\nu^2}$ factor was swallowed into $C_{\\nu}$.)\n",
    "\n",
    "and so doing the Taylor expansion,\n",
    "$$\n",
    "f(x \\pm \\nu h) =\\sum_{j=0}^{p} \\frac{ f^{(j)}(x) }{j!} ( \\pm \\nu h)^j + \\mathcal{O}(h^{p+1}) = \\sum_{j'=0}^{p'} \\frac{ f^{(2j')}(x) }{ (2j')! } (\\nu h)^{2j'} + \\sum_{j'=0}^{p'} \\frac{ f^{(2j'+1) }(x) }{ (2j'+1)!} (\\nu h)^{2j'+1} (\\pm 1) + \\mathcal{O}(h^{p+1} )\n",
    "$$\n",
    "where $p := 2p'+1$.  \n",
    "\n",
    "Clearly, for $f(x+\\nu h) + f(x-\\nu h)$, all the \"odd\" terms in the Taylor series expansion cancel each other out, leaving\n",
    "$$\n",
    "f(x+\\nu h) + f(x-\\nu h) -2f(x)= \\sum_{j'=1}^{p'} \\frac{ 2f^{(2j')}(x) }{(2j')!} (\\nu h)^{2j'} + O(h^{p+1}) =  \\frac{ 2f''(x)}{2} (\\nu h)^2 + \\sum_{j'=2}^{p'} \\frac{2(\\nu h)^{2j' } }{ (2j')! } f^{(2j') }(x) + \\mathcal{O}(h^{p+1} ) \n",
    "$$\n",
    "\n",
    "and so with our previous assumption (caveat),  \n",
    "\n",
    "$$\n",
    "\\sum_{\\nu =1}^{N} C_{\\nu} ( f(x+ \\nu h) + f(x-\\nu h) -2f(x)) \\frac{1}{h^2} = \\sum_{\\nu =1}^N C_{\\nu} \\left(  \\nu^2 f''(x)h^2 + \\sum_{j'=2}^{p'} \\frac{ 2\\nu ^{2j'} }{ (2j')! } f^{(2j') }(x) h^{2j'} \\right) \\frac{1}{h^2} + \\mathcal{O}(h^{p} ) = \\sum_{\\nu =1}^N \\left[ C_{\\nu} \\nu^2  f''(x) + C_{\\nu} \\sum_{j'=2}^{p'} \\frac{ 2\\nu^{2j'} }{ (2j')!} f^{(2j') }(x)h^{2(j'-1) } \\right] + \\mathcal{O}(h^p)\n",
    "$$\n",
    "\n",
    "Then we obtain a system of linear equations that we'd want to solve:\n",
    "\n",
    "$$\n",
    "\\sum_{\\nu =1}^N \\nu^2 C_{\\nu}  = 1 \n",
    "$$  \n",
    "\n",
    "$$\n",
    "\\sum_{j'=2}^{p'} \\left( \\sum_{\\nu =1}^N C_{\\nu} \\frac{ 2\\nu^{2j'} }{ (2j')! } \\right)= 0 \n",
    "$$\n",
    "\n"
   ]
  },
  {
   "cell_type": "code",
   "execution_count": 36,
   "metadata": {
    "collapsed": true
   },
   "outputs": [],
   "source": [
    "def make_C_nu_d2p(NU):\n",
    "    C_nu_dp = sympy.zeros(NU,NU+1)\n",
    "    C_nu_dp[:NU-1,:NU] = Matrix(NU-1,NU,lambda i,j: (j+1)**(2*(i+2)))\n",
    "\n",
    "    C_nu_dp[NU-1,:NU]  = Matrix(1,NU,lambda i,j:(j+1)**2)\n",
    "    C_nu_dp[NU-1,NU]   = Rat(1)\n",
    "\n",
    "    # sanity check\n",
    "    pprint( C_nu_dp)\n",
    "    Cnus = symbols(' '.join( ['C_'+str(nu)for nu in range(1,NU+1)]), real=True)\n",
    "    return solve_linear_system( C_nu_dp, *Cnus )"
   ]
  },
  {
   "cell_type": "code",
   "execution_count": 37,
   "metadata": {
    "collapsed": false
   },
   "outputs": [
    {
     "name": "stdout",
     "output_type": "stream",
     "text": [
      "⎡1  16  0⎤\n",
      "⎢        ⎥\n",
      "⎣1  4   1⎦\n"
     ]
    },
    {
     "data": {
      "image/png": "[encoded data removed]",
      "text/latex": [
       "$$\\left \\{ C_{1} : \\frac{4}{3}, \\quad C_{2} : - \\frac{1}{12}\\right \\}$$"
      ],
      "text/plain": [
       "{C₁: 4/3, C₂: -1/12}"
      ]
     },
     "execution_count": 37,
     "metadata": {},
     "output_type": "execute_result"
    }
   ],
   "source": [
    "make_C_nu_d2p(2)"
   ]
  },
  {
   "cell_type": "code",
   "execution_count": 38,
   "metadata": {
    "collapsed": false
   },
   "outputs": [
    {
     "name": "stdout",
     "output_type": "stream",
     "text": [
      "⎡1  16  81   0⎤\n",
      "⎢             ⎥\n",
      "⎢1  64  729  0⎥\n",
      "⎢             ⎥\n",
      "⎣1  4    9   1⎦\n"
     ]
    },
    {
     "data": {
      "image/png": "[encoded data removed]",
      "text/latex": [
       "$$\\left \\{ C_{1} : \\frac{3}{2}, \\quad C_{2} : - \\frac{3}{20}, \\quad C_{3} : \\frac{1}{90}\\right \\}$$"
      ],
      "text/plain": [
       "{C₁: 3/2, C₂: -3/20, C₃: 1/90}"
      ]
     },
     "execution_count": 38,
     "metadata": {},
     "output_type": "execute_result"
    }
   ],
   "source": [
    "make_C_nu_d2p(3)"
   ]
  },
  {
   "cell_type": "code",
   "execution_count": 39,
   "metadata": {
    "collapsed": false
   },
   "outputs": [
    {
     "name": "stdout",
     "output_type": "stream",
     "text": [
      "⎡1  16    81    256   0⎤\n",
      "⎢                      ⎥\n",
      "⎢1  64   729   4096   0⎥\n",
      "⎢                      ⎥\n",
      "⎢1  256  6561  65536  0⎥\n",
      "⎢                      ⎥\n",
      "⎣1   4    9     16    1⎦\n"
     ]
    },
    {
     "data": {
      "image/png": "[encoded data removed]",
      "text/latex": [
       "$$\\left \\{ C_{1} : \\frac{8}{5}, \\quad C_{2} : - \\frac{1}{5}, \\quad C_{3} : \\frac{8}{315}, \\quad C_{4} : - \\frac{1}{560}\\right \\}$$"
      ],
      "text/plain": [
       "{C₁: 8/5, C₂: -1/5, C₃: 8/315, C₄: -1/560}"
      ]
     },
     "execution_count": 39,
     "metadata": {},
     "output_type": "execute_result"
    }
   ],
   "source": [
    "make_C_nu_d2p(4)"
   ]
  },
  {
   "cell_type": "markdown",
   "metadata": {},
   "source": [
    "Indeed"
   ]
  },
  {
   "cell_type": "code",
   "execution_count": 40,
   "metadata": {
    "collapsed": false
   },
   "outputs": [
    {
     "data": {
      "image/png": "[encoded data removed]",
      "text/latex": [
       "$$h^{2} \\left. \\frac{d^{2}}{d \\xi_{1}^{2}}  f{\\left (\\xi_{1} \\right )} \\right|_{\\substack{ \\xi_{1}=x_{0} }} + \\mathcal{O}\\left(h^{6} + h^{5} x + h^{4} x^{2} + h^{3} x^{3} + h^{2} x^{4} + h x^{5} + x^{6}; \\left ( h, \\quad x\\right )\\rightarrow\\left ( 0, \\quad 0\\right )\\right)$$"
      ],
      "text/plain": [
       "   ⎛  2        ⎞│                                                             \n",
       " 2 ⎜ d         ⎟│         ⎛ 6    5      4  2    3  3    2  4      5    6      \n",
       "h ⋅⎜────(f(ξ₁))⎟│      + O⎝h  + h ⋅x + h ⋅x  + h ⋅x  + h ⋅x  + h⋅x  + x ; (h, \n",
       "   ⎜   2       ⎟│                                                             \n",
       "   ⎝dξ₁        ⎠│ξ₁=x₀                                                        \n",
       "\n",
       "            \n",
       "           ⎞\n",
       "x) → (0, 0)⎠\n",
       "            \n",
       "            "
      ]
     },
     "execution_count": 40,
     "metadata": {},
     "output_type": "execute_result"
    }
   ],
   "source": [
    "p = 6\n",
    "( Rat(4,3)*(f(x+h).series(x+h,x0=x_0,n=p) + f(x-h).series(x-h,x0=x_0,n=p) -2*f(x_0)) + \\\n",
    "Rat(-1,12)*(f(x+2*h).series(x+2*h,x0=x_0,n=p)+f(x-2*h).series(x-2*h,x0=x_0,n=p) -2*f(x_0))).subs(x-x_0,0)"
   ]
  },
  {
   "cell_type": "code",
   "execution_count": 41,
   "metadata": {
    "collapsed": false
   },
   "outputs": [
    {
     "data": {
      "image/png": "[encoded data removed]",
      "text/latex": [
       "$$h^{2} \\left. \\frac{d^{2}}{d \\xi_{1}^{2}}  f{\\left (\\xi_{1} \\right )} \\right|_{\\substack{ \\xi_{1}=x_{0} }} + \\mathcal{O}\\left(h^{8} + h^{7} x + h^{6} x^{2} + h^{5} x^{3} + h^{4} x^{4} + h^{3} x^{5} + h^{2} x^{6} + h x^{7} + x^{8}; \\left ( h, \\quad x\\right )\\rightarrow\\left ( 0, \\quad 0\\right )\\right)$$"
      ],
      "text/plain": [
       "   ⎛  2        ⎞│                                                             \n",
       " 2 ⎜ d         ⎟│         ⎛ 8    7      6  2    5  3    4  4    3  5    2  6  \n",
       "h ⋅⎜────(f(ξ₁))⎟│      + O⎝h  + h ⋅x + h ⋅x  + h ⋅x  + h ⋅x  + h ⋅x  + h ⋅x  +\n",
       "   ⎜   2       ⎟│                                                             \n",
       "   ⎝dξ₁        ⎠│ξ₁=x₀                                                        \n",
       "\n",
       "                            \n",
       "    7    8                 ⎞\n",
       " h⋅x  + x ; (h, x) → (0, 0)⎠\n",
       "                            \n",
       "                            "
      ]
     },
     "execution_count": 41,
     "metadata": {},
     "output_type": "execute_result"
    }
   ],
   "source": [
    "p = 8\n",
    "( Rat(3,2)*(f(x+h).series(x+h,x0=x_0,n=p) + f(x-h).series(x-h,x0=x_0,n=p) -2*f(x_0)) + \\\n",
    "Rat(-3,20)*(f(x+2*h).series(x+2*h,x0=x_0,n=p)+f(x-2*h).series(x-2*h,x0=x_0,n=p) -2*f(x_0)) + \\\n",
    "Rat(1,90)*(f(x+3*h).series(x+3*h,x0=x_0,n=p)+f(x-3*h).series(x-3*h,x0=x_0,n=p) -2*f(x_0)) ).subs(x-x_0,0)"
   ]
  },
  {
   "cell_type": "code",
   "execution_count": 42,
   "metadata": {
    "collapsed": false
   },
   "outputs": [
    {
     "data": {
      "image/png": "[encoded data removed]",
      "text/latex": [
       "$$h^{2} \\left. \\frac{d^{2}}{d \\xi_{1}^{2}}  f{\\left (\\xi_{1} \\right )} \\right|_{\\substack{ \\xi_{1}=x_{0} }} + \\mathcal{O}\\left(h^{10} + h^{9} x + h^{8} x^{2} + h^{7} x^{3} + h^{6} x^{4} + h^{5} x^{5} + h^{4} x^{6} + h^{3} x^{7} + h^{2} x^{8} + h x^{9} + x^{10}; \\left ( h, \\quad x\\right )\\rightarrow\\left ( 0, \\quad 0\\right )\\right)$$"
      ],
      "text/plain": [
       "   ⎛  2        ⎞│                                                             \n",
       " 2 ⎜ d         ⎟│         ⎛ 10    9      8  2    7  3    6  4    5  5    4  6 \n",
       "h ⋅⎜────(f(ξ₁))⎟│      + O⎝h   + h ⋅x + h ⋅x  + h ⋅x  + h ⋅x  + h ⋅x  + h ⋅x  \n",
       "   ⎜   2       ⎟│                                                             \n",
       "   ⎝dξ₁        ⎠│ξ₁=x₀                                                        \n",
       "\n",
       "                                              \n",
       "   3  7    2  8      9    10                 ⎞\n",
       "+ h ⋅x  + h ⋅x  + h⋅x  + x  ; (h, x) → (0, 0)⎠\n",
       "                                              \n",
       "                                              "
      ]
     },
     "execution_count": 42,
     "metadata": {},
     "output_type": "execute_result"
    }
   ],
   "source": [
    "p = 10\n",
    "( Rat(8,5)*(f(x+h).series(x+h,x0=x_0,n=p) + f(x-h).series(x-h,x0=x_0,n=p) -2*f(x_0)) + \\\n",
    "Rat(-1,5)*(f(x+2*h).series(x+2*h,x0=x_0,n=p)+f(x-2*h).series(x-2*h,x0=x_0,n=p) -2*f(x_0)) + \\\n",
    "Rat(8,315)*(f(x+3*h).series(x+3*h,x0=x_0,n=p)+f(x-3*h).series(x-3*h,x0=x_0,n=p) -2*f(x_0)) + \\\n",
    " Rat(-1,560)*(f(x+4*h).series(x+4*h,x0=x_0,n=p)+f(x-4*h).series(x-4*h,x0=x_0,n=p) -2*f(x_0))\n",
    ").subs(x-x_0,0)"
   ]
  },
  {
   "cell_type": "markdown",
   "metadata": {
    "collapsed": true
   },
   "source": [
    "# finite difference sanity check on Python numpy"
   ]
  },
  {
   "cell_type": "code",
   "execution_count": 5,
   "metadata": {
    "collapsed": true
   },
   "outputs": [],
   "source": [
    "import numpy as np"
   ]
  },
  {
   "cell_type": "code",
   "execution_count": 13,
   "metadata": {
    "collapsed": true
   },
   "outputs": [],
   "source": [
    "import matplotlib\n",
    "import pylab\n",
    "import numpy as np"
   ]
  },
  {
   "cell_type": "code",
   "execution_count": 14,
   "metadata": {
    "collapsed": true
   },
   "outputs": [],
   "source": [
    "%matplotlib inline\n",
    "%config InlineBackend.figure_formats = {'svg','png'}"
   ]
  },
  {
   "cell_type": "code",
   "execution_count": 28,
   "metadata": {
    "collapsed": false
   },
   "outputs": [],
   "source": [
    "l_x = 2.* np.pi\n",
    "l_y = 2.* np.pi\n",
    "l_z = 2.* np.pi\n",
    "L_x = 64 \n",
    "L_y = 64 \n",
    "L_z = 64\n",
    "f_grid3d = np.zeros((L_x,L_y,L_z))\n",
    "df_grid3d_result = np.zeros((L_x,L_y,L_z))\n",
    "h_x = l_x/L_x; h_y = l_y/L_y; h_z = l_z/L_z"
   ]
  },
  {
   "cell_type": "code",
   "execution_count": 33,
   "metadata": {
    "collapsed": false
   },
   "outputs": [],
   "source": [
    "for i_z in range(L_z):\n",
    "    for i_y in range(L_y):\n",
    "        for i_x in range(L_x):\n",
    "            f_grid3d[i_x][i_y][i_z] = np.sin( i_x*h_x)"
   ]
  },
  {
   "cell_type": "code",
   "execution_count": 26,
   "metadata": {
    "collapsed": false
   },
   "outputs": [
    {
     "data": {
      "text/plain": [
       "(64,)"
      ]
     },
     "execution_count": 26,
     "metadata": {},
     "output_type": "execute_result"
    }
   ],
   "source": [
    "f_grid3d[:,0,0].shape"
   ]
  },
  {
   "cell_type": "code",
   "execution_count": 27,
   "metadata": {
    "collapsed": false
   },
   "outputs": [
    {
     "data": {
      "text/plain": [
       "[<matplotlib.lines.Line2D at 0x7fe5ad8a5590>]"
      ]
     },
     "execution_count": 27,
     "metadata": {},
     "output_type": "execute_result"
    },
    {
     "data": {
      "image/png": "[encoded data removed]",
      "image/svg+xml": [
       "<?xml version=\"1.0\" encoding=\"utf-8\" standalone=\"no\"?>\n",
       "<!DOCTYPE svg PUBLIC \"-//W3C//DTD SVG 1.1//EN\"\n",
       "  \"http://www.w3.org/Graphics/SVG/1.1/DTD/svg11.dtd\">\n",
       "<!-- Created with matplotlib (http://matplotlib.org/) -->\n",
       "<svg height=\"256pt\" version=\"1.1\" viewBox=\"0 0 383 256\" width=\"383pt\" xmlns=\"http://www.w3.org/2000/svg\" xmlns:xlink=\"http://www.w3.org/1999/xlink\">\n",
       " <defs>\n",
       "  <style type=\"text/css\">\n",
       "*{stroke-linecap:butt;stroke-linejoin:round;stroke-miterlimit:100000;}\n",
       "  </style>\n",
       " </defs>\n",
       " <g id=\"figure_1\">\n",
       "  <g id=\"patch_1\">\n",
       "   <path d=\"M 0 256.117188 \n",
       "L 383.845312 256.117188 \n",
       "L 383.845312 0 \n",
       "L 0 0 \n",
       "L 0 256.117188 \n",
       "z\n",
       "\" style=\"fill:none;\"/>\n",
       "  </g>\n",
       "  <g id=\"axes_1\">\n",
       "   <g id=\"patch_2\">\n",
       "    <path d=\"M 35.482813 235.239062 \n",
       "L 370.282813 235.239062 \n",
       "L 370.282813 12.039062 \n",
       "L 35.482813 12.039062 \n",
       "z\n",
       "\" style=\"fill:#ffffff;\"/>\n",
       "   </g>\n",
       "   <g id=\"line2d_1\">\n",
       "    <path clip-path=\"url(#pccdd73348c)\" d=\"M 35.482813 123.639062 \n",
       "L 40.26567 112.70035 \n",
       "L 45.048527 101.866983 \n",
       "L 49.831384 91.243293 \n",
       "L 54.614241 80.931591 \n",
       "L 59.397098 71.031187 \n",
       "L 64.179955 61.637424 \n",
       "L 68.962813 52.840772 \n",
       "L 73.74567 44.725946 \n",
       "L 78.528527 37.371096 \n",
       "L 83.311384 30.847054 \n",
       "L 88.094241 25.216649 \n",
       "L 92.877098 20.534107 \n",
       "L 97.659955 16.844521 \n",
       "L 102.442813 14.183425 \n",
       "L 107.22567 12.576447 \n",
       "L 112.008527 12.039062 \n",
       "L 116.791384 12.576447 \n",
       "L 121.574241 14.183425 \n",
       "L 126.357098 16.844521 \n",
       "L 131.139955 20.534107 \n",
       "L 135.922813 25.216649 \n",
       "L 140.70567 30.847054 \n",
       "L 145.488527 37.371096 \n",
       "L 150.271384 44.725946 \n",
       "L 155.054241 52.840772 \n",
       "L 159.837098 61.637424 \n",
       "L 164.619955 71.031187 \n",
       "L 169.402813 80.931591 \n",
       "L 174.18567 91.243293 \n",
       "L 178.968527 101.866983 \n",
       "L 183.751384 112.70035 \n",
       "L 188.534241 123.639062 \n",
       "L 193.317098 134.577775 \n",
       "L 198.099955 145.411142 \n",
       "L 202.882812 156.034832 \n",
       "L 207.66567 166.346534 \n",
       "L 212.448527 176.246938 \n",
       "L 217.231384 185.640701 \n",
       "L 222.014241 194.437353 \n",
       "L 226.797098 202.552179 \n",
       "L 231.579955 209.907029 \n",
       "L 236.362813 216.431071 \n",
       "L 241.14567 222.061476 \n",
       "L 245.928527 226.744018 \n",
       "L 250.711384 230.433604 \n",
       "L 255.494241 233.0947 \n",
       "L 260.277098 234.701678 \n",
       "L 265.059955 235.239062 \n",
       "L 269.842813 234.701678 \n",
       "L 274.62567 233.0947 \n",
       "L 279.408527 230.433604 \n",
       "L 284.191384 226.744018 \n",
       "L 288.974241 222.061476 \n",
       "L 293.757098 216.431071 \n",
       "L 298.539955 209.907029 \n",
       "L 303.322813 202.552179 \n",
       "L 308.10567 194.437353 \n",
       "L 312.888527 185.640701 \n",
       "L 317.671384 176.246938 \n",
       "L 322.454241 166.346534 \n",
       "L 327.237098 156.034832 \n",
       "L 332.019955 145.411142 \n",
       "L 336.802813 134.577775 \n",
       "\" style=\"fill:none;stroke:#0000ff;stroke-linecap:square;\"/>\n",
       "   </g>\n",
       "   <g id=\"patch_3\">\n",
       "    <path d=\"M 35.482813 12.039062 \n",
       "L 370.282813 12.039062 \n",
       "\" style=\"fill:none;stroke:#000000;stroke-linecap:square;stroke-linejoin:miter;\"/>\n",
       "   </g>\n",
       "   <g id=\"patch_4\">\n",
       "    <path d=\"M 370.282813 235.239062 \n",
       "L 370.282813 12.039062 \n",
       "\" style=\"fill:none;stroke:#000000;stroke-linecap:square;stroke-linejoin:miter;\"/>\n",
       "   </g>\n",
       "   <g id=\"patch_5\">\n",
       "    <path d=\"M 35.482813 235.239062 \n",
       "L 370.282813 235.239062 \n",
       "\" style=\"fill:none;stroke:#000000;stroke-linecap:square;stroke-linejoin:miter;\"/>\n",
       "   </g>\n",
       "   <g id=\"patch_6\">\n",
       "    <path d=\"M 35.482813 235.239062 \n",
       "L 35.482813 12.039062 \n",
       "\" style=\"fill:none;stroke:#000000;stroke-linecap:square;stroke-linejoin:miter;\"/>\n",
       "   </g>\n",
       "   <g id=\"matplotlib.axis_1\">\n",
       "    <g id=\"xtick_1\">\n",
       "     <g id=\"line2d_2\">\n",
       "      <defs>\n",
       "       <path d=\"M 0 0 \n",
       "L 0 -4 \n",
       "\" id=\"m4739b72f9e\" style=\"stroke:#000000;stroke-width:0.5;\"/>\n",
       "      </defs>\n",
       "      <g>\n",
       "       <use style=\"stroke:#000000;stroke-width:0.5;\" x=\"35.4828125\" xlink:href=\"#m4739b72f9e\" y=\"235.2390625\"/>\n",
       "      </g>\n",
       "     </g>\n",
       "     <g id=\"line2d_3\">\n",
       "      <defs>\n",
       "       <path d=\"M 0 0 \n",
       "L 0 4 \n",
       "\" id=\"mccc8cd49f0\" style=\"stroke:#000000;stroke-width:0.5;\"/>\n",
       "      </defs>\n",
       "      <g>\n",
       "       <use style=\"stroke:#000000;stroke-width:0.5;\" x=\"35.4828125\" xlink:href=\"#mccc8cd49f0\" y=\"12.0390625\"/>\n",
       "      </g>\n",
       "     </g>\n",
       "     <g id=\"text_1\">\n",
       "      <!-- 0 -->\n",
       "      <defs>\n",
       "       <path d=\"M 31.78125 66.40625 \n",
       "Q 24.171875 66.40625 20.328125 58.90625 \n",
       "Q 16.5 51.421875 16.5 36.375 \n",
       "Q 16.5 21.390625 20.328125 13.890625 \n",
       "Q 24.171875 6.390625 31.78125 6.390625 \n",
       "Q 39.453125 6.390625 43.28125 13.890625 \n",
       "Q 47.125 21.390625 47.125 36.375 \n",
       "Q 47.125 51.421875 43.28125 58.90625 \n",
       "Q 39.453125 66.40625 31.78125 66.40625 \n",
       "M 31.78125 74.21875 \n",
       "Q 44.046875 74.21875 50.515625 64.515625 \n",
       "Q 56.984375 54.828125 56.984375 36.375 \n",
       "Q 56.984375 17.96875 50.515625 8.265625 \n",
       "Q 44.046875 -1.421875 31.78125 -1.421875 \n",
       "Q 19.53125 -1.421875 13.0625 8.265625 \n",
       "Q 6.59375 17.96875 6.59375 36.375 \n",
       "Q 6.59375 54.828125 13.0625 64.515625 \n",
       "Q 19.53125 74.21875 31.78125 74.21875 \n",
       "\" id=\"BitstreamVeraSans-Roman-30\"/>\n",
       "      </defs>\n",
       "      <g transform=\"translate(32.3015625 246.8375)scale(0.1 -0.1)\">\n",
       "       <use xlink:href=\"#BitstreamVeraSans-Roman-30\"/>\n",
       "      </g>\n",
       "     </g>\n",
       "    </g>\n",
       "    <g id=\"xtick_2\">\n",
       "     <g id=\"line2d_4\">\n",
       "      <g>\n",
       "       <use style=\"stroke:#000000;stroke-width:0.5;\" x=\"83.3113839286\" xlink:href=\"#m4739b72f9e\" y=\"235.2390625\"/>\n",
       "      </g>\n",
       "     </g>\n",
       "     <g id=\"line2d_5\">\n",
       "      <g>\n",
       "       <use style=\"stroke:#000000;stroke-width:0.5;\" x=\"83.3113839286\" xlink:href=\"#mccc8cd49f0\" y=\"12.0390625\"/>\n",
       "      </g>\n",
       "     </g>\n",
       "     <g id=\"text_2\">\n",
       "      <!-- 10 -->\n",
       "      <defs>\n",
       "       <path d=\"M 12.40625 8.296875 \n",
       "L 28.515625 8.296875 \n",
       "L 28.515625 63.921875 \n",
       "L 10.984375 60.40625 \n",
       "L 10.984375 69.390625 \n",
       "L 28.421875 72.90625 \n",
       "L 38.28125 72.90625 \n",
       "L 38.28125 8.296875 \n",
       "L 54.390625 8.296875 \n",
       "L 54.390625 0 \n",
       "L 12.40625 0 \n",
       "z\n",
       "\" id=\"BitstreamVeraSans-Roman-31\"/>\n",
       "      </defs>\n",
       "      <g transform=\"translate(76.9488839286 246.8375)scale(0.1 -0.1)\">\n",
       "       <use xlink:href=\"#BitstreamVeraSans-Roman-31\"/>\n",
       "       <use x=\"63.623046875\" xlink:href=\"#BitstreamVeraSans-Roman-30\"/>\n",
       "      </g>\n",
       "     </g>\n",
       "    </g>\n",
       "    <g id=\"xtick_3\">\n",
       "     <g id=\"line2d_6\">\n",
       "      <g>\n",
       "       <use style=\"stroke:#000000;stroke-width:0.5;\" x=\"131.139955357\" xlink:href=\"#m4739b72f9e\" y=\"235.2390625\"/>\n",
       "      </g>\n",
       "     </g>\n",
       "     <g id=\"line2d_7\">\n",
       "      <g>\n",
       "       <use style=\"stroke:#000000;stroke-width:0.5;\" x=\"131.139955357\" xlink:href=\"#mccc8cd49f0\" y=\"12.0390625\"/>\n",
       "      </g>\n",
       "     </g>\n",
       "     <g id=\"text_3\">\n",
       "      <!-- 20 -->\n",
       "      <defs>\n",
       "       <path d=\"M 19.1875 8.296875 \n",
       "L 53.609375 8.296875 \n",
       "L 53.609375 0 \n",
       "L 7.328125 0 \n",
       "L 7.328125 8.296875 \n",
       "Q 12.9375 14.109375 22.625 23.890625 \n",
       "Q 32.328125 33.6875 34.8125 36.53125 \n",
       "Q 39.546875 41.84375 41.421875 45.53125 \n",
       "Q 43.3125 49.21875 43.3125 52.78125 \n",
       "Q 43.3125 58.59375 39.234375 62.25 \n",
       "Q 35.15625 65.921875 28.609375 65.921875 \n",
       "Q 23.96875 65.921875 18.8125 64.3125 \n",
       "Q 13.671875 62.703125 7.8125 59.421875 \n",
       "L 7.8125 69.390625 \n",
       "Q 13.765625 71.78125 18.9375 73 \n",
       "Q 24.125 74.21875 28.421875 74.21875 \n",
       "Q 39.75 74.21875 46.484375 68.546875 \n",
       "Q 53.21875 62.890625 53.21875 53.421875 \n",
       "Q 53.21875 48.921875 51.53125 44.890625 \n",
       "Q 49.859375 40.875 45.40625 35.40625 \n",
       "Q 44.1875 33.984375 37.640625 27.21875 \n",
       "Q 31.109375 20.453125 19.1875 8.296875 \n",
       "\" id=\"BitstreamVeraSans-Roman-32\"/>\n",
       "      </defs>\n",
       "      <g transform=\"translate(124.777455357 246.8375)scale(0.1 -0.1)\">\n",
       "       <use xlink:href=\"#BitstreamVeraSans-Roman-32\"/>\n",
       "       <use x=\"63.623046875\" xlink:href=\"#BitstreamVeraSans-Roman-30\"/>\n",
       "      </g>\n",
       "     </g>\n",
       "    </g>\n",
       "    <g id=\"xtick_4\">\n",
       "     <g id=\"line2d_8\">\n",
       "      <g>\n",
       "       <use style=\"stroke:#000000;stroke-width:0.5;\" x=\"178.968526786\" xlink:href=\"#m4739b72f9e\" y=\"235.2390625\"/>\n",
       "      </g>\n",
       "     </g>\n",
       "     <g id=\"line2d_9\">\n",
       "      <g>\n",
       "       <use style=\"stroke:#000000;stroke-width:0.5;\" x=\"178.968526786\" xlink:href=\"#mccc8cd49f0\" y=\"12.0390625\"/>\n",
       "      </g>\n",
       "     </g>\n",
       "     <g id=\"text_4\">\n",
       "      <!-- 30 -->\n",
       "      <defs>\n",
       "       <path d=\"M 40.578125 39.3125 \n",
       "Q 47.65625 37.796875 51.625 33 \n",
       "Q 55.609375 28.21875 55.609375 21.1875 \n",
       "Q 55.609375 10.40625 48.1875 4.484375 \n",
       "Q 40.765625 -1.421875 27.09375 -1.421875 \n",
       "Q 22.515625 -1.421875 17.65625 -0.515625 \n",
       "Q 12.796875 0.390625 7.625 2.203125 \n",
       "L 7.625 11.71875 \n",
       "Q 11.71875 9.328125 16.59375 8.109375 \n",
       "Q 21.484375 6.890625 26.8125 6.890625 \n",
       "Q 36.078125 6.890625 40.9375 10.546875 \n",
       "Q 45.796875 14.203125 45.796875 21.1875 \n",
       "Q 45.796875 27.640625 41.28125 31.265625 \n",
       "Q 36.765625 34.90625 28.71875 34.90625 \n",
       "L 20.21875 34.90625 \n",
       "L 20.21875 43.015625 \n",
       "L 29.109375 43.015625 \n",
       "Q 36.375 43.015625 40.234375 45.921875 \n",
       "Q 44.09375 48.828125 44.09375 54.296875 \n",
       "Q 44.09375 59.90625 40.109375 62.90625 \n",
       "Q 36.140625 65.921875 28.71875 65.921875 \n",
       "Q 24.65625 65.921875 20.015625 65.03125 \n",
       "Q 15.375 64.15625 9.8125 62.3125 \n",
       "L 9.8125 71.09375 \n",
       "Q 15.4375 72.65625 20.34375 73.4375 \n",
       "Q 25.25 74.21875 29.59375 74.21875 \n",
       "Q 40.828125 74.21875 47.359375 69.109375 \n",
       "Q 53.90625 64.015625 53.90625 55.328125 \n",
       "Q 53.90625 49.265625 50.4375 45.09375 \n",
       "Q 46.96875 40.921875 40.578125 39.3125 \n",
       "\" id=\"BitstreamVeraSans-Roman-33\"/>\n",
       "      </defs>\n",
       "      <g transform=\"translate(172.606026786 246.8375)scale(0.1 -0.1)\">\n",
       "       <use xlink:href=\"#BitstreamVeraSans-Roman-33\"/>\n",
       "       <use x=\"63.623046875\" xlink:href=\"#BitstreamVeraSans-Roman-30\"/>\n",
       "      </g>\n",
       "     </g>\n",
       "    </g>\n",
       "    <g id=\"xtick_5\">\n",
       "     <g id=\"line2d_10\">\n",
       "      <g>\n",
       "       <use style=\"stroke:#000000;stroke-width:0.5;\" x=\"226.797098214\" xlink:href=\"#m4739b72f9e\" y=\"235.2390625\"/>\n",
       "      </g>\n",
       "     </g>\n",
       "     <g id=\"line2d_11\">\n",
       "      <g>\n",
       "       <use style=\"stroke:#000000;stroke-width:0.5;\" x=\"226.797098214\" xlink:href=\"#mccc8cd49f0\" y=\"12.0390625\"/>\n",
       "      </g>\n",
       "     </g>\n",
       "     <g id=\"text_5\">\n",
       "      <!-- 40 -->\n",
       "      <defs>\n",
       "       <path d=\"M 37.796875 64.3125 \n",
       "L 12.890625 25.390625 \n",
       "L 37.796875 25.390625 \n",
       "z\n",
       "M 35.203125 72.90625 \n",
       "L 47.609375 72.90625 \n",
       "L 47.609375 25.390625 \n",
       "L 58.015625 25.390625 \n",
       "L 58.015625 17.1875 \n",
       "L 47.609375 17.1875 \n",
       "L 47.609375 0 \n",
       "L 37.796875 0 \n",
       "L 37.796875 17.1875 \n",
       "L 4.890625 17.1875 \n",
       "L 4.890625 26.703125 \n",
       "z\n",
       "\" id=\"BitstreamVeraSans-Roman-34\"/>\n",
       "      </defs>\n",
       "      <g transform=\"translate(220.434598214 246.8375)scale(0.1 -0.1)\">\n",
       "       <use xlink:href=\"#BitstreamVeraSans-Roman-34\"/>\n",
       "       <use x=\"63.623046875\" xlink:href=\"#BitstreamVeraSans-Roman-30\"/>\n",
       "      </g>\n",
       "     </g>\n",
       "    </g>\n",
       "    <g id=\"xtick_6\">\n",
       "     <g id=\"line2d_12\">\n",
       "      <g>\n",
       "       <use style=\"stroke:#000000;stroke-width:0.5;\" x=\"274.625669643\" xlink:href=\"#m4739b72f9e\" y=\"235.2390625\"/>\n",
       "      </g>\n",
       "     </g>\n",
       "     <g id=\"line2d_13\">\n",
       "      <g>\n",
       "       <use style=\"stroke:#000000;stroke-width:0.5;\" x=\"274.625669643\" xlink:href=\"#mccc8cd49f0\" y=\"12.0390625\"/>\n",
       "      </g>\n",
       "     </g>\n",
       "     <g id=\"text_6\">\n",
       "      <!-- 50 -->\n",
       "      <defs>\n",
       "       <path d=\"M 10.796875 72.90625 \n",
       "L 49.515625 72.90625 \n",
       "L 49.515625 64.59375 \n",
       "L 19.828125 64.59375 \n",
       "L 19.828125 46.734375 \n",
       "Q 21.96875 47.46875 24.109375 47.828125 \n",
       "Q 26.265625 48.1875 28.421875 48.1875 \n",
       "Q 40.625 48.1875 47.75 41.5 \n",
       "Q 54.890625 34.8125 54.890625 23.390625 \n",
       "Q 54.890625 11.625 47.5625 5.09375 \n",
       "Q 40.234375 -1.421875 26.90625 -1.421875 \n",
       "Q 22.3125 -1.421875 17.546875 -0.640625 \n",
       "Q 12.796875 0.140625 7.71875 1.703125 \n",
       "L 7.71875 11.625 \n",
       "Q 12.109375 9.234375 16.796875 8.0625 \n",
       "Q 21.484375 6.890625 26.703125 6.890625 \n",
       "Q 35.15625 6.890625 40.078125 11.328125 \n",
       "Q 45.015625 15.765625 45.015625 23.390625 \n",
       "Q 45.015625 31 40.078125 35.4375 \n",
       "Q 35.15625 39.890625 26.703125 39.890625 \n",
       "Q 22.75 39.890625 18.8125 39.015625 \n",
       "Q 14.890625 38.140625 10.796875 36.28125 \n",
       "z\n",
       "\" id=\"BitstreamVeraSans-Roman-35\"/>\n",
       "      </defs>\n",
       "      <g transform=\"translate(268.263169643 246.8375)scale(0.1 -0.1)\">\n",
       "       <use xlink:href=\"#BitstreamVeraSans-Roman-35\"/>\n",
       "       <use x=\"63.623046875\" xlink:href=\"#BitstreamVeraSans-Roman-30\"/>\n",
       "      </g>\n",
       "     </g>\n",
       "    </g>\n",
       "    <g id=\"xtick_7\">\n",
       "     <g id=\"line2d_14\">\n",
       "      <g>\n",
       "       <use style=\"stroke:#000000;stroke-width:0.5;\" x=\"322.454241071\" xlink:href=\"#m4739b72f9e\" y=\"235.2390625\"/>\n",
       "      </g>\n",
       "     </g>\n",
       "     <g id=\"line2d_15\">\n",
       "      <g>\n",
       "       <use style=\"stroke:#000000;stroke-width:0.5;\" x=\"322.454241071\" xlink:href=\"#mccc8cd49f0\" y=\"12.0390625\"/>\n",
       "      </g>\n",
       "     </g>\n",
       "     <g id=\"text_7\">\n",
       "      <!-- 60 -->\n",
       "      <defs>\n",
       "       <path d=\"M 33.015625 40.375 \n",
       "Q 26.375 40.375 22.484375 35.828125 \n",
       "Q 18.609375 31.296875 18.609375 23.390625 \n",
       "Q 18.609375 15.53125 22.484375 10.953125 \n",
       "Q 26.375 6.390625 33.015625 6.390625 \n",
       "Q 39.65625 6.390625 43.53125 10.953125 \n",
       "Q 47.40625 15.53125 47.40625 23.390625 \n",
       "Q 47.40625 31.296875 43.53125 35.828125 \n",
       "Q 39.65625 40.375 33.015625 40.375 \n",
       "M 52.59375 71.296875 \n",
       "L 52.59375 62.3125 \n",
       "Q 48.875 64.0625 45.09375 64.984375 \n",
       "Q 41.3125 65.921875 37.59375 65.921875 \n",
       "Q 27.828125 65.921875 22.671875 59.328125 \n",
       "Q 17.53125 52.734375 16.796875 39.40625 \n",
       "Q 19.671875 43.65625 24.015625 45.921875 \n",
       "Q 28.375 48.1875 33.59375 48.1875 \n",
       "Q 44.578125 48.1875 50.953125 41.515625 \n",
       "Q 57.328125 34.859375 57.328125 23.390625 \n",
       "Q 57.328125 12.15625 50.6875 5.359375 \n",
       "Q 44.046875 -1.421875 33.015625 -1.421875 \n",
       "Q 20.359375 -1.421875 13.671875 8.265625 \n",
       "Q 6.984375 17.96875 6.984375 36.375 \n",
       "Q 6.984375 53.65625 15.1875 63.9375 \n",
       "Q 23.390625 74.21875 37.203125 74.21875 \n",
       "Q 40.921875 74.21875 44.703125 73.484375 \n",
       "Q 48.484375 72.75 52.59375 71.296875 \n",
       "\" id=\"BitstreamVeraSans-Roman-36\"/>\n",
       "      </defs>\n",
       "      <g transform=\"translate(316.091741071 246.8375)scale(0.1 -0.1)\">\n",
       "       <use xlink:href=\"#BitstreamVeraSans-Roman-36\"/>\n",
       "       <use x=\"63.623046875\" xlink:href=\"#BitstreamVeraSans-Roman-30\"/>\n",
       "      </g>\n",
       "     </g>\n",
       "    </g>\n",
       "    <g id=\"xtick_8\">\n",
       "     <g id=\"line2d_16\">\n",
       "      <g>\n",
       "       <use style=\"stroke:#000000;stroke-width:0.5;\" x=\"370.2828125\" xlink:href=\"#m4739b72f9e\" y=\"235.2390625\"/>\n",
       "      </g>\n",
       "     </g>\n",
       "     <g id=\"line2d_17\">\n",
       "      <g>\n",
       "       <use style=\"stroke:#000000;stroke-width:0.5;\" x=\"370.2828125\" xlink:href=\"#mccc8cd49f0\" y=\"12.0390625\"/>\n",
       "      </g>\n",
       "     </g>\n",
       "     <g id=\"text_8\">\n",
       "      <!-- 70 -->\n",
       "      <defs>\n",
       "       <path d=\"M 8.203125 72.90625 \n",
       "L 55.078125 72.90625 \n",
       "L 55.078125 68.703125 \n",
       "L 28.609375 0 \n",
       "L 18.3125 0 \n",
       "L 43.21875 64.59375 \n",
       "L 8.203125 64.59375 \n",
       "z\n",
       "\" id=\"BitstreamVeraSans-Roman-37\"/>\n",
       "      </defs>\n",
       "      <g transform=\"translate(363.9203125 246.8375)scale(0.1 -0.1)\">\n",
       "       <use xlink:href=\"#BitstreamVeraSans-Roman-37\"/>\n",
       "       <use x=\"63.623046875\" xlink:href=\"#BitstreamVeraSans-Roman-30\"/>\n",
       "      </g>\n",
       "     </g>\n",
       "    </g>\n",
       "   </g>\n",
       "   <g id=\"matplotlib.axis_2\">\n",
       "    <g id=\"ytick_1\">\n",
       "     <g id=\"line2d_18\">\n",
       "      <defs>\n",
       "       <path d=\"M 0 0 \n",
       "L 4 0 \n",
       "\" id=\"m4383fd3d8c\" style=\"stroke:#000000;stroke-width:0.5;\"/>\n",
       "      </defs>\n",
       "      <g>\n",
       "       <use style=\"stroke:#000000;stroke-width:0.5;\" x=\"35.4828125\" xlink:href=\"#m4383fd3d8c\" y=\"235.2390625\"/>\n",
       "      </g>\n",
       "     </g>\n",
       "     <g id=\"line2d_19\">\n",
       "      <defs>\n",
       "       <path d=\"M 0 0 \n",
       "L -4 0 \n",
       "\" id=\"m3c14f77237\" style=\"stroke:#000000;stroke-width:0.5;\"/>\n",
       "      </defs>\n",
       "      <g>\n",
       "       <use style=\"stroke:#000000;stroke-width:0.5;\" x=\"370.2828125\" xlink:href=\"#m3c14f77237\" y=\"235.2390625\"/>\n",
       "      </g>\n",
       "     </g>\n",
       "     <g id=\"text_9\">\n",
       "      <!-- −1.0 -->\n",
       "      <defs>\n",
       "       <path d=\"M 10.59375 35.5 \n",
       "L 73.1875 35.5 \n",
       "L 73.1875 27.203125 \n",
       "L 10.59375 27.203125 \n",
       "z\n",
       "\" id=\"BitstreamVeraSans-Roman-2212\"/>\n",
       "       <path d=\"M 10.6875 12.40625 \n",
       "L 21 12.40625 \n",
       "L 21 0 \n",
       "L 10.6875 0 \n",
       "z\n",
       "\" id=\"BitstreamVeraSans-Roman-2e\"/>\n",
       "      </defs>\n",
       "      <g transform=\"translate(7.2 237.9984375)scale(0.1 -0.1)\">\n",
       "       <use xlink:href=\"#BitstreamVeraSans-Roman-2212\"/>\n",
       "       <use x=\"83.7890625\" xlink:href=\"#BitstreamVeraSans-Roman-31\"/>\n",
       "       <use x=\"147.412109375\" xlink:href=\"#BitstreamVeraSans-Roman-2e\"/>\n",
       "       <use x=\"179.19921875\" xlink:href=\"#BitstreamVeraSans-Roman-30\"/>\n",
       "      </g>\n",
       "     </g>\n",
       "    </g>\n",
       "    <g id=\"ytick_2\">\n",
       "     <g id=\"line2d_20\">\n",
       "      <g>\n",
       "       <use style=\"stroke:#000000;stroke-width:0.5;\" x=\"35.4828125\" xlink:href=\"#m4383fd3d8c\" y=\"179.4390625\"/>\n",
       "      </g>\n",
       "     </g>\n",
       "     <g id=\"line2d_21\">\n",
       "      <g>\n",
       "       <use style=\"stroke:#000000;stroke-width:0.5;\" x=\"370.2828125\" xlink:href=\"#m3c14f77237\" y=\"179.4390625\"/>\n",
       "      </g>\n",
       "     </g>\n",
       "     <g id=\"text_10\">\n",
       "      <!-- −0.5 -->\n",
       "      <g transform=\"translate(7.2 182.1984375)scale(0.1 -0.1)\">\n",
       "       <use xlink:href=\"#BitstreamVeraSans-Roman-2212\"/>\n",
       "       <use x=\"83.7890625\" xlink:href=\"#BitstreamVeraSans-Roman-30\"/>\n",
       "       <use x=\"147.412109375\" xlink:href=\"#BitstreamVeraSans-Roman-2e\"/>\n",
       "       <use x=\"179.19921875\" xlink:href=\"#BitstreamVeraSans-Roman-35\"/>\n",
       "      </g>\n",
       "     </g>\n",
       "    </g>\n",
       "    <g id=\"ytick_3\">\n",
       "     <g id=\"line2d_22\">\n",
       "      <g>\n",
       "       <use style=\"stroke:#000000;stroke-width:0.5;\" x=\"35.4828125\" xlink:href=\"#m4383fd3d8c\" y=\"123.6390625\"/>\n",
       "      </g>\n",
       "     </g>\n",
       "     <g id=\"line2d_23\">\n",
       "      <g>\n",
       "       <use style=\"stroke:#000000;stroke-width:0.5;\" x=\"370.2828125\" xlink:href=\"#m3c14f77237\" y=\"123.6390625\"/>\n",
       "      </g>\n",
       "     </g>\n",
       "     <g id=\"text_11\">\n",
       "      <!-- 0.0 -->\n",
       "      <g transform=\"translate(15.5796875 126.3984375)scale(0.1 -0.1)\">\n",
       "       <use xlink:href=\"#BitstreamVeraSans-Roman-30\"/>\n",
       "       <use x=\"63.623046875\" xlink:href=\"#BitstreamVeraSans-Roman-2e\"/>\n",
       "       <use x=\"95.41015625\" xlink:href=\"#BitstreamVeraSans-Roman-30\"/>\n",
       "      </g>\n",
       "     </g>\n",
       "    </g>\n",
       "    <g id=\"ytick_4\">\n",
       "     <g id=\"line2d_24\">\n",
       "      <g>\n",
       "       <use style=\"stroke:#000000;stroke-width:0.5;\" x=\"35.4828125\" xlink:href=\"#m4383fd3d8c\" y=\"67.8390625\"/>\n",
       "      </g>\n",
       "     </g>\n",
       "     <g id=\"line2d_25\">\n",
       "      <g>\n",
       "       <use style=\"stroke:#000000;stroke-width:0.5;\" x=\"370.2828125\" xlink:href=\"#m3c14f77237\" y=\"67.8390625\"/>\n",
       "      </g>\n",
       "     </g>\n",
       "     <g id=\"text_12\">\n",
       "      <!-- 0.5 -->\n",
       "      <g transform=\"translate(15.5796875 70.5984375)scale(0.1 -0.1)\">\n",
       "       <use xlink:href=\"#BitstreamVeraSans-Roman-30\"/>\n",
       "       <use x=\"63.623046875\" xlink:href=\"#BitstreamVeraSans-Roman-2e\"/>\n",
       "       <use x=\"95.41015625\" xlink:href=\"#BitstreamVeraSans-Roman-35\"/>\n",
       "      </g>\n",
       "     </g>\n",
       "    </g>\n",
       "    <g id=\"ytick_5\">\n",
       "     <g id=\"line2d_26\">\n",
       "      <g>\n",
       "       <use style=\"stroke:#000000;stroke-width:0.5;\" x=\"35.4828125\" xlink:href=\"#m4383fd3d8c\" y=\"12.0390625\"/>\n",
       "      </g>\n",
       "     </g>\n",
       "     <g id=\"line2d_27\">\n",
       "      <g>\n",
       "       <use style=\"stroke:#000000;stroke-width:0.5;\" x=\"370.2828125\" xlink:href=\"#m3c14f77237\" y=\"12.0390625\"/>\n",
       "      </g>\n",
       "     </g>\n",
       "     <g id=\"text_13\">\n",
       "      <!-- 1.0 -->\n",
       "      <g transform=\"translate(15.5796875 14.7984375)scale(0.1 -0.1)\">\n",
       "       <use xlink:href=\"#BitstreamVeraSans-Roman-31\"/>\n",
       "       <use x=\"63.623046875\" xlink:href=\"#BitstreamVeraSans-Roman-2e\"/>\n",
       "       <use x=\"95.41015625\" xlink:href=\"#BitstreamVeraSans-Roman-30\"/>\n",
       "      </g>\n",
       "     </g>\n",
       "    </g>\n",
       "   </g>\n",
       "  </g>\n",
       " </g>\n",
       " <defs>\n",
       "  <clipPath id=\"pccdd73348c\">\n",
       "   <rect height=\"223.2\" width=\"334.8\" x=\"35.4828125\" y=\"12.0390625\"/>\n",
       "  </clipPath>\n",
       " </defs>\n",
       "</svg>\n"
      ],
      "text/plain": [
       "<matplotlib.figure.Figure at 0x7fe5b7003310>"
      ]
     },
     "metadata": {},
     "output_type": "display_data"
    }
   ],
   "source": [
    "pylab.plot( f_grid3d[:,5,5] )"
   ]
  },
  {
   "cell_type": "code",
   "execution_count": 37,
   "metadata": {
    "collapsed": true
   },
   "outputs": [],
   "source": [
    "RAD = 3"
   ]
  },
  {
   "cell_type": "code",
   "execution_count": 38,
   "metadata": {
    "collapsed": false
   },
   "outputs": [],
   "source": [
    "for i_z in range(L_z-RAD):\n",
    "    for i_y in range(L_y-RAD):\n",
    "        for i_x in range(L_x-RAD):\n",
    "#            if (i_z + RAD >= L_z): \n",
    "            df_grid3d_result[i_x][i_y][i_z] = \\\n",
    "                (3./(4.*h_x))*(f_grid3d[i_x+1][i_y][i_z]-f_grid3d[i_x-1][i_y][i_z]) + \\\n",
    "                (-3./(20.*h_x))*(f_grid3d[i_x+2][i_y][i_z]-f_grid3d[i_x-2][i_y][i_z]) + \\\n",
    "                (1./(60.*h_x))*(f_grid3d[i_x+3][i_y][i_z]-f_grid3d[i_x-3][i_y][i_z]) "
   ]
  },
  {
   "cell_type": "code",
   "execution_count": 40,
   "metadata": {
    "collapsed": false
   },
   "outputs": [
    {
     "data": {
      "text/plain": [
       "[<matplotlib.lines.Line2D at 0x7fe5ad7de150>]"
      ]
     },
     "execution_count": 40,
     "metadata": {},
     "output_type": "execute_result"
    },
    {
     "data": {
      "image/png": "[encoded data removed]",
      "image/svg+xml": [
       "<?xml version=\"1.0\" encoding=\"utf-8\" standalone=\"no\"?>\n",
       "<!DOCTYPE svg PUBLIC \"-//W3C//DTD SVG 1.1//EN\"\n",
       "  \"http://www.w3.org/Graphics/SVG/1.1/DTD/svg11.dtd\">\n",
       "<!-- Created with matplotlib (http://matplotlib.org/) -->\n",
       "<svg height=\"256pt\" version=\"1.1\" viewBox=\"0 0 383 256\" width=\"383pt\" xmlns=\"http://www.w3.org/2000/svg\" xmlns:xlink=\"http://www.w3.org/1999/xlink\">\n",
       " <defs>\n",
       "  <style type=\"text/css\">\n",
       "*{stroke-linecap:butt;stroke-linejoin:round;stroke-miterlimit:100000;}\n",
       "  </style>\n",
       " </defs>\n",
       " <g id=\"figure_1\">\n",
       "  <g id=\"patch_1\">\n",
       "   <path d=\"M 0 256.117188 \n",
       "L 383.845312 256.117188 \n",
       "L 383.845312 0 \n",
       "L 0 0 \n",
       "L 0 256.117188 \n",
       "z\n",
       "\" style=\"fill:none;\"/>\n",
       "  </g>\n",
       "  <g id=\"axes_1\">\n",
       "   <g id=\"patch_2\">\n",
       "    <path d=\"M 35.482813 235.239062 \n",
       "L 370.282813 235.239062 \n",
       "L 370.282813 12.039062 \n",
       "L 35.482813 12.039062 \n",
       "z\n",
       "\" style=\"fill:#ffffff;\"/>\n",
       "   </g>\n",
       "   <g id=\"line2d_1\">\n",
       "    <path clip-path=\"url(#p45ed727ec4)\" d=\"M 35.482813 12.039063 \n",
       "L 40.26567 12.576448 \n",
       "L 45.048527 14.183426 \n",
       "L 49.831384 16.844522 \n",
       "L 54.614241 20.534107 \n",
       "L 59.397098 25.21665 \n",
       "L 64.179955 30.847054 \n",
       "L 68.962813 37.371096 \n",
       "L 73.74567 44.725946 \n",
       "L 78.528527 52.840772 \n",
       "L 83.311384 61.637425 \n",
       "L 88.094241 71.031187 \n",
       "L 92.877098 80.931592 \n",
       "L 97.659955 91.243293 \n",
       "L 102.442813 101.866983 \n",
       "L 107.22567 112.70035 \n",
       "L 112.008527 123.639062 \n",
       "L 116.791384 134.577775 \n",
       "L 121.574241 145.411142 \n",
       "L 126.357098 156.034832 \n",
       "L 131.139955 166.346533 \n",
       "L 135.922813 176.246938 \n",
       "L 140.70567 185.6407 \n",
       "L 145.488527 194.437353 \n",
       "L 150.271384 202.552179 \n",
       "L 155.054241 209.907029 \n",
       "L 159.837098 216.431071 \n",
       "L 164.619955 222.061475 \n",
       "L 169.402813 226.744018 \n",
       "L 174.18567 230.433603 \n",
       "L 178.968527 233.094699 \n",
       "L 183.751384 234.701677 \n",
       "L 188.534241 235.239062 \n",
       "L 193.317098 234.701677 \n",
       "L 198.099955 233.094699 \n",
       "L 202.882812 230.433603 \n",
       "L 207.66567 226.744018 \n",
       "L 212.448527 222.061475 \n",
       "L 217.231384 216.431071 \n",
       "L 222.014241 209.907029 \n",
       "L 226.797098 202.552179 \n",
       "L 231.579955 194.437353 \n",
       "L 236.362813 185.6407 \n",
       "L 241.14567 176.246938 \n",
       "L 245.928527 166.346533 \n",
       "L 250.711384 156.034832 \n",
       "L 255.494241 145.411142 \n",
       "L 260.277098 134.577775 \n",
       "L 265.059955 123.639062 \n",
       "L 269.842813 112.70035 \n",
       "L 274.62567 101.866983 \n",
       "L 279.408527 91.243293 \n",
       "L 284.191384 80.931592 \n",
       "L 288.974241 71.031187 \n",
       "L 293.757098 61.637425 \n",
       "L 298.539955 52.840772 \n",
       "L 303.322813 44.725946 \n",
       "L 308.10567 37.371096 \n",
       "L 312.888527 30.847054 \n",
       "L 317.671384 25.21665 \n",
       "L 322.454241 20.534107 \n",
       "L 327.237098 123.639062 \n",
       "L 332.019955 123.639062 \n",
       "L 336.802813 123.639062 \n",
       "\" style=\"fill:none;stroke:#0000ff;stroke-linecap:square;\"/>\n",
       "   </g>\n",
       "   <g id=\"patch_3\">\n",
       "    <path d=\"M 35.482813 12.039062 \n",
       "L 370.282813 12.039062 \n",
       "\" style=\"fill:none;stroke:#000000;stroke-linecap:square;stroke-linejoin:miter;\"/>\n",
       "   </g>\n",
       "   <g id=\"patch_4\">\n",
       "    <path d=\"M 370.282813 235.239062 \n",
       "L 370.282813 12.039062 \n",
       "\" style=\"fill:none;stroke:#000000;stroke-linecap:square;stroke-linejoin:miter;\"/>\n",
       "   </g>\n",
       "   <g id=\"patch_5\">\n",
       "    <path d=\"M 35.482813 235.239062 \n",
       "L 370.282813 235.239062 \n",
       "\" style=\"fill:none;stroke:#000000;stroke-linecap:square;stroke-linejoin:miter;\"/>\n",
       "   </g>\n",
       "   <g id=\"patch_6\">\n",
       "    <path d=\"M 35.482813 235.239062 \n",
       "L 35.482813 12.039062 \n",
       "\" style=\"fill:none;stroke:#000000;stroke-linecap:square;stroke-linejoin:miter;\"/>\n",
       "   </g>\n",
       "   <g id=\"matplotlib.axis_1\">\n",
       "    <g id=\"xtick_1\">\n",
       "     <g id=\"line2d_2\">\n",
       "      <defs>\n",
       "       <path d=\"M 0 0 \n",
       "L 0 -4 \n",
       "\" id=\"ma20a03f889\" style=\"stroke:#000000;stroke-width:0.5;\"/>\n",
       "      </defs>\n",
       "      <g>\n",
       "       <use style=\"stroke:#000000;stroke-width:0.5;\" x=\"35.4828125\" xlink:href=\"#ma20a03f889\" y=\"235.2390625\"/>\n",
       "      </g>\n",
       "     </g>\n",
       "     <g id=\"line2d_3\">\n",
       "      <defs>\n",
       "       <path d=\"M 0 0 \n",
       "L 0 4 \n",
       "\" id=\"m525dda7be8\" style=\"stroke:#000000;stroke-width:0.5;\"/>\n",
       "      </defs>\n",
       "      <g>\n",
       "       <use style=\"stroke:#000000;stroke-width:0.5;\" x=\"35.4828125\" xlink:href=\"#m525dda7be8\" y=\"12.0390625\"/>\n",
       "      </g>\n",
       "     </g>\n",
       "     <g id=\"text_1\">\n",
       "      <!-- 0 -->\n",
       "      <defs>\n",
       "       <path d=\"M 31.78125 66.40625 \n",
       "Q 24.171875 66.40625 20.328125 58.90625 \n",
       "Q 16.5 51.421875 16.5 36.375 \n",
       "Q 16.5 21.390625 20.328125 13.890625 \n",
       "Q 24.171875 6.390625 31.78125 6.390625 \n",
       "Q 39.453125 6.390625 43.28125 13.890625 \n",
       "Q 47.125 21.390625 47.125 36.375 \n",
       "Q 47.125 51.421875 43.28125 58.90625 \n",
       "Q 39.453125 66.40625 31.78125 66.40625 \n",
       "M 31.78125 74.21875 \n",
       "Q 44.046875 74.21875 50.515625 64.515625 \n",
       "Q 56.984375 54.828125 56.984375 36.375 \n",
       "Q 56.984375 17.96875 50.515625 8.265625 \n",
       "Q 44.046875 -1.421875 31.78125 -1.421875 \n",
       "Q 19.53125 -1.421875 13.0625 8.265625 \n",
       "Q 6.59375 17.96875 6.59375 36.375 \n",
       "Q 6.59375 54.828125 13.0625 64.515625 \n",
       "Q 19.53125 74.21875 31.78125 74.21875 \n",
       "\" id=\"BitstreamVeraSans-Roman-30\"/>\n",
       "      </defs>\n",
       "      <g transform=\"translate(32.3015625 246.8375)scale(0.1 -0.1)\">\n",
       "       <use xlink:href=\"#BitstreamVeraSans-Roman-30\"/>\n",
       "      </g>\n",
       "     </g>\n",
       "    </g>\n",
       "    <g id=\"xtick_2\">\n",
       "     <g id=\"line2d_4\">\n",
       "      <g>\n",
       "       <use style=\"stroke:#000000;stroke-width:0.5;\" x=\"83.3113839286\" xlink:href=\"#ma20a03f889\" y=\"235.2390625\"/>\n",
       "      </g>\n",
       "     </g>\n",
       "     <g id=\"line2d_5\">\n",
       "      <g>\n",
       "       <use style=\"stroke:#000000;stroke-width:0.5;\" x=\"83.3113839286\" xlink:href=\"#m525dda7be8\" y=\"12.0390625\"/>\n",
       "      </g>\n",
       "     </g>\n",
       "     <g id=\"text_2\">\n",
       "      <!-- 10 -->\n",
       "      <defs>\n",
       "       <path d=\"M 12.40625 8.296875 \n",
       "L 28.515625 8.296875 \n",
       "L 28.515625 63.921875 \n",
       "L 10.984375 60.40625 \n",
       "L 10.984375 69.390625 \n",
       "L 28.421875 72.90625 \n",
       "L 38.28125 72.90625 \n",
       "L 38.28125 8.296875 \n",
       "L 54.390625 8.296875 \n",
       "L 54.390625 0 \n",
       "L 12.40625 0 \n",
       "z\n",
       "\" id=\"BitstreamVeraSans-Roman-31\"/>\n",
       "      </defs>\n",
       "      <g transform=\"translate(76.9488839286 246.8375)scale(0.1 -0.1)\">\n",
       "       <use xlink:href=\"#BitstreamVeraSans-Roman-31\"/>\n",
       "       <use x=\"63.623046875\" xlink:href=\"#BitstreamVeraSans-Roman-30\"/>\n",
       "      </g>\n",
       "     </g>\n",
       "    </g>\n",
       "    <g id=\"xtick_3\">\n",
       "     <g id=\"line2d_6\">\n",
       "      <g>\n",
       "       <use style=\"stroke:#000000;stroke-width:0.5;\" x=\"131.139955357\" xlink:href=\"#ma20a03f889\" y=\"235.2390625\"/>\n",
       "      </g>\n",
       "     </g>\n",
       "     <g id=\"line2d_7\">\n",
       "      <g>\n",
       "       <use style=\"stroke:#000000;stroke-width:0.5;\" x=\"131.139955357\" xlink:href=\"#m525dda7be8\" y=\"12.0390625\"/>\n",
       "      </g>\n",
       "     </g>\n",
       "     <g id=\"text_3\">\n",
       "      <!-- 20 -->\n",
       "      <defs>\n",
       "       <path d=\"M 19.1875 8.296875 \n",
       "L 53.609375 8.296875 \n",
       "L 53.609375 0 \n",
       "L 7.328125 0 \n",
       "L 7.328125 8.296875 \n",
       "Q 12.9375 14.109375 22.625 23.890625 \n",
       "Q 32.328125 33.6875 34.8125 36.53125 \n",
       "Q 39.546875 41.84375 41.421875 45.53125 \n",
       "Q 43.3125 49.21875 43.3125 52.78125 \n",
       "Q 43.3125 58.59375 39.234375 62.25 \n",
       "Q 35.15625 65.921875 28.609375 65.921875 \n",
       "Q 23.96875 65.921875 18.8125 64.3125 \n",
       "Q 13.671875 62.703125 7.8125 59.421875 \n",
       "L 7.8125 69.390625 \n",
       "Q 13.765625 71.78125 18.9375 73 \n",
       "Q 24.125 74.21875 28.421875 74.21875 \n",
       "Q 39.75 74.21875 46.484375 68.546875 \n",
       "Q 53.21875 62.890625 53.21875 53.421875 \n",
       "Q 53.21875 48.921875 51.53125 44.890625 \n",
       "Q 49.859375 40.875 45.40625 35.40625 \n",
       "Q 44.1875 33.984375 37.640625 27.21875 \n",
       "Q 31.109375 20.453125 19.1875 8.296875 \n",
       "\" id=\"BitstreamVeraSans-Roman-32\"/>\n",
       "      </defs>\n",
       "      <g transform=\"translate(124.777455357 246.8375)scale(0.1 -0.1)\">\n",
       "       <use xlink:href=\"#BitstreamVeraSans-Roman-32\"/>\n",
       "       <use x=\"63.623046875\" xlink:href=\"#BitstreamVeraSans-Roman-30\"/>\n",
       "      </g>\n",
       "     </g>\n",
       "    </g>\n",
       "    <g id=\"xtick_4\">\n",
       "     <g id=\"line2d_8\">\n",
       "      <g>\n",
       "       <use style=\"stroke:#000000;stroke-width:0.5;\" x=\"178.968526786\" xlink:href=\"#ma20a03f889\" y=\"235.2390625\"/>\n",
       "      </g>\n",
       "     </g>\n",
       "     <g id=\"line2d_9\">\n",
       "      <g>\n",
       "       <use style=\"stroke:#000000;stroke-width:0.5;\" x=\"178.968526786\" xlink:href=\"#m525dda7be8\" y=\"12.0390625\"/>\n",
       "      </g>\n",
       "     </g>\n",
       "     <g id=\"text_4\">\n",
       "      <!-- 30 -->\n",
       "      <defs>\n",
       "       <path d=\"M 40.578125 39.3125 \n",
       "Q 47.65625 37.796875 51.625 33 \n",
       "Q 55.609375 28.21875 55.609375 21.1875 \n",
       "Q 55.609375 10.40625 48.1875 4.484375 \n",
       "Q 40.765625 -1.421875 27.09375 -1.421875 \n",
       "Q 22.515625 -1.421875 17.65625 -0.515625 \n",
       "Q 12.796875 0.390625 7.625 2.203125 \n",
       "L 7.625 11.71875 \n",
       "Q 11.71875 9.328125 16.59375 8.109375 \n",
       "Q 21.484375 6.890625 26.8125 6.890625 \n",
       "Q 36.078125 6.890625 40.9375 10.546875 \n",
       "Q 45.796875 14.203125 45.796875 21.1875 \n",
       "Q 45.796875 27.640625 41.28125 31.265625 \n",
       "Q 36.765625 34.90625 28.71875 34.90625 \n",
       "L 20.21875 34.90625 \n",
       "L 20.21875 43.015625 \n",
       "L 29.109375 43.015625 \n",
       "Q 36.375 43.015625 40.234375 45.921875 \n",
       "Q 44.09375 48.828125 44.09375 54.296875 \n",
       "Q 44.09375 59.90625 40.109375 62.90625 \n",
       "Q 36.140625 65.921875 28.71875 65.921875 \n",
       "Q 24.65625 65.921875 20.015625 65.03125 \n",
       "Q 15.375 64.15625 9.8125 62.3125 \n",
       "L 9.8125 71.09375 \n",
       "Q 15.4375 72.65625 20.34375 73.4375 \n",
       "Q 25.25 74.21875 29.59375 74.21875 \n",
       "Q 40.828125 74.21875 47.359375 69.109375 \n",
       "Q 53.90625 64.015625 53.90625 55.328125 \n",
       "Q 53.90625 49.265625 50.4375 45.09375 \n",
       "Q 46.96875 40.921875 40.578125 39.3125 \n",
       "\" id=\"BitstreamVeraSans-Roman-33\"/>\n",
       "      </defs>\n",
       "      <g transform=\"translate(172.606026786 246.8375)scale(0.1 -0.1)\">\n",
       "       <use xlink:href=\"#BitstreamVeraSans-Roman-33\"/>\n",
       "       <use x=\"63.623046875\" xlink:href=\"#BitstreamVeraSans-Roman-30\"/>\n",
       "      </g>\n",
       "     </g>\n",
       "    </g>\n",
       "    <g id=\"xtick_5\">\n",
       "     <g id=\"line2d_10\">\n",
       "      <g>\n",
       "       <use style=\"stroke:#000000;stroke-width:0.5;\" x=\"226.797098214\" xlink:href=\"#ma20a03f889\" y=\"235.2390625\"/>\n",
       "      </g>\n",
       "     </g>\n",
       "     <g id=\"line2d_11\">\n",
       "      <g>\n",
       "       <use style=\"stroke:#000000;stroke-width:0.5;\" x=\"226.797098214\" xlink:href=\"#m525dda7be8\" y=\"12.0390625\"/>\n",
       "      </g>\n",
       "     </g>\n",
       "     <g id=\"text_5\">\n",
       "      <!-- 40 -->\n",
       "      <defs>\n",
       "       <path d=\"M 37.796875 64.3125 \n",
       "L 12.890625 25.390625 \n",
       "L 37.796875 25.390625 \n",
       "z\n",
       "M 35.203125 72.90625 \n",
       "L 47.609375 72.90625 \n",
       "L 47.609375 25.390625 \n",
       "L 58.015625 25.390625 \n",
       "L 58.015625 17.1875 \n",
       "L 47.609375 17.1875 \n",
       "L 47.609375 0 \n",
       "L 37.796875 0 \n",
       "L 37.796875 17.1875 \n",
       "L 4.890625 17.1875 \n",
       "L 4.890625 26.703125 \n",
       "z\n",
       "\" id=\"BitstreamVeraSans-Roman-34\"/>\n",
       "      </defs>\n",
       "      <g transform=\"translate(220.434598214 246.8375)scale(0.1 -0.1)\">\n",
       "       <use xlink:href=\"#BitstreamVeraSans-Roman-34\"/>\n",
       "       <use x=\"63.623046875\" xlink:href=\"#BitstreamVeraSans-Roman-30\"/>\n",
       "      </g>\n",
       "     </g>\n",
       "    </g>\n",
       "    <g id=\"xtick_6\">\n",
       "     <g id=\"line2d_12\">\n",
       "      <g>\n",
       "       <use style=\"stroke:#000000;stroke-width:0.5;\" x=\"274.625669643\" xlink:href=\"#ma20a03f889\" y=\"235.2390625\"/>\n",
       "      </g>\n",
       "     </g>\n",
       "     <g id=\"line2d_13\">\n",
       "      <g>\n",
       "       <use style=\"stroke:#000000;stroke-width:0.5;\" x=\"274.625669643\" xlink:href=\"#m525dda7be8\" y=\"12.0390625\"/>\n",
       "      </g>\n",
       "     </g>\n",
       "     <g id=\"text_6\">\n",
       "      <!-- 50 -->\n",
       "      <defs>\n",
       "       <path d=\"M 10.796875 72.90625 \n",
       "L 49.515625 72.90625 \n",
       "L 49.515625 64.59375 \n",
       "L 19.828125 64.59375 \n",
       "L 19.828125 46.734375 \n",
       "Q 21.96875 47.46875 24.109375 47.828125 \n",
       "Q 26.265625 48.1875 28.421875 48.1875 \n",
       "Q 40.625 48.1875 47.75 41.5 \n",
       "Q 54.890625 34.8125 54.890625 23.390625 \n",
       "Q 54.890625 11.625 47.5625 5.09375 \n",
       "Q 40.234375 -1.421875 26.90625 -1.421875 \n",
       "Q 22.3125 -1.421875 17.546875 -0.640625 \n",
       "Q 12.796875 0.140625 7.71875 1.703125 \n",
       "L 7.71875 11.625 \n",
       "Q 12.109375 9.234375 16.796875 8.0625 \n",
       "Q 21.484375 6.890625 26.703125 6.890625 \n",
       "Q 35.15625 6.890625 40.078125 11.328125 \n",
       "Q 45.015625 15.765625 45.015625 23.390625 \n",
       "Q 45.015625 31 40.078125 35.4375 \n",
       "Q 35.15625 39.890625 26.703125 39.890625 \n",
       "Q 22.75 39.890625 18.8125 39.015625 \n",
       "Q 14.890625 38.140625 10.796875 36.28125 \n",
       "z\n",
       "\" id=\"BitstreamVeraSans-Roman-35\"/>\n",
       "      </defs>\n",
       "      <g transform=\"translate(268.263169643 246.8375)scale(0.1 -0.1)\">\n",
       "       <use xlink:href=\"#BitstreamVeraSans-Roman-35\"/>\n",
       "       <use x=\"63.623046875\" xlink:href=\"#BitstreamVeraSans-Roman-30\"/>\n",
       "      </g>\n",
       "     </g>\n",
       "    </g>\n",
       "    <g id=\"xtick_7\">\n",
       "     <g id=\"line2d_14\">\n",
       "      <g>\n",
       "       <use style=\"stroke:#000000;stroke-width:0.5;\" x=\"322.454241071\" xlink:href=\"#ma20a03f889\" y=\"235.2390625\"/>\n",
       "      </g>\n",
       "     </g>\n",
       "     <g id=\"line2d_15\">\n",
       "      <g>\n",
       "       <use style=\"stroke:#000000;stroke-width:0.5;\" x=\"322.454241071\" xlink:href=\"#m525dda7be8\" y=\"12.0390625\"/>\n",
       "      </g>\n",
       "     </g>\n",
       "     <g id=\"text_7\">\n",
       "      <!-- 60 -->\n",
       "      <defs>\n",
       "       <path d=\"M 33.015625 40.375 \n",
       "Q 26.375 40.375 22.484375 35.828125 \n",
       "Q 18.609375 31.296875 18.609375 23.390625 \n",
       "Q 18.609375 15.53125 22.484375 10.953125 \n",
       "Q 26.375 6.390625 33.015625 6.390625 \n",
       "Q 39.65625 6.390625 43.53125 10.953125 \n",
       "Q 47.40625 15.53125 47.40625 23.390625 \n",
       "Q 47.40625 31.296875 43.53125 35.828125 \n",
       "Q 39.65625 40.375 33.015625 40.375 \n",
       "M 52.59375 71.296875 \n",
       "L 52.59375 62.3125 \n",
       "Q 48.875 64.0625 45.09375 64.984375 \n",
       "Q 41.3125 65.921875 37.59375 65.921875 \n",
       "Q 27.828125 65.921875 22.671875 59.328125 \n",
       "Q 17.53125 52.734375 16.796875 39.40625 \n",
       "Q 19.671875 43.65625 24.015625 45.921875 \n",
       "Q 28.375 48.1875 33.59375 48.1875 \n",
       "Q 44.578125 48.1875 50.953125 41.515625 \n",
       "Q 57.328125 34.859375 57.328125 23.390625 \n",
       "Q 57.328125 12.15625 50.6875 5.359375 \n",
       "Q 44.046875 -1.421875 33.015625 -1.421875 \n",
       "Q 20.359375 -1.421875 13.671875 8.265625 \n",
       "Q 6.984375 17.96875 6.984375 36.375 \n",
       "Q 6.984375 53.65625 15.1875 63.9375 \n",
       "Q 23.390625 74.21875 37.203125 74.21875 \n",
       "Q 40.921875 74.21875 44.703125 73.484375 \n",
       "Q 48.484375 72.75 52.59375 71.296875 \n",
       "\" id=\"BitstreamVeraSans-Roman-36\"/>\n",
       "      </defs>\n",
       "      <g transform=\"translate(316.091741071 246.8375)scale(0.1 -0.1)\">\n",
       "       <use xlink:href=\"#BitstreamVeraSans-Roman-36\"/>\n",
       "       <use x=\"63.623046875\" xlink:href=\"#BitstreamVeraSans-Roman-30\"/>\n",
       "      </g>\n",
       "     </g>\n",
       "    </g>\n",
       "    <g id=\"xtick_8\">\n",
       "     <g id=\"line2d_16\">\n",
       "      <g>\n",
       "       <use style=\"stroke:#000000;stroke-width:0.5;\" x=\"370.2828125\" xlink:href=\"#ma20a03f889\" y=\"235.2390625\"/>\n",
       "      </g>\n",
       "     </g>\n",
       "     <g id=\"line2d_17\">\n",
       "      <g>\n",
       "       <use style=\"stroke:#000000;stroke-width:0.5;\" x=\"370.2828125\" xlink:href=\"#m525dda7be8\" y=\"12.0390625\"/>\n",
       "      </g>\n",
       "     </g>\n",
       "     <g id=\"text_8\">\n",
       "      <!-- 70 -->\n",
       "      <defs>\n",
       "       <path d=\"M 8.203125 72.90625 \n",
       "L 55.078125 72.90625 \n",
       "L 55.078125 68.703125 \n",
       "L 28.609375 0 \n",
       "L 18.3125 0 \n",
       "L 43.21875 64.59375 \n",
       "L 8.203125 64.59375 \n",
       "z\n",
       "\" id=\"BitstreamVeraSans-Roman-37\"/>\n",
       "      </defs>\n",
       "      <g transform=\"translate(363.9203125 246.8375)scale(0.1 -0.1)\">\n",
       "       <use xlink:href=\"#BitstreamVeraSans-Roman-37\"/>\n",
       "       <use x=\"63.623046875\" xlink:href=\"#BitstreamVeraSans-Roman-30\"/>\n",
       "      </g>\n",
       "     </g>\n",
       "    </g>\n",
       "   </g>\n",
       "   <g id=\"matplotlib.axis_2\">\n",
       "    <g id=\"ytick_1\">\n",
       "     <g id=\"line2d_18\">\n",
       "      <defs>\n",
       "       <path d=\"M 0 0 \n",
       "L 4 0 \n",
       "\" id=\"m73464aefae\" style=\"stroke:#000000;stroke-width:0.5;\"/>\n",
       "      </defs>\n",
       "      <g>\n",
       "       <use style=\"stroke:#000000;stroke-width:0.5;\" x=\"35.4828125\" xlink:href=\"#m73464aefae\" y=\"235.2390625\"/>\n",
       "      </g>\n",
       "     </g>\n",
       "     <g id=\"line2d_19\">\n",
       "      <defs>\n",
       "       <path d=\"M 0 0 \n",
       "L -4 0 \n",
       "\" id=\"meb02214fc1\" style=\"stroke:#000000;stroke-width:0.5;\"/>\n",
       "      </defs>\n",
       "      <g>\n",
       "       <use style=\"stroke:#000000;stroke-width:0.5;\" x=\"370.2828125\" xlink:href=\"#meb02214fc1\" y=\"235.2390625\"/>\n",
       "      </g>\n",
       "     </g>\n",
       "     <g id=\"text_9\">\n",
       "      <!-- −1.0 -->\n",
       "      <defs>\n",
       "       <path d=\"M 10.59375 35.5 \n",
       "L 73.1875 35.5 \n",
       "L 73.1875 27.203125 \n",
       "L 10.59375 27.203125 \n",
       "z\n",
       "\" id=\"BitstreamVeraSans-Roman-2212\"/>\n",
       "       <path d=\"M 10.6875 12.40625 \n",
       "L 21 12.40625 \n",
       "L 21 0 \n",
       "L 10.6875 0 \n",
       "z\n",
       "\" id=\"BitstreamVeraSans-Roman-2e\"/>\n",
       "      </defs>\n",
       "      <g transform=\"translate(7.2 237.9984375)scale(0.1 -0.1)\">\n",
       "       <use xlink:href=\"#BitstreamVeraSans-Roman-2212\"/>\n",
       "       <use x=\"83.7890625\" xlink:href=\"#BitstreamVeraSans-Roman-31\"/>\n",
       "       <use x=\"147.412109375\" xlink:href=\"#BitstreamVeraSans-Roman-2e\"/>\n",
       "       <use x=\"179.19921875\" xlink:href=\"#BitstreamVeraSans-Roman-30\"/>\n",
       "      </g>\n",
       "     </g>\n",
       "    </g>\n",
       "    <g id=\"ytick_2\">\n",
       "     <g id=\"line2d_20\">\n",
       "      <g>\n",
       "       <use style=\"stroke:#000000;stroke-width:0.5;\" x=\"35.4828125\" xlink:href=\"#m73464aefae\" y=\"179.4390625\"/>\n",
       "      </g>\n",
       "     </g>\n",
       "     <g id=\"line2d_21\">\n",
       "      <g>\n",
       "       <use style=\"stroke:#000000;stroke-width:0.5;\" x=\"370.2828125\" xlink:href=\"#meb02214fc1\" y=\"179.4390625\"/>\n",
       "      </g>\n",
       "     </g>\n",
       "     <g id=\"text_10\">\n",
       "      <!-- −0.5 -->\n",
       "      <g transform=\"translate(7.2 182.1984375)scale(0.1 -0.1)\">\n",
       "       <use xlink:href=\"#BitstreamVeraSans-Roman-2212\"/>\n",
       "       <use x=\"83.7890625\" xlink:href=\"#BitstreamVeraSans-Roman-30\"/>\n",
       "       <use x=\"147.412109375\" xlink:href=\"#BitstreamVeraSans-Roman-2e\"/>\n",
       "       <use x=\"179.19921875\" xlink:href=\"#BitstreamVeraSans-Roman-35\"/>\n",
       "      </g>\n",
       "     </g>\n",
       "    </g>\n",
       "    <g id=\"ytick_3\">\n",
       "     <g id=\"line2d_22\">\n",
       "      <g>\n",
       "       <use style=\"stroke:#000000;stroke-width:0.5;\" x=\"35.4828125\" xlink:href=\"#m73464aefae\" y=\"123.6390625\"/>\n",
       "      </g>\n",
       "     </g>\n",
       "     <g id=\"line2d_23\">\n",
       "      <g>\n",
       "       <use style=\"stroke:#000000;stroke-width:0.5;\" x=\"370.2828125\" xlink:href=\"#meb02214fc1\" y=\"123.6390625\"/>\n",
       "      </g>\n",
       "     </g>\n",
       "     <g id=\"text_11\">\n",
       "      <!-- 0.0 -->\n",
       "      <g transform=\"translate(15.5796875 126.3984375)scale(0.1 -0.1)\">\n",
       "       <use xlink:href=\"#BitstreamVeraSans-Roman-30\"/>\n",
       "       <use x=\"63.623046875\" xlink:href=\"#BitstreamVeraSans-Roman-2e\"/>\n",
       "       <use x=\"95.41015625\" xlink:href=\"#BitstreamVeraSans-Roman-30\"/>\n",
       "      </g>\n",
       "     </g>\n",
       "    </g>\n",
       "    <g id=\"ytick_4\">\n",
       "     <g id=\"line2d_24\">\n",
       "      <g>\n",
       "       <use style=\"stroke:#000000;stroke-width:0.5;\" x=\"35.4828125\" xlink:href=\"#m73464aefae\" y=\"67.8390625\"/>\n",
       "      </g>\n",
       "     </g>\n",
       "     <g id=\"line2d_25\">\n",
       "      <g>\n",
       "       <use style=\"stroke:#000000;stroke-width:0.5;\" x=\"370.2828125\" xlink:href=\"#meb02214fc1\" y=\"67.8390625\"/>\n",
       "      </g>\n",
       "     </g>\n",
       "     <g id=\"text_12\">\n",
       "      <!-- 0.5 -->\n",
       "      <g transform=\"translate(15.5796875 70.5984375)scale(0.1 -0.1)\">\n",
       "       <use xlink:href=\"#BitstreamVeraSans-Roman-30\"/>\n",
       "       <use x=\"63.623046875\" xlink:href=\"#BitstreamVeraSans-Roman-2e\"/>\n",
       "       <use x=\"95.41015625\" xlink:href=\"#BitstreamVeraSans-Roman-35\"/>\n",
       "      </g>\n",
       "     </g>\n",
       "    </g>\n",
       "    <g id=\"ytick_5\">\n",
       "     <g id=\"line2d_26\">\n",
       "      <g>\n",
       "       <use style=\"stroke:#000000;stroke-width:0.5;\" x=\"35.4828125\" xlink:href=\"#m73464aefae\" y=\"12.0390625\"/>\n",
       "      </g>\n",
       "     </g>\n",
       "     <g id=\"line2d_27\">\n",
       "      <g>\n",
       "       <use style=\"stroke:#000000;stroke-width:0.5;\" x=\"370.2828125\" xlink:href=\"#meb02214fc1\" y=\"12.0390625\"/>\n",
       "      </g>\n",
       "     </g>\n",
       "     <g id=\"text_13\">\n",
       "      <!-- 1.0 -->\n",
       "      <g transform=\"translate(15.5796875 14.7984375)scale(0.1 -0.1)\">\n",
       "       <use xlink:href=\"#BitstreamVeraSans-Roman-31\"/>\n",
       "       <use x=\"63.623046875\" xlink:href=\"#BitstreamVeraSans-Roman-2e\"/>\n",
       "       <use x=\"95.41015625\" xlink:href=\"#BitstreamVeraSans-Roman-30\"/>\n",
       "      </g>\n",
       "     </g>\n",
       "    </g>\n",
       "   </g>\n",
       "  </g>\n",
       " </g>\n",
       " <defs>\n",
       "  <clipPath id=\"p45ed727ec4\">\n",
       "   <rect height=\"223.2\" width=\"334.8\" x=\"35.4828125\" y=\"12.0390625\"/>\n",
       "  </clipPath>\n",
       " </defs>\n",
       "</svg>\n"
      ],
      "text/plain": [
       "<matplotlib.figure.Figure at 0x7fe5ad952dd0>"
      ]
     },
     "metadata": {},
     "output_type": "display_data"
    }
   ],
   "source": [
    "pylab.plot( df_grid3d_result[:,5,5] )"
   ]
  },
  {
   "cell_type": "code",
   "execution_count": 42,
   "metadata": {
    "collapsed": false
   },
   "outputs": [
    {
     "data": {
      "text/plain": [
       "[<matplotlib.lines.Line2D at 0x7fe5ad6c9610>]"
      ]
     },
     "execution_count": 42,
     "metadata": {},
     "output_type": "execute_result"
    },
    {
     "data": {
      "image/png": "[encoded data removed]",
      "image/svg+xml": [
       "<?xml version=\"1.0\" encoding=\"utf-8\" standalone=\"no\"?>\n",
       "<!DOCTYPE svg PUBLIC \"-//W3C//DTD SVG 1.1//EN\"\n",
       "  \"http://www.w3.org/Graphics/SVG/1.1/DTD/svg11.dtd\">\n",
       "<!-- Created with matplotlib (http://matplotlib.org/) -->\n",
       "<svg height=\"256pt\" version=\"1.1\" viewBox=\"0 0 383 256\" width=\"383pt\" xmlns=\"http://www.w3.org/2000/svg\" xmlns:xlink=\"http://www.w3.org/1999/xlink\">\n",
       " <defs>\n",
       "  <style type=\"text/css\">\n",
       "*{stroke-linecap:butt;stroke-linejoin:round;stroke-miterlimit:100000;}\n",
       "  </style>\n",
       " </defs>\n",
       " <g id=\"figure_1\">\n",
       "  <g id=\"patch_1\">\n",
       "   <path d=\"M 0 256.117188 \n",
       "L 383.845312 256.117188 \n",
       "L 383.845312 0 \n",
       "L 0 0 \n",
       "L 0 256.117188 \n",
       "z\n",
       "\" style=\"fill:none;\"/>\n",
       "  </g>\n",
       "  <g id=\"axes_1\">\n",
       "   <g id=\"patch_2\">\n",
       "    <path d=\"M 35.482813 235.239062 \n",
       "L 370.282813 235.239062 \n",
       "L 370.282813 12.039062 \n",
       "L 35.482813 12.039062 \n",
       "z\n",
       "\" style=\"fill:#ffffff;\"/>\n",
       "   </g>\n",
       "   <g id=\"line2d_1\">\n",
       "    <path clip-path=\"url(#p8a82de331e)\" d=\"M 35.482813 12.039063 \n",
       "L 40.26567 12.576448 \n",
       "L 45.048527 14.183426 \n",
       "L 49.831384 16.844522 \n",
       "L 54.614241 20.534107 \n",
       "L 59.397098 25.21665 \n",
       "L 64.179955 30.847054 \n",
       "L 68.962813 37.371096 \n",
       "L 73.74567 44.725946 \n",
       "L 78.528527 52.840772 \n",
       "L 83.311384 61.637425 \n",
       "L 88.094241 71.031187 \n",
       "L 92.877098 80.931592 \n",
       "L 97.659955 91.243293 \n",
       "L 102.442813 101.866983 \n",
       "L 107.22567 112.70035 \n",
       "L 112.008527 123.639062 \n",
       "L 116.791384 134.577775 \n",
       "L 121.574241 145.411142 \n",
       "L 126.357098 156.034832 \n",
       "L 131.139955 166.346533 \n",
       "L 135.922813 176.246938 \n",
       "L 140.70567 185.6407 \n",
       "L 145.488527 194.437353 \n",
       "L 150.271384 202.552179 \n",
       "L 155.054241 209.907029 \n",
       "L 159.837098 216.431071 \n",
       "L 164.619955 222.061475 \n",
       "L 169.402813 226.744018 \n",
       "L 174.18567 230.433603 \n",
       "L 178.968527 233.094699 \n",
       "L 183.751384 234.701677 \n",
       "L 188.534241 235.239062 \n",
       "L 193.317098 234.701677 \n",
       "L 198.099955 233.094699 \n",
       "L 202.882812 230.433603 \n",
       "L 207.66567 226.744018 \n",
       "L 212.448527 222.061475 \n",
       "L 217.231384 216.431071 \n",
       "L 222.014241 209.907029 \n",
       "L 226.797098 202.552179 \n",
       "L 231.579955 194.437353 \n",
       "L 236.362813 185.6407 \n",
       "L 241.14567 176.246938 \n",
       "L 245.928527 166.346533 \n",
       "L 250.711384 156.034832 \n",
       "L 255.494241 145.411142 \n",
       "L 260.277098 134.577775 \n",
       "L 265.059955 123.639062 \n",
       "L 269.842813 112.70035 \n",
       "L 274.62567 101.866983 \n",
       "L 279.408527 91.243293 \n",
       "L 284.191384 80.931592 \n",
       "L 288.974241 71.031187 \n",
       "L 293.757098 61.637425 \n",
       "L 298.539955 52.840772 \n",
       "L 303.322813 44.725946 \n",
       "L 308.10567 37.371096 \n",
       "L 312.888527 30.847054 \n",
       "L 317.671384 25.21665 \n",
       "L 322.454241 20.534107 \n",
       "L 327.237098 123.639062 \n",
       "L 332.019955 123.639062 \n",
       "L 336.802813 123.639062 \n",
       "\" style=\"fill:none;stroke:#0000ff;stroke-linecap:square;\"/>\n",
       "   </g>\n",
       "   <g id=\"patch_3\">\n",
       "    <path d=\"M 35.482813 12.039062 \n",
       "L 370.282813 12.039062 \n",
       "\" style=\"fill:none;stroke:#000000;stroke-linecap:square;stroke-linejoin:miter;\"/>\n",
       "   </g>\n",
       "   <g id=\"patch_4\">\n",
       "    <path d=\"M 370.282813 235.239062 \n",
       "L 370.282813 12.039062 \n",
       "\" style=\"fill:none;stroke:#000000;stroke-linecap:square;stroke-linejoin:miter;\"/>\n",
       "   </g>\n",
       "   <g id=\"patch_5\">\n",
       "    <path d=\"M 35.482813 235.239062 \n",
       "L 370.282813 235.239062 \n",
       "\" style=\"fill:none;stroke:#000000;stroke-linecap:square;stroke-linejoin:miter;\"/>\n",
       "   </g>\n",
       "   <g id=\"patch_6\">\n",
       "    <path d=\"M 35.482813 235.239062 \n",
       "L 35.482813 12.039062 \n",
       "\" style=\"fill:none;stroke:#000000;stroke-linecap:square;stroke-linejoin:miter;\"/>\n",
       "   </g>\n",
       "   <g id=\"matplotlib.axis_1\">\n",
       "    <g id=\"xtick_1\">\n",
       "     <g id=\"line2d_2\">\n",
       "      <defs>\n",
       "       <path d=\"M 0 0 \n",
       "L 0 -4 \n",
       "\" id=\"m5dc7a8af12\" style=\"stroke:#000000;stroke-width:0.5;\"/>\n",
       "      </defs>\n",
       "      <g>\n",
       "       <use style=\"stroke:#000000;stroke-width:0.5;\" x=\"35.4828125\" xlink:href=\"#m5dc7a8af12\" y=\"235.2390625\"/>\n",
       "      </g>\n",
       "     </g>\n",
       "     <g id=\"line2d_3\">\n",
       "      <defs>\n",
       "       <path d=\"M 0 0 \n",
       "L 0 4 \n",
       "\" id=\"mf00936ddbb\" style=\"stroke:#000000;stroke-width:0.5;\"/>\n",
       "      </defs>\n",
       "      <g>\n",
       "       <use style=\"stroke:#000000;stroke-width:0.5;\" x=\"35.4828125\" xlink:href=\"#mf00936ddbb\" y=\"12.0390625\"/>\n",
       "      </g>\n",
       "     </g>\n",
       "     <g id=\"text_1\">\n",
       "      <!-- 0 -->\n",
       "      <defs>\n",
       "       <path d=\"M 31.78125 66.40625 \n",
       "Q 24.171875 66.40625 20.328125 58.90625 \n",
       "Q 16.5 51.421875 16.5 36.375 \n",
       "Q 16.5 21.390625 20.328125 13.890625 \n",
       "Q 24.171875 6.390625 31.78125 6.390625 \n",
       "Q 39.453125 6.390625 43.28125 13.890625 \n",
       "Q 47.125 21.390625 47.125 36.375 \n",
       "Q 47.125 51.421875 43.28125 58.90625 \n",
       "Q 39.453125 66.40625 31.78125 66.40625 \n",
       "M 31.78125 74.21875 \n",
       "Q 44.046875 74.21875 50.515625 64.515625 \n",
       "Q 56.984375 54.828125 56.984375 36.375 \n",
       "Q 56.984375 17.96875 50.515625 8.265625 \n",
       "Q 44.046875 -1.421875 31.78125 -1.421875 \n",
       "Q 19.53125 -1.421875 13.0625 8.265625 \n",
       "Q 6.59375 17.96875 6.59375 36.375 \n",
       "Q 6.59375 54.828125 13.0625 64.515625 \n",
       "Q 19.53125 74.21875 31.78125 74.21875 \n",
       "\" id=\"BitstreamVeraSans-Roman-30\"/>\n",
       "      </defs>\n",
       "      <g transform=\"translate(32.3015625 246.8375)scale(0.1 -0.1)\">\n",
       "       <use xlink:href=\"#BitstreamVeraSans-Roman-30\"/>\n",
       "      </g>\n",
       "     </g>\n",
       "    </g>\n",
       "    <g id=\"xtick_2\">\n",
       "     <g id=\"line2d_4\">\n",
       "      <g>\n",
       "       <use style=\"stroke:#000000;stroke-width:0.5;\" x=\"83.3113839286\" xlink:href=\"#m5dc7a8af12\" y=\"235.2390625\"/>\n",
       "      </g>\n",
       "     </g>\n",
       "     <g id=\"line2d_5\">\n",
       "      <g>\n",
       "       <use style=\"stroke:#000000;stroke-width:0.5;\" x=\"83.3113839286\" xlink:href=\"#mf00936ddbb\" y=\"12.0390625\"/>\n",
       "      </g>\n",
       "     </g>\n",
       "     <g id=\"text_2\">\n",
       "      <!-- 10 -->\n",
       "      <defs>\n",
       "       <path d=\"M 12.40625 8.296875 \n",
       "L 28.515625 8.296875 \n",
       "L 28.515625 63.921875 \n",
       "L 10.984375 60.40625 \n",
       "L 10.984375 69.390625 \n",
       "L 28.421875 72.90625 \n",
       "L 38.28125 72.90625 \n",
       "L 38.28125 8.296875 \n",
       "L 54.390625 8.296875 \n",
       "L 54.390625 0 \n",
       "L 12.40625 0 \n",
       "z\n",
       "\" id=\"BitstreamVeraSans-Roman-31\"/>\n",
       "      </defs>\n",
       "      <g transform=\"translate(76.9488839286 246.8375)scale(0.1 -0.1)\">\n",
       "       <use xlink:href=\"#BitstreamVeraSans-Roman-31\"/>\n",
       "       <use x=\"63.623046875\" xlink:href=\"#BitstreamVeraSans-Roman-30\"/>\n",
       "      </g>\n",
       "     </g>\n",
       "    </g>\n",
       "    <g id=\"xtick_3\">\n",
       "     <g id=\"line2d_6\">\n",
       "      <g>\n",
       "       <use style=\"stroke:#000000;stroke-width:0.5;\" x=\"131.139955357\" xlink:href=\"#m5dc7a8af12\" y=\"235.2390625\"/>\n",
       "      </g>\n",
       "     </g>\n",
       "     <g id=\"line2d_7\">\n",
       "      <g>\n",
       "       <use style=\"stroke:#000000;stroke-width:0.5;\" x=\"131.139955357\" xlink:href=\"#mf00936ddbb\" y=\"12.0390625\"/>\n",
       "      </g>\n",
       "     </g>\n",
       "     <g id=\"text_3\">\n",
       "      <!-- 20 -->\n",
       "      <defs>\n",
       "       <path d=\"M 19.1875 8.296875 \n",
       "L 53.609375 8.296875 \n",
       "L 53.609375 0 \n",
       "L 7.328125 0 \n",
       "L 7.328125 8.296875 \n",
       "Q 12.9375 14.109375 22.625 23.890625 \n",
       "Q 32.328125 33.6875 34.8125 36.53125 \n",
       "Q 39.546875 41.84375 41.421875 45.53125 \n",
       "Q 43.3125 49.21875 43.3125 52.78125 \n",
       "Q 43.3125 58.59375 39.234375 62.25 \n",
       "Q 35.15625 65.921875 28.609375 65.921875 \n",
       "Q 23.96875 65.921875 18.8125 64.3125 \n",
       "Q 13.671875 62.703125 7.8125 59.421875 \n",
       "L 7.8125 69.390625 \n",
       "Q 13.765625 71.78125 18.9375 73 \n",
       "Q 24.125 74.21875 28.421875 74.21875 \n",
       "Q 39.75 74.21875 46.484375 68.546875 \n",
       "Q 53.21875 62.890625 53.21875 53.421875 \n",
       "Q 53.21875 48.921875 51.53125 44.890625 \n",
       "Q 49.859375 40.875 45.40625 35.40625 \n",
       "Q 44.1875 33.984375 37.640625 27.21875 \n",
       "Q 31.109375 20.453125 19.1875 8.296875 \n",
       "\" id=\"BitstreamVeraSans-Roman-32\"/>\n",
       "      </defs>\n",
       "      <g transform=\"translate(124.777455357 246.8375)scale(0.1 -0.1)\">\n",
       "       <use xlink:href=\"#BitstreamVeraSans-Roman-32\"/>\n",
       "       <use x=\"63.623046875\" xlink:href=\"#BitstreamVeraSans-Roman-30\"/>\n",
       "      </g>\n",
       "     </g>\n",
       "    </g>\n",
       "    <g id=\"xtick_4\">\n",
       "     <g id=\"line2d_8\">\n",
       "      <g>\n",
       "       <use style=\"stroke:#000000;stroke-width:0.5;\" x=\"178.968526786\" xlink:href=\"#m5dc7a8af12\" y=\"235.2390625\"/>\n",
       "      </g>\n",
       "     </g>\n",
       "     <g id=\"line2d_9\">\n",
       "      <g>\n",
       "       <use style=\"stroke:#000000;stroke-width:0.5;\" x=\"178.968526786\" xlink:href=\"#mf00936ddbb\" y=\"12.0390625\"/>\n",
       "      </g>\n",
       "     </g>\n",
       "     <g id=\"text_4\">\n",
       "      <!-- 30 -->\n",
       "      <defs>\n",
       "       <path d=\"M 40.578125 39.3125 \n",
       "Q 47.65625 37.796875 51.625 33 \n",
       "Q 55.609375 28.21875 55.609375 21.1875 \n",
       "Q 55.609375 10.40625 48.1875 4.484375 \n",
       "Q 40.765625 -1.421875 27.09375 -1.421875 \n",
       "Q 22.515625 -1.421875 17.65625 -0.515625 \n",
       "Q 12.796875 0.390625 7.625 2.203125 \n",
       "L 7.625 11.71875 \n",
       "Q 11.71875 9.328125 16.59375 8.109375 \n",
       "Q 21.484375 6.890625 26.8125 6.890625 \n",
       "Q 36.078125 6.890625 40.9375 10.546875 \n",
       "Q 45.796875 14.203125 45.796875 21.1875 \n",
       "Q 45.796875 27.640625 41.28125 31.265625 \n",
       "Q 36.765625 34.90625 28.71875 34.90625 \n",
       "L 20.21875 34.90625 \n",
       "L 20.21875 43.015625 \n",
       "L 29.109375 43.015625 \n",
       "Q 36.375 43.015625 40.234375 45.921875 \n",
       "Q 44.09375 48.828125 44.09375 54.296875 \n",
       "Q 44.09375 59.90625 40.109375 62.90625 \n",
       "Q 36.140625 65.921875 28.71875 65.921875 \n",
       "Q 24.65625 65.921875 20.015625 65.03125 \n",
       "Q 15.375 64.15625 9.8125 62.3125 \n",
       "L 9.8125 71.09375 \n",
       "Q 15.4375 72.65625 20.34375 73.4375 \n",
       "Q 25.25 74.21875 29.59375 74.21875 \n",
       "Q 40.828125 74.21875 47.359375 69.109375 \n",
       "Q 53.90625 64.015625 53.90625 55.328125 \n",
       "Q 53.90625 49.265625 50.4375 45.09375 \n",
       "Q 46.96875 40.921875 40.578125 39.3125 \n",
       "\" id=\"BitstreamVeraSans-Roman-33\"/>\n",
       "      </defs>\n",
       "      <g transform=\"translate(172.606026786 246.8375)scale(0.1 -0.1)\">\n",
       "       <use xlink:href=\"#BitstreamVeraSans-Roman-33\"/>\n",
       "       <use x=\"63.623046875\" xlink:href=\"#BitstreamVeraSans-Roman-30\"/>\n",
       "      </g>\n",
       "     </g>\n",
       "    </g>\n",
       "    <g id=\"xtick_5\">\n",
       "     <g id=\"line2d_10\">\n",
       "      <g>\n",
       "       <use style=\"stroke:#000000;stroke-width:0.5;\" x=\"226.797098214\" xlink:href=\"#m5dc7a8af12\" y=\"235.2390625\"/>\n",
       "      </g>\n",
       "     </g>\n",
       "     <g id=\"line2d_11\">\n",
       "      <g>\n",
       "       <use style=\"stroke:#000000;stroke-width:0.5;\" x=\"226.797098214\" xlink:href=\"#mf00936ddbb\" y=\"12.0390625\"/>\n",
       "      </g>\n",
       "     </g>\n",
       "     <g id=\"text_5\">\n",
       "      <!-- 40 -->\n",
       "      <defs>\n",
       "       <path d=\"M 37.796875 64.3125 \n",
       "L 12.890625 25.390625 \n",
       "L 37.796875 25.390625 \n",
       "z\n",
       "M 35.203125 72.90625 \n",
       "L 47.609375 72.90625 \n",
       "L 47.609375 25.390625 \n",
       "L 58.015625 25.390625 \n",
       "L 58.015625 17.1875 \n",
       "L 47.609375 17.1875 \n",
       "L 47.609375 0 \n",
       "L 37.796875 0 \n",
       "L 37.796875 17.1875 \n",
       "L 4.890625 17.1875 \n",
       "L 4.890625 26.703125 \n",
       "z\n",
       "\" id=\"BitstreamVeraSans-Roman-34\"/>\n",
       "      </defs>\n",
       "      <g transform=\"translate(220.434598214 246.8375)scale(0.1 -0.1)\">\n",
       "       <use xlink:href=\"#BitstreamVeraSans-Roman-34\"/>\n",
       "       <use x=\"63.623046875\" xlink:href=\"#BitstreamVeraSans-Roman-30\"/>\n",
       "      </g>\n",
       "     </g>\n",
       "    </g>\n",
       "    <g id=\"xtick_6\">\n",
       "     <g id=\"line2d_12\">\n",
       "      <g>\n",
       "       <use style=\"stroke:#000000;stroke-width:0.5;\" x=\"274.625669643\" xlink:href=\"#m5dc7a8af12\" y=\"235.2390625\"/>\n",
       "      </g>\n",
       "     </g>\n",
       "     <g id=\"line2d_13\">\n",
       "      <g>\n",
       "       <use style=\"stroke:#000000;stroke-width:0.5;\" x=\"274.625669643\" xlink:href=\"#mf00936ddbb\" y=\"12.0390625\"/>\n",
       "      </g>\n",
       "     </g>\n",
       "     <g id=\"text_6\">\n",
       "      <!-- 50 -->\n",
       "      <defs>\n",
       "       <path d=\"M 10.796875 72.90625 \n",
       "L 49.515625 72.90625 \n",
       "L 49.515625 64.59375 \n",
       "L 19.828125 64.59375 \n",
       "L 19.828125 46.734375 \n",
       "Q 21.96875 47.46875 24.109375 47.828125 \n",
       "Q 26.265625 48.1875 28.421875 48.1875 \n",
       "Q 40.625 48.1875 47.75 41.5 \n",
       "Q 54.890625 34.8125 54.890625 23.390625 \n",
       "Q 54.890625 11.625 47.5625 5.09375 \n",
       "Q 40.234375 -1.421875 26.90625 -1.421875 \n",
       "Q 22.3125 -1.421875 17.546875 -0.640625 \n",
       "Q 12.796875 0.140625 7.71875 1.703125 \n",
       "L 7.71875 11.625 \n",
       "Q 12.109375 9.234375 16.796875 8.0625 \n",
       "Q 21.484375 6.890625 26.703125 6.890625 \n",
       "Q 35.15625 6.890625 40.078125 11.328125 \n",
       "Q 45.015625 15.765625 45.015625 23.390625 \n",
       "Q 45.015625 31 40.078125 35.4375 \n",
       "Q 35.15625 39.890625 26.703125 39.890625 \n",
       "Q 22.75 39.890625 18.8125 39.015625 \n",
       "Q 14.890625 38.140625 10.796875 36.28125 \n",
       "z\n",
       "\" id=\"BitstreamVeraSans-Roman-35\"/>\n",
       "      </defs>\n",
       "      <g transform=\"translate(268.263169643 246.8375)scale(0.1 -0.1)\">\n",
       "       <use xlink:href=\"#BitstreamVeraSans-Roman-35\"/>\n",
       "       <use x=\"63.623046875\" xlink:href=\"#BitstreamVeraSans-Roman-30\"/>\n",
       "      </g>\n",
       "     </g>\n",
       "    </g>\n",
       "    <g id=\"xtick_7\">\n",
       "     <g id=\"line2d_14\">\n",
       "      <g>\n",
       "       <use style=\"stroke:#000000;stroke-width:0.5;\" x=\"322.454241071\" xlink:href=\"#m5dc7a8af12\" y=\"235.2390625\"/>\n",
       "      </g>\n",
       "     </g>\n",
       "     <g id=\"line2d_15\">\n",
       "      <g>\n",
       "       <use style=\"stroke:#000000;stroke-width:0.5;\" x=\"322.454241071\" xlink:href=\"#mf00936ddbb\" y=\"12.0390625\"/>\n",
       "      </g>\n",
       "     </g>\n",
       "     <g id=\"text_7\">\n",
       "      <!-- 60 -->\n",
       "      <defs>\n",
       "       <path d=\"M 33.015625 40.375 \n",
       "Q 26.375 40.375 22.484375 35.828125 \n",
       "Q 18.609375 31.296875 18.609375 23.390625 \n",
       "Q 18.609375 15.53125 22.484375 10.953125 \n",
       "Q 26.375 6.390625 33.015625 6.390625 \n",
       "Q 39.65625 6.390625 43.53125 10.953125 \n",
       "Q 47.40625 15.53125 47.40625 23.390625 \n",
       "Q 47.40625 31.296875 43.53125 35.828125 \n",
       "Q 39.65625 40.375 33.015625 40.375 \n",
       "M 52.59375 71.296875 \n",
       "L 52.59375 62.3125 \n",
       "Q 48.875 64.0625 45.09375 64.984375 \n",
       "Q 41.3125 65.921875 37.59375 65.921875 \n",
       "Q 27.828125 65.921875 22.671875 59.328125 \n",
       "Q 17.53125 52.734375 16.796875 39.40625 \n",
       "Q 19.671875 43.65625 24.015625 45.921875 \n",
       "Q 28.375 48.1875 33.59375 48.1875 \n",
       "Q 44.578125 48.1875 50.953125 41.515625 \n",
       "Q 57.328125 34.859375 57.328125 23.390625 \n",
       "Q 57.328125 12.15625 50.6875 5.359375 \n",
       "Q 44.046875 -1.421875 33.015625 -1.421875 \n",
       "Q 20.359375 -1.421875 13.671875 8.265625 \n",
       "Q 6.984375 17.96875 6.984375 36.375 \n",
       "Q 6.984375 53.65625 15.1875 63.9375 \n",
       "Q 23.390625 74.21875 37.203125 74.21875 \n",
       "Q 40.921875 74.21875 44.703125 73.484375 \n",
       "Q 48.484375 72.75 52.59375 71.296875 \n",
       "\" id=\"BitstreamVeraSans-Roman-36\"/>\n",
       "      </defs>\n",
       "      <g transform=\"translate(316.091741071 246.8375)scale(0.1 -0.1)\">\n",
       "       <use xlink:href=\"#BitstreamVeraSans-Roman-36\"/>\n",
       "       <use x=\"63.623046875\" xlink:href=\"#BitstreamVeraSans-Roman-30\"/>\n",
       "      </g>\n",
       "     </g>\n",
       "    </g>\n",
       "    <g id=\"xtick_8\">\n",
       "     <g id=\"line2d_16\">\n",
       "      <g>\n",
       "       <use style=\"stroke:#000000;stroke-width:0.5;\" x=\"370.2828125\" xlink:href=\"#m5dc7a8af12\" y=\"235.2390625\"/>\n",
       "      </g>\n",
       "     </g>\n",
       "     <g id=\"line2d_17\">\n",
       "      <g>\n",
       "       <use style=\"stroke:#000000;stroke-width:0.5;\" x=\"370.2828125\" xlink:href=\"#mf00936ddbb\" y=\"12.0390625\"/>\n",
       "      </g>\n",
       "     </g>\n",
       "     <g id=\"text_8\">\n",
       "      <!-- 70 -->\n",
       "      <defs>\n",
       "       <path d=\"M 8.203125 72.90625 \n",
       "L 55.078125 72.90625 \n",
       "L 55.078125 68.703125 \n",
       "L 28.609375 0 \n",
       "L 18.3125 0 \n",
       "L 43.21875 64.59375 \n",
       "L 8.203125 64.59375 \n",
       "z\n",
       "\" id=\"BitstreamVeraSans-Roman-37\"/>\n",
       "      </defs>\n",
       "      <g transform=\"translate(363.9203125 246.8375)scale(0.1 -0.1)\">\n",
       "       <use xlink:href=\"#BitstreamVeraSans-Roman-37\"/>\n",
       "       <use x=\"63.623046875\" xlink:href=\"#BitstreamVeraSans-Roman-30\"/>\n",
       "      </g>\n",
       "     </g>\n",
       "    </g>\n",
       "   </g>\n",
       "   <g id=\"matplotlib.axis_2\">\n",
       "    <g id=\"ytick_1\">\n",
       "     <g id=\"line2d_18\">\n",
       "      <defs>\n",
       "       <path d=\"M 0 0 \n",
       "L 4 0 \n",
       "\" id=\"mcc3744c378\" style=\"stroke:#000000;stroke-width:0.5;\"/>\n",
       "      </defs>\n",
       "      <g>\n",
       "       <use style=\"stroke:#000000;stroke-width:0.5;\" x=\"35.4828125\" xlink:href=\"#mcc3744c378\" y=\"235.2390625\"/>\n",
       "      </g>\n",
       "     </g>\n",
       "     <g id=\"line2d_19\">\n",
       "      <defs>\n",
       "       <path d=\"M 0 0 \n",
       "L -4 0 \n",
       "\" id=\"m9e08d0c9f4\" style=\"stroke:#000000;stroke-width:0.5;\"/>\n",
       "      </defs>\n",
       "      <g>\n",
       "       <use style=\"stroke:#000000;stroke-width:0.5;\" x=\"370.2828125\" xlink:href=\"#m9e08d0c9f4\" y=\"235.2390625\"/>\n",
       "      </g>\n",
       "     </g>\n",
       "     <g id=\"text_9\">\n",
       "      <!-- −1.0 -->\n",
       "      <defs>\n",
       "       <path d=\"M 10.59375 35.5 \n",
       "L 73.1875 35.5 \n",
       "L 73.1875 27.203125 \n",
       "L 10.59375 27.203125 \n",
       "z\n",
       "\" id=\"BitstreamVeraSans-Roman-2212\"/>\n",
       "       <path d=\"M 10.6875 12.40625 \n",
       "L 21 12.40625 \n",
       "L 21 0 \n",
       "L 10.6875 0 \n",
       "z\n",
       "\" id=\"BitstreamVeraSans-Roman-2e\"/>\n",
       "      </defs>\n",
       "      <g transform=\"translate(7.2 237.9984375)scale(0.1 -0.1)\">\n",
       "       <use xlink:href=\"#BitstreamVeraSans-Roman-2212\"/>\n",
       "       <use x=\"83.7890625\" xlink:href=\"#BitstreamVeraSans-Roman-31\"/>\n",
       "       <use x=\"147.412109375\" xlink:href=\"#BitstreamVeraSans-Roman-2e\"/>\n",
       "       <use x=\"179.19921875\" xlink:href=\"#BitstreamVeraSans-Roman-30\"/>\n",
       "      </g>\n",
       "     </g>\n",
       "    </g>\n",
       "    <g id=\"ytick_2\">\n",
       "     <g id=\"line2d_20\">\n",
       "      <g>\n",
       "       <use style=\"stroke:#000000;stroke-width:0.5;\" x=\"35.4828125\" xlink:href=\"#mcc3744c378\" y=\"179.4390625\"/>\n",
       "      </g>\n",
       "     </g>\n",
       "     <g id=\"line2d_21\">\n",
       "      <g>\n",
       "       <use style=\"stroke:#000000;stroke-width:0.5;\" x=\"370.2828125\" xlink:href=\"#m9e08d0c9f4\" y=\"179.4390625\"/>\n",
       "      </g>\n",
       "     </g>\n",
       "     <g id=\"text_10\">\n",
       "      <!-- −0.5 -->\n",
       "      <g transform=\"translate(7.2 182.1984375)scale(0.1 -0.1)\">\n",
       "       <use xlink:href=\"#BitstreamVeraSans-Roman-2212\"/>\n",
       "       <use x=\"83.7890625\" xlink:href=\"#BitstreamVeraSans-Roman-30\"/>\n",
       "       <use x=\"147.412109375\" xlink:href=\"#BitstreamVeraSans-Roman-2e\"/>\n",
       "       <use x=\"179.19921875\" xlink:href=\"#BitstreamVeraSans-Roman-35\"/>\n",
       "      </g>\n",
       "     </g>\n",
       "    </g>\n",
       "    <g id=\"ytick_3\">\n",
       "     <g id=\"line2d_22\">\n",
       "      <g>\n",
       "       <use style=\"stroke:#000000;stroke-width:0.5;\" x=\"35.4828125\" xlink:href=\"#mcc3744c378\" y=\"123.6390625\"/>\n",
       "      </g>\n",
       "     </g>\n",
       "     <g id=\"line2d_23\">\n",
       "      <g>\n",
       "       <use style=\"stroke:#000000;stroke-width:0.5;\" x=\"370.2828125\" xlink:href=\"#m9e08d0c9f4\" y=\"123.6390625\"/>\n",
       "      </g>\n",
       "     </g>\n",
       "     <g id=\"text_11\">\n",
       "      <!-- 0.0 -->\n",
       "      <g transform=\"translate(15.5796875 126.3984375)scale(0.1 -0.1)\">\n",
       "       <use xlink:href=\"#BitstreamVeraSans-Roman-30\"/>\n",
       "       <use x=\"63.623046875\" xlink:href=\"#BitstreamVeraSans-Roman-2e\"/>\n",
       "       <use x=\"95.41015625\" xlink:href=\"#BitstreamVeraSans-Roman-30\"/>\n",
       "      </g>\n",
       "     </g>\n",
       "    </g>\n",
       "    <g id=\"ytick_4\">\n",
       "     <g id=\"line2d_24\">\n",
       "      <g>\n",
       "       <use style=\"stroke:#000000;stroke-width:0.5;\" x=\"35.4828125\" xlink:href=\"#mcc3744c378\" y=\"67.8390625\"/>\n",
       "      </g>\n",
       "     </g>\n",
       "     <g id=\"line2d_25\">\n",
       "      <g>\n",
       "       <use style=\"stroke:#000000;stroke-width:0.5;\" x=\"370.2828125\" xlink:href=\"#m9e08d0c9f4\" y=\"67.8390625\"/>\n",
       "      </g>\n",
       "     </g>\n",
       "     <g id=\"text_12\">\n",
       "      <!-- 0.5 -->\n",
       "      <g transform=\"translate(15.5796875 70.5984375)scale(0.1 -0.1)\">\n",
       "       <use xlink:href=\"#BitstreamVeraSans-Roman-30\"/>\n",
       "       <use x=\"63.623046875\" xlink:href=\"#BitstreamVeraSans-Roman-2e\"/>\n",
       "       <use x=\"95.41015625\" xlink:href=\"#BitstreamVeraSans-Roman-35\"/>\n",
       "      </g>\n",
       "     </g>\n",
       "    </g>\n",
       "    <g id=\"ytick_5\">\n",
       "     <g id=\"line2d_26\">\n",
       "      <g>\n",
       "       <use style=\"stroke:#000000;stroke-width:0.5;\" x=\"35.4828125\" xlink:href=\"#mcc3744c378\" y=\"12.0390625\"/>\n",
       "      </g>\n",
       "     </g>\n",
       "     <g id=\"line2d_27\">\n",
       "      <g>\n",
       "       <use style=\"stroke:#000000;stroke-width:0.5;\" x=\"370.2828125\" xlink:href=\"#m9e08d0c9f4\" y=\"12.0390625\"/>\n",
       "      </g>\n",
       "     </g>\n",
       "     <g id=\"text_13\">\n",
       "      <!-- 1.0 -->\n",
       "      <g transform=\"translate(15.5796875 14.7984375)scale(0.1 -0.1)\">\n",
       "       <use xlink:href=\"#BitstreamVeraSans-Roman-31\"/>\n",
       "       <use x=\"63.623046875\" xlink:href=\"#BitstreamVeraSans-Roman-2e\"/>\n",
       "       <use x=\"95.41015625\" xlink:href=\"#BitstreamVeraSans-Roman-30\"/>\n",
       "      </g>\n",
       "     </g>\n",
       "    </g>\n",
       "   </g>\n",
       "  </g>\n",
       " </g>\n",
       " <defs>\n",
       "  <clipPath id=\"p8a82de331e\">\n",
       "   <rect height=\"223.2\" width=\"334.8\" x=\"35.4828125\" y=\"12.0390625\"/>\n",
       "  </clipPath>\n",
       " </defs>\n",
       "</svg>\n"
      ],
      "text/plain": [
       "<matplotlib.figure.Figure at 0x7fe5deb0ff90>"
      ]
     },
     "metadata": {},
     "output_type": "display_data"
    }
   ],
   "source": [
    "pylab.plot( df_grid3d_result[:,0,0] )"
   ]
  },
  {
   "cell_type": "code",
   "execution_count": 35,
   "metadata": {
    "collapsed": false
   },
   "outputs": [
    {
     "data": {
      "text/plain": [
       "-0.19509032201612872"
      ]
     },
     "execution_count": 35,
     "metadata": {},
     "output_type": "execute_result"
    }
   ],
   "source": [
    "f_grid3d[-2][0][0]"
   ]
  },
  {
   "cell_type": "code",
   "execution_count": null,
   "metadata": {
    "collapsed": true
   },
   "outputs": [],
   "source": [
    "p = 6\n",
    "( Rat(3,4)*(f(x+h).series(x+h,x0=x_0,n=p) - f(x-h).series(x-h,x0=x_0,n=p)) + \\\n",
    "Rat(-3,20)*(f(x+2*h).series(x+2*h,x0=x_0,n=p)-f(x-2*h).series(x-2*h,x0=x_0,n=p)) + \\\n",
    "Rat(1,60)*(f(x+3*h).series(x+3*h,x0=x_0,n=p)-f(x-3*h).series(x-3*h,x0=x_0,n=p))).subs(x-x_0,0)"
   ]
  },
  {
   "cell_type": "markdown",
   "metadata": {},
   "source": [
    "# Instantons\n",
    "\n",
    "cf. Valery Rubakov. **Classical Theory of Gauge Fields**.  Princeton, 2002.  Ch. 7.  7.1 Kink"
   ]
  },
  {
   "cell_type": "code",
   "execution_count": 182,
   "metadata": {
    "collapsed": true
   },
   "outputs": [],
   "source": [
    "t = Symbol('t',real=True)\n",
    "phi1pl1 = Symbol(r'\\varphi')# phi1pl1 denote phi 1+1 spacetime dimension; pl for \"plus\"\n",
    "phi1pl1 = Function(r'\\varphi')(t,x)"
   ]
  },
  {
   "cell_type": "code",
   "execution_count": 183,
   "metadata": {
    "collapsed": false
   },
   "outputs": [
    {
     "data": {
      "image/png": "[encoded data removed]",
      "text/latex": [
       "$$\\varphi{\\left (t,x \\right )}$$"
      ],
      "text/plain": [
       "\\varphi(t, x)"
      ]
     },
     "execution_count": 183,
     "metadata": {},
     "output_type": "execute_result"
    }
   ],
   "source": [
    "phi1pl1"
   ]
  },
  {
   "cell_type": "code",
   "execution_count": 191,
   "metadata": {
    "collapsed": false
   },
   "outputs": [
    {
     "data": {
      "text/latex": [
       "$$\\varphi{\\left (t,x_{0} \\right )} + \\left(x - x_{0}\\right) \\left. \\frac{\\partial}{\\partial \\xi_{2}} \\varphi{\\left (t,\\xi_{2} \\right )} \\right|_{\\substack{ \\xi_{2}=x_{0} }} + \\frac{1}{2} \\left(x - x_{0}\\right)^{2} \\left. \\frac{\\partial^{2}}{\\partial \\xi_{2}^{2}}  \\varphi{\\left (t,\\xi_{2} \\right )} \\right|_{\\substack{ \\xi_{2}=x_{0} }} + \\mathcal{O}\\left(\\left(x - x_{0}\\right)^{3}; x\\rightarrowx_{0}\\right)$$"
      ],
      "text/plain": [
       "                                                                  ⎛  2        \n",
       "                                                                2 ⎜ ∂         \n",
       "                                                        (x - x₀) ⋅⎜────(\\varph\n",
       "                                                                  ⎜   2       \n",
       "                          ⎛ ∂                 ⎞│                  ⎝∂ξ₂        \n",
       "\\varphi(t, x₀) + (x - x₀)⋅⎜───(\\varphi(t, ξ₂))⎟│      + ──────────────────────\n",
       "                          ⎝∂ξ₂                ⎠│ξ₂=x₀                     2   \n",
       "\n",
       "         ⎞│                            \n",
       "         ⎟│                            \n",
       "i(t, ξ₂))⎟│                            \n",
       "         ⎟│                            \n",
       "         ⎠│ξ₂=x₀    ⎛        3        ⎞\n",
       "──────────────── + O⎝(x - x₀) ; x → x₀⎠\n",
       "                                       "
      ]
     },
     "execution_count": 191,
     "metadata": {},
     "output_type": "execute_result"
    }
   ],
   "source": [
    "phi1pl1.series(x=x,x0=x_0,n=3)"
   ]
  },
  {
   "cell_type": "code",
   "execution_count": 193,
   "metadata": {
    "collapsed": false
   },
   "outputs": [
    {
     "data": {
      "text/latex": [
       "$$\\left. \\frac{\\partial}{\\partial x} \\varphi{\\left (t,x \\right )} \\right|_{\\substack{ x=x + x_{0} }}^{2} + \\frac{\\partial}{\\partial t} \\varphi{\\left (t,x_{0} \\right )}^{2} + 2 \\frac{\\partial}{\\partial t}\\left(\\frac{1}{2} \\left(x - x_{0}\\right)^{2} \\left. \\frac{\\partial^{2}}{\\partial \\xi_{2}^{2}}  \\varphi{\\left (t,\\xi_{2} \\right )} \\right|_{\\substack{ \\xi_{2}=x_{0} }}\\right) \\frac{\\partial}{\\partial t} \\varphi{\\left (t,x_{0} \\right )} + 2 \\frac{\\partial}{\\partial t}\\left(\\left(x - x_{0}\\right) \\left. \\frac{\\partial}{\\partial \\xi_{2}} \\varphi{\\left (t,\\xi_{2} \\right )} \\right|_{\\substack{ \\xi_{2}=x_{0} }}\\right) \\frac{\\partial}{\\partial t} \\varphi{\\left (t,x_{0} \\right )} + \\frac{\\partial}{\\partial t}\\left(\\left(x - x_{0}\\right) \\left. \\frac{\\partial}{\\partial \\xi_{2}} \\varphi{\\left (t,\\xi_{2} \\right )} \\right|_{\\substack{ \\xi_{2}=x_{0} }}\\right)^{2} + \\mathcal{O}\\left(\\left(x - x_{0}\\right)^{3}; x\\rightarrowx_{0}\\right)$$"
      ],
      "text/plain": [
       "                                                            ⎛          ⎛  2   \n",
       "                                                            ⎜        2 ⎜ ∂    \n",
       "                                                            ⎜(x - x₀) ⋅⎜────(\\\n",
       "                            2                       2       ⎜          ⎜   2  \n",
       "⎛∂                ⎞│            ⎛∂                 ⎞      ∂ ⎜          ⎝∂ξ₂   \n",
       "⎜──(\\varphi(t, x))⎟│          + ⎜──(\\varphi(t, x₀))⎟  + 2⋅──⎜─────────────────\n",
       "⎝∂x               ⎠│x=x + x₀    ⎝∂t                ⎠      ∂t⎝                 \n",
       "\n",
       "              ⎞│     ⎞                                                        \n",
       "              ⎟│     ⎟                                                        \n",
       "varphi(t, ξ₂))⎟│     ⎟                                                        \n",
       "              ⎟│     ⎟                                                        \n",
       "              ⎠│ξ₂=x₀⎟ ∂                      ∂ ⎛         ⎛ ∂                 \n",
       "─────────────────────⎟⋅──(\\varphi(t, x₀)) + 2⋅──⎜(x - x₀)⋅⎜───(\\varphi(t, ξ₂))\n",
       " 2                   ⎠ ∂t                     ∂t⎝         ⎝∂ξ₂                \n",
       "\n",
       "                                                                              \n",
       "                                                                              \n",
       "                                                                              \n",
       "                                                                        2     \n",
       "⎞│     ⎞ ∂                    ⎛∂ ⎛         ⎛ ∂                 ⎞│     ⎞⎞     ⎛\n",
       "⎟│     ⎟⋅──(\\varphi(t, x₀)) + ⎜──⎜(x - x₀)⋅⎜───(\\varphi(t, ξ₂))⎟│     ⎟⎟  + O⎝\n",
       "⎠│ξ₂=x₀⎠ ∂t                   ⎝∂t⎝         ⎝∂ξ₂                ⎠│ξ₂=x₀⎠⎠      \n",
       "\n",
       "                  \n",
       "                  \n",
       "                  \n",
       "                  \n",
       "        3        ⎞\n",
       "(x - x₀) ; x → x₀⎠\n",
       "                  "
      ]
     },
     "execution_count": 193,
     "metadata": {},
     "output_type": "execute_result"
    }
   ],
   "source": [
    "((phi1pl1.diff(t)*phi1pl1.diff(t)) + (phi1pl1.diff(x)*phi1pl1.diff(x))).series(x=x,x0=x_0,n=3)"
   ]
  },
  {
   "cell_type": "code",
   "execution_count": 199,
   "metadata": {
    "collapsed": false
   },
   "outputs": [
    {
     "data": {
      "image/png": "[encoded data removed]",
      "text/latex": [
       "$$\\frac{\\lambda}{4} \\left(- v^{2} + \\varphi^{2}{\\left (t,x \\right )}\\right)^{2}$$"
      ],
      "text/plain": [
       "                               2\n",
       "        ⎛   2          2      ⎞ \n",
       "\\lambda⋅⎝- v  + \\varphi (t, x)⎠ \n",
       "────────────────────────────────\n",
       "               4                "
      ]
     },
     "execution_count": 199,
     "metadata": {},
     "output_type": "execute_result"
    }
   ],
   "source": [
    "lambdavariablesymbol = Symbol(r'\\lambda')\n",
    "v = Symbol('v')\n",
    "mu = Symbol(r'\\mu')\n",
    "m = Symbol('m')\n",
    "lambdavariablesymbol/Rat(4)*(phi1pl1*phi1pl1-v**2)**2"
   ]
  },
  {
   "cell_type": "code",
   "execution_count": 201,
   "metadata": {
    "collapsed": false
   },
   "outputs": [
    {
     "data": {
      "text/latex": [
       "$$\\frac{\\mu^{4}}{4 \\lambda} + \\left(x - x_{0}\\right) \\left(\\lambda \\varphi^{3}{\\left (t,x_{0} \\right )} \\left. \\frac{\\partial}{\\partial \\xi_{2}} \\varphi{\\left (t,\\xi_{2} \\right )} \\right|_{\\substack{ \\xi_{2}=x_{0} }} - \\mu^{2} \\varphi{\\left (t,x_{0} \\right )} \\left. \\frac{\\partial}{\\partial \\xi_{2}} \\varphi{\\left (t,\\xi_{2} \\right )} \\right|_{\\substack{ \\xi_{2}=x_{0} }}\\right) - \\frac{\\mu^{2}}{2} \\varphi^{2}{\\left (t,x_{0} \\right )} + \\frac{\\lambda}{4} \\varphi^{4}{\\left (t,x_{0} \\right )} + \\mathcal{O}\\left(\\left(x - x_{0}\\right)^{2}; x\\rightarrowx_{0}\\right)$$"
      ],
      "text/plain": [
       "      4                                                                       \n",
       "   \\mu               ⎛               3        ⎛ ∂                 ⎞│          \n",
       "───────── + (x - x₀)⋅⎜\\lambda⋅\\varphi (t, x₀)⋅⎜───(\\varphi(t, ξ₂))⎟│      - \\m\n",
       "4⋅\\lambda            ⎝                        ⎝∂ξ₂                ⎠│ξ₂=x₀     \n",
       "\n",
       "                                                    2        2                \n",
       " 2                ⎛ ∂                 ⎞│     ⎞   \\mu ⋅\\varphi (t, x₀)   \\lambd\n",
       "u ⋅\\varphi(t, x₀)⋅⎜───(\\varphi(t, ξ₂))⎟│     ⎟ - ──────────────────── + ──────\n",
       "                  ⎝∂ξ₂                ⎠│ξ₂=x₀⎠            2                   \n",
       "\n",
       "         4                              \n",
       "a⋅\\varphi (t, x₀)    ⎛        2        ⎞\n",
       "───────────────── + O⎝(x - x₀) ; x → x₀⎠\n",
       "     4                                  "
      ]
     },
     "execution_count": 201,
     "metadata": {},
     "output_type": "execute_result"
    }
   ],
   "source": [
    "(lambdavariablesymbol/Rat(4)*(phi1pl1*phi1pl1-v**2)**2).series(x=x,x0=x_0,n=2).subs(v, \\\n",
    "                                                        mu/sympy.sqrt( lambdavariablesymbol))"
   ]
  },
  {
   "cell_type": "markdown",
   "metadata": {
    "collapsed": true
   },
   "source": [
    "# Dealing with Boundary conditions (with Finite Difference)"
   ]
  },
  {
   "cell_type": "markdown",
   "metadata": {},
   "source": [
    "I found that I needed to represent boundary conditions that are \"discretized\" i.e. \"numerical boundary condition\" - for example on pp. 148 of Cebeci, Shao, Kafyeke, Laurendeau, (E5.2.3), I need to figure out if this is a derivative or second-order derivative:\n",
    "\n",
    "$u_I^n = 2u^n_{I-1} - u^n_{I-2}$"
   ]
  },
  {
   "cell_type": "code",
   "execution_count": 10,
   "metadata": {
    "collapsed": false
   },
   "outputs": [
    {
     "data": {
      "image/png": "[encoded data removed]",
      "text/latex": [
       "$$h^{2} \\left. \\frac{d^{2}}{d \\xi_{1}^{2}}  f{\\left (\\xi_{1} \\right )} \\right|_{\\substack{ \\xi_{1}=x_{0} }} + \\mathcal{O}\\left(h^{3} + h^{2} x + h x^{2} + x^{3}; \\left ( h, \\quad x\\right )\\rightarrow\\left ( 0, \\quad 0\\right )\\right)$$"
      ],
      "text/plain": [
       "   ⎛  2        ⎞│                                                 \n",
       " 2 ⎜ d         ⎟│         ⎛ 3    2        2    3                 ⎞\n",
       "h ⋅⎜────(f(ξ₁))⎟│      + O⎝h  + h ⋅x + h⋅x  + x ; (h, x) → (0, 0)⎠\n",
       "   ⎜   2       ⎟│                                                 \n",
       "   ⎝dξ₁        ⎠│ξ₁=x₀                                            "
      ]
     },
     "execution_count": 10,
     "metadata": {},
     "output_type": "execute_result"
    }
   ],
   "source": [
    "(f(x).series(x,x0=x_0,n=3)- 2 * f(x-h).series(x-h,x0=x_0,n=3) + \\\n",
    " f(x-2*h).series(x-2*h,x0=x_0,n=3)).subs(x-x_0,0)"
   ]
  },
  {
   "cell_type": "markdown",
   "metadata": {},
   "source": [
    "So indeed this is essentially\n",
    "\n",
    "$ \\frac{ \\partial^2 u}{ \\partial x^2} = 0$"
   ]
  },
  {
   "cell_type": "markdown",
   "metadata": {
    "collapsed": true
   },
   "source": [
    "Also consider pp. 338 of Cebeci, Shao, Kafyeke, Laurendeau (2005), namely (11.5.7a), (11.5.7b), which purports the second-order accuracy of a boundary condition, involving a first-order partial derivative:\n",
    "\n",
    "$ \\frac{ \\partial u^x }{ \\partial y } = 0 $ and \n",
    "\n",
    "$\\frac{\\partial p }{ \\partial y} = 0 $\n",
    "\n",
    "cf. on the \"symmetry plane\" of $y=H$ (these boundary conditions, $\\lbrace (x,y) \\in \\mathbb{R}^2 | y=H \\rbrace$ is a *submanifold* of $\\mathbb{R}^2$ as it's a level set or from the locally imbedded theorem (from differential topology))"
   ]
  },
  {
   "cell_type": "code",
   "execution_count": 6,
   "metadata": {
    "collapsed": false
   },
   "outputs": [
    {
     "data": {
      "image/png": "[encoded data removed]",
      "text/latex": [
       "$$h \\left. \\frac{d}{d \\xi_{1}} f{\\left (\\xi_{1} \\right )} \\right|_{\\substack{ \\xi_{1}=x_{0} }} + \\mathcal{O}\\left(h^{3} + h^{2} x + h x^{2} + x^{3}; \\left ( h, \\quad x\\right )\\rightarrow\\left ( 0, \\quad 0\\right )\\right)$$"
      ],
      "text/plain": [
       "  ⎛ d        ⎞│         ⎛ 3    2        2    3                 ⎞\n",
       "h⋅⎜───(f(ξ₁))⎟│      + O⎝h  + h ⋅x + h⋅x  + x ; (h, x) → (0, 0)⎠\n",
       "  ⎝dξ₁       ⎠│ξ₁=x₀                                            "
      ]
     },
     "execution_count": 6,
     "metadata": {},
     "output_type": "execute_result"
    }
   ],
   "source": [
    "p=3\n",
    "( Rat(3,2)*f(x).series(x,x0=x_0,n=p).subs(x-x_0,0) + \\\n",
    "  Rat(-2)*( f(x-h).series(x-h,x0=x_0,n=p) ).subs(x-x_0,0) + \\\n",
    "Rat(1,2)*( f(x-2*h).series(x-2*h,x0=x_0,n=p)).subs(x-x_0,0) )\n"
   ]
  },
  {
   "cell_type": "code",
   "execution_count": 7,
   "metadata": {
    "collapsed": false
   },
   "outputs": [
    {
     "data": {
      "image/png": "[encoded data removed]",
      "text/latex": [
       "$$\\frac{2 h}{3} \\left. \\frac{d}{d \\xi_{1}} f{\\left (\\xi_{1} \\right )} \\right|_{\\substack{ \\xi_{1}=x_{0} }} + \\mathcal{O}\\left(h^{3} + h^{2} x + h x^{2} + x^{3}; \\left ( h, \\quad x\\right )\\rightarrow\\left ( 0, \\quad 0\\right )\\right)$$"
      ],
      "text/plain": [
       "    ⎛ d        ⎞│                                                 \n",
       "2⋅h⋅⎜───(f(ξ₁))⎟│                                                 \n",
       "    ⎝dξ₁       ⎠│ξ₁=x₀    ⎛ 3    2        2    3                 ⎞\n",
       "────────────────────── + O⎝h  + h ⋅x + h⋅x  + x ; (h, x) → (0, 0)⎠\n",
       "          3                                                       "
      ]
     },
     "execution_count": 7,
     "metadata": {},
     "output_type": "execute_result"
    }
   ],
   "source": [
    "( Rat(1)*f(x).series(x,x0=x_0,n=p).subs(x-x_0,0) + \\\n",
    "  Rat(-4,3)*( f(x-h).series(x-h,x0=x_0,n=p) ).subs(x-x_0,0) + \\\n",
    "Rat(1,3)*( f(x-2*h).series(x-2*h,x0=x_0,n=p)).subs(x-x_0,0) )"
   ]
  },
  {
   "cell_type": "markdown",
   "metadata": {},
   "source": [
    "Then \"set this\" first order partial derivative to zero and then you obtain the \"scheme\" to \"discretize\" the boundary condition.  \n",
    "\n",
    "$u_{i,J} = \\frac{ 4 u_{i,J-1} - u_{i,J-2} }{ 3 } $\n",
    "\n",
    "$p_{i,J} = \\frac{ 4p_{i,J-1} -p_{i,J-2} }{ 3 } $\n"
   ]
  },
  {
   "cell_type": "code",
   "execution_count": null,
   "metadata": {
    "collapsed": true
   },
   "outputs": [],
   "source": []
  }
 ],
 "metadata": {
  "kernelspec": {
   "display_name": "Python 2",
   "language": "python",
   "name": "python2"
  },
  "language_info": {
   "codemirror_mode": {
    "name": "ipython",
    "version": 2
   },
   "file_extension": ".py",
   "mimetype": "text/x-python",
   "name": "python",
   "nbconvert_exporter": "python",
   "pygments_lexer": "ipython2",
   "version": "2.7.11"
  }
 },
 "nbformat": 4,
 "nbformat_minor": 0
}
