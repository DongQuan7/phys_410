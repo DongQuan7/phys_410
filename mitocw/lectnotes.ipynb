{
 "cells": [
  {
   "cell_type": "markdown",
   "metadata": {},
   "source": [
    "cf. David Darmofal. 16.901 Computational Methods in Aerospace Engineering, Spring 2005. (Massachusetts Institute of Technology: MIT OpenCourseWare), http://ocw.mit.edu (Accessed 22 May, 2016). License: Creative Commons BY-NC-SA"
   ]
  },
  {
   "cell_type": "markdown",
   "metadata": {},
   "source": [
    "# Lecture 1 Numerical Integration of Ordinary Differential Equations: An Introduction"
   ]
  },
  {
   "cell_type": "code",
   "execution_count": 2,
   "metadata": {
    "collapsed": true
   },
   "outputs": [],
   "source": [
    "import sympy\n",
    "m_p, g = sympy.symbols('m_p g', real=True)"
   ]
  },
  {
   "cell_type": "code",
   "execution_count": 3,
   "metadata": {
    "collapsed": true
   },
   "outputs": [],
   "source": [
    "t = sympy.Symbol('t',real=True)"
   ]
  },
  {
   "cell_type": "code",
   "execution_count": 4,
   "metadata": {
    "collapsed": true
   },
   "outputs": [],
   "source": [
    "u = sympy.Function('u')(t)\n",
    "D = sympy.Function('D')(u)"
   ]
  },
  {
   "cell_type": "code",
   "execution_count": 26,
   "metadata": {
    "collapsed": false
   },
   "outputs": [
    {
     "name": "stdout",
     "output_type": "stream",
     "text": [
      "    d                         \n",
      "m_p⋅──(u(t)) = g⋅m_p - D(u(t))\n",
      "    dt                        \n"
     ]
    }
   ],
   "source": [
    "SphFreeFall = sympy.Eq(m_p*sympy.diff(u,t),m_p*g - D)\n",
    "sympy.pprint( SphFreeFall )"
   ]
  },
  {
   "cell_type": "markdown",
   "metadata": {},
   "source": [
    "For low speeds, "
   ]
  },
  {
   "cell_type": "code",
   "execution_count": 18,
   "metadata": {
    "collapsed": false
   },
   "outputs": [],
   "source": [
    "rho_g, mu_g = sympy.symbols(\"rho_g mu_g\",real=True) \n",
    "# density and dynamic viscosity of the atmosphere, "
   ]
  },
  {
   "cell_type": "code",
   "execution_count": 19,
   "metadata": {
    "collapsed": true
   },
   "outputs": [],
   "source": [
    "a = sympy.symbols(\"a\",real=True)"
   ]
  },
  {
   "cell_type": "code",
   "execution_count": 20,
   "metadata": {
    "collapsed": true
   },
   "outputs": [],
   "source": [
    "Re = 2*rho_g*u*a/mu_g"
   ]
  },
  {
   "cell_type": "code",
   "execution_count": 23,
   "metadata": {
    "collapsed": true
   },
   "outputs": [],
   "source": [
    "C_D = 24./Re + 6./(1. + sympy.sqrt(Re)) + 0.4"
   ]
  },
  {
   "cell_type": "code",
   "execution_count": 24,
   "metadata": {
    "collapsed": true
   },
   "outputs": [],
   "source": [
    "Dlow = 0.5*rho_g*sympy.pi*a**2*u**2*C_D "
   ]
  },
  {
   "cell_type": "code",
   "execution_count": 25,
   "metadata": {
    "collapsed": false
   },
   "outputs": [
    {
     "data": {
      "text/plain": [
       "0.5*pi*a**2*rho_g*(0.4 + 6.0/(sqrt(2)*sqrt(a*rho_g*u(t)/mu_g) + 1.0) + 12.0*mu_g/(a*rho_g*u(t)))*u(t)**2"
      ]
     },
     "execution_count": 25,
     "metadata": {},
     "output_type": "execute_result"
    }
   ],
   "source": [
    "Dlow\n"
   ]
  },
  {
   "cell_type": "code",
   "execution_count": 28,
   "metadata": {
    "collapsed": false
   },
   "outputs": [
    {
     "name": "stdout",
     "output_type": "stream",
     "text": [
      "    d                   2     ⎛                 6.0               12.0⋅μ_g ⎞  \n",
      "m_p⋅──(u(t)) = - 0.5⋅π⋅a ⋅ρ_g⋅⎜0.4 + ───────────────────────── + ──────────⎟⋅u\n",
      "    dt                        ⎜             ____________         a⋅ρ_g⋅u(t)⎟  \n",
      "                              ⎜            ╱ a⋅ρ_g⋅u(t)                    ⎟  \n",
      "                              ⎜      √2⋅  ╱  ──────────  + 1.0             ⎟  \n",
      "                              ⎝         ╲╱      μ_g                        ⎠  \n",
      "\n",
      "2           \n",
      " (t) + g⋅m_p\n",
      "            \n",
      "            \n",
      "            \n",
      "            \n"
     ]
    }
   ],
   "source": [
    "sympy.pprint( SphFreeFall.subs( D, Dlow) )"
   ]
  },
  {
   "cell_type": "code",
   "execution_count": null,
   "metadata": {
    "collapsed": true
   },
   "outputs": [],
   "source": []
  }
 ],
 "metadata": {
  "kernelspec": {
   "display_name": "Python 2",
   "language": "python",
   "name": "python2"
  },
  "language_info": {
   "codemirror_mode": {
    "name": "ipython",
    "version": 2
   },
   "file_extension": ".py",
   "mimetype": "text/x-python",
   "name": "python",
   "nbconvert_exporter": "python",
   "pygments_lexer": "ipython2",
   "version": "2.7.11"
  }
 },
 "nbformat": 4,
 "nbformat_minor": 0
}