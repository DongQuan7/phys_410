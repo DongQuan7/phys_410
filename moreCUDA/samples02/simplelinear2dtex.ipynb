{
 "cells": [
  {
   "cell_type": "markdown",
   "metadata": {},
   "source": [
    "# Reading the output from `simplelinear2dtex_1d_dd.cu`\n",
    "\n",
    "We go from a flattened `std::vector` (C++, representing 2-dimensional data) to a `.csv` file.  "
   ]
  },
  {
   "cell_type": "code",
   "execution_count": 1,
   "metadata": {
    "collapsed": true
   },
   "outputs": [],
   "source": [
    "%matplotlib inline"
   ]
  },
  {
   "cell_type": "code",
   "execution_count": 16,
   "metadata": {
    "collapsed": true
   },
   "outputs": [],
   "source": [
    "import matplotlib.pyplot as plt\n",
    "import csv\n",
    "import numpy as np"
   ]
  },
  {
   "cell_type": "code",
   "execution_count": 3,
   "metadata": {
    "collapsed": false
   },
   "outputs": [
    {
     "name": "stdout",
     "output_type": "stream",
     "text": [
      "128\n"
     ]
    }
   ],
   "source": [
    "ld = [ 1., 1.]\n",
    "WIDTH  = 16\n",
    "HEIGHT = 8\n",
    "print WIDTH*HEIGHT\n",
    "hd = [ld[0]/(float(WIDTH)), ld[1]/(float(HEIGHT)) ]"
   ]
  },
  {
   "cell_type": "code",
   "execution_count": 44,
   "metadata": {
    "collapsed": false
   },
   "outputs": [
    {
     "data": {
      "text/plain": [
       "['ddsinsin2dtex_result.csv',\n",
       " 'simplelinear2dtex_dx_result.csv',\n",
       " 'sinsin2dtex_result.csv',\n",
       " 'simplelinear2dtex_dy_result.csv',\n",
       " 'simplelinear2dtex_result.csv',\n",
       " 'simplelinear2dtex_ogref.csv',\n",
       " 'sinsin2dtex_ogref.csv',\n",
       " 'simplelinear2dtex_add_l_result.csv',\n",
       " 'simplelinear2dtex_d_result.csv']"
      ]
     },
     "execution_count": 44,
     "metadata": {},
     "output_type": "execute_result"
    }
   ],
   "source": [
    "# list the csv files we can import\n",
    "import os\n",
    "[filename for filename in os.listdir('./') if filename.find('.csv') >= 0 ]"
   ]
  },
  {
   "cell_type": "code",
   "execution_count": 45,
   "metadata": {
    "collapsed": false
   },
   "outputs": [],
   "source": [
    "with open('simplelinear2dtex_result.csv','r') as csvfile_result:\n",
    "    plot_results = csv.reader(csvfile_result, delimiter=',')\n",
    "    result_list = list(  list(rec) for rec in plot_results ) \n",
    "    \n",
    "with open('simplelinear2dtex_ogref.csv','r') as csvfile_ogref:\n",
    "    plot_ogref = csv.reader(csvfile_ogref, delimiter=',')\n",
    "    ogref_list = list(  list(rec) for rec in plot_ogref ) \n",
    "    \n",
    "with open('simplelinear2dtex_d_result.csv','r') as csvfile_d:\n",
    "    plot_d = csv.reader(csvfile_d, delimiter=',')\n",
    "    d_list = list(  list(rec) for rec in plot_d ) \n",
    "\n",
    "with open('simplelinear2dtex_add_l_result.csv','r') as csvfile_addl:\n",
    "    plot_addl = csv.reader(csvfile_addl, delimiter=',')\n",
    "    addl_list = list(  list(rec) for rec in plot_addl )     \n",
    "\n",
    "with open('simplelinear2dtex_dx_result.csv','r') as csvfile_dx:\n",
    "    plot_dx = csv.reader(csvfile_dx, delimiter=',')\n",
    "    dx_list = list(  list(rec) for rec in plot_dx )     \n",
    "\n",
    "with open('simplelinear2dtex_dy_result.csv','r') as csvfile_dy:\n",
    "    plot_dy = csv.reader(csvfile_dy, delimiter=',')\n",
    "    dy_list = list(  list(rec) for rec in plot_dy )     \n",
    "    "
   ]
  },
  {
   "cell_type": "code",
   "execution_count": 46,
   "metadata": {
    "collapsed": true
   },
   "outputs": [],
   "source": [
    "csvfile_result.close()\n",
    "csvfile_ogref.close()\n",
    "csvfile_d.close()\n",
    "csvfile_addl.close()\n",
    "csvfile_dx.close()\n",
    "csvfile_dy.close()\n"
   ]
  },
  {
   "cell_type": "code",
   "execution_count": 47,
   "metadata": {
    "collapsed": true
   },
   "outputs": [],
   "source": [
    "# convert the strings in the list of lists into floats\n",
    "result_list = [[float(ele) for ele in row] for row in result_list]\n",
    "ogref_list = [[float(ele) for ele in row] for row in ogref_list]\n",
    "d_list = [[float(ele) for ele in row] for row in d_list]\n",
    "addl_list = [[float(ele) for ele in row] for row in addl_list]\n",
    "dx_list = [[float(ele) for ele in row] for row in dx_list]\n",
    "dy_list = [[float(ele) for ele in row] for row in dy_list]\n"
   ]
  },
  {
   "cell_type": "code",
   "execution_count": 48,
   "metadata": {
    "collapsed": false
   },
   "outputs": [],
   "source": [
    "# convert the list of lists of floats into numpy arrays\n",
    "result_list = np.array( result_list)\n",
    "ogref_list = np.array( ogref_list)\n",
    "d_list = np.array( d_list)\n",
    "addl_list = np.array( addl_list )\n",
    "dx_list = np.array( dx_list )\n",
    "dy_list = np.array( dy_list )\n"
   ]
  },
  {
   "cell_type": "code",
   "execution_count": 20,
   "metadata": {
    "collapsed": false
   },
   "outputs": [
    {
     "data": {
      "text/plain": [
       "array([[ 0.,  0.,  0.,  0.,  0.,  0.,  0.,  0.,  0.,  0.,  0.,  0.,  0.,\n",
       "         0.,  0.,  0.],\n",
       "       [ 0.,  0.,  0.,  0.,  0.,  0.,  0.,  0.,  0.,  0.,  0.,  0.,  0.,\n",
       "         0.,  0.,  0.],\n",
       "       [ 0.,  0.,  0.,  0.,  0.,  0.,  0.,  0.,  0.,  0.,  0.,  0.,  0.,\n",
       "         0.,  0.,  0.],\n",
       "       [ 0.,  0.,  0.,  0.,  0.,  0.,  0.,  0.,  0.,  0.,  0.,  0.,  0.,\n",
       "         0.,  0.,  0.],\n",
       "       [ 0.,  0.,  0.,  0.,  0.,  0.,  0.,  0.,  0.,  0.,  0.,  0.,  0.,\n",
       "         0.,  0.,  0.],\n",
       "       [ 0.,  0.,  0.,  0.,  0.,  0.,  0.,  0.,  0.,  0.,  0.,  0.,  0.,\n",
       "         0.,  0.,  0.],\n",
       "       [ 0.,  0.,  0.,  0.,  0.,  0.,  0.,  0.,  0.,  0.,  0.,  0.,  0.,\n",
       "         0.,  0.,  0.],\n",
       "       [ 0.,  0.,  0.,  0.,  0.,  0.,  0.,  0.,  0.,  0.,  0.,  0.,  0.,\n",
       "         0.,  0.,  0.]])"
      ]
     },
     "execution_count": 20,
     "metadata": {},
     "output_type": "execute_result"
    }
   ],
   "source": [
    "result_list - ogref_list"
   ]
  },
  {
   "cell_type": "code",
   "execution_count": 42,
   "metadata": {
    "collapsed": false
   },
   "outputs": [
    {
     "name": "stdout",
     "output_type": "stream",
     "text": [
      "(8, 16)\n",
      "(8, 16)\n",
      "(8, 16)\n",
      "(8, 16)\n",
      "(8, 16)\n"
     ]
    }
   ],
   "source": [
    "print result_list.shape; print ogref_list.shape; print d_list.shape; \n",
    "print addl_list.shape; print dx_list.shape"
   ]
  },
  {
   "cell_type": "code",
   "execution_count": 35,
   "metadata": {
    "collapsed": false
   },
   "outputs": [
    {
     "name": "stdout",
     "output_type": "stream",
     "text": [
      "[[   0.1    1.1    2.1    3.1    4.1    5.1    6.1    7.1    8.1    9.1\n",
      "    10.1   11.1   12.1   13.1   14.1   15.1]\n",
      " [  16.1   17.1   18.1   19.1   20.1   21.1   22.1   23.1   24.1   25.1\n",
      "    26.1   27.1   28.1   29.1   30.1   31.1]\n",
      " [  32.1   33.1   34.1   35.1   36.1   37.1   38.1   39.1   40.1   41.1\n",
      "    42.1   43.1   44.1   45.1   46.1   47.1]\n",
      " [  48.1   49.1   50.1   51.1   52.1   53.1   54.1   55.1   56.1   57.1\n",
      "    58.1   59.1   60.1   61.1   62.1   63.1]\n",
      " [  64.1   65.1   66.1   67.1   68.1   69.1   70.1   71.1   72.1   73.1\n",
      "    74.1   75.1   76.1   77.1   78.1   79.1]\n",
      " [  80.1   81.1   82.1   83.1   84.1   85.1   86.1   87.1   88.1   89.1\n",
      "    90.1   91.1   92.1   93.1   94.1   95.1]\n",
      " [  96.1   97.1   98.1   99.1  100.1  101.1  102.1  103.1  104.1  105.1\n",
      "   106.1  107.1  108.1  109.1  110.1  111.1]\n",
      " [ 112.1  113.1  114.1  115.1  116.1  117.1  118.1  119.1  120.1  121.1\n",
      "   122.1  123.1  124.1  125.1  126.1  127.1]]\n"
     ]
    }
   ],
   "source": [
    "# np.array_str from \n",
    "# cf. http://stackoverflow.com/questions/2891790/pretty-printing-of-numpy-array\n",
    "print np.array_str(result_list, precision=3, suppress_small=True)"
   ]
  },
  {
   "cell_type": "code",
   "execution_count": 24,
   "metadata": {
    "collapsed": false
   },
   "outputs": [
    {
     "data": {
      "text/plain": [
       "array([[   0.6,    1.6,    2.6,    3.6,    4.6,    5.6,    6.6,    7.6,\n",
       "           8.6,    9.6,   10.6,   11.6,   12.6,   13.6,   14.6,   15.1],\n",
       "       [  16.6,   17.6,   18.6,   19.6,   20.6,   21.6,   22.6,   23.6,\n",
       "          24.6,   25.6,   26.6,   27.6,   28.6,   29.6,   30.6,   31.1],\n",
       "       [  32.6,   33.6,   34.6,   35.6,   36.6,   37.6,   38.6,   39.6,\n",
       "          40.6,   41.6,   42.6,   43.6,   44.6,   45.6,   46.6,   47.1],\n",
       "       [  48.6,   49.6,   50.6,   51.6,   52.6,   53.6,   54.6,   55.6,\n",
       "          56.6,   57.6,   58.6,   59.6,   60.6,   61.6,   62.6,   63.1],\n",
       "       [  64.6,   65.6,   66.6,   67.6,   68.6,   69.6,   70.6,   71.6,\n",
       "          72.6,   73.6,   74.6,   75.6,   76.6,   77.6,   78.6,   79.1],\n",
       "       [  80.6,   81.6,   82.6,   83.6,   84.6,   85.6,   86.6,   87.6,\n",
       "          88.6,   89.6,   90.6,   91.6,   92.6,   93.6,   94.6,   95.1],\n",
       "       [  96.6,   97.6,   98.6,   99.6,  100.6,  101.6,  102.6,  103.6,\n",
       "         104.6,  105.6,  106.6,  107.6,  108.6,  109.6,  110.6,  111.1],\n",
       "       [ 112.6,  113.6,  114.6,  115.6,  116.6,  117.6,  118.6,  119.6,\n",
       "         120.6,  121.6,  122.6,  123.6,  124.6,  125.6,  126.6,  127.1]])"
      ]
     },
     "execution_count": 24,
     "metadata": {},
     "output_type": "execute_result"
    }
   ],
   "source": [
    "d_list"
   ]
  },
  {
   "cell_type": "markdown",
   "metadata": {},
   "source": [
    "Take a look at the `cudaTextureDesc::addressMode`, whether it's `cudaAddressModeWrap` or `cudaAddressModeClamp` "
   ]
  },
  {
   "cell_type": "code",
   "execution_count": 34,
   "metadata": {
    "collapsed": false
   },
   "outputs": [
    {
     "name": "stdout",
     "output_type": "stream",
     "text": [
      "[[    1.     6.    16.    26.    36.    46.    56.    66.    76.    86.\n",
      "     96.   106.   116.   126.   136.   146.]\n",
      " [  161.   166.   176.   186.   196.   206.   216.   226.   236.   246.\n",
      "    256.   266.   276.   286.   296.   306.]\n",
      " [  321.   326.   336.   346.   356.   366.   376.   386.   396.   406.\n",
      "    416.   426.   436.   446.   456.   466.]\n",
      " [  481.   486.   496.   506.   516.   526.   536.   546.   556.   566.\n",
      "    576.   586.   596.   606.   616.   626.]\n",
      " [  641.   646.   656.   666.   676.   686.   696.   706.   716.   726.\n",
      "    736.   746.   756.   766.   776.   786.]\n",
      " [  801.   806.   816.   826.   836.   846.   856.   866.   876.   886.\n",
      "    896.   906.   916.   926.   936.   946.]\n",
      " [  961.   966.   976.   986.   996.  1006.  1016.  1026.  1036.  1046.\n",
      "   1056.  1066.  1076.  1086.  1096.  1106.]\n",
      " [ 1121.  1126.  1136.  1146.  1156.  1166.  1176.  1186.  1196.  1206.\n",
      "   1216.  1226.  1236.  1246.  1256.  1266.]]\n"
     ]
    }
   ],
   "source": [
    "print np.array_str( addl_list, precision=3, suppress_small=True )"
   ]
  },
  {
   "cell_type": "code",
   "execution_count": 43,
   "metadata": {
    "collapsed": false,
    "scrolled": true
   },
   "outputs": [
    {
     "name": "stdout",
     "output_type": "stream",
     "text": [
      "[[  8.  16.  16.  16.  16.  16.  16.  16.  16.  16.  16.  16.  16.  16.\n",
      "   16.   8.]\n",
      " [  8.  16.  16.  16.  16.  16.  16.  16.  16.  16.  16.  16.  16.  16.\n",
      "   16.   8.]\n",
      " [  8.  16.  16.  16.  16.  16.  16.  16.  16.  16.  16.  16.  16.  16.\n",
      "   16.   8.]\n",
      " [  8.  16.  16.  16.  16.  16.  16.  16.  16.  16.  16.  16.  16.  16.\n",
      "   16.   8.]\n",
      " [  8.  16.  16.  16.  16.  16.  16.  16.  16.  16.  16.  16.  16.  16.\n",
      "   16.   8.]\n",
      " [  8.  16.  16.  16.  16.  16.  16.  16.  16.  16.  16.  16.  16.  16.\n",
      "   16.   8.]\n",
      " [  8.  16.  16.  16.  16.  16.  16.  16.  16.  16.  16.  16.  16.  16.\n",
      "   16.   8.]\n",
      " [  8.  16.  16.  16.  16.  16.  16.  16.  16.  16.  16.  16.  16.  16.\n",
      "   16.   8.]]\n"
     ]
    }
   ],
   "source": [
    "print np.array_str( dx_list, precision=3, suppress_small=True )"
   ]
  },
  {
   "cell_type": "code",
   "execution_count": 49,
   "metadata": {
    "collapsed": false
   },
   "outputs": [
    {
     "name": "stdout",
     "output_type": "stream",
     "text": [
      "[[  64.   64.   64.   64.   64.   64.   64.   64.   64.   64.   64.   64.\n",
      "    64.   64.   64.   64.]\n",
      " [ 128.  128.  128.  128.  128.  128.  128.  128.  128.  128.  128.  128.\n",
      "   128.  128.  128.  128.]\n",
      " [ 128.  128.  128.  128.  128.  128.  128.  128.  128.  128.  128.  128.\n",
      "   128.  128.  128.  128.]\n",
      " [ 128.  128.  128.  128.  128.  128.  128.  128.  128.  128.  128.  128.\n",
      "   128.  128.  128.  128.]\n",
      " [ 128.  128.  128.  128.  128.  128.  128.  128.  128.  128.  128.  128.\n",
      "   128.  128.  128.  128.]\n",
      " [ 128.  128.  128.  128.  128.  128.  128.  128.  128.  128.  128.  128.\n",
      "   128.  128.  128.  128.]\n",
      " [ 128.  128.  128.  128.  128.  128.  128.  128.  128.  128.  128.  128.\n",
      "   128.  128.  128.  128.]\n",
      " [  64.   64.   64.   64.   64.   64.   64.   64.   64.   64.   64.   64.\n",
      "    64.   64.   64.   64.]]\n"
     ]
    }
   ],
   "source": [
    "print np.array_str( dy_list, precision=3, suppress_small=True )"
   ]
  },
  {
   "cell_type": "code",
   "execution_count": null,
   "metadata": {
    "collapsed": true
   },
   "outputs": [],
   "source": []
  }
 ],
 "metadata": {
  "kernelspec": {
   "display_name": "Python 2",
   "language": "python",
   "name": "python2"
  },
  "language_info": {
   "codemirror_mode": {
    "name": "ipython",
    "version": 2
   },
   "file_extension": ".py",
   "mimetype": "text/x-python",
   "name": "python",
   "nbconvert_exporter": "python",
   "pygments_lexer": "ipython2",
   "version": "2.7.11"
  }
 },
 "nbformat": 4,
 "nbformat_minor": 0
}
