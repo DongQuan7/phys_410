{
 "cells": [
  {
   "cell_type": "markdown",
   "metadata": {},
   "source": [
    "# Reading the output from `surfdynamics2d.cu`\n",
    "\n",
    "We go from a flattened `std::vector` (C++, representing 2-dimensional data) to a `.csv` file.  "
   ]
  },
  {
   "cell_type": "code",
   "execution_count": 1,
   "metadata": {
    "collapsed": true
   },
   "outputs": [],
   "source": [
    "%matplotlib inline"
   ]
  },
  {
   "cell_type": "code",
   "execution_count": 2,
   "metadata": {
    "collapsed": true
   },
   "outputs": [],
   "source": [
    "import matplotlib.pyplot as plt\n",
    "import csv\n",
    "import numpy as np"
   ]
  },
  {
   "cell_type": "code",
   "execution_count": 3,
   "metadata": {
    "collapsed": false
   },
   "outputs": [
    {
     "name": "stdout",
     "output_type": "stream",
     "text": [
      "8192\n"
     ]
    }
   ],
   "source": [
    "WIDTH  = 128\n",
    "HEIGHT = 64\n",
    "print WIDTH*HEIGHT"
   ]
  },
  {
   "cell_type": "code",
   "execution_count": 91,
   "metadata": {
    "collapsed": false
   },
   "outputs": [
    {
     "data": {
      "text/plain": [
       "['simplecpy.csv',\n",
       " 'addrxyf2_u_x.csv',\n",
       " 'addrxyf2_u_y.csv',\n",
       " 'addr_p.csv',\n",
       " 'addlrout.csv',\n",
       " 'addrxyf2_u_out_y.csv',\n",
       " 'addlrin.csv',\n",
       " 'addrxyf2_u_out_x.csv',\n",
       " 'addr01.csv']"
      ]
     },
     "execution_count": 91,
     "metadata": {},
     "output_type": "execute_result"
    }
   ],
   "source": [
    "# list the csv files we can import\n",
    "import os\n",
    "[filename for filename in os.listdir('./') if filename.find('.csv') >= 0 ]"
   ]
  },
  {
   "cell_type": "code",
   "execution_count": 93,
   "metadata": {
    "collapsed": false
   },
   "outputs": [],
   "source": [
    "with open('simplecpy.csv','r') as csvfile_simplecpy:\n",
    "    plot_simplecpy = csv.reader(csvfile_simplecpy, delimiter=',')\n",
    "    simplecpy_list = list(  list(rec) for rec in plot_simplecpy ) \n",
    "    \n",
    "with open('addr01.csv','r') as csvfile_addr01:\n",
    "    plot_addr01 = csv.reader(csvfile_addr01, delimiter=',')\n",
    "    addr01_list = list(  list(rec) for rec in plot_addr01 )  \n",
    "    \n",
    "with open('addlrin.csv','r') as csvfile_addlrin:\n",
    "    plot_addlrin = csv.reader(csvfile_addlrin, delimiter=',')\n",
    "    addlrin_list = list(  list(rec) for rec in plot_addlrin )  \n",
    "    \n",
    "with open('addlrout.csv','r') as csvfile_addlrout:\n",
    "    plot_addlrout = csv.reader(csvfile_addlrout, delimiter=',')\n",
    "    addlrout_list = list(  list(rec) for rec in plot_addlrout )      \n",
    "    \n",
    "with open('addr_p.csv','r') as csvfile_addr_p:\n",
    "    plot_addr_p = csv.reader(csvfile_addr_p, delimiter=',')\n",
    "    addr_p_list = list(  list(rec) for rec in plot_addr_p )          \n",
    "    \n",
    "with open('addrxyf2_u_x.csv','r') as csvfile_addrxyf2_u_x:\n",
    "    plot_addrxyf2_u_x = csv.reader(csvfile_addrxyf2_u_x, delimiter=',')\n",
    "    addrxyf2_u_x_list = list(  list(rec) for rec in plot_addrxyf2_u_x )              \n",
    "    \n",
    "with open('addrxyf2_u_y.csv','r') as csvfile_addrxyf2_u_y:\n",
    "    plot_addrxyf2_u_y = csv.reader(csvfile_addrxyf2_u_y, delimiter=',')\n",
    "    addrxyf2_u_y_list = list(  list(rec) for rec in plot_addrxyf2_u_y )              \n",
    "\n",
    "with open('addrxyf2_u_out_x.csv','r') as csvfile_addrxyf2_u_out_x:\n",
    "    plot_addrxyf2_u_out_x = csv.reader(csvfile_addrxyf2_u_out_x, delimiter=',')\n",
    "    addrxyf2_u_out_x_list = list(  list(rec) for rec in plot_addrxyf2_u_out_x )              \n",
    "    \n",
    "with open('addrxyf2_u_out_y.csv','r') as csvfile_addrxyf2_u_out_y:\n",
    "    plot_addrxyf2_u_out_y = csv.reader(csvfile_addrxyf2_u_out_y, delimiter=',')\n",
    "    addrxyf2_u_out_y_list = list(  list(rec) for rec in plot_addrxyf2_u_out_y )              \n"
   ]
  },
  {
   "cell_type": "code",
   "execution_count": 94,
   "metadata": {
    "collapsed": true
   },
   "outputs": [],
   "source": [
    "csvfile_simplecpy.close()\n",
    "csvfile_addr01.close()\n",
    "csvfile_addlrin.close()\n",
    "csvfile_addlrout.close()\n",
    "csvfile_addr_p.close()\n",
    "csvfile_addrxyf2_u_x.close()\n",
    "csvfile_addrxyf2_u_y.close()\n",
    "csvfile_addrxyf2_u_out_x.close()\n",
    "csvfile_addrxyf2_u_out_y.close()"
   ]
  },
  {
   "cell_type": "code",
   "execution_count": 95,
   "metadata": {
    "collapsed": true
   },
   "outputs": [],
   "source": [
    "# convert the strings in the list of lists into floats\n",
    "simplecpy_list = [[float(ele) for ele in row] for row in simplecpy_list]\n",
    "addr01_list    = [[float(ele) for ele in row] for row in addr01_list]\n",
    "addlrin_list   = [[float(ele) for ele in row] for row in addlrin_list]\n",
    "addlrout_list  = [[float(ele) for ele in row] for row in addlrout_list]\n",
    "addr_p_list  = [[float(ele) for ele in row] for row in addr_p_list]\n",
    "addrxyf2_u_x_list  = [[float(ele) for ele in row] for row in addrxyf2_u_x_list]\n",
    "addrxyf2_u_y_list  = [[float(ele) for ele in row] for row in addrxyf2_u_y_list]\n",
    "addrxyf2_u_out_x_list  = [[float(ele) for ele in row] for row in addrxyf2_u_out_x_list]\n",
    "addrxyf2_u_out_y_list  = [[float(ele) for ele in row] for row in addrxyf2_u_out_y_list]\n",
    "\n"
   ]
  },
  {
   "cell_type": "code",
   "execution_count": 96,
   "metadata": {
    "collapsed": true
   },
   "outputs": [],
   "source": [
    "# convert the list of lists of floats into numpy arrays\n",
    "simplecpy_list = np.array( simplecpy_list )\n",
    "addr01_list    = np.array( addr01_list)\n",
    "addlrin_list   = np.array( addlrin_list)\n",
    "addlrout_list  = np.array( addlrout_list)\n",
    "addr_p_list  = np.array( addr_p_list)\n",
    "addrxyf2_u_x_list  = np.array( addrxyf2_u_x_list)\n",
    "addrxyf2_u_y_list  = np.array( addrxyf2_u_y_list)\n",
    "addrxyf2_u_out_x_list  = np.array( addrxyf2_u_out_x_list)\n",
    "addrxyf2_u_out_y_list  = np.array( addrxyf2_u_out_y_list)\n"
   ]
  },
  {
   "cell_type": "code",
   "execution_count": 97,
   "metadata": {
    "collapsed": false
   },
   "outputs": [
    {
     "name": "stdout",
     "output_type": "stream",
     "text": [
      "(64, 128)\n",
      "(64, 128)\n",
      "(64, 128)\n",
      "(64, 128)\n",
      "(64, 128)\n",
      "(64, 128)\n",
      "(64, 128)\n",
      "(64, 128)\n",
      "(64, 128)\n"
     ]
    }
   ],
   "source": [
    "print simplecpy_list.shape; print addr01_list.shape; print addlrin_list.shape; print addlrout_list.shape;\n",
    "print addr_p_list.shape; print addrxyf2_u_x_list.shape; print addrxyf2_u_y_list.shape; \n",
    "print addrxyf2_u_out_x_list.shape; print addrxyf2_u_out_y_list.shape; "
   ]
  },
  {
   "cell_type": "code",
   "execution_count": 90,
   "metadata": {
    "collapsed": false
   },
   "outputs": [
    {
     "name": "stdout",
     "output_type": "stream",
     "text": [
      "[[    0.1     1.1     2.1 ...,   125.1   126.1   127.1]\n",
      " [  128.1   129.1   130.1 ...,   253.1   254.1   255.1]\n",
      " [  256.1   257.1   258.1 ...,   381.1   382.1   383.1]\n",
      " ..., \n",
      " [ 7808.1  7809.1  7810.1 ...,  7933.1  7934.1  7935.1]\n",
      " [ 7936.1  7937.1  7938.1 ...,  8061.1  8062.1  8063.1]\n",
      " [ 8064.1  8065.1  8066.1 ...,  8189.1  8190.1  8191.1]]\n",
      "[[     1.2      3.2      5.2 ...,    251.2    253.2    254.2]\n",
      " [   257.2    259.2    261.2 ...,    507.2    509.2    510.2]\n",
      " [   513.2    515.2    517.2 ...,    763.2    765.2    766.2]\n",
      " ..., \n",
      " [ 15617.2  15619.2  15621.2 ...,  15867.2  15869.2  15870.2]\n",
      " [ 15873.2  15875.2  15877.2 ...,  16123.2  16125.2  16126.2]\n",
      " [ 16129.2  16131.2  16133.2 ...,  16379.2  16381.2  16382.2]]\n",
      "[[     2.4      4.4      8.4 ...,    500.4    504.4    507.4]\n",
      " [   514.4    516.4    520.4 ...,   1012.4   1016.4   1019.4]\n",
      " [  1026.4   1028.4   1032.4 ...,   1524.4   1528.4   1531.4]\n",
      " ..., \n",
      " [ 31234.4  31236.4  31240.4 ...,  31732.4  31736.4  31739.4]\n",
      " [ 31746.4  31748.4  31752.4 ...,  32244.4  32248.4  32251.4]\n",
      " [ 32258.4  32260.4  32264.4 ...,  32756.4  32760.4  32763.4]]\n",
      "[[     1.2      3.2      5.2 ...,    251.2    253.2    254.2]\n",
      " [   257.2    259.2    261.2 ...,    507.2    509.2    510.2]\n",
      " [   513.2    515.2    517.2 ...,    763.2    765.2    766.2]\n",
      " ..., \n",
      " [ 15617.2  15619.2  15621.2 ...,  15867.2  15869.2  15870.2]\n",
      " [ 15873.2  15875.2  15877.2 ...,  16123.2  16125.2  16126.2]\n",
      " [ 16129.2  16131.2  16133.2 ...,  16379.2  16381.2  16382.2]]\n",
      "[[     6.8     12.8     20.8 ...,   1004.8   1011.8   1014.8]\n",
      " [  1030.8   1036.8   1044.8 ...,   2028.8   2035.8   2038.8]\n",
      " [  2054.8   2060.8   2068.8 ...,   3052.8   3059.8   3062.8]\n",
      " ..., \n",
      " [ 62470.8  62476.8  62484.8 ...,  63468.8  63475.8  63478.8]\n",
      " [ 63494.8  63500.8  63508.8 ...,  64492.8  64499.8  64502.8]\n",
      " [ 64518.8  64524.8  64532.8 ...,  65516.8  65523.8  65526.8]]\n"
     ]
    }
   ],
   "source": [
    "# np.array_str from \n",
    "# cf. http://stackoverflow.com/questions/2891790/pretty-printing-of-numpy-array\n",
    "print np.array_str(simplecpy_list, precision=3, suppress_small=True); \n",
    "print np.array_str(addr01_list, precision=3, suppress_small=True); \n",
    "print np.array_str(addlrin_list, precision=3, suppress_small=True); \n",
    "print np.array_str(addlrout_list, precision=3, suppress_small=True); \n",
    "print np.array_str(addr_p_list, precision=3, suppress_small=True); "
   ]
  },
  {
   "cell_type": "markdown",
   "metadata": {},
   "source": [
    "result of `NITERS=2` (a single `for` loop run of addlrKernels_launch)\n",
    "\n",
    "```  \n",
    "[[    0.1     1.1     2.1 ...,   125.1   126.1   127.1]\n",
    " [  128.1   129.1   130.1 ...,   253.1   254.1   255.1]\n",
    " [  256.1   257.1   258.1 ...,   381.1   382.1   383.1]\n",
    " ..., \n",
    " [ 7808.1  7809.1  7810.1 ...,  7933.1  7934.1  7935.1]\n",
    " [ 7936.1  7937.1  7938.1 ...,  8061.1  8062.1  8063.1]\n",
    " [ 8064.1  8065.1  8066.1 ...,  8189.1  8190.1  8191.1]]\n",
    "[[     1.2      3.2      5.2 ...,    251.2    253.2    254.2]\n",
    " [   257.2    259.2    261.2 ...,    507.2    509.2    510.2]\n",
    " [   513.2    515.2    517.2 ...,    763.2    765.2    766.2]\n",
    " ..., \n",
    " [ 15617.2  15619.2  15621.2 ...,  15867.2  15869.2  15870.2]\n",
    " [ 15873.2  15875.2  15877.2 ...,  16123.2  16125.2  16126.2]\n",
    " [ 16129.2  16131.2  16133.2 ...,  16379.2  16381.2  16382.2]]\n",
    "[[     2.4      4.4      8.4 ...,    500.4    504.4    507.4]\n",
    " [   514.4    516.4    520.4 ...,   1012.4   1016.4   1019.4]\n",
    " [  1026.4   1028.4   1032.4 ...,   1524.4   1528.4   1531.4]\n",
    " ..., \n",
    " [ 31234.4  31236.4  31240.4 ...,  31732.4  31736.4  31739.4]\n",
    " [ 31746.4  31748.4  31752.4 ...,  32244.4  32248.4  32251.4]\n",
    " [ 32258.4  32260.4  32264.4 ...,  32756.4  32760.4  32763.4]]\n",
    "[[     1.2      3.2      5.2 ...,    251.2    253.2    254.2]\n",
    " [   257.2    259.2    261.2 ...,    507.2    509.2    510.2]\n",
    " [   513.2    515.2    517.2 ...,    763.2    765.2    766.2]\n",
    " ..., \n",
    " [ 15617.2  15619.2  15621.2 ...,  15867.2  15869.2  15870.2]\n",
    " [ 15873.2  15875.2  15877.2 ...,  16123.2  16125.2  16126.2]\n",
    " [ 16129.2  16131.2  16133.2 ...,  16379.2  16381.2  16382.2]]\n",
    "```  \n"
   ]
  },
  {
   "cell_type": "code",
   "execution_count": 98,
   "metadata": {
    "collapsed": false
   },
   "outputs": [
    {
     "name": "stdout",
     "output_type": "stream",
     "text": [
      "[[     0.1     10.1     20.1 ...,   1250.1   1260.1   1270.1]\n",
      " [  1280.1   1290.1   1300.1 ...,   2530.1   2540.1   2550.1]\n",
      " [  2560.1   2570.1   2580.1 ...,   3810.1   3820.1   3830.1]\n",
      " ..., \n",
      " [ 78080.1  78090.1  78100.1 ...,  79330.1  79340.1  79350.1]\n",
      " [ 79360.1  79370.1  79380.1 ...,  80610.1  80620.1  80630.1]\n",
      " [ 80640.1  80650.1  80660.1 ...,  81890.1  81900.1  81910.1]]\n",
      "[[ 0.     0.001  0.002 ...,  0.125  0.126  0.127]\n",
      " [ 0.128  0.129  0.13  ...,  0.253  0.254  0.255]\n",
      " [ 0.256  0.257  0.258 ...,  0.381  0.382  0.383]\n",
      " ..., \n",
      " [ 7.808  7.809  7.81  ...,  7.933  7.934  7.935]\n",
      " [ 7.936  7.937  7.938 ...,  8.061  8.062  8.063]\n",
      " [ 8.064  8.065  8.066 ...,  8.189  8.19   8.191]]\n",
      "[[     10.2      30.2      50.2 ...,    2510.2    2530.2    2540.2]\n",
      " [   2570.2    2590.2    2610.2 ...,    5070.2    5090.2    5100.2]\n",
      " [   5130.2    5150.2    5170.2 ...,    7630.2    7650.2    7660.2]\n",
      " ..., \n",
      " [ 156170.   156190.   156210.  ...,  158670.   158690.   158700. ]\n",
      " [ 158730.   158750.   158770.  ...,  161230.   161250.   161260. ]\n",
      " [ 161290.   161310.   161330.  ...,  163790.   163810.   163820. ]]\n",
      "[[  0.001   0.003   0.005 ...,   0.251   0.253   0.254]\n",
      " [  0.257   0.259   0.261 ...,   0.507   0.509   0.51 ]\n",
      " [  0.513   0.515   0.517 ...,   0.763   0.765   0.766]\n",
      " ..., \n",
      " [ 15.617  15.619  15.621 ...,  15.867  15.869  15.87 ]\n",
      " [ 15.873  15.875  15.877 ...,  16.123  16.125  16.126]\n",
      " [ 16.129  16.131  16.133 ...,  16.379  16.381  16.382]]\n"
     ]
    }
   ],
   "source": [
    "# np.array_str from \n",
    "# cf. http://stackoverflow.com/questions/2891790/pretty-printing-of-numpy-array\n",
    "print np.array_str(addrxyf2_u_x_list, precision=3, suppress_small=True); \n",
    "print np.array_str(addrxyf2_u_y_list, precision=3, suppress_small=True); \n",
    "print np.array_str(addrxyf2_u_out_x_list, precision=3, suppress_small=True); \n",
    "print np.array_str(addrxyf2_u_out_y_list, precision=3, suppress_small=True); \n",
    "\n"
   ]
  },
  {
   "cell_type": "code",
   "execution_count": null,
   "metadata": {
    "collapsed": true
   },
   "outputs": [],
   "source": []
  }
 ],
 "metadata": {
  "kernelspec": {
   "display_name": "Python 2",
   "language": "python",
   "name": "python2"
  },
  "language_info": {
   "codemirror_mode": {
    "name": "ipython",
    "version": 2
   },
   "file_extension": ".py",
   "mimetype": "text/x-python",
   "name": "python",
   "nbconvert_exporter": "python",
   "pygments_lexer": "ipython2",
   "version": "2.7.11"
  }
 },
 "nbformat": 4,
 "nbformat_minor": 0
}
