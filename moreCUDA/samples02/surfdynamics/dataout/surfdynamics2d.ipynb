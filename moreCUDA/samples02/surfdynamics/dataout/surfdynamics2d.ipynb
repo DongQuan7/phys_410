{
 "cells": [
  {
   "cell_type": "markdown",
   "metadata": {},
   "source": [
    "# Reading the output from `surfdynamics2d.cu`\n",
    "\n",
    "We go from a flattened `std::vector` (C++, representing 2-dimensional data) to a `.csv` file.  "
   ]
  },
  {
   "cell_type": "code",
   "execution_count": 1,
   "metadata": {
    "collapsed": true
   },
   "outputs": [],
   "source": [
    "%matplotlib inline"
   ]
  },
  {
   "cell_type": "code",
   "execution_count": 2,
   "metadata": {
    "collapsed": true
   },
   "outputs": [],
   "source": [
    "import matplotlib.pyplot as plt\n",
    "import csv\n",
    "import numpy as np"
   ]
  },
  {
   "cell_type": "code",
   "execution_count": 3,
   "metadata": {
    "collapsed": false
   },
   "outputs": [
    {
     "name": "stdout",
     "output_type": "stream",
     "text": [
      "8192\n"
     ]
    }
   ],
   "source": [
    "WIDTH  = 128\n",
    "HEIGHT = 64\n",
    "print WIDTH*HEIGHT"
   ]
  },
  {
   "cell_type": "code",
   "execution_count": 79,
   "metadata": {
    "collapsed": false
   },
   "outputs": [
    {
     "data": {
      "text/plain": [
       "['simplecpy.csv', 'addr_p.csv', 'addlrout.csv', 'addlrin.csv', 'addr01.csv']"
      ]
     },
     "execution_count": 79,
     "metadata": {},
     "output_type": "execute_result"
    }
   ],
   "source": [
    "# list the csv files we can import\n",
    "import os\n",
    "[filename for filename in os.listdir('./') if filename.find('.csv') >= 0 ]"
   ]
  },
  {
   "cell_type": "code",
   "execution_count": 86,
   "metadata": {
    "collapsed": false
   },
   "outputs": [],
   "source": [
    "with open('simplecpy.csv','r') as csvfile_simplecpy:\n",
    "    plot_simplecpy = csv.reader(csvfile_simplecpy, delimiter=',')\n",
    "    simplecpy_list = list(  list(rec) for rec in plot_simplecpy ) \n",
    "    \n",
    "with open('addr01.csv','r') as csvfile_addr01:\n",
    "    plot_addr01 = csv.reader(csvfile_addr01, delimiter=',')\n",
    "    addr01_list = list(  list(rec) for rec in plot_addr01 )  \n",
    "    \n",
    "with open('addlrin.csv','r') as csvfile_addlrin:\n",
    "    plot_addlrin = csv.reader(csvfile_addlrin, delimiter=',')\n",
    "    addlrin_list = list(  list(rec) for rec in plot_addlrin )  \n",
    "    \n",
    "with open('addlrout.csv','r') as csvfile_addlrout:\n",
    "    plot_addlrout = csv.reader(csvfile_addlrout, delimiter=',')\n",
    "    addlrout_list = list(  list(rec) for rec in plot_addlrout )      \n",
    "    \n",
    "with open('addr_p.csv','r') as csvfile_addr_p:\n",
    "    plot_addr_p = csv.reader(csvfile_addr_p, delimiter=',')\n",
    "    addr_p_list = list(  list(rec) for rec in plot_addr_p )          "
   ]
  },
  {
   "cell_type": "code",
   "execution_count": 87,
   "metadata": {
    "collapsed": true
   },
   "outputs": [],
   "source": [
    "csvfile_simplecpy.close()\n",
    "csvfile_addr01.close()\n",
    "csvfile_addlrin.close()\n",
    "csvfile_addlrout.close()\n",
    "csvfile_addr_p.close()"
   ]
  },
  {
   "cell_type": "code",
   "execution_count": 88,
   "metadata": {
    "collapsed": true
   },
   "outputs": [],
   "source": [
    "# convert the strings in the list of lists into floats\n",
    "simplecpy_list = [[float(ele) for ele in row] for row in simplecpy_list]\n",
    "addr01_list    = [[float(ele) for ele in row] for row in addr01_list]\n",
    "addlrin_list   = [[float(ele) for ele in row] for row in addlrin_list]\n",
    "addlrout_list  = [[float(ele) for ele in row] for row in addlrout_list]\n",
    "addr_p_list  = [[float(ele) for ele in row] for row in addr_p_list]"
   ]
  },
  {
   "cell_type": "code",
   "execution_count": 89,
   "metadata": {
    "collapsed": true
   },
   "outputs": [],
   "source": [
    "# convert the list of lists of floats into numpy arrays\n",
    "simplecpy_list = np.array( simplecpy_list )\n",
    "addr01_list    = np.array( addr01_list)\n",
    "addlrin_list   = np.array( addlrin_list)\n",
    "addlrout_list  = np.array( addlrout_list)\n",
    "addr_p_list  = np.array( addr_p_list)"
   ]
  },
  {
   "cell_type": "code",
   "execution_count": 84,
   "metadata": {
    "collapsed": false
   },
   "outputs": [
    {
     "name": "stdout",
     "output_type": "stream",
     "text": [
      "(64, 128)\n",
      "(64, 128)\n",
      "(64, 128)\n",
      "(64, 128)\n",
      "(64, 128)\n"
     ]
    }
   ],
   "source": [
    "print simplecpy_list.shape; print addr01_list.shape; print addlrin_list.shape; print addlrout_list.shape;\n",
    "print addr_p_list.shape"
   ]
  },
  {
   "cell_type": "code",
   "execution_count": 90,
   "metadata": {
    "collapsed": false
   },
   "outputs": [
    {
     "name": "stdout",
     "output_type": "stream",
     "text": [
      "[[    0.1     1.1     2.1 ...,   125.1   126.1   127.1]\n",
      " [  128.1   129.1   130.1 ...,   253.1   254.1   255.1]\n",
      " [  256.1   257.1   258.1 ...,   381.1   382.1   383.1]\n",
      " ..., \n",
      " [ 7808.1  7809.1  7810.1 ...,  7933.1  7934.1  7935.1]\n",
      " [ 7936.1  7937.1  7938.1 ...,  8061.1  8062.1  8063.1]\n",
      " [ 8064.1  8065.1  8066.1 ...,  8189.1  8190.1  8191.1]]\n",
      "[[     1.2      3.2      5.2 ...,    251.2    253.2    254.2]\n",
      " [   257.2    259.2    261.2 ...,    507.2    509.2    510.2]\n",
      " [   513.2    515.2    517.2 ...,    763.2    765.2    766.2]\n",
      " ..., \n",
      " [ 15617.2  15619.2  15621.2 ...,  15867.2  15869.2  15870.2]\n",
      " [ 15873.2  15875.2  15877.2 ...,  16123.2  16125.2  16126.2]\n",
      " [ 16129.2  16131.2  16133.2 ...,  16379.2  16381.2  16382.2]]\n",
      "[[     2.4      4.4      8.4 ...,    500.4    504.4    507.4]\n",
      " [   514.4    516.4    520.4 ...,   1012.4   1016.4   1019.4]\n",
      " [  1026.4   1028.4   1032.4 ...,   1524.4   1528.4   1531.4]\n",
      " ..., \n",
      " [ 31234.4  31236.4  31240.4 ...,  31732.4  31736.4  31739.4]\n",
      " [ 31746.4  31748.4  31752.4 ...,  32244.4  32248.4  32251.4]\n",
      " [ 32258.4  32260.4  32264.4 ...,  32756.4  32760.4  32763.4]]\n",
      "[[     1.2      3.2      5.2 ...,    251.2    253.2    254.2]\n",
      " [   257.2    259.2    261.2 ...,    507.2    509.2    510.2]\n",
      " [   513.2    515.2    517.2 ...,    763.2    765.2    766.2]\n",
      " ..., \n",
      " [ 15617.2  15619.2  15621.2 ...,  15867.2  15869.2  15870.2]\n",
      " [ 15873.2  15875.2  15877.2 ...,  16123.2  16125.2  16126.2]\n",
      " [ 16129.2  16131.2  16133.2 ...,  16379.2  16381.2  16382.2]]\n",
      "[[     6.8     12.8     20.8 ...,   1004.8   1011.8   1014.8]\n",
      " [  1030.8   1036.8   1044.8 ...,   2028.8   2035.8   2038.8]\n",
      " [  2054.8   2060.8   2068.8 ...,   3052.8   3059.8   3062.8]\n",
      " ..., \n",
      " [ 62470.8  62476.8  62484.8 ...,  63468.8  63475.8  63478.8]\n",
      " [ 63494.8  63500.8  63508.8 ...,  64492.8  64499.8  64502.8]\n",
      " [ 64518.8  64524.8  64532.8 ...,  65516.8  65523.8  65526.8]]\n"
     ]
    }
   ],
   "source": [
    "# np.array_str from \n",
    "# cf. http://stackoverflow.com/questions/2891790/pretty-printing-of-numpy-array\n",
    "print np.array_str(simplecpy_list, precision=3, suppress_small=True); \n",
    "print np.array_str(addr01_list, precision=3, suppress_small=True); \n",
    "print np.array_str(addlrin_list, precision=3, suppress_small=True); \n",
    "print np.array_str(addlrout_list, precision=3, suppress_small=True); \n",
    "print np.array_str(addr_p_list, precision=3, suppress_small=True); "
   ]
  },
  {
   "cell_type": "markdown",
   "metadata": {},
   "source": [
    "result of `NITERS=2` (a single `for` loop run of addlrKernels_launch)\n",
    "\n",
    "```  \n",
    "[[    0.1     1.1     2.1 ...,   125.1   126.1   127.1]\n",
    " [  128.1   129.1   130.1 ...,   253.1   254.1   255.1]\n",
    " [  256.1   257.1   258.1 ...,   381.1   382.1   383.1]\n",
    " ..., \n",
    " [ 7808.1  7809.1  7810.1 ...,  7933.1  7934.1  7935.1]\n",
    " [ 7936.1  7937.1  7938.1 ...,  8061.1  8062.1  8063.1]\n",
    " [ 8064.1  8065.1  8066.1 ...,  8189.1  8190.1  8191.1]]\n",
    "[[     1.2      3.2      5.2 ...,    251.2    253.2    254.2]\n",
    " [   257.2    259.2    261.2 ...,    507.2    509.2    510.2]\n",
    " [   513.2    515.2    517.2 ...,    763.2    765.2    766.2]\n",
    " ..., \n",
    " [ 15617.2  15619.2  15621.2 ...,  15867.2  15869.2  15870.2]\n",
    " [ 15873.2  15875.2  15877.2 ...,  16123.2  16125.2  16126.2]\n",
    " [ 16129.2  16131.2  16133.2 ...,  16379.2  16381.2  16382.2]]\n",
    "[[     2.4      4.4      8.4 ...,    500.4    504.4    507.4]\n",
    " [   514.4    516.4    520.4 ...,   1012.4   1016.4   1019.4]\n",
    " [  1026.4   1028.4   1032.4 ...,   1524.4   1528.4   1531.4]\n",
    " ..., \n",
    " [ 31234.4  31236.4  31240.4 ...,  31732.4  31736.4  31739.4]\n",
    " [ 31746.4  31748.4  31752.4 ...,  32244.4  32248.4  32251.4]\n",
    " [ 32258.4  32260.4  32264.4 ...,  32756.4  32760.4  32763.4]]\n",
    "[[     1.2      3.2      5.2 ...,    251.2    253.2    254.2]\n",
    " [   257.2    259.2    261.2 ...,    507.2    509.2    510.2]\n",
    " [   513.2    515.2    517.2 ...,    763.2    765.2    766.2]\n",
    " ..., \n",
    " [ 15617.2  15619.2  15621.2 ...,  15867.2  15869.2  15870.2]\n",
    " [ 15873.2  15875.2  15877.2 ...,  16123.2  16125.2  16126.2]\n",
    " [ 16129.2  16131.2  16133.2 ...,  16379.2  16381.2  16382.2]]\n",
    "```  \n"
   ]
  },
  {
   "cell_type": "code",
   "execution_count": null,
   "metadata": {
    "collapsed": true
   },
   "outputs": [],
   "source": []
  }
 ],
 "metadata": {
  "kernelspec": {
   "display_name": "Python 2",
   "language": "python",
   "name": "python2"
  },
  "language_info": {
   "codemirror_mode": {
    "name": "ipython",
    "version": 2
   },
   "file_extension": ".py",
   "mimetype": "text/x-python",
   "name": "python",
   "nbconvert_exporter": "python",
   "pygments_lexer": "ipython2",
   "version": "2.7.11"
  }
 },
 "nbformat": 4,
 "nbformat_minor": 0
}
