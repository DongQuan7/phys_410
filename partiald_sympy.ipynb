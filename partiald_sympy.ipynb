{
 "cells": [
  {
   "cell_type": "markdown",
   "metadata": {},
   "source": [
    "# Partial Derivatives in sympy"
   ]
  },
  {
   "cell_type": "code",
   "execution_count": 1,
   "metadata": {
    "collapsed": true
   },
   "outputs": [],
   "source": [
    "import sympy"
   ]
  },
  {
   "cell_type": "code",
   "execution_count": 2,
   "metadata": {
    "collapsed": true
   },
   "outputs": [],
   "source": [
    "x, u = sympy.symbols('x u', real=True)"
   ]
  },
  {
   "cell_type": "code",
   "execution_count": 3,
   "metadata": {
    "collapsed": true
   },
   "outputs": [],
   "source": [
    "U = sympy.Function('U')(x,u)"
   ]
  },
  {
   "cell_type": "code",
   "execution_count": 4,
   "metadata": {
    "collapsed": false
   },
   "outputs": [
    {
     "data": {
      "text/plain": [
       "U(x, u)"
      ]
     },
     "execution_count": 4,
     "metadata": {},
     "output_type": "execute_result"
    }
   ],
   "source": [
    "U"
   ]
  },
  {
   "cell_type": "markdown",
   "metadata": {},
   "source": [
    "### The case of a(n arbitrary) point transformation\n",
    "\n",
    "cf. Introduction to Differential Invariants, Chapter 2 Lie Transformations pp. 16"
   ]
  },
  {
   "cell_type": "code",
   "execution_count": 12,
   "metadata": {
    "collapsed": true
   },
   "outputs": [],
   "source": [
    "x = sympy.Symbol('x',real=True)"
   ]
  },
  {
   "cell_type": "code",
   "execution_count": 13,
   "metadata": {
    "collapsed": true
   },
   "outputs": [],
   "source": [
    "y = sympy.Function('y')(x)"
   ]
  },
  {
   "cell_type": "code",
   "execution_count": 14,
   "metadata": {
    "collapsed": false
   },
   "outputs": [],
   "source": [
    "U = sympy.Function('U')(x,y)\n",
    "X = sympy.Function('X')(x,y)\n",
    "Y = sympy.Function('Y')(X)"
   ]
  },
  {
   "cell_type": "code",
   "execution_count": 15,
   "metadata": {
    "collapsed": false
   },
   "outputs": [
    {
     "name": "stdout",
     "output_type": "stream",
     "text": [
      "d        ⎛ ∂           ⎞│          ⎛ ∂              ⎞│    \n",
      "──(y(x))⋅⎜───(U(x, ξ₂))⎟│        + ⎜───(U(ξ₁, y(x)))⎟│    \n",
      "dx       ⎝∂ξ₂          ⎠│ξ₂=y(x)   ⎝∂ξ₁             ⎠│ξ₁=x\n"
     ]
    }
   ],
   "source": [
    "sympy.pprint(sympy.diff(U,x))"
   ]
  },
  {
   "cell_type": "code",
   "execution_count": 18,
   "metadata": {
    "collapsed": false
   },
   "outputs": [
    {
     "name": "stdout",
     "output_type": "stream",
     "text": [
      "⎛d        ⎛ ∂           ⎞│          ⎛ ∂              ⎞│    ⎞ ⎛ d        ⎞│    \n",
      "⎜──(y(x))⋅⎜───(X(x, ξ₂))⎟│        + ⎜───(X(ξ₁, y(x)))⎟│    ⎟⋅⎜───(Y(ξ₁))⎟│    \n",
      "⎝dx       ⎝∂ξ₂          ⎠│ξ₂=y(x)   ⎝∂ξ₁             ⎠│ξ₁=x⎠ ⎝dξ₁       ⎠│ξ₁=X\n",
      "\n",
      "         \n",
      "         \n",
      "(x, y(x))\n"
     ]
    }
   ],
   "source": [
    "sympy.pprint( sympy.diff(Y,x))"
   ]
  },
  {
   "cell_type": "code",
   "execution_count": 39,
   "metadata": {
    "collapsed": false
   },
   "outputs": [
    {
     "name": "stdout",
     "output_type": "stream",
     "text": [
      "d        ⎛ ∂           ⎞│          ⎛ ∂              ⎞│    \n",
      "──(y(x))⋅⎜───(X(x, ξ₂))⎟│        + ⎜───(X(ξ₁, y(x)))⎟│    \n",
      "dx       ⎝∂ξ₂          ⎠│ξ₂=y(x)   ⎝∂ξ₁             ⎠│ξ₁=x\n"
     ]
    }
   ],
   "source": [
    "sympy.pprint( sympy.diff(Y,x).args[0] )"
   ]
  },
  {
   "cell_type": "code",
   "execution_count": 40,
   "metadata": {
    "collapsed": false
   },
   "outputs": [
    {
     "name": "stdout",
     "output_type": "stream",
     "text": [
      "d        ⎛ ∂           ⎞│          ⎛ ∂              ⎞│    \n",
      "──(y(x))⋅⎜───(U(x, ξ₂))⎟│        + ⎜───(U(ξ₁, y(x)))⎟│    \n",
      "dx       ⎝∂ξ₂          ⎠│ξ₂=y(x)   ⎝∂ξ₁             ⎠│ξ₁=x\n",
      "──────────────────────────────────────────────────────────\n",
      "d        ⎛ ∂           ⎞│          ⎛ ∂              ⎞│    \n",
      "──(y(x))⋅⎜───(X(x, ξ₂))⎟│        + ⎜───(X(ξ₁, y(x)))⎟│    \n",
      "dx       ⎝∂ξ₂          ⎠│ξ₂=y(x)   ⎝∂ξ₁             ⎠│ξ₁=x\n"
     ]
    }
   ],
   "source": [
    "sympy.pprint( sympy.diff(U,x)/ sympy.diff(Y,x).args[0])"
   ]
  },
  {
   "cell_type": "markdown",
   "metadata": {},
   "source": [
    "For $Y''(X)$,"
   ]
  },
  {
   "cell_type": "code",
   "execution_count": 51,
   "metadata": {
    "collapsed": false
   },
   "outputs": [
    {
     "name": "stdout",
     "output_type": "stream",
     "text": [
      "                                                               ⎛⎛            2\n",
      "  ⎛d        ⎛ ∂           ⎞│          ⎛ ∂              ⎞│    ⎞ ⎜⎜d          d \n",
      "- ⎜──(y(x))⋅⎜───(U(x, ξ₂))⎟│        + ⎜───(U(ξ₁, y(x)))⎟│    ⎟⋅⎜⎜──(y(x))⋅────\n",
      "  ⎝dx       ⎝∂ξ₂          ⎠│ξ₂=y(x)   ⎝∂ξ₁             ⎠│ξ₁=x⎠ ⎜⎜dx           \n",
      "                                                               ⎝⎝         dy(x\n",
      "──────────────────────────────────────────────────────────────────────────────\n",
      "                                                                              \n",
      "                                                                              \n",
      "                                                                              \n",
      "                                                                              \n",
      "\n",
      "                     2               ⎞                     ⎛   2            ⎞│\n",
      "                    d                ⎟ d          d        ⎜  ∂             ⎟│\n",
      "──(X(x, y(x))) + ────────(X(x, y(x)))⎟⋅──(y(x)) + ──(y(x))⋅⎜──────(X(x, ξ₃))⎟│\n",
      " 2               dx dy(x)            ⎟ dx         dx       ⎝∂ξ₃ ∂x          ⎠│\n",
      ")                                    ⎠                                        \n",
      "──────────────────────────────────────────────────────────────────────────────\n",
      "                                                                              \n",
      "                                                                              \n",
      "                                                                              \n",
      "                                                                              \n",
      "\n",
      "            2                 2                              ⎞                \n",
      "           d                 d        ⎛ ∂           ⎞│       ⎟   ⎛d        ⎛ ∂\n",
      "        + ───(X(x, y(x))) + ───(y(x))⋅⎜───(X(x, ξ₂))⎟│       ⎟ + ⎜──(y(x))⋅⎜──\n",
      "ξ₃=y(x)     2                 2       ⎝∂ξ₂          ⎠│ξ₂=y(x)⎟   ⎝dx       ⎝∂ξ\n",
      "          dx                dx                               ⎠                \n",
      "──────────────────────────────────────────────────────────────────────────────\n",
      "                                                                              \n",
      "                                ⎛d        ⎛ ∂           ⎞│          ⎛ ∂       \n",
      "                                ⎜──(y(x))⋅⎜───(X(x, ξ₂))⎟│        + ⎜───(X(ξ₁,\n",
      "                                ⎝dx       ⎝∂ξ₂          ⎠│ξ₂=y(x)   ⎝∂ξ₁      \n",
      "\n",
      "                                                ⎛⎛            2               \n",
      "           ⎞│          ⎛ ∂              ⎞│    ⎞ ⎜⎜d          d                \n",
      "─(X(x, ξ₂))⎟│        + ⎜───(X(ξ₁, y(x)))⎟│    ⎟⋅⎜⎜──(y(x))⋅──────(U(x, y(x))) \n",
      "₂          ⎠│ξ₂=y(x)   ⎝∂ξ₁             ⎠│ξ₁=x⎠ ⎜⎜dx            2             \n",
      "                                                ⎝⎝         dy(x)              \n",
      "──────────────────────────────────────────────────────────────────────────────\n",
      "              2                                                               \n",
      "       ⎞│    ⎞                                                                \n",
      " y(x)))⎟│    ⎟                                                                \n",
      "       ⎠│ξ₁=x⎠                                                                \n",
      "\n",
      "      2               ⎞                     ⎛   2            ⎞│            2  \n",
      "     d                ⎟ d          d        ⎜  ∂             ⎟│           d   \n",
      "+ ────────(U(x, y(x)))⎟⋅──(y(x)) + ──(y(x))⋅⎜──────(U(x, ξ₃))⎟│        + ───(U\n",
      "  dx dy(x)            ⎟ dx         dx       ⎝∂ξ₃ ∂x          ⎠│ξ₃=y(x)     2  \n",
      "                      ⎠                                                  dx   \n",
      "──────────────────────────────────────────────────────────────────────────────\n",
      "                                                                              \n",
      "                                                                              \n",
      "                                                                              \n",
      "                                                                              \n",
      "\n",
      "               2                              ⎞\n",
      "              d        ⎛ ∂           ⎞│       ⎟\n",
      "(x, y(x))) + ───(y(x))⋅⎜───(U(x, ξ₂))⎟│       ⎟\n",
      "               2       ⎝∂ξ₂          ⎠│ξ₂=y(x)⎟\n",
      "             dx                               ⎠\n",
      "───────────────────────────────────────────────\n",
      "                                               \n",
      "                                               \n",
      "                                               \n",
      "                                               \n"
     ]
    }
   ],
   "source": [
    "YprimeX = sympy.diff(U,x)/sympy.diff(Y,x).args[0]\n",
    "sympy.pprint( sympy.diff(YprimeX,x).simplify() )"
   ]
  },
  {
   "cell_type": "code",
   "execution_count": 32,
   "metadata": {
    "collapsed": false
   },
   "outputs": [
    {
     "data": {
      "text/plain": [
       "(1,\n",
       " [(Subs(Derivative(Y(_xi_1), _xi_1), (_xi_1,), (X(x, y(x)),)), 1),\n",
       "  (Derivative(y(x), x)*Subs(Derivative(X(x, _xi_2), _xi_2), (_xi_2,), (y(x),)) + Subs(Derivative(X(_xi_1, y(x)), _xi_1), (_xi_1,), (x,)),\n",
       "   1)])"
      ]
     },
     "execution_count": 32,
     "metadata": {},
     "output_type": "execute_result"
    }
   ],
   "source": [
    "sympy.factor_list( sympy.diff(Y,x)) # EY 20160522 I don't know how to simply obtain the factors of an expression \n",
    "# EY 20160522 update resolved: look at above and look at this page; it explains all: \n",
    "# http://docs.sympy.org/dev/tutorial/manipulation.html"
   ]
  },
  {
   "cell_type": "code",
   "execution_count": 53,
   "metadata": {
    "collapsed": true
   },
   "outputs": [],
   "source": [
    "t, x, u, u_1, x_t, u_t, u_1t = sympy.symbols('t x u u_1 x_t u_t u_1t', real=True)\n",
    "X = -u_1\n",
    "U = u - x*u_1\n",
    "U_1 = x"
   ]
  },
  {
   "cell_type": "markdown",
   "metadata": {},
   "source": [
    "cf. How to do total derivatives: http://robotfantastic.org/total-derivatives-in-sympy.html"
   ]
  },
  {
   "cell_type": "code",
   "execution_count": 61,
   "metadata": {
    "collapsed": true
   },
   "outputs": [],
   "source": [
    "from sympy import Derivative, diff, expr\n",
    "def difftotal(expr, diffby, diffmap):\n",
    "    \"\"\"Take the total derivative with respect to a variable.\n",
    "\n",
    "    Example:\n",
    "\n",
    "        theta, t, theta_dot = symbols(\"theta t theta_dot\")\n",
    "        difftotal(cos(theta), t, {theta: theta_dot})\n",
    "\n",
    "    returns\n",
    "\n",
    "        -theta_dot*sin(theta)\n",
    "    \"\"\"\n",
    "    # Replace all symbols in the diffmap by a functional form\n",
    "    fnexpr = expr.subs({s:s(diffby) for s in diffmap})\n",
    "    # Do the differentiation\n",
    "    diffexpr = diff(fnexpr, diffby)\n",
    "    # Replace the Derivatives with the variables in diffmap\n",
    "    derivmap = {Derivative(v(diffby), diffby):dv \n",
    "                for v,dv in diffmap.iteritems()}\n",
    "    finaldiff = diffexpr.subs(derivmap)\n",
    "    # Replace the functional forms with their original form\n",
    "    return finaldiff.subs({s(diffby):s for s in diffmap})"
   ]
  },
  {
   "cell_type": "code",
   "execution_count": 63,
   "metadata": {
    "collapsed": false
   },
   "outputs": [
    {
     "data": {
      "text/plain": [
       "-u_1*x_t + u_t"
      ]
     },
     "execution_count": 63,
     "metadata": {},
     "output_type": "execute_result"
    }
   ],
   "source": [
    "difftotal( U,t,{x:x_t, u:u_t, u_1:u_1t}) + (-U_1)* (-u_1t)"
   ]
  },
  {
   "cell_type": "markdown",
   "metadata": {},
   "source": [
    "This transformation is the Legendre transformation"
   ]
  },
  {
   "cell_type": "markdown",
   "metadata": {},
   "source": [
    "cf. 4. Exercises Chapter 2 Lie Transformations Introduction to Differential Invariants.   "
   ]
  },
  {
   "cell_type": "markdown",
   "metadata": {},
   "source": [
    "Consider transformation $(x,u)=(x,u(x)) \\to (X,U)=(X(x,u),U(x,u))=(u,x)$.  Let $Y=Y(X)$.  $Y(X) \\in \\Gamma(\\mathbb{R}^1 \\times \\mathbb{R}^1)$, i.e. $Y(X)$ is a section. So $Y(X) = Y(X(x,u)) = U(x,u)$.  And so in this case,\n",
    "$Y(X(x,u))=Y(u)=U(x,u) = x$"
   ]
  },
  {
   "cell_type": "code",
   "execution_count": 65,
   "metadata": {
    "collapsed": true
   },
   "outputs": [],
   "source": [
    "x = sympy.Symbol('x',real=True)\n",
    "u = sympy.Function('u')(x)\n",
    "U = x\n",
    "X = u\n",
    "Y = sympy.Function('Y')(X)"
   ]
  },
  {
   "cell_type": "code",
   "execution_count": 66,
   "metadata": {
    "collapsed": false
   },
   "outputs": [
    {
     "name": "stdout",
     "output_type": "stream",
     "text": [
      "d        ⎛ d        ⎞│       \n",
      "──(u(x))⋅⎜───(Y(ξ₁))⎟│       \n",
      "dx       ⎝dξ₁       ⎠│ξ₁=u(x)\n"
     ]
    }
   ],
   "source": [
    "sympy.pprint( sympy.diff(Y,x))"
   ]
  },
  {
   "cell_type": "code",
   "execution_count": 67,
   "metadata": {
    "collapsed": false
   },
   "outputs": [
    {
     "name": "stdout",
     "output_type": "stream",
     "text": [
      "1\n"
     ]
    }
   ],
   "source": [
    "sympy.pprint(sympy.diff(U,x))"
   ]
  },
  {
   "cell_type": "markdown",
   "metadata": {},
   "source": [
    "And so $Y'(X)$ is"
   ]
  },
  {
   "cell_type": "code",
   "execution_count": 68,
   "metadata": {
    "collapsed": false
   },
   "outputs": [
    {
     "name": "stdout",
     "output_type": "stream",
     "text": [
      "   1    \n",
      "────────\n",
      "d       \n",
      "──(u(x))\n",
      "dx      \n"
     ]
    }
   ],
   "source": [
    "sympy.pprint( 1/ sympy.diff(Y,x).args[0])"
   ]
  },
  {
   "cell_type": "markdown",
   "metadata": {},
   "source": [
    "And so $Y''(X)$ is"
   ]
  },
  {
   "cell_type": "code",
   "execution_count": 70,
   "metadata": {
    "collapsed": false
   },
   "outputs": [
    {
     "name": "stdout",
     "output_type": "stream",
     "text": [
      "   2       \n",
      "  d        \n",
      "-───(u(x)) \n",
      "   2       \n",
      " dx        \n",
      "───────────\n",
      "          2\n",
      "⎛d       ⎞ \n",
      "⎜──(u(x))⎟ \n",
      "⎝dx      ⎠ \n"
     ]
    }
   ],
   "source": [
    "sympy.pprint( sympy.diff( 1/ sympy.diff(Y,x).args[0], x))"
   ]
  },
  {
   "cell_type": "markdown",
   "metadata": {},
   "source": [
    "cf. (2) from 4. Exercises, Chapter 2 Lie Transformations pp. 20"
   ]
  },
  {
   "cell_type": "markdown",
   "metadata": {},
   "source": [
    "Recall an arbitrary point transformation:"
   ]
  },
  {
   "cell_type": "code",
   "execution_count": 71,
   "metadata": {
    "collapsed": true
   },
   "outputs": [],
   "source": [
    "x = sympy.Symbol('x',real=True)"
   ]
  },
  {
   "cell_type": "code",
   "execution_count": 72,
   "metadata": {
    "collapsed": true
   },
   "outputs": [],
   "source": [
    "y = sympy.Function('y')(x)"
   ]
  },
  {
   "cell_type": "code",
   "execution_count": 73,
   "metadata": {
    "collapsed": false
   },
   "outputs": [],
   "source": [
    "U = sympy.Function('U')(x,y)\n",
    "X = sympy.Function('X')(x,y)\n",
    "Y = sympy.Function('Y')(X)"
   ]
  },
  {
   "cell_type": "code",
   "execution_count": 74,
   "metadata": {
    "collapsed": false
   },
   "outputs": [
    {
     "name": "stdout",
     "output_type": "stream",
     "text": [
      "d        ⎛ ∂           ⎞│          ⎛ ∂              ⎞│    \n",
      "──(y(x))⋅⎜───(U(x, ξ₂))⎟│        + ⎜───(U(ξ₁, y(x)))⎟│    \n",
      "dx       ⎝∂ξ₂          ⎠│ξ₂=y(x)   ⎝∂ξ₁             ⎠│ξ₁=x\n"
     ]
    }
   ],
   "source": [
    "sympy.pprint(sympy.diff(U,x))"
   ]
  },
  {
   "cell_type": "code",
   "execution_count": 75,
   "metadata": {
    "collapsed": false
   },
   "outputs": [
    {
     "name": "stdout",
     "output_type": "stream",
     "text": [
      "⎛d        ⎛ ∂           ⎞│          ⎛ ∂              ⎞│    ⎞ ⎛ d        ⎞│    \n",
      "⎜──(y(x))⋅⎜───(X(x, ξ₂))⎟│        + ⎜───(X(ξ₁, y(x)))⎟│    ⎟⋅⎜───(Y(ξ₁))⎟│    \n",
      "⎝dx       ⎝∂ξ₂          ⎠│ξ₂=y(x)   ⎝∂ξ₁             ⎠│ξ₁=x⎠ ⎝dξ₁       ⎠│ξ₁=X\n",
      "\n",
      "         \n",
      "         \n",
      "(x, y(x))\n"
     ]
    }
   ],
   "source": [
    "sympy.pprint( sympy.diff(Y,x))"
   ]
  },
  {
   "cell_type": "code",
   "execution_count": 76,
   "metadata": {
    "collapsed": false
   },
   "outputs": [
    {
     "name": "stdout",
     "output_type": "stream",
     "text": [
      "d        ⎛ ∂           ⎞│          ⎛ ∂              ⎞│    \n",
      "──(y(x))⋅⎜───(X(x, ξ₂))⎟│        + ⎜───(X(ξ₁, y(x)))⎟│    \n",
      "dx       ⎝∂ξ₂          ⎠│ξ₂=y(x)   ⎝∂ξ₁             ⎠│ξ₁=x\n"
     ]
    }
   ],
   "source": [
    "sympy.pprint( sympy.diff(Y,x).args[0] )"
   ]
  },
  {
   "cell_type": "code",
   "execution_count": 77,
   "metadata": {
    "collapsed": false
   },
   "outputs": [
    {
     "name": "stdout",
     "output_type": "stream",
     "text": [
      "d        ⎛ ∂           ⎞│          ⎛ ∂              ⎞│    \n",
      "──(y(x))⋅⎜───(U(x, ξ₂))⎟│        + ⎜───(U(ξ₁, y(x)))⎟│    \n",
      "dx       ⎝∂ξ₂          ⎠│ξ₂=y(x)   ⎝∂ξ₁             ⎠│ξ₁=x\n",
      "──────────────────────────────────────────────────────────\n",
      "d        ⎛ ∂           ⎞│          ⎛ ∂              ⎞│    \n",
      "──(y(x))⋅⎜───(X(x, ξ₂))⎟│        + ⎜───(X(ξ₁, y(x)))⎟│    \n",
      "dx       ⎝∂ξ₂          ⎠│ξ₂=y(x)   ⎝∂ξ₁             ⎠│ξ₁=x\n"
     ]
    }
   ],
   "source": [
    "sympy.pprint( sympy.diff(U,x)/ sympy.diff(Y,x).args[0])"
   ]
  },
  {
   "cell_type": "markdown",
   "metadata": {},
   "source": [
    "For $Y''(X)$,"
   ]
  },
  {
   "cell_type": "code",
   "execution_count": 79,
   "metadata": {
    "collapsed": false
   },
   "outputs": [
    {
     "name": "stdout",
     "output_type": "stream",
     "text": [
      "                                                               ⎛⎛            2\n",
      "  ⎛d        ⎛ ∂           ⎞│          ⎛ ∂              ⎞│    ⎞ ⎜⎜d          d \n",
      "- ⎜──(y(x))⋅⎜───(U(x, ξ₂))⎟│        + ⎜───(U(ξ₁, y(x)))⎟│    ⎟⋅⎜⎜──(y(x))⋅────\n",
      "  ⎝dx       ⎝∂ξ₂          ⎠│ξ₂=y(x)   ⎝∂ξ₁             ⎠│ξ₁=x⎠ ⎜⎜dx           \n",
      "                                                               ⎝⎝         dy(x\n",
      "──────────────────────────────────────────────────────────────────────────────\n",
      "                                                                              \n",
      "                                                                              \n",
      "                                                                              \n",
      "                                                                              \n",
      "\n",
      "                     2               ⎞                     ⎛   2            ⎞│\n",
      "                    d                ⎟ d          d        ⎜  ∂             ⎟│\n",
      "──(X(x, y(x))) + ────────(X(x, y(x)))⎟⋅──(y(x)) + ──(y(x))⋅⎜──────(X(x, ξ₃))⎟│\n",
      " 2               dx dy(x)            ⎟ dx         dx       ⎝∂ξ₃ ∂x          ⎠│\n",
      ")                                    ⎠                                        \n",
      "──────────────────────────────────────────────────────────────────────────────\n",
      "                                                                              \n",
      "                                                                              \n",
      "                                                                              \n",
      "                                                                              \n",
      "\n",
      "            2                 2                              ⎞                \n",
      "           d                 d        ⎛ ∂           ⎞│       ⎟   ⎛d        ⎛ ∂\n",
      "        + ───(X(x, y(x))) + ───(y(x))⋅⎜───(X(x, ξ₂))⎟│       ⎟ + ⎜──(y(x))⋅⎜──\n",
      "ξ₃=y(x)     2                 2       ⎝∂ξ₂          ⎠│ξ₂=y(x)⎟   ⎝dx       ⎝∂ξ\n",
      "          dx                dx                               ⎠                \n",
      "──────────────────────────────────────────────────────────────────────────────\n",
      "                                                                              \n",
      "                                ⎛d        ⎛ ∂           ⎞│          ⎛ ∂       \n",
      "                                ⎜──(y(x))⋅⎜───(X(x, ξ₂))⎟│        + ⎜───(X(ξ₁,\n",
      "                                ⎝dx       ⎝∂ξ₂          ⎠│ξ₂=y(x)   ⎝∂ξ₁      \n",
      "\n",
      "                                                ⎛⎛            2               \n",
      "           ⎞│          ⎛ ∂              ⎞│    ⎞ ⎜⎜d          d                \n",
      "─(X(x, ξ₂))⎟│        + ⎜───(X(ξ₁, y(x)))⎟│    ⎟⋅⎜⎜──(y(x))⋅──────(U(x, y(x))) \n",
      "₂          ⎠│ξ₂=y(x)   ⎝∂ξ₁             ⎠│ξ₁=x⎠ ⎜⎜dx            2             \n",
      "                                                ⎝⎝         dy(x)              \n",
      "──────────────────────────────────────────────────────────────────────────────\n",
      "              2                                                               \n",
      "       ⎞│    ⎞                                                                \n",
      " y(x)))⎟│    ⎟                                                                \n",
      "       ⎠│ξ₁=x⎠                                                                \n",
      "\n",
      "      2               ⎞                     ⎛   2            ⎞│            2  \n",
      "     d                ⎟ d          d        ⎜  ∂             ⎟│           d   \n",
      "+ ────────(U(x, y(x)))⎟⋅──(y(x)) + ──(y(x))⋅⎜──────(U(x, ξ₃))⎟│        + ───(U\n",
      "  dx dy(x)            ⎟ dx         dx       ⎝∂ξ₃ ∂x          ⎠│ξ₃=y(x)     2  \n",
      "                      ⎠                                                  dx   \n",
      "──────────────────────────────────────────────────────────────────────────────\n",
      "                                                                              \n",
      "                                                                              \n",
      "                                                                              \n",
      "                                                                              \n",
      "\n",
      "               2                              ⎞\n",
      "              d        ⎛ ∂           ⎞│       ⎟\n",
      "(x, y(x))) + ───(y(x))⋅⎜───(U(x, ξ₂))⎟│       ⎟\n",
      "               2       ⎝∂ξ₂          ⎠│ξ₂=y(x)⎟\n",
      "             dx                               ⎠\n",
      "───────────────────────────────────────────────\n",
      "                                               \n",
      "                                               \n",
      "                                               \n",
      "                                               \n"
     ]
    }
   ],
   "source": [
    "YprimeX = sympy.diff(U,x)/sympy.diff(Y,x).args[0]\n",
    "Yprime2X = sympy.diff(YprimeX,x)\n",
    "sympy.pprint( Yprime2X.simplify() )"
   ]
  },
  {
   "cell_type": "code",
   "execution_count": null,
   "metadata": {
    "collapsed": true
   },
   "outputs": [],
   "source": []
  }
 ],
 "metadata": {
  "kernelspec": {
   "display_name": "Python 2",
   "language": "python",
   "name": "python2"
  },
  "language_info": {
   "codemirror_mode": {
    "name": "ipython",
    "version": 2
   },
   "file_extension": ".py",
   "mimetype": "text/x-python",
   "name": "python",
   "nbconvert_exporter": "python",
   "pygments_lexer": "ipython2",
   "version": "2.7.11"
  }
 },
 "nbformat": 4,
 "nbformat_minor": 0
}
